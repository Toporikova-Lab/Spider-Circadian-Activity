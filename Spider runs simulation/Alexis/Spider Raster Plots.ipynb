{
 "cells": [
  {
   "cell_type": "code",
   "execution_count": 28,
   "id": "0c21bd2f",
   "metadata": {},
   "outputs": [],
   "source": [
    "#Creating Raster Plot"
   ]
  },
  {
   "cell_type": "code",
   "execution_count": 19,
   "id": "97621773",
   "metadata": {},
   "outputs": [],
   "source": [
    "import numpy as np\n",
    "import matplotlib.pyplot as plt\n",
    "import csv\n",
    "import sys\n",
    "from matplotlib import cm"
   ]
  },
  {
   "cell_type": "code",
   "execution_count": null,
   "id": "6c8fbc25",
   "metadata": {},
   "outputs": [],
   "source": [
    "# return 2 dimensional arrays - first one (light) and second one (movement count)\n",
    "# note that both return 2 dimensional array (9 x 1440)\n",
    "# result_light: [[0,0,0,...],[0,0,0,...],...,[0,0,0...]]\n",
    "# result_movement: [[12,1,0,32,...],...,[0,0,3,1,...]]"
   ]
  },
  {
   "cell_type": "code",
   "execution_count": 20,
   "id": "41a76480",
   "metadata": {},
   "outputs": [],
   "source": [
    "def read_csvfile(filename, nth):\n",
    "    result_light = []\n",
    "    result_movement = []\n",
    "    prev_date = \"\"\n",
    "    with open(filename) as f:\n",
    "        current_light_row = []\n",
    "        current_movement_row = []\n",
    "        index = 0\n",
    "        for line in f:\n",
    "            if index == 0:\n",
    "                col_index_max = len(line.split(\",\"))\n",
    "            else:\n",
    "                cols = line.split(\",\")\n",
    "                if prev_date == \"\" or prev_date == cols[0][0:10]:\n",
    "                    current_light_row.append(int(cols[1]))\n",
    "                    current_movement_row.append(int(cols[nth + 1]))\n",
    "                else:\n",
    "                    result_light.append(current_light_row)\n",
    "                    result_movement.append(current_movement_row)\n",
    "                    current_light_row = [int(cols[1])]\n",
    "                    current_movement_row = [int(cols[nth + 1])]\n",
    "                prev_date = cols[0][0:10]\n",
    "            index += 1\n",
    "        result_light.append(current_light_row)\n",
    "        result_movement.append(current_movement_row)\n",
    "    return (result_light, result_movement)"
   ]
  },
  {
   "cell_type": "code",
   "execution_count": 27,
   "id": "af54c99c",
   "metadata": {},
   "outputs": [
    {
     "name": "stdout",
     "output_type": "stream",
     "text": [
      "max movement: 23\n"
     ]
    },
    {
     "data": {
      "image/png": "[encoded data removed]",
      "text/plain": [
       "<Figure size 720x864 with 9 Axes>"
      ]
     },
     "metadata": {
      "needs_background": "light"
     },
     "output_type": "display_data"
    }
   ],
   "source": [
    "# For each day, generate bar chart for spider X (nth)\n",
    "\n",
    "def draw_barchart(array_light, array_movement, nth):\n",
    "    date_label = [\"04/26\",\"04/27\",\"04/28\",\"04/29\",\"04/30\",\"05/01\",\"05/02\",\"05/03\",\"05/04\"]\n",
    "    number_of_days = len(array_movement)\n",
    "    fig, axes = plt.subplots(nrows=number_of_days)\n",
    "    fig.set_size_inches((10, 12))\n",
    "    \n",
    "    # find the maximum movement in all 9 days\n",
    "\n",
    "    max_movement = 0\n",
    "    for temp in array_movement:\n",
    "        t = max(temp)\n",
    "        if t > max_movement:\n",
    "            max_movement = t\n",
    "    print(\"max movement:\",max_movement)\n",
    "\n",
    "    # 1440: number of minutes in a day\n",
    "    \n",
    "    x = list(range(0,1440))\n",
    "    axes[0].set_title('Spider ' + str(nth) + ' DD Movement Analysis Monitor 1', fontsize=14)\n",
    "    \n",
    "    #setting up axes\n",
    "\n",
    "    for day_index, day_movement in enumerate(array_movement):\n",
    "        axes[day_index].set_facecolor('#C2c6c7')\n",
    "        axes[day_index].set_ylim(0, max_movement + 2)\n",
    "        axes[day_index].set_xlim(-0.5, len(day_movement) - 0.5)\n",
    "        \n",
    "        # apply light on background color setting\n",
    "        #axes[day_index].axvspan(xmin=600, xmax=650, facecolor=\"white\")\n",
    "        \n",
    "        if 1 in array_light[day_index]:\n",
    "            start_index = -1\n",
    "            end_index = -1\n",
    "            for minute_index, light in enumerate(array_light[day_index]):\n",
    "                if light == 1 and start_index == end_index:\n",
    "                    start_index = minute_index\n",
    "                elif light == 0 and start_index != end_index:\n",
    "                    end_index = minute_index\n",
    "                    print(\"There is a light section \", start_index, end_index)\n",
    "                    axes[day_index].axvspan(xmin = start_index, xmax = end_index, facecolor=\"white\")\n",
    "                    start_index = end_index\n",
    "            if start_index != end_index:\n",
    "                axes[day_index].axvspan(xmin = start_index, xmax = end_index, facecolor=\"white\")\n",
    "\n",
    "        # draw barchart\n",
    "        \n",
    "        axes[day_index].bar(x, day_movement, color=\"black\")\n",
    "        axes[day_index].get_xaxis().set_visible(False) # Hide all X ticks for now\n",
    "        axes[day_index].set_yticks([max_movement / 2], labels=[date_label[day_index]])\n",
    "    axes[number_of_days-1].get_xaxis().set_visible(True)\n",
    "    axes[number_of_days-1].set_xticks([180,360,540,720,900,1080,1260],labels=[\"03:00\",\"06:00\",\"09:00\",\"12:00\",\"15:00\",\"18:00\",\"21:00\"]);\n",
    "    plt.subplots_adjust(bottom=0.15, hspace=0)\n",
    "    plt.show()\n",
    "\n",
    "csvfilename = 'Metazygia wittfeldae Monitor 1 Updated_DD.csv'\n",
    "nthSpider = 1\n",
    "\n",
    "(array_light,array_movement) = read_csvfile(csvfilename, nthSpider)\n",
    "draw_barchart(array_light, array_movement, nthSpider)"
   ]
  },
  {
   "cell_type": "code",
   "execution_count": null,
   "id": "20e4d44b",
   "metadata": {},
   "outputs": [],
   "source": []
  }
 ],
 "metadata": {
  "kernelspec": {
   "display_name": "Python 3 (ipykernel)",
   "language": "python",
   "name": "python3"
  },
  "language_info": {
   "codemirror_mode": {
    "name": "ipython",
    "version": 3
   },
   "file_extension": ".py",
   "mimetype": "text/x-python",
   "name": "python",
   "nbconvert_exporter": "python",
   "pygments_lexer": "ipython3",
   "version": "3.9.7"
  }
 },
 "nbformat": 4,
 "nbformat_minor": 5
}
