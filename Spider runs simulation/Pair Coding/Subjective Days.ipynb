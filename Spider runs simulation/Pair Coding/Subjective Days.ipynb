{
 "cells": [
  {
   "cell_type": "markdown",
   "id": "8266dfd3",
   "metadata": {},
   "source": [
    "# Split Subjective Days"
   ]
  },
  {
   "cell_type": "code",
   "execution_count": 149,
   "id": "3692786e",
   "metadata": {},
   "outputs": [
    {
     "data": {
      "text/plain": [
       "[22.0111503,\n",
       " 21.31600081,\n",
       " 24.45338602,\n",
       " 24.67689723,\n",
       " 21.31600081,\n",
       " 22.28366527,\n",
       " 18.76084716,\n",
       " 23.24288111,\n",
       " 23.8065032,\n",
       " 22.89790149,\n",
       " 23.54695967,\n",
       " 16.72674953,\n",
       " 21.92178715,\n",
       " 18.92523645,\n",
       " 20.8227866,\n",
       " 21.57147473,\n",
       " 22.23777847,\n",
       " 22.32974184,\n",
       " 22.70532944,\n",
       " 23.49572859,\n",
       " 23.54695967,\n",
       " 24.50888338,\n",
       " 22.80120887,\n",
       " 21.40048376,\n",
       " 18.00994089,\n",
       " 22.99541768,\n",
       " 22.61025299,\n",
       " 16.42152734,\n",
       " 19.79237604]"
      ]
     },
     "execution_count": 149,
     "metadata": {},
     "output_type": "execute_result"
    }
   ],
   "source": [
    "import pandas as pd\n",
    "import numpy as np\n",
    "import matplotlib.pyplot as plt\n",
    "from datetime import datetime\n",
    "from datetime import timedelta\n",
    "import seaborn as sns\n",
    "import pylab as py\n",
    "\n",
    "# Read Spider FRP CSV file\n",
    "frp_filename = 'Metazygia wittfeldae summary'\n",
    "frp_df = pd.read_csv(frp_filename + '.csv')\n",
    "\n",
    "# Extract FRP values for each spider\n",
    "frp_df = frp_df.iloc[29:58, 5]\n",
    "frp_values = frp_df.values.tolist()\n",
    "frp_values"
   ]
  },
  {
   "cell_type": "markdown",
   "id": "406fe0dc",
   "metadata": {},
   "source": [
    "# Testing code"
   ]
  },
  {
   "cell_type": "code",
   "execution_count": 151,
   "id": "5b2f7199",
   "metadata": {},
   "outputs": [
    {
     "name": "stdout",
     "output_type": "stream",
     "text": [
      "2017-04-26 07:00:00\n",
      "DatetimeIndex([       '2017-04-26 07:00:00', '2017-04-27 04:18:57.602916',\n",
      "               '2017-04-28 01:37:55.205832', '2017-04-28 22:56:52.808748',\n",
      "               '2017-04-29 20:15:50.411664', '2017-04-30 17:34:48.014580',\n",
      "               '2017-05-01 14:53:45.617496', '2017-05-02 12:12:43.220412',\n",
      "               '2017-05-03 09:31:40.823328', '2017-05-04 06:50:38.426244'],\n",
      "              dtype='datetime64[ns]', freq='76737602916U')\n"
     ]
    }
   ],
   "source": [
    "# Read spider activity CSV file\n",
    "\n",
    "filename = 'Metazygia wittfeldae Monitor 1 Updated_DD'\n",
    "df = pd.read_csv(filename + '.csv', index_col = 0)\n",
    "df.index = pd.to_datetime(df.index)\n",
    "\n",
    "# Get day where lights would turn on but they don't (DD)\n",
    "\n",
    "df = df.at_time('07:00:00')\n",
    "idx = df.index[0]\n",
    "print(idx)\n",
    "\n",
    "# Print subjective days starting from lights didn't turn on given FRP\n",
    "\n",
    "dti = pd.date_range(idx, periods = 10, freq = '21.31600081H')\n",
    "print(dti)"
   ]
  },
  {
   "cell_type": "markdown",
   "id": "675e42aa",
   "metadata": {},
   "source": [
    "# Split Subjective Days Function"
   ]
  },
  {
   "cell_type": "markdown",
   "id": "9bfa64f9",
   "metadata": {},
   "source": [
    "Given arguments dataframe in DateTimeIndex, the initial day where the lights didn't turn on, and the FRP of the spider, returns the subjective days of the spider."
   ]
  },
  {
   "cell_type": "code",
   "execution_count": 152,
   "id": "6949674a",
   "metadata": {},
   "outputs": [
    {
     "data": {
      "text/plain": [
       "DatetimeIndex([       '2017-04-26 07:00:00', '2017-04-27 05:00:40.141080',\n",
       "               '2017-04-28 03:01:20.282160', '2017-04-29 01:02:00.423240',\n",
       "               '2017-04-29 23:02:40.564320', '2017-04-30 21:03:20.705400',\n",
       "               '2017-05-01 19:04:00.846480', '2017-05-02 17:04:40.987560',\n",
       "               '2017-05-03 15:05:21.128640', '2017-05-04 13:06:01.269720'],\n",
       "              dtype='datetime64[ns]', freq='79240141080U')"
      ]
     },
     "execution_count": 152,
     "metadata": {},
     "output_type": "execute_result"
    }
   ],
   "source": [
    "def split_subjective_days(df, initial_day, frp):\n",
    "    df = df.at_time('07:00:00')\n",
    "    idx = df.index[0]\n",
    "    dti = pd.date_range(idx, periods = 10, freq = frp)\n",
    "    \n",
    "    return dti\n",
    "\n",
    "split_subjective_days(df, idx, str(frp_values[0]) + 'H')"
   ]
  },
  {
   "cell_type": "markdown",
   "id": "6d206357",
   "metadata": {},
   "source": [
    "# Manual Checking"
   ]
  },
  {
   "cell_type": "code",
   "execution_count": 125,
   "id": "dff4a653",
   "metadata": {},
   "outputs": [
    {
     "data": {
      "text/plain": [
       "[Timestamp('2017-04-27 05:00:40.141080'),\n",
       " Timestamp('2017-04-28 03:01:20.282160'),\n",
       " Timestamp('2017-04-29 01:02:00.423240'),\n",
       " Timestamp('2017-04-29 23:02:40.564320'),\n",
       " Timestamp('2017-04-30 21:03:20.705400'),\n",
       " Timestamp('2017-05-01 19:04:00.846480'),\n",
       " Timestamp('2017-05-02 17:04:40.987560'),\n",
       " Timestamp('2017-05-03 15:05:21.128640'),\n",
       " Timestamp('2017-05-04 13:06:01.269720')]"
      ]
     },
     "execution_count": 125,
     "metadata": {},
     "output_type": "execute_result"
    }
   ],
   "source": [
    "firstday = idx + pd.DateOffset(hours = frp_values[0])\n",
    "secondday = firstday + pd.DateOffset(hours = frp_values[0])\n",
    "thirdday = secondday + pd.DateOffset(hours = frp_values[0])\n",
    "fourthday = thirdday + pd.DateOffset(hours = frp_values[0])\n",
    "fifthday = fourthday + pd.DateOffset(hours = frp_values[0])\n",
    "sixthday = fifthday + pd.DateOffset(hours = frp_values[0])\n",
    "seventhday = sixthday + pd.DateOffset(hours = frp_values[0])\n",
    "eigthday = seventhday + pd.DateOffset(hours = frp_values[0])\n",
    "ninthday = eigthday + pd.DateOffset(hours = frp_values[0])\n",
    "\n",
    "s1_list = [firstday, secondday, thirdday, fourthday, fifthday, sixthday, seventhday, eigthday, ninthday]\n",
    "s1_list"
   ]
  }
 ],
 "metadata": {
  "kernelspec": {
   "display_name": "Python 3 (ipykernel)",
   "language": "python",
   "name": "python3"
  },
  "language_info": {
   "codemirror_mode": {
    "name": "ipython",
    "version": 3
   },
   "file_extension": ".py",
   "mimetype": "text/x-python",
   "name": "python",
   "nbconvert_exporter": "python",
   "pygments_lexer": "ipython3",
   "version": "3.9.7"
  }
 },
 "nbformat": 4,
 "nbformat_minor": 5
}
