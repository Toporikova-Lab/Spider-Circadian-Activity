{
 "cells": [
  {
   "cell_type": "markdown",
   "id": "2cfcda4f",
   "metadata": {},
   "source": [
    "# Split Subjective Days"
   ]
  },
  {
   "cell_type": "code",
   "execution_count": 3,
   "id": "c01f7435",
   "metadata": {},
   "outputs": [],
   "source": [
    "import pandas as pd\n",
    "import numpy as np\n",
    "import matplotlib.pyplot as plt\n",
    "from datetime import datetime\n",
    "from datetime import timedelta\n",
    "import seaborn as sns\n",
    "import pylab as py\n",
    "import statistics"
   ]
  },
  {
   "cell_type": "markdown",
   "id": "dbb3dd4b",
   "metadata": {},
   "source": [
    "# Summary Filename"
   ]
  },
  {
   "cell_type": "code",
   "execution_count": 4,
   "id": "61c49609",
   "metadata": {},
   "outputs": [],
   "source": [
    "# Read Spider FRP CSV file\n",
    "summary_filename = 'Metazygia wittfeldae summary'\n",
    "summary_df = pd.read_csv(summary_filename + '.csv')"
   ]
  },
  {
   "cell_type": "markdown",
   "id": "56fb85f2",
   "metadata": {},
   "source": [
    "# Get FRP Value of Specific Spider"
   ]
  },
  {
   "cell_type": "code",
   "execution_count": 12,
   "id": "765e86c1",
   "metadata": {},
   "outputs": [],
   "source": [
    "# Extract FRP values for each spider and create new CSV file\n",
    "\n",
    "def get_frp(summary_df, spider_name):\n",
    "    # Creating new FRP CSV file from summary CSV\n",
    "    summary_df = summary_df[(summary_df['Conditions'] == 'DD') & (summary_df['Spider ID'].str.match('Monitor 1'))]\n",
    "    frp_df = summary_df[['Spider ID', 'LombSc period']]\n",
    "    frp_df = frp_df.reset_index(drop = True)\n",
    "    frp_df = frp_df.set_index('Spider ID')\n",
    "    frp_df.to_csv(summary_filename + '_period')\n",
    "    \n",
    "    # Get FRP value of specific spider\n",
    "    frp = float(frp_df.values[frp_df.index.str.endswith(spider_name)])\n",
    "    \n",
    "    return frp\n",
    "\n",
    "frp = get_frp(summary_df, 'Monitor 1 Spider 1')"
   ]
  },
  {
   "cell_type": "markdown",
   "id": "5e282794",
   "metadata": {},
   "source": [
    "# Activity Filename"
   ]
  },
  {
   "cell_type": "code",
   "execution_count": 8,
   "id": "ea638e72",
   "metadata": {},
   "outputs": [],
   "source": [
    "# Read spider activity CSV file\n",
    "filename = 'Metazygia wittfeldae Monitor 1 Updated_DD_binary'\n",
    "df = pd.read_csv(filename + '.csv', index_col = 0)\n",
    "df.index = pd.to_datetime(df.index)\n",
    "#display(df)"
   ]
  },
  {
   "cell_type": "markdown",
   "id": "4ea1c7fb",
   "metadata": {},
   "source": [
    "# Split Subjective Days Function"
   ]
  },
  {
   "cell_type": "markdown",
   "id": "20316c76",
   "metadata": {},
   "source": [
    "Given arguments dataframe in DateTimeIndex, the initial day where the lights didn't turn on, and the FRP of the spider, returns the subjective days of the spider."
   ]
  },
  {
   "cell_type": "code",
   "execution_count": 28,
   "id": "6bdb98ac",
   "metadata": {},
   "outputs": [
    {
     "data": {
      "text/plain": [
       "DatetimeIndex(['2017-04-26 07:00:00', '2017-04-27 05:01:00',\n",
       "               '2017-04-28 03:01:00', '2017-04-29 01:02:00',\n",
       "               '2017-04-29 23:03:00', '2017-04-30 21:03:00',\n",
       "               '2017-05-01 19:04:00', '2017-05-02 17:05:00',\n",
       "               '2017-05-03 15:05:00', '2017-05-04 13:06:00'],\n",
       "              dtype='datetime64[ns]', freq=None)"
      ]
     },
     "execution_count": 28,
     "metadata": {},
     "output_type": "execute_result"
    }
   ],
   "source": [
    "def split_subjective_days(df, frp):\n",
    "    # Get day where lights would turn on but they don't (DD)\n",
    "    df_start = df.at_time('07:00:00')\n",
    "    idx = df_start.index[0]\n",
    "    \n",
    "    # Subjective days starting from lights not being turned on to given FRP\n",
    "    dti = pd.date_range(idx, periods = 10, freq = frp)\n",
    "    dti = dti.round(freq = '1T')\n",
    "    \n",
    "    return dti\n",
    "\n",
    "dti = split_subjective_days(df, str(frp) + 'H')\n",
    "dti"
   ]
  },
  {
   "cell_type": "markdown",
   "id": "584ef852",
   "metadata": {},
   "source": [
    "# Extracting Activity"
   ]
  },
  {
   "cell_type": "code",
   "execution_count": 16,
   "id": "26b4e078",
   "metadata": {},
   "outputs": [],
   "source": [
    "def extract_activity_from_subjective_day(dti, start_index, end_index, column_name):\n",
    "    # Extract activity based on subjective day index\n",
    "    activitydf = df.loc[dti[start_index] : dti[end_index], [column_name]]\n",
    "    \n",
    "    return activitydf\n",
    "\n",
    "activitydf = extract_activity_from_subjective_day(dti, 0, 1, 'Monitor 1 Spider 1')"
   ]
  },
  {
   "cell_type": "markdown",
   "id": "b9f6fd60",
   "metadata": {},
   "source": [
    "# Get Probability"
   ]
  },
  {
   "cell_type": "code",
   "execution_count": 19,
   "id": "2b9ed865",
   "metadata": {},
   "outputs": [],
   "source": [
    "# This function divides a day into desired number of intervals\n",
    "def date_range(start, end, intv):\n",
    "    from datetime import datetime\n",
    "    start = datetime.strptime(start, \"%Y-%m-%d %H:%M:%S\")\n",
    "    end = datetime.strptime(end, \"%Y-%m-%d %H:%M:%S\")\n",
    "    diff = (end  - start ) / intv\n",
    "    #diff.round(freq = '1T')\n",
    "    for i in range(intv):\n",
    "        yield (start + diff * i).strftime(\"%Y-%m-%d %H:%M:%S\")\n",
    "    yield end.strftime(\"%Y-%m-%d %H:%M:%S\")"
   ]
  },
  {
   "cell_type": "code",
   "execution_count": 49,
   "id": "c11072a2",
   "metadata": {},
   "outputs": [
    {
     "name": "stdout",
     "output_type": "stream",
     "text": [
      "Monitor 1 Spider 1    0.0\n",
      "dtype: float64\n",
      "Monitor 1 Spider 1    0.0\n",
      "dtype: float64\n",
      "Monitor 1 Spider 1    0.0\n",
      "dtype: float64\n",
      "Monitor 1 Spider 1    0.0\n",
      "dtype: float64\n",
      "Monitor 1 Spider 1    0.0\n",
      "dtype: float64\n",
      "Monitor 1 Spider 1    0.0\n",
      "dtype: float64\n",
      "Monitor 1 Spider 1    0.0\n",
      "dtype: float64\n",
      "Monitor 1 Spider 1    0.0\n",
      "dtype: float64\n",
      "Monitor 1 Spider 1    0.0\n",
      "dtype: float64\n",
      "Monitor 1 Spider 1    0.0\n",
      "dtype: float64\n",
      "Monitor 1 Spider 1    0.0\n",
      "dtype: float64\n",
      "Monitor 1 Spider 1    0.345455\n",
      "dtype: float64\n",
      "Monitor 1 Spider 1    1.0\n",
      "dtype: float64\n",
      "Monitor 1 Spider 1    0.327273\n",
      "dtype: float64\n",
      "Monitor 1 Spider 1    0.727273\n",
      "dtype: float64\n",
      "Monitor 1 Spider 1    0.345455\n",
      "dtype: float64\n",
      "Monitor 1 Spider 1    0.0\n",
      "dtype: float64\n",
      "Monitor 1 Spider 1    0.0\n",
      "dtype: float64\n",
      "Monitor 1 Spider 1    0.0\n",
      "dtype: float64\n",
      "Monitor 1 Spider 1    0.0\n",
      "dtype: float64\n",
      "Monitor 1 Spider 1    0.0\n",
      "dtype: float64\n",
      "Monitor 1 Spider 1    0.0\n",
      "dtype: float64\n",
      "Monitor 1 Spider 1    0.236364\n",
      "dtype: float64\n",
      "Monitor 1 Spider 1    0.589286\n",
      "dtype: float64\n"
     ]
    }
   ],
   "source": [
    "def probability_in_multiple_sections(activitydf, start_index, end_index, column_name):\n",
    "    # Create list of date-times for each subjective hour\n",
    "    start = str(dti[start_index])\n",
    "    end = str(dti[end_index])\n",
    "    mylist = list(date_range(start, end, 24))\n",
    "    \n",
    "    list_start = 0\n",
    "    list_end = len(mylist) - 1\n",
    "    \n",
    "    # Loop through list of each subjective hour and return probability of movement\n",
    "    for list_start, list_end in enumerate(mylist):\n",
    "        if list_start >= 0 and list_start + 1 >= len(mylist):\n",
    "            break\n",
    "        else:\n",
    "            sub_period = activitydf.loc[mylist[list_start] : mylist[list_start + 1]]\n",
    "            rows = len(sub_period.index)\n",
    "            total_period_movement = sub_period.sum()\n",
    "            prob_period = total_period_movement / rows\n",
    "            print(prob_period)\n",
    "        \n",
    "    return\n",
    "\n",
    "probability_in_multiple_sections(activitydf, 0, 1, 'Monitor 1 Spider 1')"
   ]
  },
  {
   "cell_type": "code",
   "execution_count": 53,
   "id": "2c2e6bd2",
   "metadata": {},
   "outputs": [
    {
     "name": "stdout",
     "output_type": "stream",
     "text": [
      "0\n",
      "2017-04-26 07:00:00\n"
     ]
    },
    {
     "ename": "IndexError",
     "evalue": "only integers, slices (`:`), ellipsis (`...`), numpy.newaxis (`None`) and integer or boolean arrays are valid indices",
     "output_type": "error",
     "traceback": [
      "\u001b[0;31m---------------------------------------------------------------------------\u001b[0m",
      "\u001b[0;31mIndexError\u001b[0m                                Traceback (most recent call last)",
      "\u001b[0;32m/var/folders/jt/ss6zd2nx0bv4h_3q_d2qtldm0000gn/T/ipykernel_5843/3023380359.py\u001b[0m in \u001b[0;36m<module>\u001b[0;34m\u001b[0m\n\u001b[1;32m     11\u001b[0m     \u001b[0;32mreturn\u001b[0m\u001b[0;34m\u001b[0m\u001b[0;34m\u001b[0m\u001b[0m\n\u001b[1;32m     12\u001b[0m \u001b[0;34m\u001b[0m\u001b[0m\n\u001b[0;32m---> 13\u001b[0;31m \u001b[0mloop_through_entire_trial\u001b[0m\u001b[0;34m(\u001b[0m\u001b[0mdti\u001b[0m\u001b[0;34m)\u001b[0m\u001b[0;34m\u001b[0m\u001b[0;34m\u001b[0m\u001b[0m\n\u001b[0m",
      "\u001b[0;32m/var/folders/jt/ss6zd2nx0bv4h_3q_d2qtldm0000gn/T/ipykernel_5843/3023380359.py\u001b[0m in \u001b[0;36mloop_through_entire_trial\u001b[0;34m(dti)\u001b[0m\n\u001b[1;32m      6\u001b[0m         \u001b[0mprint\u001b[0m\u001b[0;34m(\u001b[0m\u001b[0mstart_index\u001b[0m\u001b[0;34m)\u001b[0m\u001b[0;34m\u001b[0m\u001b[0;34m\u001b[0m\u001b[0m\n\u001b[1;32m      7\u001b[0m         \u001b[0mprint\u001b[0m\u001b[0;34m(\u001b[0m\u001b[0mend_index\u001b[0m\u001b[0;34m)\u001b[0m\u001b[0;34m\u001b[0m\u001b[0;34m\u001b[0m\u001b[0m\n\u001b[0;32m----> 8\u001b[0;31m         \u001b[0mprint\u001b[0m\u001b[0;34m(\u001b[0m\u001b[0mprobability_in_multiple_sections\u001b[0m\u001b[0;34m(\u001b[0m\u001b[0mactivitydf\u001b[0m\u001b[0;34m,\u001b[0m \u001b[0mstart_index\u001b[0m\u001b[0;34m,\u001b[0m \u001b[0mend_index\u001b[0m\u001b[0;34m,\u001b[0m \u001b[0;34m'Monitor 1 Spider 1'\u001b[0m\u001b[0;34m)\u001b[0m\u001b[0;34m)\u001b[0m\u001b[0;34m\u001b[0m\u001b[0;34m\u001b[0m\u001b[0m\n\u001b[0m\u001b[1;32m      9\u001b[0m         \u001b[0;31m#start_index += 1\u001b[0m\u001b[0;34m\u001b[0m\u001b[0;34m\u001b[0m\u001b[0m\n\u001b[1;32m     10\u001b[0m \u001b[0;34m\u001b[0m\u001b[0m\n",
      "\u001b[0;32m/var/folders/jt/ss6zd2nx0bv4h_3q_d2qtldm0000gn/T/ipykernel_5843/1658147923.py\u001b[0m in \u001b[0;36mprobability_in_multiple_sections\u001b[0;34m(activitydf, start_index, end_index, column_name)\u001b[0m\n\u001b[1;32m      2\u001b[0m     \u001b[0;31m# Create list of date-times for each subjective hour\u001b[0m\u001b[0;34m\u001b[0m\u001b[0;34m\u001b[0m\u001b[0m\n\u001b[1;32m      3\u001b[0m     \u001b[0mstart\u001b[0m \u001b[0;34m=\u001b[0m \u001b[0mstr\u001b[0m\u001b[0;34m(\u001b[0m\u001b[0mdti\u001b[0m\u001b[0;34m[\u001b[0m\u001b[0mstart_index\u001b[0m\u001b[0;34m]\u001b[0m\u001b[0;34m)\u001b[0m\u001b[0;34m\u001b[0m\u001b[0;34m\u001b[0m\u001b[0m\n\u001b[0;32m----> 4\u001b[0;31m     \u001b[0mend\u001b[0m \u001b[0;34m=\u001b[0m \u001b[0mstr\u001b[0m\u001b[0;34m(\u001b[0m\u001b[0mdti\u001b[0m\u001b[0;34m[\u001b[0m\u001b[0mend_index\u001b[0m\u001b[0;34m]\u001b[0m\u001b[0;34m)\u001b[0m\u001b[0;34m\u001b[0m\u001b[0;34m\u001b[0m\u001b[0m\n\u001b[0m\u001b[1;32m      5\u001b[0m     \u001b[0mmylist\u001b[0m \u001b[0;34m=\u001b[0m \u001b[0mlist\u001b[0m\u001b[0;34m(\u001b[0m\u001b[0mdate_range\u001b[0m\u001b[0;34m(\u001b[0m\u001b[0mstart\u001b[0m\u001b[0;34m,\u001b[0m \u001b[0mend\u001b[0m\u001b[0;34m,\u001b[0m \u001b[0;36m24\u001b[0m\u001b[0;34m)\u001b[0m\u001b[0;34m)\u001b[0m\u001b[0;34m\u001b[0m\u001b[0;34m\u001b[0m\u001b[0m\n\u001b[1;32m      6\u001b[0m \u001b[0;34m\u001b[0m\u001b[0m\n",
      "\u001b[0;32m~/opt/anaconda3/lib/python3.9/site-packages/pandas/core/indexes/extension.py\u001b[0m in \u001b[0;36m__getitem__\u001b[0;34m(self, key)\u001b[0m\n\u001b[1;32m    277\u001b[0m \u001b[0;34m\u001b[0m\u001b[0m\n\u001b[1;32m    278\u001b[0m     \u001b[0;32mdef\u001b[0m \u001b[0m__getitem__\u001b[0m\u001b[0;34m(\u001b[0m\u001b[0mself\u001b[0m\u001b[0;34m,\u001b[0m \u001b[0mkey\u001b[0m\u001b[0;34m)\u001b[0m\u001b[0;34m:\u001b[0m\u001b[0;34m\u001b[0m\u001b[0;34m\u001b[0m\u001b[0m\n\u001b[0;32m--> 279\u001b[0;31m         \u001b[0mresult\u001b[0m \u001b[0;34m=\u001b[0m \u001b[0mself\u001b[0m\u001b[0;34m.\u001b[0m\u001b[0m_data\u001b[0m\u001b[0;34m[\u001b[0m\u001b[0mkey\u001b[0m\u001b[0;34m]\u001b[0m\u001b[0;34m\u001b[0m\u001b[0;34m\u001b[0m\u001b[0m\n\u001b[0m\u001b[1;32m    280\u001b[0m         \u001b[0;32mif\u001b[0m \u001b[0misinstance\u001b[0m\u001b[0;34m(\u001b[0m\u001b[0mresult\u001b[0m\u001b[0;34m,\u001b[0m \u001b[0mtype\u001b[0m\u001b[0;34m(\u001b[0m\u001b[0mself\u001b[0m\u001b[0;34m.\u001b[0m\u001b[0m_data\u001b[0m\u001b[0;34m)\u001b[0m\u001b[0;34m)\u001b[0m\u001b[0;34m:\u001b[0m\u001b[0;34m\u001b[0m\u001b[0;34m\u001b[0m\u001b[0m\n\u001b[1;32m    281\u001b[0m             \u001b[0;32mif\u001b[0m \u001b[0mresult\u001b[0m\u001b[0;34m.\u001b[0m\u001b[0mndim\u001b[0m \u001b[0;34m==\u001b[0m \u001b[0;36m1\u001b[0m\u001b[0;34m:\u001b[0m\u001b[0;34m\u001b[0m\u001b[0;34m\u001b[0m\u001b[0m\n",
      "\u001b[0;32m~/opt/anaconda3/lib/python3.9/site-packages/pandas/core/arrays/datetimelike.py\u001b[0m in \u001b[0;36m__getitem__\u001b[0;34m(self, key)\u001b[0m\n\u001b[1;32m    320\u001b[0m         \u001b[0monly\u001b[0m \u001b[0mhandle\u001b[0m \u001b[0mlist\u001b[0m\u001b[0;34m-\u001b[0m\u001b[0mlikes\u001b[0m\u001b[0;34m,\u001b[0m \u001b[0mslices\u001b[0m\u001b[0;34m,\u001b[0m \u001b[0;32mand\u001b[0m \u001b[0minteger\u001b[0m \u001b[0mscalars\u001b[0m\u001b[0;34m\u001b[0m\u001b[0;34m\u001b[0m\u001b[0m\n\u001b[1;32m    321\u001b[0m         \"\"\"\n\u001b[0;32m--> 322\u001b[0;31m         \u001b[0mresult\u001b[0m \u001b[0;34m=\u001b[0m \u001b[0msuper\u001b[0m\u001b[0;34m(\u001b[0m\u001b[0;34m)\u001b[0m\u001b[0;34m.\u001b[0m\u001b[0m__getitem__\u001b[0m\u001b[0;34m(\u001b[0m\u001b[0mkey\u001b[0m\u001b[0;34m)\u001b[0m\u001b[0;34m\u001b[0m\u001b[0;34m\u001b[0m\u001b[0m\n\u001b[0m\u001b[1;32m    323\u001b[0m         \u001b[0;32mif\u001b[0m \u001b[0mlib\u001b[0m\u001b[0;34m.\u001b[0m\u001b[0mis_scalar\u001b[0m\u001b[0;34m(\u001b[0m\u001b[0mresult\u001b[0m\u001b[0;34m)\u001b[0m\u001b[0;34m:\u001b[0m\u001b[0;34m\u001b[0m\u001b[0;34m\u001b[0m\u001b[0m\n\u001b[1;32m    324\u001b[0m             \u001b[0;32mreturn\u001b[0m \u001b[0mresult\u001b[0m\u001b[0;34m\u001b[0m\u001b[0;34m\u001b[0m\u001b[0m\n",
      "\u001b[0;32m~/opt/anaconda3/lib/python3.9/site-packages/pandas/core/arrays/_mixins.py\u001b[0m in \u001b[0;36m__getitem__\u001b[0;34m(self, key)\u001b[0m\n\u001b[1;32m    205\u001b[0m         )\n\u001b[1;32m    206\u001b[0m         \u001b[0mkey\u001b[0m \u001b[0;34m=\u001b[0m \u001b[0mcheck_array_indexer\u001b[0m\u001b[0;34m(\u001b[0m\u001b[0mself\u001b[0m\u001b[0;34m,\u001b[0m \u001b[0mkey\u001b[0m\u001b[0;34m)\u001b[0m\u001b[0;34m\u001b[0m\u001b[0;34m\u001b[0m\u001b[0m\n\u001b[0;32m--> 207\u001b[0;31m         \u001b[0mresult\u001b[0m \u001b[0;34m=\u001b[0m \u001b[0mself\u001b[0m\u001b[0;34m.\u001b[0m\u001b[0m_ndarray\u001b[0m\u001b[0;34m[\u001b[0m\u001b[0mkey\u001b[0m\u001b[0;34m]\u001b[0m\u001b[0;34m\u001b[0m\u001b[0;34m\u001b[0m\u001b[0m\n\u001b[0m\u001b[1;32m    208\u001b[0m         \u001b[0;32mif\u001b[0m \u001b[0mlib\u001b[0m\u001b[0;34m.\u001b[0m\u001b[0mis_scalar\u001b[0m\u001b[0;34m(\u001b[0m\u001b[0mresult\u001b[0m\u001b[0;34m)\u001b[0m\u001b[0;34m:\u001b[0m\u001b[0;34m\u001b[0m\u001b[0;34m\u001b[0m\u001b[0m\n\u001b[1;32m    209\u001b[0m             \u001b[0;32mreturn\u001b[0m \u001b[0mself\u001b[0m\u001b[0;34m.\u001b[0m\u001b[0m_box_func\u001b[0m\u001b[0;34m(\u001b[0m\u001b[0mresult\u001b[0m\u001b[0;34m)\u001b[0m\u001b[0;34m\u001b[0m\u001b[0;34m\u001b[0m\u001b[0m\n",
      "\u001b[0;31mIndexError\u001b[0m: only integers, slices (`:`), ellipsis (`...`), numpy.newaxis (`None`) and integer or boolean arrays are valid indices"
     ]
    }
   ],
   "source": [
    "def loop_through_entire_trial(dti):\n",
    "    start_index = 0\n",
    "    end_index = start_index + 1\n",
    "    \n",
    "    for start_index, end_index in enumerate(dti):\n",
    "        print(start_index)\n",
    "        print(end_index)\n",
    "        print(probability_in_multiple_sections(activitydf, start_index, end_index, 'Monitor 1 Spider 1'))\n",
    "        #start_index += 1\n",
    "        \n",
    "    return\n",
    "\n",
    "loop_through_entire_trial(dti)"
   ]
  },
  {
   "cell_type": "code",
   "execution_count": 17,
   "id": "e40df6ba",
   "metadata": {},
   "outputs": [],
   "source": [
    "def probability_in_sections(activitydf, start_index, end_index, column_name):\n",
    "    list_of_dates = extract_activity_from_subjective_day(dti, start_index, end_index, column_name).index.tolist()\n",
    "    median_date = statistics.median_low(list_of_dates)\n",
    "    #activitydf = extract_activity_from_subjective_day(dti, start_index, end_index, column_name)\n",
    "    \n",
    "    sub_day = activitydf.loc[dti[start_index] : median_date]\n",
    "    rows = len(sub_day.index)\n",
    "    total_day_movement = sub_day.sum()\n",
    "    prob_day = total_day_movement / rows\n",
    "    \n",
    "    sub_night = activitydf.loc[median_date : dti[end_index]]\n",
    "    rows = len(sub_night.index)\n",
    "    total_night_movement = sub_night.sum()\n",
    "    prob_night = total_night_movement / rows\n",
    "    \n",
    "    return prob_day, prob_night"
   ]
  },
  {
   "cell_type": "code",
   "execution_count": 18,
   "id": "de2f3182",
   "metadata": {},
   "outputs": [
    {
     "data": {
      "text/plain": [
       "(Monitor 1 Spider 1    0.028744\n",
       " dtype: float64,\n",
       " Monitor 1 Spider 1    0.270393\n",
       " dtype: float64)"
      ]
     },
     "execution_count": 18,
     "metadata": {},
     "output_type": "execute_result"
    }
   ],
   "source": [
    "probability_in_sections(activitydf, 0, 1, 'Monitor 1 Spider 1')"
   ]
  },
  {
   "cell_type": "markdown",
   "id": "ca411a40",
   "metadata": {},
   "source": [
    "# Trying to Loop"
   ]
  },
  {
   "cell_type": "markdown",
   "id": "cde2d90b",
   "metadata": {},
   "source": [
    "# Testing"
   ]
  },
  {
   "cell_type": "code",
   "execution_count": 60,
   "id": "98e7c221",
   "metadata": {},
   "outputs": [
    {
     "name": "stdout",
     "output_type": "stream",
     "text": [
      "Monitor 1 Spider 1    0.028744\n",
      "dtype: float64\n",
      "Monitor 1 Spider 1    0.270393\n",
      "dtype: float64\n"
     ]
    },
    {
     "ename": "IndexError",
     "evalue": "only integers, slices (`:`), ellipsis (`...`), numpy.newaxis (`None`) and integer or boolean arrays are valid indices",
     "output_type": "error",
     "traceback": [
      "\u001b[0;31m---------------------------------------------------------------------------\u001b[0m",
      "\u001b[0;31mIndexError\u001b[0m                                Traceback (most recent call last)",
      "\u001b[0;32m/var/folders/jt/ss6zd2nx0bv4h_3q_d2qtldm0000gn/T/ipykernel_3043/1426137508.py\u001b[0m in \u001b[0;36m<module>\u001b[0;34m\u001b[0m\n\u001b[1;32m     31\u001b[0m \u001b[0;34m\u001b[0m\u001b[0m\n\u001b[1;32m     32\u001b[0m \u001b[0;32mfor\u001b[0m \u001b[0mstart_index\u001b[0m\u001b[0;34m,\u001b[0m \u001b[0mend_index\u001b[0m \u001b[0;32min\u001b[0m \u001b[0menumerate\u001b[0m\u001b[0;34m(\u001b[0m\u001b[0mdti\u001b[0m\u001b[0;34m)\u001b[0m\u001b[0;34m:\u001b[0m\u001b[0;34m\u001b[0m\u001b[0;34m\u001b[0m\u001b[0m\n\u001b[0;32m---> 33\u001b[0;31m     \u001b[0mlist_of_dates\u001b[0m \u001b[0;34m=\u001b[0m \u001b[0mextract_activity_from_subjective_day\u001b[0m\u001b[0;34m(\u001b[0m\u001b[0mdti\u001b[0m\u001b[0;34m,\u001b[0m \u001b[0mstart_index\u001b[0m\u001b[0;34m,\u001b[0m \u001b[0mend_index\u001b[0m\u001b[0;34m,\u001b[0m \u001b[0;34m'Monitor 1 Spider 1'\u001b[0m\u001b[0;34m)\u001b[0m\u001b[0;34m.\u001b[0m\u001b[0mindex\u001b[0m\u001b[0;34m.\u001b[0m\u001b[0mtolist\u001b[0m\u001b[0;34m(\u001b[0m\u001b[0;34m)\u001b[0m\u001b[0;34m\u001b[0m\u001b[0;34m\u001b[0m\u001b[0m\n\u001b[0m\u001b[1;32m     34\u001b[0m     \u001b[0mmedian_date\u001b[0m \u001b[0;34m=\u001b[0m \u001b[0mstatistics\u001b[0m\u001b[0;34m.\u001b[0m\u001b[0mmedian_low\u001b[0m\u001b[0;34m(\u001b[0m\u001b[0mlist_of_dates\u001b[0m\u001b[0;34m)\u001b[0m\u001b[0;34m\u001b[0m\u001b[0;34m\u001b[0m\u001b[0m\n\u001b[1;32m     35\u001b[0m \u001b[0;34m\u001b[0m\u001b[0m\n",
      "\u001b[0;32m/var/folders/jt/ss6zd2nx0bv4h_3q_d2qtldm0000gn/T/ipykernel_3043/4151217339.py\u001b[0m in \u001b[0;36mextract_activity_from_subjective_day\u001b[0;34m(dti, start_index, end_index, column_name)\u001b[0m\n\u001b[1;32m      1\u001b[0m \u001b[0;32mdef\u001b[0m \u001b[0mextract_activity_from_subjective_day\u001b[0m\u001b[0;34m(\u001b[0m\u001b[0mdti\u001b[0m\u001b[0;34m,\u001b[0m \u001b[0mstart_index\u001b[0m\u001b[0;34m,\u001b[0m \u001b[0mend_index\u001b[0m\u001b[0;34m,\u001b[0m \u001b[0mcolumn_name\u001b[0m\u001b[0;34m)\u001b[0m\u001b[0;34m:\u001b[0m\u001b[0;34m\u001b[0m\u001b[0;34m\u001b[0m\u001b[0m\n\u001b[1;32m      2\u001b[0m     \u001b[0;31m# Extract activity based on subjective day index\u001b[0m\u001b[0;34m\u001b[0m\u001b[0;34m\u001b[0m\u001b[0m\n\u001b[0;32m----> 3\u001b[0;31m     \u001b[0mactivitydf\u001b[0m \u001b[0;34m=\u001b[0m \u001b[0mdf\u001b[0m\u001b[0;34m.\u001b[0m\u001b[0mloc\u001b[0m\u001b[0;34m[\u001b[0m\u001b[0mdti\u001b[0m\u001b[0;34m[\u001b[0m\u001b[0mstart_index\u001b[0m\u001b[0;34m]\u001b[0m \u001b[0;34m:\u001b[0m \u001b[0mdti\u001b[0m\u001b[0;34m[\u001b[0m\u001b[0mend_index\u001b[0m\u001b[0;34m]\u001b[0m\u001b[0;34m,\u001b[0m \u001b[0;34m[\u001b[0m\u001b[0mcolumn_name\u001b[0m\u001b[0;34m]\u001b[0m\u001b[0;34m]\u001b[0m\u001b[0;34m\u001b[0m\u001b[0;34m\u001b[0m\u001b[0m\n\u001b[0m\u001b[1;32m      4\u001b[0m \u001b[0;34m\u001b[0m\u001b[0m\n\u001b[1;32m      5\u001b[0m     \u001b[0;32mreturn\u001b[0m \u001b[0mactivitydf\u001b[0m\u001b[0;34m\u001b[0m\u001b[0;34m\u001b[0m\u001b[0m\n",
      "\u001b[0;32m~/opt/anaconda3/lib/python3.9/site-packages/pandas/core/indexes/extension.py\u001b[0m in \u001b[0;36m__getitem__\u001b[0;34m(self, key)\u001b[0m\n\u001b[1;32m    277\u001b[0m \u001b[0;34m\u001b[0m\u001b[0m\n\u001b[1;32m    278\u001b[0m     \u001b[0;32mdef\u001b[0m \u001b[0m__getitem__\u001b[0m\u001b[0;34m(\u001b[0m\u001b[0mself\u001b[0m\u001b[0;34m,\u001b[0m \u001b[0mkey\u001b[0m\u001b[0;34m)\u001b[0m\u001b[0;34m:\u001b[0m\u001b[0;34m\u001b[0m\u001b[0;34m\u001b[0m\u001b[0m\n\u001b[0;32m--> 279\u001b[0;31m         \u001b[0mresult\u001b[0m \u001b[0;34m=\u001b[0m \u001b[0mself\u001b[0m\u001b[0;34m.\u001b[0m\u001b[0m_data\u001b[0m\u001b[0;34m[\u001b[0m\u001b[0mkey\u001b[0m\u001b[0;34m]\u001b[0m\u001b[0;34m\u001b[0m\u001b[0;34m\u001b[0m\u001b[0m\n\u001b[0m\u001b[1;32m    280\u001b[0m         \u001b[0;32mif\u001b[0m \u001b[0misinstance\u001b[0m\u001b[0;34m(\u001b[0m\u001b[0mresult\u001b[0m\u001b[0;34m,\u001b[0m \u001b[0mtype\u001b[0m\u001b[0;34m(\u001b[0m\u001b[0mself\u001b[0m\u001b[0;34m.\u001b[0m\u001b[0m_data\u001b[0m\u001b[0;34m)\u001b[0m\u001b[0;34m)\u001b[0m\u001b[0;34m:\u001b[0m\u001b[0;34m\u001b[0m\u001b[0;34m\u001b[0m\u001b[0m\n\u001b[1;32m    281\u001b[0m             \u001b[0;32mif\u001b[0m \u001b[0mresult\u001b[0m\u001b[0;34m.\u001b[0m\u001b[0mndim\u001b[0m \u001b[0;34m==\u001b[0m \u001b[0;36m1\u001b[0m\u001b[0;34m:\u001b[0m\u001b[0;34m\u001b[0m\u001b[0;34m\u001b[0m\u001b[0m\n",
      "\u001b[0;32m~/opt/anaconda3/lib/python3.9/site-packages/pandas/core/arrays/datetimelike.py\u001b[0m in \u001b[0;36m__getitem__\u001b[0;34m(self, key)\u001b[0m\n\u001b[1;32m    320\u001b[0m         \u001b[0monly\u001b[0m \u001b[0mhandle\u001b[0m \u001b[0mlist\u001b[0m\u001b[0;34m-\u001b[0m\u001b[0mlikes\u001b[0m\u001b[0;34m,\u001b[0m \u001b[0mslices\u001b[0m\u001b[0;34m,\u001b[0m \u001b[0;32mand\u001b[0m \u001b[0minteger\u001b[0m \u001b[0mscalars\u001b[0m\u001b[0;34m\u001b[0m\u001b[0;34m\u001b[0m\u001b[0m\n\u001b[1;32m    321\u001b[0m         \"\"\"\n\u001b[0;32m--> 322\u001b[0;31m         \u001b[0mresult\u001b[0m \u001b[0;34m=\u001b[0m \u001b[0msuper\u001b[0m\u001b[0;34m(\u001b[0m\u001b[0;34m)\u001b[0m\u001b[0;34m.\u001b[0m\u001b[0m__getitem__\u001b[0m\u001b[0;34m(\u001b[0m\u001b[0mkey\u001b[0m\u001b[0;34m)\u001b[0m\u001b[0;34m\u001b[0m\u001b[0;34m\u001b[0m\u001b[0m\n\u001b[0m\u001b[1;32m    323\u001b[0m         \u001b[0;32mif\u001b[0m \u001b[0mlib\u001b[0m\u001b[0;34m.\u001b[0m\u001b[0mis_scalar\u001b[0m\u001b[0;34m(\u001b[0m\u001b[0mresult\u001b[0m\u001b[0;34m)\u001b[0m\u001b[0;34m:\u001b[0m\u001b[0;34m\u001b[0m\u001b[0;34m\u001b[0m\u001b[0m\n\u001b[1;32m    324\u001b[0m             \u001b[0;32mreturn\u001b[0m \u001b[0mresult\u001b[0m\u001b[0;34m\u001b[0m\u001b[0;34m\u001b[0m\u001b[0m\n",
      "\u001b[0;32m~/opt/anaconda3/lib/python3.9/site-packages/pandas/core/arrays/_mixins.py\u001b[0m in \u001b[0;36m__getitem__\u001b[0;34m(self, key)\u001b[0m\n\u001b[1;32m    205\u001b[0m         )\n\u001b[1;32m    206\u001b[0m         \u001b[0mkey\u001b[0m \u001b[0;34m=\u001b[0m \u001b[0mcheck_array_indexer\u001b[0m\u001b[0;34m(\u001b[0m\u001b[0mself\u001b[0m\u001b[0;34m,\u001b[0m \u001b[0mkey\u001b[0m\u001b[0;34m)\u001b[0m\u001b[0;34m\u001b[0m\u001b[0;34m\u001b[0m\u001b[0m\n\u001b[0;32m--> 207\u001b[0;31m         \u001b[0mresult\u001b[0m \u001b[0;34m=\u001b[0m \u001b[0mself\u001b[0m\u001b[0;34m.\u001b[0m\u001b[0m_ndarray\u001b[0m\u001b[0;34m[\u001b[0m\u001b[0mkey\u001b[0m\u001b[0;34m]\u001b[0m\u001b[0;34m\u001b[0m\u001b[0;34m\u001b[0m\u001b[0m\n\u001b[0m\u001b[1;32m    208\u001b[0m         \u001b[0;32mif\u001b[0m \u001b[0mlib\u001b[0m\u001b[0;34m.\u001b[0m\u001b[0mis_scalar\u001b[0m\u001b[0;34m(\u001b[0m\u001b[0mresult\u001b[0m\u001b[0;34m)\u001b[0m\u001b[0;34m:\u001b[0m\u001b[0;34m\u001b[0m\u001b[0;34m\u001b[0m\u001b[0m\n\u001b[1;32m    209\u001b[0m             \u001b[0;32mreturn\u001b[0m \u001b[0mself\u001b[0m\u001b[0;34m.\u001b[0m\u001b[0m_box_func\u001b[0m\u001b[0;34m(\u001b[0m\u001b[0mresult\u001b[0m\u001b[0;34m)\u001b[0m\u001b[0;34m\u001b[0m\u001b[0;34m\u001b[0m\u001b[0m\n",
      "\u001b[0;31mIndexError\u001b[0m: only integers, slices (`:`), ellipsis (`...`), numpy.newaxis (`None`) and integer or boolean arrays are valid indices"
     ]
    }
   ],
   "source": [
    "df_start = df.at_time('07:00:00')\n",
    "idx = df_start.index[0]\n",
    "    \n",
    "# Subjective days starting from lights not being turned on to given FRP\n",
    "dti = pd.date_range(idx, periods = 10, freq = '22.0111503H')\n",
    "dti = dti.round(freq = '1T')\n",
    "#print(dti)\n",
    "\n",
    "start_index = 0\n",
    "end_index = 1\n",
    "\n",
    "list_of_dates = extract_activity_from_subjective_day(dti, start_index, end_index, 'Monitor 1 Spider 1').index.tolist()\n",
    "median_date = statistics.median_low(list_of_dates)\n",
    "\n",
    "activitydf = df.loc[dti[start_index] : dti[end_index], ['Monitor 1 Spider 1']]\n",
    "sub_day = activitydf.loc[dti[start_index] : median_date]\n",
    "#display(sub_day)\n",
    "rows = len(sub_day.index)\n",
    "total_day_movement = sub_day.sum()\n",
    "prob_day = total_day_movement / rows\n",
    "print(prob_day)\n",
    "    \n",
    "sub_night = activitydf.loc[median_date : dti[end_index]]\n",
    "rows = len(sub_night.index)\n",
    "total_night_movement = sub_night.sum()\n",
    "prob_night = total_night_movement / rows\n",
    "print(prob_night)\n",
    "\n",
    "start_index = 0\n",
    "end_index = 1\n",
    "\n",
    "for start_index, end_index in enumerate(dti):\n",
    "    list_of_dates = extract_activity_from_subjective_day(dti, start_index, end_index, 'Monitor 1 Spider 1').index.tolist()\n",
    "    median_date = statistics.median_low(list_of_dates)\n",
    "\n",
    "    activitydf = df.loc[dti[start_index] : dti[end_index], ['Monitor 1 Spider 1']]\n",
    "    sub_day = activitydf.loc[dti[start_index] : median_date]\n",
    "    display(sub_day)\n",
    "    rows = len(sub_day.index)\n",
    "    total_day_movement = sub_day.sum()\n",
    "    prob_day = total_day_movement / rows\n",
    "    print(prob_day)\n",
    "    \n",
    "    sub_night = activitydf.loc[median_date : dti[end_index]]\n",
    "    rows = len(sub_night.index)\n",
    "    total_night_movement = sub_night.sum()\n",
    "    prob_night = total_night_movement / rows\n",
    "    print(prob_night)"
   ]
  }
 ],
 "metadata": {
  "kernelspec": {
   "display_name": "Python 3 (ipykernel)",
   "language": "python",
   "name": "python3"
  },
  "language_info": {
   "codemirror_mode": {
    "name": "ipython",
    "version": 3
   },
   "file_extension": ".py",
   "mimetype": "text/x-python",
   "name": "python",
   "nbconvert_exporter": "python",
   "pygments_lexer": "ipython3",
   "version": "3.9.7"
  }
 },
 "nbformat": 4,
 "nbformat_minor": 5
}
