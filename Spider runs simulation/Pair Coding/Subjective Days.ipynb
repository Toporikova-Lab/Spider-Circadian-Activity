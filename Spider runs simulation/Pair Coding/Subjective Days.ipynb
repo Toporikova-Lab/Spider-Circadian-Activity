{
 "cells": [
  {
   "cell_type": "markdown",
   "id": "2cfcda4f",
   "metadata": {},
   "source": [
    "# Split Subjective Days"
   ]
  },
  {
   "cell_type": "code",
   "execution_count": 350,
   "id": "c01f7435",
   "metadata": {},
   "outputs": [],
   "source": [
    "import pandas as pd\n",
    "import numpy as np\n",
    "import matplotlib.pyplot as plt\n",
    "from datetime import datetime\n",
    "from datetime import timedelta\n",
    "import seaborn as sns\n",
    "import pylab as py"
   ]
  },
  {
   "cell_type": "markdown",
   "id": "118a4688",
   "metadata": {},
   "source": [
    "# Summary Filename"
   ]
  },
  {
   "cell_type": "code",
   "execution_count": null,
   "id": "4d7b6728",
   "metadata": {},
   "outputs": [],
   "source": [
    "# Read Spider FRP CSV file\n",
    "summary_filename = 'Metazygia wittfeldae summary'\n",
    "summary_df = pd.read_csv(frp_filename + '.csv')"
   ]
  },
  {
   "cell_type": "markdown",
   "id": "b283f67d",
   "metadata": {},
   "source": [
    "# Get FRP Value of Specific Spider"
   ]
  },
  {
   "cell_type": "code",
   "execution_count": 351,
   "id": "e0e80272",
   "metadata": {},
   "outputs": [
    {
     "data": {
      "text/plain": [
       "22.0111503"
      ]
     },
     "execution_count": 351,
     "metadata": {},
     "output_type": "execute_result"
    }
   ],
   "source": [
    "# Extract FRP values for each spider and create new CSV file\n",
    "\n",
    "def get_frp(summary_df, spider_name):\n",
    "    # Creating new FRP CSV file from summary CSV\n",
    "    summary_df = summary_df[(summary_df['Conditions'] == 'DD') & (summary_df['Spider ID'].str.match('Monitor 1'))]\n",
    "    frp_df = summary_df[['Spider ID', 'LombSc period']]\n",
    "    frp_df = frp_df.reset_index(drop = True)\n",
    "    frp_df = frp_df.set_index('Spider ID')\n",
    "    frp_df.to_csv(summary_filename + '_period')\n",
    "    \n",
    "    # Get FRP value of specific spider\n",
    "    frp = float(frp_df.values[frp_df.index.str.endswith(spider_name)])\n",
    "    \n",
    "    return frp\n",
    "\n",
    "get_frp(summary_df, 'Monitor 1 Spider 1')"
   ]
  },
  {
   "cell_type": "markdown",
   "id": "5e282794",
   "metadata": {},
   "source": [
    "# Activity Filename"
   ]
  },
  {
   "cell_type": "code",
   "execution_count": 278,
   "id": "ea638e72",
   "metadata": {},
   "outputs": [],
   "source": [
    "# Read spider activity CSV file\n",
    "\n",
    "filename = 'Metazygia wittfeldae Monitor 1 Updated_DD_binary'\n",
    "df = pd.read_csv(filename + '.csv', index_col = 0)\n",
    "df.index = pd.to_datetime(df.index)\n",
    "#display(df)"
   ]
  },
  {
   "cell_type": "markdown",
   "id": "4ea1c7fb",
   "metadata": {},
   "source": [
    "# Split Subjective Days Function"
   ]
  },
  {
   "cell_type": "markdown",
   "id": "20316c76",
   "metadata": {},
   "source": [
    "Given arguments dataframe in DateTimeIndex, the initial day where the lights didn't turn on, and the FRP of the spider, returns the subjective days of the spider."
   ]
  },
  {
   "cell_type": "code",
   "execution_count": 354,
   "id": "6bdb98ac",
   "metadata": {},
   "outputs": [
    {
     "data": {
      "text/plain": [
       "DatetimeIndex(['2017-04-26 07:00:00', '2017-04-27 05:01:00',\n",
       "               '2017-04-28 03:01:00', '2017-04-29 01:02:00',\n",
       "               '2017-04-29 23:03:00', '2017-04-30 21:03:00',\n",
       "               '2017-05-01 19:04:00', '2017-05-02 17:05:00',\n",
       "               '2017-05-03 15:05:00', '2017-05-04 13:06:00'],\n",
       "              dtype='datetime64[ns]', freq=None)"
      ]
     },
     "execution_count": 354,
     "metadata": {},
     "output_type": "execute_result"
    }
   ],
   "source": [
    "def split_subjective_days(df, initial_day, frp):\n",
    "    # Get day where lights would turn on but they don't (DD)\n",
    "    df_start = df.at_time('07:00:00')\n",
    "    idx = df_start.index[0]\n",
    "    \n",
    "    # Subjective days starting from lights not being turned on to given FRP\n",
    "    dti = pd.date_range(idx, periods = 10, freq = frp)\n",
    "    dti = dti.round(freq = '1T')\n",
    "    \n",
    "    return dti\n",
    "\n",
    "split_subjective_days(df, idx, str(frp) + 'H')"
   ]
  },
  {
   "cell_type": "markdown",
   "id": "dd0272bd",
   "metadata": {},
   "source": [
    "# Extracting Activity"
   ]
  },
  {
   "cell_type": "code",
   "execution_count": 352,
   "id": "03aaa535",
   "metadata": {},
   "outputs": [
    {
     "data": {
      "text/html": [
       "<div>\n",
       "<style scoped>\n",
       "    .dataframe tbody tr th:only-of-type {\n",
       "        vertical-align: middle;\n",
       "    }\n",
       "\n",
       "    .dataframe tbody tr th {\n",
       "        vertical-align: top;\n",
       "    }\n",
       "\n",
       "    .dataframe thead th {\n",
       "        text-align: right;\n",
       "    }\n",
       "</style>\n",
       "<table border=\"1\" class=\"dataframe\">\n",
       "  <thead>\n",
       "    <tr style=\"text-align: right;\">\n",
       "      <th></th>\n",
       "      <th>Monitor 1 Spider 1</th>\n",
       "    </tr>\n",
       "    <tr>\n",
       "      <th>Date-Time</th>\n",
       "      <th></th>\n",
       "    </tr>\n",
       "  </thead>\n",
       "  <tbody>\n",
       "    <tr>\n",
       "      <th>2017-04-27 05:01:00</th>\n",
       "      <td>0</td>\n",
       "    </tr>\n",
       "    <tr>\n",
       "      <th>2017-04-27 05:02:00</th>\n",
       "      <td>0</td>\n",
       "    </tr>\n",
       "    <tr>\n",
       "      <th>2017-04-27 05:03:00</th>\n",
       "      <td>0</td>\n",
       "    </tr>\n",
       "    <tr>\n",
       "      <th>2017-04-27 05:04:00</th>\n",
       "      <td>0</td>\n",
       "    </tr>\n",
       "    <tr>\n",
       "      <th>2017-04-27 05:05:00</th>\n",
       "      <td>0</td>\n",
       "    </tr>\n",
       "    <tr>\n",
       "      <th>...</th>\n",
       "      <td>...</td>\n",
       "    </tr>\n",
       "    <tr>\n",
       "      <th>2017-04-28 02:57:00</th>\n",
       "      <td>0</td>\n",
       "    </tr>\n",
       "    <tr>\n",
       "      <th>2017-04-28 02:58:00</th>\n",
       "      <td>0</td>\n",
       "    </tr>\n",
       "    <tr>\n",
       "      <th>2017-04-28 02:59:00</th>\n",
       "      <td>0</td>\n",
       "    </tr>\n",
       "    <tr>\n",
       "      <th>2017-04-28 03:00:00</th>\n",
       "      <td>0</td>\n",
       "    </tr>\n",
       "    <tr>\n",
       "      <th>2017-04-28 03:01:00</th>\n",
       "      <td>0</td>\n",
       "    </tr>\n",
       "  </tbody>\n",
       "</table>\n",
       "<p>1321 rows × 1 columns</p>\n",
       "</div>"
      ],
      "text/plain": [
       "                     Monitor 1 Spider 1\n",
       "Date-Time                              \n",
       "2017-04-27 05:01:00                   0\n",
       "2017-04-27 05:02:00                   0\n",
       "2017-04-27 05:03:00                   0\n",
       "2017-04-27 05:04:00                   0\n",
       "2017-04-27 05:05:00                   0\n",
       "...                                 ...\n",
       "2017-04-28 02:57:00                   0\n",
       "2017-04-28 02:58:00                   0\n",
       "2017-04-28 02:59:00                   0\n",
       "2017-04-28 03:00:00                   0\n",
       "2017-04-28 03:01:00                   0\n",
       "\n",
       "[1321 rows x 1 columns]"
      ]
     },
     "execution_count": 352,
     "metadata": {},
     "output_type": "execute_result"
    }
   ],
   "source": [
    "def extract_activity_from_subjective_day(dti, start_index, end_index, column_name):\n",
    "    # Extract activity based on subjective day index\n",
    "    activitydf = df.loc[dti[start_index] : dti[end_index], [column_name]]\n",
    "    \n",
    "    #activitydf.to_csv(filename + '_subjective.csv')\n",
    "    \n",
    "    return activitydf\n",
    "\n",
    "extract_activity_from_subjective_day(dti, 1, 2, 'Monitor 1 Spider 1')"
   ]
  },
  {
   "cell_type": "code",
   "execution_count": null,
   "id": "59590b52",
   "metadata": {},
   "outputs": [],
   "source": []
  }
 ],
 "metadata": {
  "kernelspec": {
   "display_name": "Python 3 (ipykernel)",
   "language": "python",
   "name": "python3"
  },
  "language_info": {
   "codemirror_mode": {
    "name": "ipython",
    "version": 3
   },
   "file_extension": ".py",
   "mimetype": "text/x-python",
   "name": "python",
   "nbconvert_exporter": "python",
   "pygments_lexer": "ipython3",
   "version": "3.9.7"
  }
 },
 "nbformat": 4,
 "nbformat_minor": 5
}
