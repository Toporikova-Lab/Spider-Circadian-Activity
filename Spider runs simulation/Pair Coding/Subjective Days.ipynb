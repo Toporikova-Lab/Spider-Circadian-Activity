{
 "cells": [
  {
   "cell_type": "markdown",
   "id": "2cfcda4f",
   "metadata": {},
   "source": [
    "# Split Subjective Days"
   ]
  },
  {
   "cell_type": "code",
   "execution_count": 364,
   "id": "c01f7435",
   "metadata": {},
   "outputs": [],
   "source": [
    "import pandas as pd\n",
    "import numpy as np\n",
    "import matplotlib.pyplot as plt\n",
    "from datetime import datetime\n",
    "from datetime import timedelta\n",
    "import seaborn as sns\n",
    "import pylab as py\n",
    "import statistics"
   ]
  },
  {
   "cell_type": "markdown",
   "id": "dbb3dd4b",
   "metadata": {},
   "source": [
    "# Summary Filename"
   ]
  },
  {
   "cell_type": "code",
   "execution_count": null,
   "id": "61c49609",
   "metadata": {},
   "outputs": [],
   "source": [
    "# Read Spider FRP CSV file\n",
    "summary_filename = 'Metazygia wittfeldae summary'\n",
    "summary_df = pd.read_csv(frp_filename + '.csv')"
   ]
  },
  {
   "cell_type": "markdown",
   "id": "56fb85f2",
   "metadata": {},
   "source": [
    "# Get FRP Value of Specific Spider"
   ]
  },
  {
   "cell_type": "code",
   "execution_count": 351,
   "id": "765e86c1",
   "metadata": {},
   "outputs": [
    {
     "data": {
      "text/plain": [
       "22.0111503"
      ]
     },
     "execution_count": 351,
     "metadata": {},
     "output_type": "execute_result"
    }
   ],
   "source": [
    "# Extract FRP values for each spider and create new CSV file\n",
    "\n",
    "def get_frp(summary_df, spider_name):\n",
    "    # Creating new FRP CSV file from summary CSV\n",
    "    summary_df = summary_df[(summary_df['Conditions'] == 'DD') & (summary_df['Spider ID'].str.match('Monitor 1'))]\n",
    "    frp_df = summary_df[['Spider ID', 'LombSc period']]\n",
    "    frp_df = frp_df.reset_index(drop = True)\n",
    "    frp_df = frp_df.set_index('Spider ID')\n",
    "    frp_df.to_csv(summary_filename + '_period')\n",
    "    \n",
    "    # Get FRP value of specific spider\n",
    "    frp = float(frp_df.values[frp_df.index.str.endswith(spider_name)])\n",
    "    \n",
    "    return frp\n",
    "\n",
    "get_frp(summary_df, 'Monitor 1 Spider 1')"
   ]
  },
  {
   "cell_type": "markdown",
   "id": "5e282794",
   "metadata": {},
   "source": [
    "# Activity Filename"
   ]
  },
  {
   "cell_type": "code",
   "execution_count": 278,
   "id": "ea638e72",
   "metadata": {},
   "outputs": [],
   "source": [
    "# Read spider activity CSV file\n",
    "\n",
    "filename = 'Metazygia wittfeldae Monitor 1 Updated_DD_binary'\n",
    "df = pd.read_csv(filename + '.csv', index_col = 0)\n",
    "df.index = pd.to_datetime(df.index)\n",
    "#display(df)"
   ]
  },
  {
   "cell_type": "markdown",
   "id": "4ea1c7fb",
   "metadata": {},
   "source": [
    "# Split Subjective Days Function"
   ]
  },
  {
   "cell_type": "markdown",
   "id": "20316c76",
   "metadata": {},
   "source": [
    "Given arguments dataframe in DateTimeIndex, the initial day where the lights didn't turn on, and the FRP of the spider, returns the subjective days of the spider."
   ]
  },
  {
   "cell_type": "code",
   "execution_count": 354,
   "id": "6bdb98ac",
   "metadata": {},
   "outputs": [
    {
     "data": {
      "text/plain": [
       "DatetimeIndex(['2017-04-26 07:00:00', '2017-04-27 05:01:00',\n",
       "               '2017-04-28 03:01:00', '2017-04-29 01:02:00',\n",
       "               '2017-04-29 23:03:00', '2017-04-30 21:03:00',\n",
       "               '2017-05-01 19:04:00', '2017-05-02 17:05:00',\n",
       "               '2017-05-03 15:05:00', '2017-05-04 13:06:00'],\n",
       "              dtype='datetime64[ns]', freq=None)"
      ]
     },
     "execution_count": 354,
     "metadata": {},
     "output_type": "execute_result"
    }
   ],
   "source": [
    "def split_subjective_days(df, initial_day, frp):\n",
    "    # Get day where lights would turn on but they don't (DD)\n",
    "    df_start = df.at_time('07:00:00')\n",
    "    idx = df_start.index[0]\n",
    "    \n",
    "    # Subjective days starting from lights not being turned on to given FRP\n",
    "    dti = pd.date_range(idx, periods = 10, freq = frp)\n",
    "    dti = dti.round(freq = '1T')\n",
    "    \n",
    "    return dti\n",
    "\n",
    "split_subjective_days(df, idx, str(frp) + 'H')"
   ]
  },
  {
   "cell_type": "markdown",
   "id": "584ef852",
   "metadata": {},
   "source": [
    "# Extracting Activity"
   ]
  },
  {
   "cell_type": "code",
   "execution_count": 419,
   "id": "26b4e078",
   "metadata": {},
   "outputs": [
    {
     "data": {
      "text/html": [
       "<div>\n",
       "<style scoped>\n",
       "    .dataframe tbody tr th:only-of-type {\n",
       "        vertical-align: middle;\n",
       "    }\n",
       "\n",
       "    .dataframe tbody tr th {\n",
       "        vertical-align: top;\n",
       "    }\n",
       "\n",
       "    .dataframe thead th {\n",
       "        text-align: right;\n",
       "    }\n",
       "</style>\n",
       "<table border=\"1\" class=\"dataframe\">\n",
       "  <thead>\n",
       "    <tr style=\"text-align: right;\">\n",
       "      <th></th>\n",
       "      <th>Monitor 1 Spider 1</th>\n",
       "    </tr>\n",
       "    <tr>\n",
       "      <th>Date-Time</th>\n",
       "      <th></th>\n",
       "    </tr>\n",
       "  </thead>\n",
       "  <tbody>\n",
       "    <tr>\n",
       "      <th>2017-04-29 01:02:00</th>\n",
       "      <td>0</td>\n",
       "    </tr>\n",
       "    <tr>\n",
       "      <th>2017-04-29 01:03:00</th>\n",
       "      <td>0</td>\n",
       "    </tr>\n",
       "    <tr>\n",
       "      <th>2017-04-29 01:04:00</th>\n",
       "      <td>0</td>\n",
       "    </tr>\n",
       "    <tr>\n",
       "      <th>2017-04-29 01:05:00</th>\n",
       "      <td>0</td>\n",
       "    </tr>\n",
       "    <tr>\n",
       "      <th>2017-04-29 01:06:00</th>\n",
       "      <td>0</td>\n",
       "    </tr>\n",
       "    <tr>\n",
       "      <th>...</th>\n",
       "      <td>...</td>\n",
       "    </tr>\n",
       "    <tr>\n",
       "      <th>2017-04-29 22:59:00</th>\n",
       "      <td>0</td>\n",
       "    </tr>\n",
       "    <tr>\n",
       "      <th>2017-04-29 23:00:00</th>\n",
       "      <td>0</td>\n",
       "    </tr>\n",
       "    <tr>\n",
       "      <th>2017-04-29 23:01:00</th>\n",
       "      <td>0</td>\n",
       "    </tr>\n",
       "    <tr>\n",
       "      <th>2017-04-29 23:02:00</th>\n",
       "      <td>0</td>\n",
       "    </tr>\n",
       "    <tr>\n",
       "      <th>2017-04-29 23:03:00</th>\n",
       "      <td>0</td>\n",
       "    </tr>\n",
       "  </tbody>\n",
       "</table>\n",
       "<p>1322 rows × 1 columns</p>\n",
       "</div>"
      ],
      "text/plain": [
       "                     Monitor 1 Spider 1\n",
       "Date-Time                              \n",
       "2017-04-29 01:02:00                   0\n",
       "2017-04-29 01:03:00                   0\n",
       "2017-04-29 01:04:00                   0\n",
       "2017-04-29 01:05:00                   0\n",
       "2017-04-29 01:06:00                   0\n",
       "...                                 ...\n",
       "2017-04-29 22:59:00                   0\n",
       "2017-04-29 23:00:00                   0\n",
       "2017-04-29 23:01:00                   0\n",
       "2017-04-29 23:02:00                   0\n",
       "2017-04-29 23:03:00                   0\n",
       "\n",
       "[1322 rows x 1 columns]"
      ]
     },
     "execution_count": 419,
     "metadata": {},
     "output_type": "execute_result"
    }
   ],
   "source": [
    "def extract_activity_from_subjective_day(dti, start_index, end_index, column_name):\n",
    "    # Extract activity based on subjective day index\n",
    "    activitydf = df.loc[dti[start_index] : dti[end_index], [column_name]]\n",
    "    \n",
    "    #activitydf.to_csv(filename + '_subjective.csv')\n",
    "    \n",
    "    return activitydf\n",
    "\n",
    "extract_activity_from_subjective_day(dti, 3, 4, 'Monitor 1 Spider 1')"
   ]
  },
  {
   "cell_type": "code",
   "execution_count": 418,
   "id": "3d19431d",
   "metadata": {},
   "outputs": [
    {
     "data": {
      "text/plain": [
       "Timestamp('2017-04-27 16:01:00')"
      ]
     },
     "metadata": {},
     "output_type": "display_data"
    },
    {
     "data": {
      "text/plain": [
       "(Monitor 1 Spider 1    0.027231\n",
       " dtype: float64,\n",
       " Monitor 1 Spider 1    0.23298\n",
       " dtype: float64)"
      ]
     },
     "execution_count": 418,
     "metadata": {},
     "output_type": "execute_result"
    }
   ],
   "source": [
    "def probability_in_sections(activitydf, start_index, end_index):\n",
    "    list_of_dates = activitydf.loc[dti[start_index] : dti[end_index]].index.tolist()\n",
    "    median_date = statistics.median(list_of_dates)\n",
    "    display(median_date)\n",
    "    \n",
    "    sub_day = activitydf.loc[dti[start_index] : median_date]\n",
    "    rows = len(sub_day.index)\n",
    "    total_day_movement = sub_day.sum()\n",
    "    prob_day = total_day_movement / rows\n",
    "    \n",
    "    sub_night = activitydf.loc[median_date : dti[end_index]]\n",
    "    rows = len(sub_night.index)\n",
    "    total_night_movement = sub_night.sum()\n",
    "    prob_night = total_night_movement / rows\n",
    "    \n",
    "    return prob_day, prob_night\n",
    "\n",
    "probability_in_sections(activitydf, 1, 2)"
   ]
  },
  {
   "cell_type": "code",
   "execution_count": 431,
   "id": "98e7c221",
   "metadata": {},
   "outputs": [
    {
     "ename": "TypeError",
     "evalue": "unsupported operand type(s) for +: 'Timestamp' and 'Timestamp'",
     "output_type": "error",
     "traceback": [
      "\u001b[0;31m---------------------------------------------------------------------------\u001b[0m",
      "\u001b[0;31mTypeError\u001b[0m                                 Traceback (most recent call last)",
      "\u001b[0;32m/var/folders/jt/ss6zd2nx0bv4h_3q_d2qtldm0000gn/T/ipykernel_51246/2889746928.py\u001b[0m in \u001b[0;36m<module>\u001b[0;34m\u001b[0m\n\u001b[1;32m      4\u001b[0m \u001b[0;31m#print(dates)\u001b[0m\u001b[0;34m\u001b[0m\u001b[0;34m\u001b[0m\u001b[0m\n\u001b[1;32m      5\u001b[0m \u001b[0;31m#median_date = statistics.median(list_of_dates)\u001b[0m\u001b[0;34m\u001b[0m\u001b[0;34m\u001b[0m\u001b[0m\n\u001b[0;32m----> 6\u001b[0;31m \u001b[0mmedian_dates\u001b[0m \u001b[0;34m=\u001b[0m \u001b[0mstatistics\u001b[0m\u001b[0;34m.\u001b[0m\u001b[0mmedian\u001b[0m\u001b[0;34m(\u001b[0m\u001b[0mdates\u001b[0m\u001b[0;34m)\u001b[0m\u001b[0;34m\u001b[0m\u001b[0;34m\u001b[0m\u001b[0m\n\u001b[0m\u001b[1;32m      7\u001b[0m \u001b[0;31m#display(median_date)\u001b[0m\u001b[0;34m\u001b[0m\u001b[0;34m\u001b[0m\u001b[0m\n\u001b[1;32m      8\u001b[0m \u001b[0mdisplay\u001b[0m\u001b[0;34m(\u001b[0m\u001b[0mmedian_dates\u001b[0m\u001b[0;34m)\u001b[0m\u001b[0;34m\u001b[0m\u001b[0;34m\u001b[0m\u001b[0m\n",
      "\u001b[0;32m~/opt/anaconda3/lib/python3.9/statistics.py\u001b[0m in \u001b[0;36mmedian\u001b[0;34m(data)\u001b[0m\n\u001b[1;32m    433\u001b[0m     \u001b[0;32melse\u001b[0m\u001b[0;34m:\u001b[0m\u001b[0;34m\u001b[0m\u001b[0;34m\u001b[0m\u001b[0m\n\u001b[1;32m    434\u001b[0m         \u001b[0mi\u001b[0m \u001b[0;34m=\u001b[0m \u001b[0mn\u001b[0m \u001b[0;34m//\u001b[0m \u001b[0;36m2\u001b[0m\u001b[0;34m\u001b[0m\u001b[0;34m\u001b[0m\u001b[0m\n\u001b[0;32m--> 435\u001b[0;31m         \u001b[0;32mreturn\u001b[0m \u001b[0;34m(\u001b[0m\u001b[0mdata\u001b[0m\u001b[0;34m[\u001b[0m\u001b[0mi\u001b[0m \u001b[0;34m-\u001b[0m \u001b[0;36m1\u001b[0m\u001b[0;34m]\u001b[0m \u001b[0;34m+\u001b[0m \u001b[0mdata\u001b[0m\u001b[0;34m[\u001b[0m\u001b[0mi\u001b[0m\u001b[0;34m]\u001b[0m\u001b[0;34m)\u001b[0m \u001b[0;34m/\u001b[0m \u001b[0;36m2\u001b[0m\u001b[0;34m\u001b[0m\u001b[0;34m\u001b[0m\u001b[0m\n\u001b[0m\u001b[1;32m    436\u001b[0m \u001b[0;34m\u001b[0m\u001b[0m\n\u001b[1;32m    437\u001b[0m \u001b[0;34m\u001b[0m\u001b[0m\n",
      "\u001b[0;31mTypeError\u001b[0m: unsupported operand type(s) for +: 'Timestamp' and 'Timestamp'"
     ]
    }
   ],
   "source": [
    "list_of_dates = activitydf.loc[dti[1] : dti[2]].index.tolist()\n",
    "#print(list_of_dates)\n",
    "dates = extract_activity_from_subjective_day(dti, 3, 4, 'Monitor 1 Spider 1').index.tolist()\n",
    "#print(dates)\n",
    "#median_date = statistics.median(list_of_dates)\n",
    "median_dates = statistics.median(dates)\n",
    "#display(median_date)\n",
    "display(median_dates)"
   ]
  },
  {
   "cell_type": "code",
   "execution_count": null,
   "id": "e40df6ba",
   "metadata": {},
   "outputs": [],
   "source": []
  }
 ],
 "metadata": {
  "kernelspec": {
   "display_name": "Python 3 (ipykernel)",
   "language": "python",
   "name": "python3"
  },
  "language_info": {
   "codemirror_mode": {
    "name": "ipython",
    "version": 3
   },
   "file_extension": ".py",
   "mimetype": "text/x-python",
   "name": "python",
   "nbconvert_exporter": "python",
   "pygments_lexer": "ipython3",
   "version": "3.9.7"
  }
 },
 "nbformat": 4,
 "nbformat_minor": 5
}
