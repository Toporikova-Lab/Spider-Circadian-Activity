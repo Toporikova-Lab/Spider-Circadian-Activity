{
 "cells": [
  {
   "cell_type": "code",
   "execution_count": 3,
   "id": "42947a49-95f2-4bef-9983-20211bd1a53c",
   "metadata": {},
   "outputs": [],
   "source": [
    "import CosinorPy\n"
   ]
  },
  {
   "cell_type": "code",
   "execution_count": null,
   "id": "05a5a4fb-6fb0-440a-99ea-b315b572e2d9",
   "metadata": {},
   "outputs": [],
   "source": []
  },
  {
   "cell_type": "code",
   "execution_count": null,
   "id": "b6a2a666-47c5-434b-9438-4a9c759eb672",
   "metadata": {},
   "outputs": [],
   "source": []
  }
 ],
 "metadata": {
  "kernelspec": {
   "display_name": "anaconda-panel-2023.05-py310",
   "language": "python",
   "name": "conda-env-anaconda-panel-2023.05-py310-py"
  },
  "language_info": {
   "codemirror_mode": {
    "name": "ipython",
    "version": 3
   },
   "file_extension": ".py",
   "mimetype": "text/x-python",
   "name": "python",
   "nbconvert_exporter": "python",
   "pygments_lexer": "ipython3",
   "version": "3.11.5"
  }
 },
 "nbformat": 4,
 "nbformat_minor": 5
}
