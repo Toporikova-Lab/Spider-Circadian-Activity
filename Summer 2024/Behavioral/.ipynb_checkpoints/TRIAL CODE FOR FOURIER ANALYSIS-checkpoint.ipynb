{
 "cells": [
  {
   "cell_type": "code",
   "execution_count": 29,
   "id": "db787242",
   "metadata": {},
   "outputs": [],
   "source": [
    "\"\"\"\n",
    "Reads a txt file from the DAM3 Program and returns an organized CSV file.\n",
    "\n",
    "\"\"\"\n",
    "\n",
    "\n",
    "import numpy as np\n",
    "import pandas as pd\n",
    "import os\n",
    "\n",
    "folderPath = 'Data'\n",
    "fileName = 'StB LD-DD 0108-0118-2024.txt'\n",
    "filePath = os.path.join(folderPath, fileName)\n",
    "\n",
    "#Reads a text file\n",
    "df = pd.read_csv(filePath, delimiter = \"\\t\", header = None)\n",
    "\n",
    "#Headers for the columns are assigned\n",
    "colHeaders = {0:\"Index\", 1:\"Date\", 2:\"Time\", 3:\"Monitor Status\", 4:\"Extra Readings Count\", 5:\"Monitor Number\", 6:\"Tube Number\", 7:\"Data Type\", 8:\"Unused\", 9:\"Light Sensor\"}\n",
    "\n",
    "#This section of code assigns each spider a specfific call code in the format \"SP{number}\"\n",
    "count = len(colHeaders)\n",
    "for i in range(1, (len(df.columns)-len(colHeaders))+1):\n",
    "    colHeaders[count] = \"SP\" + str(i)\n",
    "    count = count + 1\n",
    "\n",
    "#This section of code assigns the index as the leftmost column\n",
    "df.rename(columns = colHeaders, inplace = True)\n",
    "df.set_index(\"Index\", inplace = True)\n",
    "\n",
    "#Filters out the invalid monitor status data\n",
    "df = df[df[\"Monitor Status\"] < 50]\n",
    "spiders = []\n",
    "for i in range(1, 33):\n",
    "    if df[f\"SP{i}\"].sum() > 0:\n",
    "        spiders.append(i)\n",
    "    if not i in spiders:\n",
    "        df = df.drop([f\"SP{i}\"], axis=1)\n",
    "df.to_csv(\"StB LD-DD 0108-0118-2024 Filtered.csv\")\n"
   ]
  },
  {
   "cell_type": "code",
   "execution_count": 31,
   "id": "e5e9861c",
   "metadata": {},
   "outputs": [],
   "source": [
    "\"\"\"\n",
    "Alters the DataFrame/csv to only include spider data, date, time, and index\n",
    "\"\"\"\n",
    "import numpy as np\n",
    "import pandas as pd\n",
    "\n",
    "def spiderDataSimplifier(fileName:str, resultingCsvFileName:str):\n",
    "    df = pd.read_csv(fileName, index_col = 0)\n",
    "    df_copy = df\n",
    "    df_copy = df_copy.drop(columns = [\"Monitor Status\", \"Extra Readings Count\", \"Monitor Number\", \"Tube Number\", \"Data Type\", \"Unused\", \"Light Sensor\"])\n",
    "    df_copy.to_csv(resultingCsvFileName)\n",
    "spiderDataSimplifier(\"StB LD-DD 0108-0118-2024 Filtered.csv\", \"STE B Group LD and DD Dropped Columns Jan 18_Feb 1.csv\")\n"
   ]
  },
  {
   "cell_type": "code",
   "execution_count": null,
   "id": "0590d493",
   "metadata": {},
   "outputs": [],
   "source": []
  },
  {
   "cell_type": "code",
   "execution_count": null,
   "id": "e63f6d1e",
   "metadata": {},
   "outputs": [],
   "source": []
  },
  {
   "cell_type": "code",
   "execution_count": 40,
   "id": "37f2768c",
   "metadata": {
    "scrolled": true
   },
   "outputs": [
    {
     "name": "stderr",
     "output_type": "stream",
     "text": [
      "/tmp/ipykernel_133/228175048.py:17: SettingWithCopyWarning: \n",
      "A value is trying to be set on a copy of a slice from a DataFrame.\n",
      "Try using .loc[row_indexer,col_indexer] = value instead\n",
      "\n",
      "See the caveats in the documentation: https://pandas.pydata.org/pandas-docs/stable/user_guide/indexing.html#returning-a-view-versus-a-copy\n",
      "  df_copy[\"Time1\"] = df_copy[\"Time\"]\n",
      "/tmp/ipykernel_133/228175048.py:18: UserWarning: Could not infer format, so each element will be parsed individually, falling back to `dateutil`. To ensure parsing is consistent and as-expected, please specify a format.\n",
      "  df_copy[\"Time\"] = pd.to_datetime(df_copy[\"Date\"] + \" \" + df_copy[\"Time\"])\n",
      "/tmp/ipykernel_133/228175048.py:18: SettingWithCopyWarning: \n",
      "A value is trying to be set on a copy of a slice from a DataFrame.\n",
      "Try using .loc[row_indexer,col_indexer] = value instead\n",
      "\n",
      "See the caveats in the documentation: https://pandas.pydata.org/pandas-docs/stable/user_guide/indexing.html#returning-a-view-versus-a-copy\n",
      "  df_copy[\"Time\"] = pd.to_datetime(df_copy[\"Date\"] + \" \" + df_copy[\"Time\"])\n",
      "/tmp/ipykernel_133/228175048.py:24: UserWarning: Could not infer format, so each element will be parsed individually, falling back to `dateutil`. To ensure parsing is consistent and as-expected, please specify a format.\n",
      "  df_copy[\"Time1\"] = pd.to_datetime(df_copy[\"Time1\"])\n"
     ]
    },
    {
     "name": "stdout",
     "output_type": "stream",
     "text": [
      "     Hour                Time  SP17  SP15\n",
      "Day                                      \n",
      "1       1 2024-01-08 12:00:00    11     9\n",
      "1       1 2024-01-08 12:01:00     1     0\n",
      "1       1 2024-01-08 12:02:00     0     7\n",
      "1       1 2024-01-08 12:03:00     2     0\n",
      "1       1 2024-01-08 12:04:00     2     2\n",
      "..    ...                 ...   ...   ...\n",
      "11      2 2024-01-18 13:06:00     0     0\n",
      "11      2 2024-01-18 13:07:00     0     0\n",
      "11      2 2024-01-18 13:08:00     0     0\n",
      "11      2 2024-01-18 13:09:00     0     0\n",
      "11      2 2024-01-18 13:10:00     0     0\n",
      "\n",
      "[14471 rows x 4 columns]\n"
     ]
    },
    {
     "name": "stderr",
     "output_type": "stream",
     "text": [
      "/tmp/ipykernel_133/228175048.py:24: SettingWithCopyWarning: \n",
      "A value is trying to be set on a copy of a slice from a DataFrame.\n",
      "Try using .loc[row_indexer,col_indexer] = value instead\n",
      "\n",
      "See the caveats in the documentation: https://pandas.pydata.org/pandas-docs/stable/user_guide/indexing.html#returning-a-view-versus-a-copy\n",
      "  df_copy[\"Time1\"] = pd.to_datetime(df_copy[\"Time1\"])\n"
     ]
    }
   ],
   "source": [
    "\"\"\"\n",
    "Graphs the data of SP 17 in our dataset in the Individual Period Analysis\n",
    "\n",
    "\"\"\"\n",
    "#First, let's make a dataframe based off of days \n",
    "import pandas as pd\n",
    "import numpy as np\n",
    "import matplotlib.pyplot as plt\n",
    "import seaborn as sns\n",
    "import scipy.fft\n",
    "import datetime\n",
    "sns.set()\n",
    "\n",
    "df = pd.read_csv(\"STE B Group LD and DD Dropped Columns Jan 18_Feb 1.csv\")\n",
    "df_copy = df.copy()\n",
    "df_copy= df[[\"Date\", \"Time\", \"SP17\", \"SP15\"]]\n",
    "df_copy[\"Time1\"] = df_copy[\"Time\"]\n",
    "df_copy[\"Time\"] = pd.to_datetime(df_copy[\"Date\"] + \" \" + df_copy[\"Time\"])\n",
    "\n",
    "dayDict = {day: i+1 for i, day in enumerate(df_copy[\"Time\"].dt.day.unique())}\n",
    "df_copy.insert(0, 'Day', df_copy['Time'].dt.day.map(dayDict))\n",
    "\n",
    "#Time converter\n",
    "df_copy[\"Time1\"] = pd.to_datetime(df_copy[\"Time1\"])\n",
    "\n",
    "hourDict = {hour: i+1 for i, hour in enumerate(df_copy[\"Time1\"].dt.hour.unique())}\n",
    "df_copy.insert(1, 'Hour', df_copy['Time1'].dt.hour.map(hourDict))\n",
    "\n",
    "df_copy = df_copy.drop([\"Time1\", \"Date\"], axis = 1)\n",
    "    \n",
    "df_copy.set_index(\"Day\", inplace = True)\n",
    "print(df_copy)\n",
    "\n",
    "df_copy.to_csv(\"STE B Group SP17 LD and DD Dropped Columns Jan 18_Feb 1.csv\")\n"
   ]
  },
  {
   "cell_type": "code",
   "execution_count": 57,
   "id": "934f7e02",
   "metadata": {},
   "outputs": [
    {
     "name": "stdout",
     "output_type": "stream",
     "text": [
      "      Day  Hour  SP17  SP15\n",
      "0       1     1    11     9\n",
      "1       1     1     1     0\n",
      "2       1     1     0     7\n",
      "3       1     1     2     0\n",
      "4       1     1     2     2\n",
      "...   ...   ...   ...   ...\n",
      "9355    7    12     0     0\n",
      "9356    7    12     0    10\n",
      "9357    7    12     0     9\n",
      "9358    7    12     0     0\n",
      "9359    7    12     0     0\n",
      "\n",
      "[9360 rows x 4 columns]\n",
      "Peak Frequency: 0.08333333333333333 cycles per hour\n",
      "Dominant Period: 12.0 hours\n"
     ]
    },
    {
     "name": "stderr",
     "output_type": "stream",
     "text": [
      "/opt/conda/envs/anaconda-panel-2023.05-py310/lib/python3.11/site-packages/matplotlib/cbook/__init__.py:1340: ComplexWarning: Casting complex values to real discards the imaginary part\n",
      "  return np.asarray(x, float)\n"
     ]
    },
    {
     "data": {
      "image/png": "[encoded data removed]",
      "text/plain": [
       "<Figure size 640x480 with 1 Axes>"
      ]
     },
     "metadata": {},
     "output_type": "display_data"
    }
   ],
   "source": [
    "import pandas as pd\n",
    "import numpy as np\n",
    "import matplotlib.pyplot as plt\n",
    "import seaborn as sns\n",
    "from scipy.fft import fft, ifft, rfft, rfftfreq\n",
    "sns.set()\n",
    "\"\"\"\n",
    "For SP17 LD StB Jan 18-Feb 1 data period approximation using Fourier Transform\n",
    "\"\"\"\n",
    "df = pd.read_csv(\"STE B Group SP17 LD and DD Dropped Columns Jan 18_Feb 1.csv\")\n",
    "df = df.drop([\"Time\"], axis = 1)\n",
    "\n",
    "df_ld = df[df[\"Day\"] <= 7] \n",
    "\n",
    "df.set_index(\"Day\", inplace = True)\n",
    "\n",
    "print(df_ld)\n",
    "\n",
    "#df_ld = df_ld.drop([\"Day\"], axis = 1)\n",
    "#df_ld.set_index(\"Hour\", inplace = True)\n",
    "\n",
    "\n",
    "#df_dd = df_dd[df_dd[\"Day\"] > 1]\n",
    "#df_dd = df_dd.drop([\"Day\"], axis = 1)\n",
    "#df_dd.set_index(\"Hour\", inplace = True)\n",
    "\n",
    "#plt.bar(df_ld[\"Hour\"], height=df_ld[\"SP17\"])\n",
    "#plt.show()\n",
    "df_ld = df_ld.reset_index()\n",
    "df_ld = df_ld.drop([\"index\"], axis = 1)\n",
    "df_ld = df_ld.groupby(['Hour']).sum()\n",
    "\n",
    "sp17 = np.array(df_ld[\"SP17\"])\n",
    "rfftResult = rfft(sp17)\n",
    "plt.plot(rfftResult)\n",
    "\n",
    "# Perform Real Fourier Transform\n",
    "N = len(sp17)  # Number of sample points\n",
    "T = 1.0   # Sample spacing (1 Hour)\n",
    "rfftResult = rfft(sp17)\n",
    "xf = rfftfreq(N, T)  # Frequency bins for RFFT\n",
    "\n",
    "plt.plot(rfftResult)\n",
    "\n",
    "# Identify the peak frequency\n",
    "idx_peak = np.argmax(np.abs(rfftResult[1:])) + 1  # Index of peak frequency\n",
    "peak_frequency = xf[idx_peak]  # Peak frequency in cycles per hour\n",
    "dominant_period_hours = (1 / peak_frequency)# Period in hours\n",
    "\n",
    "print(f\"Peak Frequency: {peak_frequency} cycles per hour\")\n",
    "print(f\"Dominant Period: {dominant_period_hours} hours\")\n"
   ]
  },
  {
   "cell_type": "code",
   "execution_count": 59,
   "id": "63efa1e1",
   "metadata": {},
   "outputs": [
    {
     "name": "stderr",
     "output_type": "stream",
     "text": [
      "/opt/conda/envs/anaconda-panel-2023.05-py310/lib/python3.11/site-packages/matplotlib/cbook/__init__.py:1340: ComplexWarning: Casting complex values to real discards the imaginary part\n",
      "  return np.asarray(x, float)\n"
     ]
    },
    {
     "name": "stdout",
     "output_type": "stream",
     "text": [
      "[2424.           +0.j         -185.94842633  +13.89865489j\n",
      " -445.21778265 -357.03193978j   56.62027432-1012.80822459j\n",
      "  109.          -57.15767665j -665.66228386 -286.64661907j\n",
      "   74.         +352.j         -445.9388753  +266.58285435j\n",
      " -729.          +25.98076211j  291.37972568 +215.19177541j\n",
      "  767.21778265 +457.03193978j  -28.45041451 +466.66918147j\n",
      "  244.           +0.j        ]\n",
      "Peak Frequency: 0.125 cycles per hour\n",
      "Dominant Period: 8.0 hours\n"
     ]
    },
    {
     "data": {
      "image/png": "[encoded data removed]",
      "text/plain": [
       "<Figure size 640x480 with 1 Axes>"
      ]
     },
     "metadata": {},
     "output_type": "display_data"
    }
   ],
   "source": [
    "import pandas as pd\n",
    "import numpy as np\n",
    "import matplotlib.pyplot as plt\n",
    "import seaborn as sns\n",
    "from scipy.fft import fft, ifft, rfft, fftfreq\n",
    "sns.set()\n",
    "\"\"\"\n",
    "StB Jan 18 - Feb 1, SP17 dd cycle period approximation using Fourier Transform\n",
    "\"\"\"\n",
    "df = pd.read_csv(\"STE B Group SP17 LD and DD Dropped Columns Jan 18_Feb 1.csv\")\n",
    "df = df.drop([\"Time\"], axis = 1)\n",
    "\n",
    "df_dd = df[df[\"Day\"] >= 8]\n",
    "df.set_index(\"Day\", inplace = True)\n",
    "\n",
    "\n",
    "\n",
    "#df_dd = df_dd[df_dd[\"Day\"] > 8]\n",
    "\n",
    "df_dd = df_dd.reset_index()\n",
    "df_dd = df_dd.drop([\"index\"], axis = 1)\n",
    "df_dd = df_dd.groupby(['Hour']).sum()\n",
    "\n",
    "sp17 = np.array(df_dd[\"SP17\"])\n",
    "rfftResult = rfft(sp17)\n",
    "plt.plot(rfftResult)\n",
    "\n",
    "# Perform Real Fourier Transform\n",
    "N = len(sp17)  # Number of sample points\n",
    "T = 1.0   # Sample spacing (1 Hour)\n",
    "rfftResult = rfft(sp17)\n",
    "xf = rfftfreq(N, T)  # Frequency bins for RFFT\n",
    "\n",
    "print(rfftResult)\n",
    "# Identify the peak frequency\n",
    "idx_peak = np.argmax(np.abs(rfftResult[1:])) + 1  # Index of peak frequency\n",
    "peak_frequency = xf[idx_peak]  # Peak frequency in cycles per hour\n",
    "period = (1 / peak_frequency) # Period in hours\n",
    "\n",
    "print(f\"Peak Frequency: {peak_frequency} cycles per hour\")\n",
    "print(f\"Dominant Period: {period} hours\")"
   ]
  },
  {
   "cell_type": "code",
   "execution_count": 100,
   "id": "36629ad3",
   "metadata": {},
   "outputs": [
    {
     "name": "stdout",
     "output_type": "stream",
     "text": [
      "The dominant period is 6.00 hours\n"
     ]
    }
   ],
   "source": [
    "import pandas as pd\n",
    "import numpy as np\n",
    "import matplotlib.pyplot as plt\n",
    "import seaborn as sns\n",
    "from scipy.fft import fft, ifft, rfft, fftfreq\n",
    "sns.set()\n",
    "\n",
    "df = pd.read_csv(\"STE A Group SP17 LD and DD Dropped Columns Jan 18_Feb 1.csv\")\n",
    "df = df.drop([\"Time\"], axis = 1)\n",
    "\n",
    "df_dd = df[df[\"Day\"] >= 8]\n",
    "df.set_index(\"Day\", inplace = True)\n",
    "\n",
    "\n",
    "\n",
    "#df_dd = df_dd[df_dd[\"Day\"] > 8]\n",
    "\n",
    "df_dd = df_dd.reset_index()\n",
    "df_dd = df_dd.drop([\"index\"], axis = 1)\n",
    "\n",
    "sinList = []\n",
    "amplitude = []\n",
    "hour = df_dd[\"Hour\"][0]\n",
    "for i in range(df_dd.shape[0]):\n",
    "    if hour != df_dd[\"Hour\"][i]:\n",
    "        hour = df_dd[\"Hour\"][i]\n",
    "        aCopy = amplitude.copy()\n",
    "        sinList.append(sum(aCopy)/len(aCopy) * np.sin(2*np.pi*hour/24))\n",
    "        amplitude.clear()\n",
    "        \n",
    "    amplitude.append(df_dd[\"SP17\"][i])\n",
    "    \n",
    "\n",
    "# Compute rfft\n",
    "fft_vals = np.fft.rfft(sinList)\n",
    "\n",
    "# Get frequencies\n",
    "n = len(sinList)\n",
    "freqs = rfftfreq(n, d=1/n)  # d is the sample spacing\n",
    "\n",
    "# Find dominant frequency index \n",
    "dominant_freq_idx = np.argmax(np.abs(fft_vals[1:])) + 1  # Skip DC\n",
    "\n",
    "# Get period in hours\n",
    "period_hours = (1 / freqs[dominant_freq_idx]) * 24\n",
    "\n",
    "print(f\"The dominant period is {period_hours:.2f} hours\")"
   ]
  },
  {
   "cell_type": "code",
   "execution_count": null,
   "id": "794cf656",
   "metadata": {},
   "outputs": [],
   "source": []
  }
 ],
 "metadata": {
  "kernelspec": {
   "display_name": "anaconda-panel-2023.05-py310",
   "language": "python",
   "name": "conda-env-anaconda-panel-2023.05-py310-py"
  },
  "language_info": {
   "codemirror_mode": {
    "name": "ipython",
    "version": 3
   },
   "file_extension": ".py",
   "mimetype": "text/x-python",
   "name": "python",
   "nbconvert_exporter": "python",
   "pygments_lexer": "ipython3",
   "version": "3.11.5"
  }
 },
 "nbformat": 4,
 "nbformat_minor": 5
}
