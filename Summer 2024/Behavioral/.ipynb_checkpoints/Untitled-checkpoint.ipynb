{
 "cells": [
  {
   "cell_type": "code",
   "execution_count": 16,
   "id": "fcc1a182-2bf6-4cbc-aef4-68ade20b83ea",
   "metadata": {},
   "outputs": [
    {
     "ename": "ModuleNotFoundError",
     "evalue": "No module named 'jdcal'",
     "output_type": "error",
     "traceback": [
      "\u001b[0;31m---------------------------------------------------------------------------\u001b[0m",
      "\u001b[0;31mModuleNotFoundError\u001b[0m                       Traceback (most recent call last)",
      "Cell \u001b[0;32mIn[16], line 7\u001b[0m\n\u001b[1;32m      5\u001b[0m \u001b[38;5;28;01mfrom\u001b[39;00m \u001b[38;5;21;01mscipy\u001b[39;00m\u001b[38;5;21;01m.\u001b[39;00m\u001b[38;5;21;01mfft\u001b[39;00m \u001b[38;5;28;01mimport\u001b[39;00m fft, ifft, rfft, fftfreq, fft2\n\u001b[1;32m      6\u001b[0m \u001b[38;5;28;01mimport\u001b[39;00m \u001b[38;5;21;01mdatetime\u001b[39;00m\n\u001b[0;32m----> 7\u001b[0m \u001b[38;5;28;01mfrom\u001b[39;00m \u001b[38;5;21;01mjdcal\u001b[39;00m \u001b[38;5;28;01mimport\u001b[39;00m gcal2jd\n\u001b[1;32m      8\u001b[0m sns\u001b[38;5;241m.\u001b[39mset()\n\u001b[1;32m     10\u001b[0m df \u001b[38;5;241m=\u001b[39m pd\u001b[38;5;241m.\u001b[39mread_csv(\u001b[38;5;124m\"\u001b[39m\u001b[38;5;124mSTE A Group SP17 SP16 SP15 LD and DD Dropped Columns Jan 18_Feb 1.csv\u001b[39m\u001b[38;5;124m\"\u001b[39m)\n",
      "\u001b[0;31mModuleNotFoundError\u001b[0m: No module named 'jdcal'"
     ]
    }
   ],
   "source": [
    "import pandas as pd\n",
    "import numpy as np\n",
    "import matplotlib.pyplot as plt\n",
    "import seaborn as sns\n",
    "from scipy.fft import fft, ifft, rfft, fftfreq, fft2\n",
    "import datetime\n",
    "from jdcal import gcal2jd\n",
    "sns.set()\n",
    "\n",
    "df = pd.read_csv(\"STE A Group SP17 SP16 SP15 LD and DD Dropped Columns Jan 18_Feb 1.csv\")\n",
    "\n",
    "df_dd = df[df[\"Day\"] >= 8]\n",
    "df_ld = df[df[\"Day\"] < 8]\n",
    "df.set_index(\"Day\", inplace = True)\n",
    "display(df)\n",
    "\n",
    "\n",
    "#df_dd = df_dd[df_dd[\"Day\"] > 8]\n",
    "\n",
    "df_dd = df_dd.reset_index()\n",
    "df_dd = df_dd.drop([\"index\"], axis = 1)\n",
    "df_ld = df_ld.reset_index()\n",
    "df_ld = df_ld.drop([\"index\"], axis = 1)\n",
    "\n",
    "def datetime_to_jd(dt):\n",
    "    year, month, day = dt.year, dt.month, dt.day\n",
    "    hour, minute, second = dt.hour, dt.minute, dt.second\n",
    "    _, jd = gcal2jd(year, month, day)\n",
    "    jd += (hour + minute / 60 + second / 3600) / 24\n",
    "    return jd\n",
    "\n",
    "#df_dd = df_dd[\"Time\"].apply()\n",
    "df_ld[\"Time\"] = pd.to_datetime(df_ld[\"Time\"])\n",
    "time = df_ld[\"Time\"].apply(datetime_to_jd)\n",
    "data = df_dd[\"SP17\"]\n",
    "data1 = df_ld[\"SP17\"]\n",
    "# Compute rfft\n",
    "fft_vals = np.fft.rfft(data)\n",
    "fft1 = np.fft.rfft(data1)\n",
    "\n",
    "# Get frequencies\n",
    "n = len(data)\n",
    "freqs = rfftfreq(n, 1)  # d is the sample spacing\n",
    "\n",
    "n1 = len(data1)\n",
    "freqs1 = rfftfreq(n1, 1)\n",
    "\n",
    "# Find dominant frequency index \n",
    "dominant_freq_idx1 = np.argmax(np.abs(fft1[1:])) + 1  # Skip DC\n",
    "\n",
    "# Get period in hours\n",
    "period_hours1 = (1 / freqs1[dominant_freq_idx1])/60\n",
    "\n",
    "print(f\"The dominant period is {period_hours1:.2f} hours\")\n",
    "\n",
    "# Find dominant frequency index \n",
    "dominant_freq_idx = np.argmax(np.abs(fft_vals[1:])) + 1  # Skip DC\n",
    "\n",
    "# Get period in hours\n",
    "period_hours = (1 / freqs[dominant_freq_idx])/60\n",
    "\n",
    "print(f\"The dominant period is {period_hours:.2f} hours\")"
   ]
  },
  {
   "cell_type": "code",
   "execution_count": null,
   "id": "04c0e9a4-8c7f-4f39-9cf1-ef76de774d28",
   "metadata": {},
   "outputs": [],
   "source": []
  }
 ],
 "metadata": {
  "kernelspec": {
   "display_name": "anaconda-panel-2023.05-py310",
   "language": "python",
   "name": "conda-env-anaconda-panel-2023.05-py310-py"
  },
  "language_info": {
   "codemirror_mode": {
    "name": "ipython",
    "version": 3
   },
   "file_extension": ".py",
   "mimetype": "text/x-python",
   "name": "python",
   "nbconvert_exporter": "python",
   "pygments_lexer": "ipython3",
   "version": "3.11.5"
  }
 },
 "nbformat": 4,
 "nbformat_minor": 5
}
