{
 "cells": [
  {
   "cell_type": "code",
   "execution_count": 1,
   "id": "3b459e10-23a6-442d-bea6-49c458f052f4",
   "metadata": {},
   "outputs": [],
   "source": [
    "#t-test code"
   ]
  },
  {
   "cell_type": "code",
   "execution_count": null,
   "id": "72ea3514-631a-4715-b9ed-839f92e9b60f",
   "metadata": {},
   "outputs": [],
   "source": []
  },
  {
   "cell_type": "code",
   "execution_count": null,
   "id": "9f50ec24-a754-427e-833f-5684f8807df3",
   "metadata": {},
   "outputs": [],
   "source": []
  }
 ],
 "metadata": {
  "kernelspec": {
   "display_name": "anaconda-2024.02-py310",
   "language": "python",
   "name": "conda-env-anaconda-2024.02-py310-py"
  },
  "language_info": {
   "codemirror_mode": {
    "name": "ipython",
    "version": 3
   },
   "file_extension": ".py",
   "mimetype": "text/x-python",
   "name": "python",
   "nbconvert_exporter": "python",
   "pygments_lexer": "ipython3",
   "version": "3.10.14"
  }
 },
 "nbformat": 4,
 "nbformat_minor": 5
}
