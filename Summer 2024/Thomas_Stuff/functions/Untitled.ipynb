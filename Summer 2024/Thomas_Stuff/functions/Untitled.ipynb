{
 "cells": [
  {
   "cell_type": "code",
   "execution_count": 7,
   "id": "ab2d921f-e99d-454b-b2b6-61f4fc705ad1",
   "metadata": {},
   "outputs": [],
   "source": [
    "import plots\n",
    "import processing\n",
    "import circadian_model"
   ]
  },
  {
   "cell_type": "code",
   "execution_count": null,
   "id": "de03ed27-5927-4c61-8a24-81eb2f068f03",
   "metadata": {},
   "outputs": [],
   "source": [
    "circadian_model"
   ]
  }
 ],
 "metadata": {
  "kernelspec": {
   "display_name": "anaconda-panel-2023.05-py310",
   "language": "python",
   "name": "conda-env-anaconda-panel-2023.05-py310-py"
  },
  "language_info": {
   "codemirror_mode": {
    "name": "ipython",
    "version": 3
   },
   "file_extension": ".py",
   "mimetype": "text/x-python",
   "name": "python",
   "nbconvert_exporter": "python",
   "pygments_lexer": "ipython3",
   "version": "3.11.5"
  }
 },
 "nbformat": 4,
 "nbformat_minor": 5
}
