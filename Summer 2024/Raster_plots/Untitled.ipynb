{
 "cells": [
  {
   "cell_type": "code",
   "execution_count": 8,
   "id": "c3de11fb-9784-4fa5-97eb-5295d3da7041",
   "metadata": {},
   "outputs": [
    {
     "name": "stdout",
     "output_type": "stream",
     "text": [
      "Defaulting to user installation because normal site-packages is not writeable\n",
      "Looking in links: /usr/share/pip-wheels\n",
      "Requirement already satisfied: CosinorPy in /home/af34660a-87c9-4e82-9a65-44776fda5495/.local/lib/python3.10/site-packages (3.1)\n",
      "Requirement already satisfied: pandas in /opt/conda/envs/anaconda-ai-2024.04-py310/lib/python3.10/site-packages (from CosinorPy) (2.1.4)\n",
      "Requirement already satisfied: numpy in /opt/conda/envs/anaconda-ai-2024.04-py310/lib/python3.10/site-packages (from CosinorPy) (1.26.4)\n",
      "Requirement already satisfied: matplotlib in /opt/conda/envs/anaconda-ai-2024.04-py310/lib/python3.10/site-packages (from CosinorPy) (3.8.0)\n",
      "Requirement already satisfied: statsmodels in /opt/conda/envs/anaconda-ai-2024.04-py310/lib/python3.10/site-packages (from CosinorPy) (0.14.0)\n",
      "Requirement already satisfied: scipy in /opt/conda/envs/anaconda-ai-2024.04-py310/lib/python3.10/site-packages (from CosinorPy) (1.12.0)\n",
      "Requirement already satisfied: openpyxl in /opt/conda/envs/anaconda-ai-2024.04-py310/lib/python3.10/site-packages (from CosinorPy) (3.0.10)\n",
      "Requirement already satisfied: scikit-optimize in /home/af34660a-87c9-4e82-9a65-44776fda5495/.local/lib/python3.10/site-packages (from CosinorPy) (0.10.1)\n",
      "Requirement already satisfied: contourpy>=1.0.1 in /opt/conda/envs/anaconda-ai-2024.04-py310/lib/python3.10/site-packages (from matplotlib->CosinorPy) (1.2.0)\n",
      "Requirement already satisfied: cycler>=0.10 in /opt/conda/envs/anaconda-ai-2024.04-py310/lib/python3.10/site-packages (from matplotlib->CosinorPy) (0.11.0)\n",
      "Requirement already satisfied: fonttools>=4.22.0 in /opt/conda/envs/anaconda-ai-2024.04-py310/lib/python3.10/site-packages (from matplotlib->CosinorPy) (4.25.0)\n",
      "Requirement already satisfied: kiwisolver>=1.0.1 in /opt/conda/envs/anaconda-ai-2024.04-py310/lib/python3.10/site-packages (from matplotlib->CosinorPy) (1.4.4)\n",
      "Requirement already satisfied: packaging>=20.0 in /opt/conda/envs/anaconda-ai-2024.04-py310/lib/python3.10/site-packages (from matplotlib->CosinorPy) (23.2)\n",
      "Requirement already satisfied: pillow>=6.2.0 in /opt/conda/envs/anaconda-ai-2024.04-py310/lib/python3.10/site-packages (from matplotlib->CosinorPy) (10.2.0)\n",
      "Requirement already satisfied: pyparsing>=2.3.1 in /opt/conda/envs/anaconda-ai-2024.04-py310/lib/python3.10/site-packages (from matplotlib->CosinorPy) (3.0.9)\n",
      "Requirement already satisfied: python-dateutil>=2.7 in /opt/conda/envs/anaconda-ai-2024.04-py310/lib/python3.10/site-packages (from matplotlib->CosinorPy) (2.8.2)\n",
      "Requirement already satisfied: et_xmlfile in /opt/conda/envs/anaconda-ai-2024.04-py310/lib/python3.10/site-packages (from openpyxl->CosinorPy) (1.1.0)\n",
      "Requirement already satisfied: pytz>=2020.1 in /opt/conda/envs/anaconda-ai-2024.04-py310/lib/python3.10/site-packages (from pandas->CosinorPy) (2023.3.post1)\n",
      "Requirement already satisfied: tzdata>=2022.1 in /opt/conda/envs/anaconda-ai-2024.04-py310/lib/python3.10/site-packages (from pandas->CosinorPy) (2023.3)\n",
      "Requirement already satisfied: joblib>=0.11 in /opt/conda/envs/anaconda-ai-2024.04-py310/lib/python3.10/site-packages (from scikit-optimize->CosinorPy) (1.2.0)\n",
      "Requirement already satisfied: pyaml>=16.9 in /home/af34660a-87c9-4e82-9a65-44776fda5495/.local/lib/python3.10/site-packages (from scikit-optimize->CosinorPy) (24.4.0)\n",
      "Requirement already satisfied: scikit-learn>=1.0.0 in /opt/conda/envs/anaconda-ai-2024.04-py310/lib/python3.10/site-packages (from scikit-optimize->CosinorPy) (1.3.0)\n",
      "Requirement already satisfied: patsy>=0.5.2 in /opt/conda/envs/anaconda-ai-2024.04-py310/lib/python3.10/site-packages (from statsmodels->CosinorPy) (0.5.3)\n",
      "Requirement already satisfied: six in /opt/conda/envs/anaconda-ai-2024.04-py310/lib/python3.10/site-packages (from patsy>=0.5.2->statsmodels->CosinorPy) (1.16.0)\n",
      "Requirement already satisfied: PyYAML in /opt/conda/envs/anaconda-ai-2024.04-py310/lib/python3.10/site-packages (from pyaml>=16.9->scikit-optimize->CosinorPy) (6.0.1)\n",
      "Requirement already satisfied: threadpoolctl>=2.0.0 in /opt/conda/envs/anaconda-ai-2024.04-py310/lib/python3.10/site-packages (from scikit-learn>=1.0.0->scikit-optimize->CosinorPy) (2.2.0)\n",
      "Note: you may need to restart the kernel to use updated packages.\n"
     ]
    }
   ],
   "source": [
    "pip install CosinorPy"
   ]
  },
  {
   "cell_type": "code",
   "execution_count": 10,
   "id": "427e7521-15bf-4a08-b783-af9a510f98b3",
   "metadata": {},
   "outputs": [],
   "source": [
    "import CosinorPy"
   ]
  }
 ],
 "metadata": {
  "kernelspec": {
   "display_name": "anaconda-ai-2024.04-py310",
   "language": "python",
   "name": "conda-env-anaconda-ai-2024.04-py310-py"
  },
  "language_info": {
   "codemirror_mode": {
    "name": "ipython",
    "version": 3
   },
   "file_extension": ".py",
   "mimetype": "text/x-python",
   "name": "python",
   "nbconvert_exporter": "python",
   "pygments_lexer": "ipython3",
   "version": "3.10.13"
  }
 },
 "nbformat": 4,
 "nbformat_minor": 5
}
