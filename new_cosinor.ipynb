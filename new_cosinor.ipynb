{
 "cells": [
  {
   "cell_type": "code",
   "execution_count": null,
   "id": "e8492706-cff6-4771-9c55-3a280a036efa",
   "metadata": {},
   "outputs": [],
   "source": [
    "import pandas as pd \n",
    "import numpy as np \n",
    "import matplotlib.pyplot as plt\n",
    "import datetime\n",
    "import os\n",
    "from astropy.timeseries import LombScargle \n",
    "from jdcal import gcal2jd\n",
    "from CosinorPy import cosinor, cosinor1"
   ]
  },
  {
   "cell_type": "code",
   "execution_count": null,
   "id": "af543780-9d4b-40b3-be8c-15a42c22008d",
   "metadata": {},
   "outputs": [],
   "source": [
    "col_names = [\"Index\", \"DateD\", \"DateM\", \"DateY\", \"Time\", \"MonStatus\", \"Extras\", \"MonN\", \"TubeN\", \"DataType\", \"Unused\", \"Light\"]\n",
    "\n",
    "for i in range(1, 33):\n",
    "    col_names.append(f\"Sp{i}\")\n",
    "\n",
    "folder_path = 'Data'\n",
    "file_name = 'StA LD-DD 0118-0201-2024.txt'\n",
    "file_path = os.path.join(folder_path, file_name)\n",
    "\n",
    "df = pd.read_csv(file_path, names=col_names, sep='\\s+', header=None)\n",
    "df = df.set_index('Index')\n",
    "df['Time'] = pd.to_datetime(df['Time'], format='%H:%M:%S', errors='coerce')\n",
    "df = df[df[\"MonStatus\"] == 1]\n",
    "\n",
    "\n",
    "month_map = {'Jan': 1, 'Feb': 2, 'Mar': 3, 'Apr': 4, 'May': 5, 'Jun': 6, 'Jul': 7, 'Aug': 8, 'Sep': 9, 'Oct': 10, 'Nov': 11, 'Dec': 12}\n",
    "df['DateM'] = df['DateM'].str[:3].map(month_map)\n",
    "df['DateY'] = df['DateY'].apply(lambda x: int(str(20) + str(x)))\n",
    "df['Date'] = pd.to_datetime(dict(year=df['DateY'], month=df['DateM'], day=df['DateD']), errors='coerce')\n",
    "\n",
    "df['Time'] = pd.to_datetime(dict(year=df['Date'].dt.year,\n",
    "                                     month=df['Date'].dt.month,\n",
    "                                     day=df['Date'].dt.day,\n",
    "                                     hour=df['Time'].dt.hour,\n",
    "                                     minute=df['Time'].dt.minute,\n",
    "                                     second=df['Time'].dt.second))\n",
    "\n",
    "df = df.drop([\"DateD\", \"DateM\", \"DateY\", \"Date\", \"MonStatus\", \"Extras\", \"MonN\", \"TubeN\", \"DataType\", \"Unused\"], axis=1)\n",
    "\n",
    "day_map = {day: idx+1 for idx, day in enumerate(df['Time'].dt.day.unique())}\n",
    "\n",
    "df.insert(0, 'Day', df['Time'].dt.day.map(day_map))\n",
    "\n",
    "spiders = []\n",
    "\n",
    "for i in range(1, 33):\n",
    "    if df[f\"Sp{i}\"].sum() > 5:\n",
    "        spiders.append(i)\n",
    "    if not i in spiders:\n",
    "        df = df.drop([f\"Sp{i}\"], axis=1)\n",
    "\n",
    "\n",
    "group_name = file_name.split(' ', 2)[0]\n",
    "light_condition = file_name.split(' ', 2)[1]\n",
    "start_date = file_name.split(' ', 2)[2].split('-', 1)[0]\n",
    "\n",
    "path = group_name + \"_\" + light_condition + \"_\" + start_date\n",
    "\n",
    "two_lights = False\n",
    "if \"-\" in light_condition:\n",
    "    li_con_1, li_con_2 = light_condition.split('-', 1)\n",
    "    two_lights = True\n",
    "\n",
    "display(df)"
   ]
  }
 ],
 "metadata": {
  "kernelspec": {
   "display_name": "anaconda-2024.02-py310",
   "language": "python",
   "name": "conda-env-anaconda-2024.02-py310-py"
  },
  "language_info": {
   "codemirror_mode": {
    "name": "ipython",
    "version": 3
   },
   "file_extension": ".py",
   "mimetype": "text/x-python",
   "name": "python",
   "nbconvert_exporter": "python",
   "pygments_lexer": "ipython3",
   "version": "3.10.14"
  }
 },
 "nbformat": 4,
 "nbformat_minor": 5
}
