{
 "cells": [
  {
   "cell_type": "code",
   "execution_count": 1,
   "id": "9f8515a6",
   "metadata": {},
   "outputs": [],
   "source": [
    "import pandas as pd\n",
    "import warnings\n",
    "from pandas.core.common import SettingWithCopyWarning\n",
    "import matplotlib.pyplot as plt\n",
    "import seaborn as sns\n",
    "import numpy as np\n",
    "warnings.simplefilter(action=\"ignore\", category=SettingWithCopyWarning)\n",
    "from sklearn.preprocessing import StandardScaler\n",
    "from sklearn.decomposition import PCA"
   ]
  },
  {
   "cell_type": "markdown",
   "id": "4b641294",
   "metadata": {},
   "source": [
    "#### PICKING SPIDERS OF INTEREST: \n",
    "\n",
    "Below, we'll use several processes to decide which species we'll be conducting PCA on.\n"
   ]
  },
  {
   "cell_type": "markdown",
   "id": "21a61b2f",
   "metadata": {},
   "source": [
    "##### 1. Species with FRPs close to each other"
   ]
  },
  {
   "cell_type": "code",
   "execution_count": 2,
   "id": "3269c996",
   "metadata": {},
   "outputs": [],
   "source": [
    "def dec1(dfDD, dfLD):\n",
    "    \n",
    "    \"\"\"\n",
    "    dfDD: dataframe containing DD data\n",
    "    dfLD: dataframe containing LD data\n",
    "    \"\"\"\n",
    "    \n",
    "    dfDD = pd.read_csv(str(dfDD))\n",
    "    dfLD = pd.read_csv(str(dfLD))\n",
    "    \n",
    "    # join LD data with FRP data from DD dataframe\n",
    "    dfLD = dfLD.drop(columns = [\"LombSc period\"])\n",
    "    dfDDfrp = dfDD[[\"LombSc period\"]]\n",
    "    concat = pd.concat([dfLD, dfDDfrp], axis=1)\n",
    "    \n",
    "    #find average FRP for each specie \n",
    "    df = concat[[\"Specie Name\", \"LombSc period\"]]\n",
    "    global grp\n",
    "    grp = df.groupby(\"Specie Name\").mean()\n",
    "    display(grp)"
   ]
  },
  {
   "cell_type": "code",
   "execution_count": 3,
   "id": "f01d5ff5",
   "metadata": {},
   "outputs": [
    {
     "data": {
      "text/html": [
       "<div>\n",
       "<style scoped>\n",
       "    .dataframe tbody tr th:only-of-type {\n",
       "        vertical-align: middle;\n",
       "    }\n",
       "\n",
       "    .dataframe tbody tr th {\n",
       "        vertical-align: top;\n",
       "    }\n",
       "\n",
       "    .dataframe thead th {\n",
       "        text-align: right;\n",
       "    }\n",
       "</style>\n",
       "<table border=\"1\" class=\"dataframe\">\n",
       "  <thead>\n",
       "    <tr style=\"text-align: right;\">\n",
       "      <th></th>\n",
       "      <th>LombSc period</th>\n",
       "    </tr>\n",
       "    <tr>\n",
       "      <th>Specie Name</th>\n",
       "      <th></th>\n",
       "    </tr>\n",
       "  </thead>\n",
       "  <tbody>\n",
       "    <tr>\n",
       "      <th>Acanthapeira stellata</th>\n",
       "      <td>24.210593</td>\n",
       "    </tr>\n",
       "    <tr>\n",
       "      <th>Allocyclosa bifurca</th>\n",
       "      <td>18.155538</td>\n",
       "    </tr>\n",
       "    <tr>\n",
       "      <th>Anelosimus studiosus</th>\n",
       "      <td>22.843599</td>\n",
       "    </tr>\n",
       "    <tr>\n",
       "      <th>Argiope aurantia</th>\n",
       "      <td>20.313599</td>\n",
       "    </tr>\n",
       "    <tr>\n",
       "      <th>Centruroides vittatus</th>\n",
       "      <td>24.821237</td>\n",
       "    </tr>\n",
       "    <tr>\n",
       "      <th>Cyclosa turbinata</th>\n",
       "      <td>18.249326</td>\n",
       "    </tr>\n",
       "    <tr>\n",
       "      <th>Frontinella pyramitela</th>\n",
       "      <td>27.328255</td>\n",
       "    </tr>\n",
       "    <tr>\n",
       "      <th>Gasteracantha cancriformis</th>\n",
       "      <td>20.373121</td>\n",
       "    </tr>\n",
       "    <tr>\n",
       "      <th>Larinioides cornutus</th>\n",
       "      <td>24.122514</td>\n",
       "    </tr>\n",
       "    <tr>\n",
       "      <th>Latrodectus mactans</th>\n",
       "      <td>22.253067</td>\n",
       "    </tr>\n",
       "    <tr>\n",
       "      <th>Metazygia wittfeldae</th>\n",
       "      <td>21.493385</td>\n",
       "    </tr>\n",
       "    <tr>\n",
       "      <th>Metepeira labyrinthia</th>\n",
       "      <td>22.872619</td>\n",
       "    </tr>\n",
       "    <tr>\n",
       "      <th>Micrathena gracilis</th>\n",
       "      <td>22.136258</td>\n",
       "    </tr>\n",
       "    <tr>\n",
       "      <th>Micrathena mitrata</th>\n",
       "      <td>22.523399</td>\n",
       "    </tr>\n",
       "    <tr>\n",
       "      <th>Micropholcus fauroti</th>\n",
       "      <td>23.954130</td>\n",
       "    </tr>\n",
       "    <tr>\n",
       "      <th>Neoscona crucifera</th>\n",
       "      <td>22.842488</td>\n",
       "    </tr>\n",
       "    <tr>\n",
       "      <th>Parasteatoda tepidariorum</th>\n",
       "      <td>21.342948</td>\n",
       "    </tr>\n",
       "    <tr>\n",
       "      <th>Pholcus manueli</th>\n",
       "      <td>24.653045</td>\n",
       "    </tr>\n",
       "    <tr>\n",
       "      <th>Pholcus phalangioides</th>\n",
       "      <td>23.934028</td>\n",
       "    </tr>\n",
       "    <tr>\n",
       "      <th>Schizocosa ocreata</th>\n",
       "      <td>24.479415</td>\n",
       "    </tr>\n",
       "  </tbody>\n",
       "</table>\n",
       "</div>"
      ],
      "text/plain": [
       "                            LombSc period\n",
       "Specie Name                              \n",
       "Acanthapeira stellata           24.210593\n",
       "Allocyclosa bifurca             18.155538\n",
       "Anelosimus studiosus            22.843599\n",
       "Argiope aurantia                20.313599\n",
       "Centruroides vittatus           24.821237\n",
       "Cyclosa turbinata               18.249326\n",
       "Frontinella pyramitela          27.328255\n",
       "Gasteracantha cancriformis      20.373121\n",
       "Larinioides cornutus            24.122514\n",
       "Latrodectus mactans             22.253067\n",
       "Metazygia wittfeldae            21.493385\n",
       "Metepeira labyrinthia           22.872619\n",
       "Micrathena gracilis             22.136258\n",
       "Micrathena mitrata              22.523399\n",
       "Micropholcus fauroti            23.954130\n",
       "Neoscona crucifera              22.842488\n",
       "Parasteatoda tepidariorum       21.342948\n",
       "Pholcus manueli                 24.653045\n",
       "Pholcus phalangioides           23.934028\n",
       "Schizocosa ocreata              24.479415"
      ]
     },
     "metadata": {},
     "output_type": "display_data"
    }
   ],
   "source": [
    "dec1(\"all_spider_summary_DD.csv\", \"all_spider_summary_LD.csv\")"
   ]
  },
  {
   "cell_type": "markdown",
   "id": "5891fa58",
   "metadata": {},
   "source": [
    "###### Species with FRPs closest to 24 hours: M. fauroti, P. phalangioides, L. cornutus, P. manueli \n",
    "\n",
    "\n",
    "Dataframe preparation"
   ]
  },
  {
   "cell_type": "code",
   "execution_count": 4,
   "id": "adba17fc",
   "metadata": {},
   "outputs": [
    {
     "data": {
      "text/html": [
       "<div>\n",
       "<style scoped>\n",
       "    .dataframe tbody tr th:only-of-type {\n",
       "        vertical-align: middle;\n",
       "    }\n",
       "\n",
       "    .dataframe tbody tr th {\n",
       "        vertical-align: top;\n",
       "    }\n",
       "\n",
       "    .dataframe thead th {\n",
       "        text-align: right;\n",
       "    }\n",
       "</style>\n",
       "<table border=\"1\" class=\"dataframe\">\n",
       "  <thead>\n",
       "    <tr style=\"text-align: right;\">\n",
       "      <th></th>\n",
       "      <th>Specie Name</th>\n",
       "      <th>Spider ID</th>\n",
       "      <th>DiNoc ratio</th>\n",
       "      <th>LombSc period</th>\n",
       "      <th>Family</th>\n",
       "      <th>Ot Mean Onset</th>\n",
       "    </tr>\n",
       "  </thead>\n",
       "  <tbody>\n",
       "    <tr>\n",
       "      <th>0</th>\n",
       "      <td>Larinioides cornutus</td>\n",
       "      <td>Monitor 3 Spider 1</td>\n",
       "      <td>-1.674304</td>\n",
       "      <td>25.878055</td>\n",
       "      <td>Araneidae Orb-Weaver</td>\n",
       "      <td>19.533333</td>\n",
       "    </tr>\n",
       "    <tr>\n",
       "      <th>1</th>\n",
       "      <td>Larinioides cornutus</td>\n",
       "      <td>Monitor 3 Spider 2</td>\n",
       "      <td>-1.510802</td>\n",
       "      <td>23.339690</td>\n",
       "      <td>Araneidae Orb-Weaver</td>\n",
       "      <td>19.450000</td>\n",
       "    </tr>\n",
       "    <tr>\n",
       "      <th>2</th>\n",
       "      <td>Larinioides cornutus</td>\n",
       "      <td>Monitor 3 Spider 3</td>\n",
       "      <td>-1.928278</td>\n",
       "      <td>24.709813</td>\n",
       "      <td>Araneidae Orb-Weaver</td>\n",
       "      <td>19.633333</td>\n",
       "    </tr>\n",
       "    <tr>\n",
       "      <th>3</th>\n",
       "      <td>Larinioides cornutus</td>\n",
       "      <td>Monitor 3 Spider 4</td>\n",
       "      <td>-0.975257</td>\n",
       "      <td>24.457992</td>\n",
       "      <td>Araneidae Orb-Weaver</td>\n",
       "      <td>20.550000</td>\n",
       "    </tr>\n",
       "    <tr>\n",
       "      <th>4</th>\n",
       "      <td>Larinioides cornutus</td>\n",
       "      <td>Monitor 3 Spider 5</td>\n",
       "      <td>-1.099625</td>\n",
       "      <td>23.989514</td>\n",
       "      <td>Araneidae Orb-Weaver</td>\n",
       "      <td>19.250000</td>\n",
       "    </tr>\n",
       "    <tr>\n",
       "      <th>...</th>\n",
       "      <td>...</td>\n",
       "      <td>...</td>\n",
       "      <td>...</td>\n",
       "      <td>...</td>\n",
       "      <td>...</td>\n",
       "      <td>...</td>\n",
       "    </tr>\n",
       "    <tr>\n",
       "      <th>123</th>\n",
       "      <td>Pholcus phalangioides</td>\n",
       "      <td>Monitor 15 Spider 12</td>\n",
       "      <td>-1.960272</td>\n",
       "      <td>24.265822</td>\n",
       "      <td>Pholcidae</td>\n",
       "      <td>19.250000</td>\n",
       "    </tr>\n",
       "    <tr>\n",
       "      <th>124</th>\n",
       "      <td>Pholcus phalangioides</td>\n",
       "      <td>Monitor 15 Spider 13</td>\n",
       "      <td>-1.952876</td>\n",
       "      <td>23.810231</td>\n",
       "      <td>Pholcidae</td>\n",
       "      <td>19.150000</td>\n",
       "    </tr>\n",
       "    <tr>\n",
       "      <th>125</th>\n",
       "      <td>Pholcus phalangioides</td>\n",
       "      <td>Monitor 15 Spider 14</td>\n",
       "      <td>-2.000538</td>\n",
       "      <td>26.239921</td>\n",
       "      <td>Pholcidae</td>\n",
       "      <td>19.566667</td>\n",
       "    </tr>\n",
       "    <tr>\n",
       "      <th>126</th>\n",
       "      <td>Pholcus phalangioides</td>\n",
       "      <td>Monitor 15 Spider 17</td>\n",
       "      <td>-1.759010</td>\n",
       "      <td>24.261545</td>\n",
       "      <td>Pholcidae</td>\n",
       "      <td>20.350000</td>\n",
       "    </tr>\n",
       "    <tr>\n",
       "      <th>127</th>\n",
       "      <td>Pholcus phalangioides</td>\n",
       "      <td>Monitor 15 Spider 19</td>\n",
       "      <td>-1.151053</td>\n",
       "      <td>25.712845</td>\n",
       "      <td>Pholcidae</td>\n",
       "      <td>19.450000</td>\n",
       "    </tr>\n",
       "  </tbody>\n",
       "</table>\n",
       "<p>128 rows × 6 columns</p>\n",
       "</div>"
      ],
      "text/plain": [
       "               Specie Name             Spider ID  DiNoc ratio  LombSc period  \\\n",
       "0     Larinioides cornutus    Monitor 3 Spider 1    -1.674304      25.878055   \n",
       "1     Larinioides cornutus    Monitor 3 Spider 2    -1.510802      23.339690   \n",
       "2     Larinioides cornutus    Monitor 3 Spider 3    -1.928278      24.709813   \n",
       "3     Larinioides cornutus    Monitor 3 Spider 4    -0.975257      24.457992   \n",
       "4     Larinioides cornutus    Monitor 3 Spider 5    -1.099625      23.989514   \n",
       "..                     ...                   ...          ...            ...   \n",
       "123  Pholcus phalangioides  Monitor 15 Spider 12    -1.960272      24.265822   \n",
       "124  Pholcus phalangioides  Monitor 15 Spider 13    -1.952876      23.810231   \n",
       "125  Pholcus phalangioides  Monitor 15 Spider 14    -2.000538      26.239921   \n",
       "126  Pholcus phalangioides  Monitor 15 Spider 17    -1.759010      24.261545   \n",
       "127  Pholcus phalangioides  Monitor 15 Spider 19    -1.151053      25.712845   \n",
       "\n",
       "                   Family  Ot Mean Onset  \n",
       "0    Araneidae Orb-Weaver      19.533333  \n",
       "1    Araneidae Orb-Weaver      19.450000  \n",
       "2    Araneidae Orb-Weaver      19.633333  \n",
       "3    Araneidae Orb-Weaver      20.550000  \n",
       "4    Araneidae Orb-Weaver      19.250000  \n",
       "..                    ...            ...  \n",
       "123             Pholcidae      19.250000  \n",
       "124             Pholcidae      19.150000  \n",
       "125             Pholcidae      19.566667  \n",
       "126             Pholcidae      20.350000  \n",
       "127             Pholcidae      19.450000  \n",
       "\n",
       "[128 rows x 6 columns]"
      ]
     },
     "execution_count": 4,
     "metadata": {},
     "output_type": "execute_result"
    }
   ],
   "source": [
    "four = pd.read_csv(\"four.csv\")\n",
    "four = four.drop(columns = [\"Unnamed: 0\"])\n",
    "def family(row):  \n",
    "    \"\"\"\n",
    "    add more if/return statements to conduct PCA on more species\n",
    "    \"\"\"\n",
    "    \n",
    "    if row[\"Specie Name\"] == 'Micropholcus fauroti':\n",
    "        return \"Pholcidae\"\n",
    "    if row[\"Specie Name\"] == \"Pholcus phalangioides\":\n",
    "        return \"Pholcidae\"\n",
    "    if row[\"Specie Name\"] == 'Larinioides cornutus':\n",
    "        return \"Araneidae Orb-Weaver\"\n",
    "    if row[\"Specie Name\"] == \"Pholcus manueli\":\n",
    "        return \"Pholcidae\"\n",
    "    \n",
    "four['Family'] = four.apply (lambda row: family(row), axis=1)\n",
    "def converttohours():\n",
    "    global four\n",
    "    xpd = [pd.to_datetime(i).time() for i in four[\"Mean activity onset\"].values]\n",
    "    ot = [i.hour + i.minute * (1/60) for i in xpd]\n",
    "    four[\"Ot Mean Onset\"] = ot\n",
    "converttohours()\n",
    "four = four.drop(columns = [\"Mean activity onset\"])\n",
    "four"
   ]
  },
  {
   "cell_type": "markdown",
   "id": "a479c192",
   "metadata": {},
   "source": [
    "###### PCA Calc"
   ]
  },
  {
   "cell_type": "code",
   "execution_count": 5,
   "id": "1c6cf0d7",
   "metadata": {},
   "outputs": [],
   "source": [
    "dfpho = four[four.Family == \"Pholcidae\"]  #pholcidae df\n",
    "dfara = four[four.Family == \"Araneidae Orb-Weaver\"]  #orb-weaver df\n",
    "four2 = dfpho.append(dfara, ignore_index = True)"
   ]
  },
  {
   "cell_type": "code",
   "execution_count": 27,
   "id": "6cbd9dd5",
   "metadata": {},
   "outputs": [
    {
     "data": {
      "text/plain": [
       "<matplotlib.legend.Legend at 0x7faba358ecd0>"
      ]
     },
     "execution_count": 27,
     "metadata": {},
     "output_type": "execute_result"
    },
    {
     "data": {
      "image/png": "[encoded data removed]",
      "text/plain": [
       "<Figure size 576x576 with 1 Axes>"
      ]
     },
     "metadata": {
      "needs_background": "light"
     },
     "output_type": "display_data"
    }
   ],
   "source": [
    "features = [\"LombSc period\",\"DiNoc ratio\", \"Ot Mean Onset\"]\n",
    "x = four2.loc[:, features].values\n",
    "y = four2.loc[:,['Specie Name']]\n",
    "x = StandardScaler().fit_transform(x)\n",
    "\n",
    "\n",
    "pca = PCA(n_components=2)\n",
    "\n",
    "principalComponents = pca.fit_transform(x)\n",
    "principalDf = pd.DataFrame(data = principalComponents\n",
    "              , columns = ['principal component 1', 'principal component 2'])\n",
    "\n",
    "finalDf = pd.concat([principalDf, four2], axis = 1)\n",
    "finalDf\n",
    "\n",
    "fig = plt.figure(figsize = (8,8))\n",
    "ax = fig.add_subplot(1,1,1) \n",
    "ax.set_xlabel('Principal Component 1', fontsize = 15)\n",
    "ax.set_ylabel('Principal Component 2', fontsize = 15)\n",
    "ax.set_title('2 component PCA', fontsize = 20)\n",
    "targets = ['Micropholcus fauroti', \"Pholcus phalangioides\", \"Larinioides cornutus\", \"Pholcus manueli\"]\n",
    "colors = ['r', 'g', 'b', 'k']\n",
    "for target, color in zip(targets,colors):\n",
    "    indicesToKeep = finalDf['Specie Name'] == target\n",
    "    ax.scatter(finalDf.loc[indicesToKeep, 'principal component 1']\n",
    "               , finalDf.loc[indicesToKeep, 'principal component 2']\n",
    "               , c = color\n",
    "               , s = 30)\n",
    "ax.legend(targets)"
   ]
  },
  {
   "cell_type": "markdown",
   "id": "91c6932f",
   "metadata": {},
   "source": [
    "#### Clustering of the L. cornutus ! Seems promising.\n",
    "\n",
    "Next, let's just look at M. fauroti, P. phalangioides, and P. manueli since they are from the same family"
   ]
  },
  {
   "cell_type": "code",
   "execution_count": 7,
   "id": "18450fd1",
   "metadata": {},
   "outputs": [],
   "source": [
    "four[four[\"Specie Name\"] == \"Larinioides cornutus\"]\n",
    "four = four.drop(labels=range(0, 93), axis=0)"
   ]
  },
  {
   "cell_type": "code",
   "execution_count": 26,
   "id": "aad7c03c",
   "metadata": {},
   "outputs": [
    {
     "data": {
      "text/plain": [
       "<matplotlib.legend.Legend at 0x7faba3688610>"
      ]
     },
     "execution_count": 26,
     "metadata": {},
     "output_type": "execute_result"
    },
    {
     "data": {
      "image/png": "[encoded data removed]",
      "text/plain": [
       "<Figure size 576x576 with 1 Axes>"
      ]
     },
     "metadata": {
      "needs_background": "light"
     },
     "output_type": "display_data"
    }
   ],
   "source": [
    "features = [\"LombSc period\",\"DiNoc ratio\", \"Ot Mean Onset\"]\n",
    "x = four2.loc[:, features].values\n",
    "y = four2.loc[:,['Specie Name']]\n",
    "x = StandardScaler().fit_transform(x)\n",
    "\n",
    "\n",
    "pca = PCA(n_components=2)\n",
    "\n",
    "principalComponents = pca.fit_transform(x)\n",
    "principalDf = pd.DataFrame(data = principalComponents\n",
    "              , columns = ['principal component 1', 'principal component 2'])\n",
    "\n",
    "finalDf = pd.concat([principalDf, four2], axis = 1)\n",
    "finalDf\n",
    "\n",
    "fig = plt.figure(figsize = (8,8))\n",
    "ax = fig.add_subplot(1,1,1) \n",
    "ax.set_xlabel('Principal Component 1', fontsize = 15)\n",
    "ax.set_ylabel('Principal Component 2', fontsize = 15)\n",
    "ax.set_title('2 component PCA', fontsize = 20)\n",
    "targets = ['Micropholcus fauroti', \"Pholcus phalangioides\", \"Pholcus manueli\"]\n",
    "colors = ['r', 'g', 'b']\n",
    "for target, color in zip(targets,colors):\n",
    "    indicesToKeep = finalDf['Specie Name'] == target\n",
    "    ax.scatter(finalDf.loc[indicesToKeep, 'principal component 1']\n",
    "               , finalDf.loc[indicesToKeep, 'principal component 2']\n",
    "               , c = color\n",
    "               , s = 30)\n",
    "ax.legend(targets)"
   ]
  },
  {
   "cell_type": "markdown",
   "id": "b6228399",
   "metadata": {},
   "source": [
    "#### L. cornutus seems to be our most promising guide so far, so let's compare it with M. wittfeldae, which proved helpful in earlier analyses. "
   ]
  },
  {
   "cell_type": "code",
   "execution_count": 25,
   "id": "338c143a",
   "metadata": {},
   "outputs": [
    {
     "data": {
      "text/plain": [
       "<matplotlib.legend.Legend at 0x7faba32d4970>"
      ]
     },
     "execution_count": 25,
     "metadata": {},
     "output_type": "execute_result"
    },
    {
     "data": {
      "image/png": "[encoded data removed]",
      "text/plain": [
       "<Figure size 576x576 with 1 Axes>"
      ]
     },
     "metadata": {
      "needs_background": "light"
     },
     "output_type": "display_data"
    }
   ],
   "source": [
    "two = pd.read_csv(\"two.csv\")\n",
    "two = two.drop(columns = [\"Unnamed: 0\"])\n",
    "features = [\"LombSc period\",\"DiNoc ratio\", \"Ot Mean Onset\"]\n",
    "x = two.loc[:, features].values\n",
    "y = two.loc[:,['Specie Name']]\n",
    "x = StandardScaler().fit_transform(x)\n",
    "\n",
    "\n",
    "pca = PCA(n_components=2)\n",
    "\n",
    "principalComponents = pca.fit_transform(x)\n",
    "principalDf = pd.DataFrame(data = principalComponents\n",
    "              , columns = ['principal component 1', 'principal component 2'])\n",
    "\n",
    "finalDf = pd.concat([principalDf, two], axis = 1)\n",
    "fig = plt.figure(figsize = (8,8))\n",
    "ax = fig.add_subplot(1,1,1) \n",
    "ax.set_xlabel('Principal Component 1', fontsize = 15)\n",
    "ax.set_ylabel('Principal Component 2', fontsize = 15)\n",
    "ax.set_title('2 component PCA', fontsize = 20)\n",
    "targets = ['Larinioides cornutus', 'Metazygia wittfeldae']\n",
    "colors = ['r', 'g']\n",
    "for target, color in zip(targets,colors):\n",
    "    indicesToKeep = finalDf['Specie Name'] == target\n",
    "    ax.scatter(finalDf.loc[indicesToKeep, 'principal component 1']\n",
    "               , finalDf.loc[indicesToKeep, 'principal component 2']\n",
    "               , c = color\n",
    "               , s = 30)\n",
    "ax.legend(targets)"
   ]
  },
  {
   "cell_type": "markdown",
   "id": "3f841c76",
   "metadata": {},
   "source": [
    "#### Conclusion: Clusters! Next step will be to conduct regression analyses to investigate which of the measures are causing the patterns we're seeing. "
   ]
  }
 ],
 "metadata": {
  "kernelspec": {
   "display_name": "Python 3",
   "language": "python",
   "name": "python3"
  },
  "language_info": {
   "codemirror_mode": {
    "name": "ipython",
    "version": 3
   },
   "file_extension": ".py",
   "mimetype": "text/x-python",
   "name": "python",
   "nbconvert_exporter": "python",
   "pygments_lexer": "ipython3",
   "version": "3.8.8"
  }
 },
 "nbformat": 4,
 "nbformat_minor": 5
}
