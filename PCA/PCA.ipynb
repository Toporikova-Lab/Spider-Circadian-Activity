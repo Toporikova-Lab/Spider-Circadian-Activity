{
 "cells": [
  {
   "cell_type": "code",
   "execution_count": 20,
   "id": "3ea1b89b",
   "metadata": {},
   "outputs": [],
   "source": [
    "import pandas as pd\n",
    "import warnings\n",
    "from pandas.core.common import SettingWithCopyWarning\n",
    "import matplotlib.pyplot as plt\n",
    "import seaborn as sns\n",
    "import numpy as np\n",
    "warnings.simplefilter(action=\"ignore\", category=SettingWithCopyWarning)\n",
    "from sklearn.preprocessing import StandardScaler\n",
    "from sklearn.decomposition import PCA"
   ]
  },
  {
   "cell_type": "markdown",
   "id": "6baa602f",
   "metadata": {},
   "source": [
    "DATA PREP: \n",
    "\n",
    "1. Merge LD data and FRP into one dataframe\n",
    "\n",
    "\n",
    "2. Add Family column\n",
    "\n",
    "\n",
    "3. Convert information in the Mean Onset column into a format that's code friendly"
   ]
  },
  {
   "cell_type": "code",
   "execution_count": 21,
   "id": "0ed0920e",
   "metadata": {},
   "outputs": [],
   "source": [
    "def mergeLDFRP(dfDD, dfLD, species, colstokeep):  \n",
    "    \n",
    "    \"\"\"\n",
    "    dfDD: dataframe containing DD data\n",
    "    dfLD: dataframe containing LD data\n",
    "    species: list of species to conduct PCA on \n",
    "    colstokeep: list of measures/columns of interest\n",
    "    \"\"\"\n",
    "    \n",
    "    dfDD = pd.read_csv(str(dfDD))\n",
    "    dfLD = pd.read_csv(str(dfLD))\n",
    "    \n",
    "    \n",
    "    dfLD = dfLD.drop(columns = [\"LombSc period\"])\n",
    "    dfDDfrp = dfDD[[\"LombSc period\"]]\n",
    "    concat = pd.concat([dfLD, dfDDfrp], axis=1)\n",
    "    \n",
    "    global dfi\n",
    "    dfi = concat[concat[\"Specie Name\"].isin(species)]\n",
    "    dfi.drop(dfi.columns.difference(colstokeep), 1, inplace = True)"
   ]
  },
  {
   "cell_type": "code",
   "execution_count": 22,
   "id": "a4629b2c",
   "metadata": {},
   "outputs": [],
   "source": [
    "mergeLDFRP(\"all_spider_summary_DD.csv\", \"all_spider_summary_LD.csv\", ['Micrathena mitrata', \"Metazygia wittfeldae\"],['Specie Name','LombSc period','Spider ID', \"Mean activity onset\", \"DiNoc ratio\"] )"
   ]
  },
  {
   "cell_type": "code",
   "execution_count": 23,
   "id": "ac889618",
   "metadata": {},
   "outputs": [],
   "source": [
    "def family(row):  \n",
    "    \"\"\"\n",
    "    add more if/return statements to conduct PCA on more species\n",
    "    \"\"\"\n",
    "    \n",
    "    if row[\"Specie Name\"] == 'Micrathena mitrata':\n",
    "        return \"Theridiidae Tangle-Web\"\n",
    "    if row[\"Specie Name\"] == \"Metazygia wittfeldae\":\n",
    "        return \"Araneidae Orb-Weaver\""
   ]
  },
  {
   "cell_type": "code",
   "execution_count": 24,
   "id": "afdd1db9",
   "metadata": {},
   "outputs": [],
   "source": [
    "dfi['Family'] = dfi.apply (lambda row: family(row), axis=1)"
   ]
  },
  {
   "cell_type": "code",
   "execution_count": 25,
   "id": "42c602a9",
   "metadata": {},
   "outputs": [],
   "source": [
    "def converttohours():\n",
    "    global dfi\n",
    "    xpd = [pd.to_datetime(i).time() for i in dfi[\"Mean activity onset\"].values]\n",
    "    ot = [i.hour + i.minute * (1/60) for i in xpd]\n",
    "    dfi[\"Ot Mean Onset\"] = ot"
   ]
  },
  {
   "cell_type": "code",
   "execution_count": 26,
   "id": "15ad4e9a",
   "metadata": {},
   "outputs": [],
   "source": [
    "converttohours()"
   ]
  },
  {
   "cell_type": "code",
   "execution_count": 43,
   "id": "afddc181",
   "metadata": {},
   "outputs": [
    {
     "data": {
      "text/html": [
       "<div>\n",
       "<style scoped>\n",
       "    .dataframe tbody tr th:only-of-type {\n",
       "        vertical-align: middle;\n",
       "    }\n",
       "\n",
       "    .dataframe tbody tr th {\n",
       "        vertical-align: top;\n",
       "    }\n",
       "\n",
       "    .dataframe thead th {\n",
       "        text-align: right;\n",
       "    }\n",
       "</style>\n",
       "<table border=\"1\" class=\"dataframe\">\n",
       "  <thead>\n",
       "    <tr style=\"text-align: right;\">\n",
       "      <th></th>\n",
       "      <th>Specie Name</th>\n",
       "      <th>Spider ID</th>\n",
       "      <th>Mean activity onset</th>\n",
       "      <th>DiNoc ratio</th>\n",
       "      <th>LombSc period</th>\n",
       "      <th>Family</th>\n",
       "      <th>Ot Mean Onset</th>\n",
       "    </tr>\n",
       "  </thead>\n",
       "  <tbody>\n",
       "    <tr>\n",
       "      <th>311</th>\n",
       "      <td>Metazygia wittfeldae</td>\n",
       "      <td>Monitor 1 Spider 1</td>\n",
       "      <td>19:27:00</td>\n",
       "      <td>-1.948302</td>\n",
       "      <td>22.011150</td>\n",
       "      <td>Araneidae Orb-Weaver</td>\n",
       "      <td>19.450000</td>\n",
       "    </tr>\n",
       "    <tr>\n",
       "      <th>312</th>\n",
       "      <td>Metazygia wittfeldae</td>\n",
       "      <td>Monitor 1 Spider 2</td>\n",
       "      <td>19:31:00</td>\n",
       "      <td>-1.968857</td>\n",
       "      <td>21.316001</td>\n",
       "      <td>Araneidae Orb-Weaver</td>\n",
       "      <td>19.516667</td>\n",
       "    </tr>\n",
       "    <tr>\n",
       "      <th>313</th>\n",
       "      <td>Metazygia wittfeldae</td>\n",
       "      <td>Monitor 1 Spider 3</td>\n",
       "      <td>19:21:00</td>\n",
       "      <td>-1.955786</td>\n",
       "      <td>24.453386</td>\n",
       "      <td>Araneidae Orb-Weaver</td>\n",
       "      <td>19.350000</td>\n",
       "    </tr>\n",
       "    <tr>\n",
       "      <th>314</th>\n",
       "      <td>Metazygia wittfeldae</td>\n",
       "      <td>Monitor 1 Spider 4</td>\n",
       "      <td>19:41:00</td>\n",
       "      <td>-1.966046</td>\n",
       "      <td>24.676897</td>\n",
       "      <td>Araneidae Orb-Weaver</td>\n",
       "      <td>19.683333</td>\n",
       "    </tr>\n",
       "    <tr>\n",
       "      <th>315</th>\n",
       "      <td>Metazygia wittfeldae</td>\n",
       "      <td>Monitor 1 Spider 5</td>\n",
       "      <td>19:31:00</td>\n",
       "      <td>-1.945309</td>\n",
       "      <td>21.316001</td>\n",
       "      <td>Araneidae Orb-Weaver</td>\n",
       "      <td>19.516667</td>\n",
       "    </tr>\n",
       "  </tbody>\n",
       "</table>\n",
       "</div>"
      ],
      "text/plain": [
       "              Specie Name           Spider ID Mean activity onset  \\\n",
       "311  Metazygia wittfeldae  Monitor 1 Spider 1            19:27:00   \n",
       "312  Metazygia wittfeldae  Monitor 1 Spider 2            19:31:00   \n",
       "313  Metazygia wittfeldae  Monitor 1 Spider 3            19:21:00   \n",
       "314  Metazygia wittfeldae  Monitor 1 Spider 4            19:41:00   \n",
       "315  Metazygia wittfeldae  Monitor 1 Spider 5            19:31:00   \n",
       "\n",
       "     DiNoc ratio  LombSc period                Family  Ot Mean Onset  \n",
       "311    -1.948302      22.011150  Araneidae Orb-Weaver      19.450000  \n",
       "312    -1.968857      21.316001  Araneidae Orb-Weaver      19.516667  \n",
       "313    -1.955786      24.453386  Araneidae Orb-Weaver      19.350000  \n",
       "314    -1.966046      24.676897  Araneidae Orb-Weaver      19.683333  \n",
       "315    -1.945309      21.316001  Araneidae Orb-Weaver      19.516667  "
      ]
     },
     "execution_count": 43,
     "metadata": {},
     "output_type": "execute_result"
    }
   ],
   "source": [
    "# display first 5 rows \n",
    "dfi.head(5)"
   ]
  },
  {
   "cell_type": "markdown",
   "id": "ce69d8be",
   "metadata": {},
   "source": [
    "#### PCA calculations\n",
    "\n",
    "1. separate by family then append (helps get around PCA component nuances)\n",
    "\n",
    "\n",
    "2. create finalDf dataframe with principal component 1 and 2 info\n",
    "\n",
    "\n",
    "3. plot "
   ]
  },
  {
   "cell_type": "code",
   "execution_count": 51,
   "id": "7ce3177b",
   "metadata": {},
   "outputs": [],
   "source": [
    "dfthe = dfi[dfi.Family == \"Theridiidae Tangle-Web\"]  #tangle-web df\n",
    "dfara = dfi[dfi.Family == \"Araneidae Orb-Weaver\"]  #orb-weaver df\n",
    "dfi2 = dfthe.append(dfara, ignore_index = True)"
   ]
  },
  {
   "cell_type": "code",
   "execution_count": 56,
   "id": "13164711",
   "metadata": {},
   "outputs": [],
   "source": [
    "features = [\"LombSc period\",\"DiNoc ratio\", \"Ot Mean Onset\"]\n",
    "x = dfi2.loc[:, features].values\n",
    "y = dfi2.loc[:,['Specie Name']]\n",
    "x = StandardScaler().fit_transform(x)\n",
    "\n",
    "\n",
    "pca = PCA(n_components=2)\n",
    "\n",
    "principalComponents = pca.fit_transform(x)\n",
    "principalDf = pd.DataFrame(data = principalComponents\n",
    "              , columns = ['principal component 1', 'principal component 2'])\n",
    "\n",
    "finalDf = pd.concat([principalDf, dfi2], axis = 1)\n",
    "#display(finalDf)"
   ]
  },
  {
   "cell_type": "code",
   "execution_count": 59,
   "id": "b150cc74",
   "metadata": {},
   "outputs": [
    {
     "data": {
      "text/plain": [
       "<matplotlib.legend.Legend at 0x7fc03801a0a0>"
      ]
     },
     "execution_count": 59,
     "metadata": {},
     "output_type": "execute_result"
    },
    {
     "data": {
      "image/png": "[encoded data removed]",
      "text/plain": [
       "<Figure size 576x576 with 1 Axes>"
      ]
     },
     "metadata": {
      "needs_background": "light"
     },
     "output_type": "display_data"
    }
   ],
   "source": [
    "fig = plt.figure(figsize = (8,8))\n",
    "ax = fig.add_subplot(1,1,1) \n",
    "ax.set_xlabel('Principal Component 1', fontsize = 15)\n",
    "ax.set_ylabel('Principal Component 2', fontsize = 15)\n",
    "ax.set_title('2 component PCA', fontsize = 20)\n",
    "targets = ['Micrathena mitrata', 'Metazygia wittfeldae']\n",
    "colors = ['r', 'g']\n",
    "for target, color in zip(targets,colors):\n",
    "    indicesToKeep = finalDf['Specie Name'] == target\n",
    "    ax.scatter(finalDf.loc[indicesToKeep, 'principal component 1']\n",
    "               , finalDf.loc[indicesToKeep, 'principal component 2']\n",
    "               , c = color\n",
    "               , s = 50)\n",
    "ax.legend(targets)"
   ]
  }
 ],
 "metadata": {
  "kernelspec": {
   "display_name": "Python 3",
   "language": "python",
   "name": "python3"
  },
  "language_info": {
   "codemirror_mode": {
    "name": "ipython",
    "version": 3
   },
   "file_extension": ".py",
   "mimetype": "text/x-python",
   "name": "python",
   "nbconvert_exporter": "python",
   "pygments_lexer": "ipython3",
   "version": "3.8.8"
  }
 },
 "nbformat": 4,
 "nbformat_minor": 5
}
