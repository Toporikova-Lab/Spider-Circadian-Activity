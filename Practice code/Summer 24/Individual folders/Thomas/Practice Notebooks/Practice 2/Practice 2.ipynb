{
 "cells": [
  {
   "cell_type": "markdown",
   "metadata": {},
   "source": [
    "# Data Practice 2"
   ]
  },
  {
   "cell_type": "markdown",
   "metadata": {},
   "source": [
    "## Short-term activity of of three spiders"
   ]
  },
  {
   "cell_type": "markdown",
   "metadata": {},
   "source": [
    "Before proceding with this notebook, pleasse read carefully Chapter 1 of [Time Series Analysis book by George Box](https://wlu.primo.exlibrisgroup.com/discovery/fulldisplay?docid=alma991010340665504161&context=L&vid=01WLU_INST:01WLU&lang=en&search_scope=MyInst_and_CI&adaptor=Local%20Search%20Engine&tab=Everything&query=any,contains,%20Time%20series%20analysis&mode=Basic)"
   ]
  },
  {
   "cell_type": "markdown",
   "metadata": {},
   "source": [
    "Open file **Practice 2_data1.csv** in MS. Excel. It should have has four columns (see image below). The first column list time (hours:minutes:seconds) and the 2-4 columns contains number of UV light crossing for the spider *s2, s4, and s6*. We will use this number of crossings as a measure of activity for a spider"
   ]
  },
  {
   "attachments": {
    "image.png": {
     "image/png": "[encoded data removed]"
    }
   },
   "cell_type": "markdown",
   "metadata": {},
   "source": [
    "![image.png](attachment:image.png)"
   ]
  },
  {
   "cell_type": "code",
   "execution_count": 2,
   "metadata": {
    "scrolled": true
   },
   "outputs": [
    {
     "data": {
      "text/html": [
       "<div>\n",
       "<style scoped>\n",
       "    .dataframe tbody tr th:only-of-type {\n",
       "        vertical-align: middle;\n",
       "    }\n",
       "\n",
       "    .dataframe tbody tr th {\n",
       "        vertical-align: top;\n",
       "    }\n",
       "\n",
       "    .dataframe thead th {\n",
       "        text-align: right;\n",
       "    }\n",
       "</style>\n",
       "<table border=\"1\" class=\"dataframe\">\n",
       "  <thead>\n",
       "    <tr style=\"text-align: right;\">\n",
       "      <th></th>\n",
       "      <th>Time</th>\n",
       "      <th>s2</th>\n",
       "      <th>s5</th>\n",
       "      <th>s6</th>\n",
       "    </tr>\n",
       "  </thead>\n",
       "  <tbody>\n",
       "    <tr>\n",
       "      <th>0</th>\n",
       "      <td>12:25:00</td>\n",
       "      <td>3</td>\n",
       "      <td>0</td>\n",
       "      <td>15</td>\n",
       "    </tr>\n",
       "    <tr>\n",
       "      <th>1</th>\n",
       "      <td>12:26:00</td>\n",
       "      <td>3</td>\n",
       "      <td>0</td>\n",
       "      <td>63</td>\n",
       "    </tr>\n",
       "    <tr>\n",
       "      <th>2</th>\n",
       "      <td>12:27:00</td>\n",
       "      <td>1</td>\n",
       "      <td>7</td>\n",
       "      <td>5</td>\n",
       "    </tr>\n",
       "    <tr>\n",
       "      <th>3</th>\n",
       "      <td>12:28:00</td>\n",
       "      <td>5</td>\n",
       "      <td>3</td>\n",
       "      <td>11</td>\n",
       "    </tr>\n",
       "    <tr>\n",
       "      <th>4</th>\n",
       "      <td>12:29:00</td>\n",
       "      <td>0</td>\n",
       "      <td>0</td>\n",
       "      <td>0</td>\n",
       "    </tr>\n",
       "  </tbody>\n",
       "</table>\n",
       "</div>"
      ],
      "text/plain": [
       "       Time  s2  s5  s6\n",
       "0  12:25:00   3   0  15\n",
       "1  12:26:00   3   0  63\n",
       "2  12:27:00   1   7   5\n",
       "3  12:28:00   5   3  11\n",
       "4  12:29:00   0   0   0"
      ]
     },
     "metadata": {},
     "output_type": "display_data"
    }
   ],
   "source": [
    "df = pd.read_csv('Practice 2_data1.csv')\n",
    "display(df.head())"
   ]
  },
  {
   "cell_type": "markdown",
   "metadata": {},
   "source": [
    "## Experiment 1: Collecting statistics on spider activity"
   ]
  },
  {
   "cell_type": "markdown",
   "metadata": {},
   "source": [
    "In the previous notebook you probably realize that it is hard to describe the difference between activity of different spiders. Your eye can see that traces are different, but it is hard to say why. In science, we are always try to use numbers and mathematical operation to **measure** the variables and describe the difference numerically. In this experiment we can make a better visualization of the activity and come up with set of numbers to compare the spiders. "
   ]
  },
  {
   "cell_type": "markdown",
   "metadata": {},
   "source": [
    "### Visually compare activity profiles for different spiders"
   ]
  },
  {
   "cell_type": "markdown",
   "metadata": {},
   "source": [
    "Make a three separate subplots for three spiders arrange them either horizontal or vertically to optimally illustrate the difference or similarity between the activity patterns of different spiders. Adjust the axis to make such comparison faithful."
   ]
  },
  {
   "cell_type": "code",
   "execution_count": null,
   "metadata": {},
   "outputs": [],
   "source": []
  },
  {
   "cell_type": "markdown",
   "metadata": {},
   "source": [
    "### Calculate statistics on spider activity"
   ]
  },
  {
   "cell_type": "markdown",
   "metadata": {},
   "source": [
    "The simplest way to quantitatively capture individual's behavior is to compare a **mean** and **standard deviation** of each individual spider. Although, python numpy package can calculate it for you authomatically, it is useful to write your own user-definded fucntion to get an intuition for these common statistical measurmens."
   ]
  },
  {
   "cell_type": "markdown",
   "metadata": {},
   "source": [
    "### Write function for mean and standard deviation"
   ]
  },
  {
   "cell_type": "markdown",
   "metadata": {},
   "source": [
    "Write a function which calculate a mean of python series. Test your function on array and list to make sure that it works"
   ]
  },
  {
   "cell_type": "code",
   "execution_count": null,
   "metadata": {},
   "outputs": [],
   "source": [
    "def mean_of_series(series):\n",
    "    mean_of_series =\n",
    "    return(mean_of_series)\n",
    "\n",
    "#Create a sample list and array to test your function\n",
    "test_list  = [1,2,3,4]\n",
    "test_array = np.array([1,2,3,4])\n",
    "\n",
    "print(mean_of_series(test_list))\n",
    "print(mean_of_series(test_array))"
   ]
  },
  {
   "cell_type": "markdown",
   "metadata": {},
   "source": [
    "Make a function to calculate standard deviation of python series. If you not sure how standard deviation is calculated, check out this [Khan academy guidelines](https://www.khanacademy.org/math/statistics-probability/summarizing-quantitative-data/variance-standard-deviation-population/a/calculating-standard-deviation-step-by-step). Test on list and array similar to the function for mean"
   ]
  },
  {
   "cell_type": "code",
   "execution_count": null,
   "metadata": {},
   "outputs": [],
   "source": [
    "def std_of_series(series):\n",
    "    \n",
    "    std_of_series =\n",
    "    \n",
    "    return(std_of_series)\n",
    "\n"
   ]
  },
  {
   "cell_type": "markdown",
   "metadata": {},
   "source": [
    "### Calculate mean and standard deviation for each spider."
   ]
  },
  {
   "cell_type": "markdown",
   "metadata": {},
   "source": [
    "Use your funciton to calculate mean and standard deviation for all spiders in our data frame. Test your calculations using numpy funciton for mean and standard deviation. Save the mean and standard deviation in a new data frame. Use example below as a template. Make sure to use loop for your data collection - your code shoudl work for a data file with any number of spiders"
   ]
  },
  {
   "cell_type": "code",
   "execution_count": null,
   "metadata": {},
   "outputs": [],
   "source": []
  },
  {
   "attachments": {
    "image.png": {
     "image/png": "[encoded data removed]"
    }
   },
   "cell_type": "markdown",
   "metadata": {},
   "source": [
    "![image.png](attachment:image.png)"
   ]
  },
  {
   "cell_type": "code",
   "execution_count": null,
   "metadata": {},
   "outputs": [],
   "source": []
  },
  {
   "cell_type": "markdown",
   "metadata": {},
   "source": [
    "Do you think mean and standard deviation capture well the difference between the spiders?  "
   ]
  },
  {
   "cell_type": "markdown",
   "metadata": {},
   "source": [
    "## Experiment 2: Use moving average to understand trend in spider activity"
   ]
  },
  {
   "cell_type": "markdown",
   "metadata": {},
   "source": [
    "Although basic statistcs capturing well overall changes, we are interested do see how spider activity changes over time.You probabaly noticed that the spiders has a sustained activity for a while and then remian silent. It would be essential for us to know when such activity period starts and ends. However, the minute-to-minute acitivity has a lot of randomisity. It would be great to see a long term trend, but get rid of short-term noise. Basically, we want to take a spider activity curve an smooth is out. There is a lot of different ways to denoise the time series, but probably the easiest is just aggregate data by longer period of time. Let's just try to calculate activity over longer periods of time\n",
    "\n",
    "Write a funcion which take a time series of the spider and calculate average over every **n** minutes. Test your function by applying it to a first 20 min of spider **s2**. Average over, 2, 3, and 5 min. That is, you will have 2, 3, and 5 times less data. Print the average and original 20 min. Inspect visually to confirm that it works"
   ]
  },
  {
   "cell_type": "code",
   "execution_count": null,
   "metadata": {},
   "outputs": [],
   "source": []
  },
  {
   "cell_type": "markdown",
   "metadata": {},
   "source": [
    "Apply your function to all spider in the dataset. Make another 3-subplot figure. In each plot original and aggregated spider plot. Do you think aggregated plot capture the spider behavior? Do you think it is easier compare aggregated plots?"
   ]
  },
  {
   "cell_type": "code",
   "execution_count": null,
   "metadata": {},
   "outputs": [],
   "source": []
  },
  {
   "cell_type": "markdown",
   "metadata": {},
   "source": [
    "You probably noticed that with approach above we lost a lot of data. To avoid such data loss, it is commond to use Another common approach to de-noising called **moving avearage**. In this approach, the average is calculated for each point moving either forward of backward. This way, only few points in the beginig or end is lost.Here is [some resources](https://www.statisticshowto.com/probability-and-statistics/statistics-definitions/moving-average/) on calculating moving average.\n",
    "\n",
    "Make a function which take a series and calcualtes it's moving average. The first/or last points which cannot be calculation should be empty(use np.NaN to do so). Test your function by applying it to a first 20 min of spider **s2**. Average over, 2, 3, and 5 min.Print the average and original 20 min. Inspect visually to confirm that it works"
   ]
  },
  {
   "cell_type": "code",
   "execution_count": null,
   "metadata": {},
   "outputs": [],
   "source": []
  },
  {
   "cell_type": "markdown",
   "metadata": {},
   "source": [
    "Apply your function to all spider in the dataset. Make another 3-subplot figure. In each plot original and arolling average. Experiment with number of points you average out (this is usually referred as *rolling window*). Which rolling window give you the best de-noising?"
   ]
  },
  {
   "cell_type": "code",
   "execution_count": null,
   "metadata": {},
   "outputs": [],
   "source": []
  },
  {
   "cell_type": "markdown",
   "metadata": {},
   "source": [
    "## Experiment 3: Does light affect spider activity?"
   ]
  },
  {
   "cell_type": "markdown",
   "metadata": {},
   "source": [
    "The file **'Practice 2_data1.csv'** contains example of several days of spider activity. It also has a column which has information about the light (0-dark, 1-light). Use rolling average to demonstrate activity of spiders in the data set and their responce to light. Do you think spiders respond to a light? Do you think the responce is similar/different among spiders. Make a visualizatio and some kind of quantitative measures to answer this question"
   ]
  },
  {
   "cell_type": "code",
   "execution_count": null,
   "metadata": {},
   "outputs": [],
   "source": []
  }
 ],
 "metadata": {
  "kernelspec": {
   "display_name": "Python 3",
   "language": "python",
   "name": "python3"
  },
  "language_info": {
   "codemirror_mode": {
    "name": "ipython",
    "version": 3
   },
   "file_extension": ".py",
   "mimetype": "text/x-python",
   "name": "python",
   "nbconvert_exporter": "python",
   "pygments_lexer": "ipython3",
   "version": "3.7.3"
  }
 },
 "nbformat": 4,
 "nbformat_minor": 2
}
