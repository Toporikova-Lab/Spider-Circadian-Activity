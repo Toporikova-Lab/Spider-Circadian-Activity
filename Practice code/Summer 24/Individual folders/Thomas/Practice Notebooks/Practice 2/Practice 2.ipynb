{
 "cells": [
  {
   "cell_type": "markdown",
   "metadata": {},
   "source": [
    "# Data Practice 2"
   ]
  },
  {
   "cell_type": "markdown",
   "metadata": {},
   "source": [
    "## Short-term activity of of three spiders"
   ]
  },
  {
   "cell_type": "markdown",
   "metadata": {},
   "source": [
    "Before proceding with this notebook, pleasse read carefully Chapter 1 of [Time Series Analysis book by George Box](https://wlu.primo.exlibrisgroup.com/discovery/fulldisplay?docid=alma991010340665504161&context=L&vid=01WLU_INST:01WLU&lang=en&search_scope=MyInst_and_CI&adaptor=Local%20Search%20Engine&tab=Everything&query=any,contains,%20Time%20series%20analysis&mode=Basic)"
   ]
  },
  {
   "cell_type": "markdown",
   "metadata": {},
   "source": [
    "Open file **Practice 2_data1.csv** in MS. Excel. It should have has four columns (see image below). The first column list time (hours:minutes:seconds) and the 2-4 columns contains number of UV light crossing for the spider *s2, s4, and s6*. We will use this number of crossings as a measure of activity for a spider"
   ]
  },
  {
   "attachments": {
    "image.png": {
     "image/png": "[encoded data removed]"
    }
   },
   "cell_type": "markdown",
   "metadata": {},
   "source": [
    "![image.png](attachment:image.png)"
   ]
  },
  {
   "cell_type": "code",
   "execution_count": 2,
   "metadata": {
    "scrolled": true
   },
   "outputs": [
    {
     "data": {
      "text/html": [
       "<div>\n",
       "<style scoped>\n",
       "    .dataframe tbody tr th:only-of-type {\n",
       "        vertical-align: middle;\n",
       "    }\n",
       "\n",
       "    .dataframe tbody tr th {\n",
       "        vertical-align: top;\n",
       "    }\n",
       "\n",
       "    .dataframe thead th {\n",
       "        text-align: right;\n",
       "    }\n",
       "</style>\n",
       "<table border=\"1\" class=\"dataframe\">\n",
       "  <thead>\n",
       "    <tr style=\"text-align: right;\">\n",
       "      <th></th>\n",
       "      <th>Time</th>\n",
       "      <th>s2</th>\n",
       "      <th>s5</th>\n",
       "      <th>s6</th>\n",
       "    </tr>\n",
       "  </thead>\n",
       "  <tbody>\n",
       "    <tr>\n",
       "      <th>0</th>\n",
       "      <td>12:25:00</td>\n",
       "      <td>3</td>\n",
       "      <td>0</td>\n",
       "      <td>15</td>\n",
       "    </tr>\n",
       "    <tr>\n",
       "      <th>1</th>\n",
       "      <td>12:26:00</td>\n",
       "      <td>3</td>\n",
       "      <td>0</td>\n",
       "      <td>63</td>\n",
       "    </tr>\n",
       "    <tr>\n",
       "      <th>2</th>\n",
       "      <td>12:27:00</td>\n",
       "      <td>1</td>\n",
       "      <td>7</td>\n",
       "      <td>5</td>\n",
       "    </tr>\n",
       "    <tr>\n",
       "      <th>3</th>\n",
       "      <td>12:28:00</td>\n",
       "      <td>5</td>\n",
       "      <td>3</td>\n",
       "      <td>11</td>\n",
       "    </tr>\n",
       "    <tr>\n",
       "      <th>4</th>\n",
       "      <td>12:29:00</td>\n",
       "      <td>0</td>\n",
       "      <td>0</td>\n",
       "      <td>0</td>\n",
       "    </tr>\n",
       "    <tr>\n",
       "      <th>5</th>\n",
       "      <td>12:30:00</td>\n",
       "      <td>13</td>\n",
       "      <td>2</td>\n",
       "      <td>0</td>\n",
       "    </tr>\n",
       "    <tr>\n",
       "      <th>6</th>\n",
       "      <td>12:31:00</td>\n",
       "      <td>10</td>\n",
       "      <td>9</td>\n",
       "      <td>0</td>\n",
       "    </tr>\n",
       "    <tr>\n",
       "      <th>7</th>\n",
       "      <td>12:32:00</td>\n",
       "      <td>42</td>\n",
       "      <td>0</td>\n",
       "      <td>0</td>\n",
       "    </tr>\n",
       "    <tr>\n",
       "      <th>8</th>\n",
       "      <td>12:33:00</td>\n",
       "      <td>6</td>\n",
       "      <td>0</td>\n",
       "      <td>0</td>\n",
       "    </tr>\n",
       "    <tr>\n",
       "      <th>9</th>\n",
       "      <td>12:34:00</td>\n",
       "      <td>26</td>\n",
       "      <td>4</td>\n",
       "      <td>0</td>\n",
       "    </tr>\n",
       "  </tbody>\n",
       "</table>\n",
       "</div>"
      ],
      "text/plain": [
       "       Time  s2  s5  s6\n",
       "0  12:25:00   3   0  15\n",
       "1  12:26:00   3   0  63\n",
       "2  12:27:00   1   7   5\n",
       "3  12:28:00   5   3  11\n",
       "4  12:29:00   0   0   0\n",
       "5  12:30:00  13   2   0\n",
       "6  12:31:00  10   9   0\n",
       "7  12:32:00  42   0   0\n",
       "8  12:33:00   6   0   0\n",
       "9  12:34:00  26   4   0"
      ]
     },
     "metadata": {},
     "output_type": "display_data"
    }
   ],
   "source": [
    "import pandas as pd\n",
    "\n",
    "df = pd.read_csv('Practice 2_data1.csv')\n",
    "display(df.head(10))"
   ]
  },
  {
   "cell_type": "markdown",
   "metadata": {},
   "source": [
    "## Experiment 1: Collecting statistics on spider activity"
   ]
  },
  {
   "cell_type": "markdown",
   "metadata": {},
   "source": [
    "In the previous notebook you probably realize that it is hard to describe the difference between activity of different spiders. Your eye can see that traces are different, but it is hard to say why. In science, we are always try to use numbers and mathematical operation to **measure** the variables and describe the difference numerically. In this experiment we can make a better visualization of the activity and come up with set of numbers to compare the spiders. "
   ]
  },
  {
   "cell_type": "markdown",
   "metadata": {},
   "source": [
    "### Visually compare activity profiles for different spiders"
   ]
  },
  {
   "cell_type": "markdown",
   "metadata": {},
   "source": [
    "Make a three separate subplots for three spiders arrange them either horizontal or vertically to optimally illustrate the difference or similarity between the activity patterns of different spiders. Adjust the axis to make such comparison faithful."
   ]
  },
  {
   "cell_type": "code",
   "execution_count": 57,
   "metadata": {},
   "outputs": [
    {
     "data": {
      "text/plain": [
       "Text(0.5, 0.98, 'Spider Activity Over Time')"
      ]
     },
     "execution_count": 57,
     "metadata": {},
     "output_type": "execute_result"
    },
    {
     "data": {
      "image/png": "[encoded data removed]",
      "text/plain": [
       "<Figure size 640x480 with 3 Axes>"
      ]
     },
     "metadata": {},
     "output_type": "display_data"
    }
   ],
   "source": [
    "import matplotlib.pyplot as plt\n",
    "import matplotlib.dates as dates\n",
    "\n",
    "from datetime import datetime\n",
    "\n",
    "fig, axs = plt.subplots(3, 1, constrained_layout=True)\n",
    "\n",
    "s2 = df[\"s2\"]\n",
    "s5 = df[\"s5\"]\n",
    "s6 = df[\"s6\"]\n",
    "\n",
    "times = [datetime.strptime(time, '%H:%M:%S') for time in df[\"Time\"]]\n",
    "\n",
    "axs[0].plot(times, s2)\n",
    "axs[1].plot(times, s5)\n",
    "axs[2].plot(times, s6)\n",
    "\n",
    "axs[0].xaxis.set_major_formatter(dates.DateFormatter('%H:%M'))\n",
    "axs[1].xaxis.set_major_formatter(dates.DateFormatter('%H:%M'))\n",
    "axs[2].xaxis.set_major_formatter(dates.DateFormatter('%H:%M'))\n",
    "\n",
    "axs[0].set_title(\"Spider 2\")\n",
    "axs[1].set_title(\"Spider 5\")\n",
    "axs[2].set_title(\"Spider 6\")\n",
    "\n",
    "fig.suptitle(\"Spider Activity Over Time\", fontsize=16)"
   ]
  },
  {
   "cell_type": "markdown",
   "metadata": {},
   "source": [
    "### Calculate statistics on spider activity"
   ]
  },
  {
   "cell_type": "markdown",
   "metadata": {},
   "source": [
    "The simplest way to quantitatively capture individual's behavior is to compare a **mean** and **standard deviation** of each individual spider. Although, python numpy package can calculate it for you authomatically, it is useful to write your own user-definded fucntion to get an intuition for these common statistical measurmens."
   ]
  },
  {
   "cell_type": "markdown",
   "metadata": {},
   "source": [
    "### Write function for mean and standard deviation"
   ]
  },
  {
   "cell_type": "markdown",
   "metadata": {},
   "source": [
    "Write a function which calculate a mean of python series. Test your function on array and list to make sure that it works"
   ]
  },
  {
   "cell_type": "code",
   "execution_count": 18,
   "metadata": {},
   "outputs": [
    {
     "name": "stdout",
     "output_type": "stream",
     "text": [
      "2.5\n",
      "2.5\n"
     ]
    }
   ],
   "source": [
    "import numpy as np\n",
    "\n",
    "def mean_of_series(series):\n",
    "    mean_of_series = sum(series) / len(series)\n",
    "    return(mean_of_series)\n",
    "\n",
    "#Create a sample list and array to test your function\n",
    "test_list  = [1,2,3,4]\n",
    "test_array = np.array([1,2,3,4])\n",
    "\n",
    "print(mean_of_series(test_list))\n",
    "print(mean_of_series(test_array))"
   ]
  },
  {
   "cell_type": "markdown",
   "metadata": {},
   "source": [
    "Make a function to calculate standard deviation of python series. If you not sure how standard deviation is calculated, check out this [Khan academy guidelines](https://www.khanacademy.org/math/statistics-probability/summarizing-quantitative-data/variance-standard-deviation-population/a/calculating-standard-deviation-step-by-step). Test on list and array similar to the function for mean"
   ]
  },
  {
   "cell_type": "code",
   "execution_count": 42,
   "metadata": {},
   "outputs": [
    {
     "name": "stdout",
     "output_type": "stream",
     "text": [
      "1.8924362284876957\n",
      "2.0538094235362405\n"
     ]
    }
   ],
   "source": [
    "def std_of_series(series):\n",
    "    mean = mean_of_series(series)\n",
    "\n",
    "    std_of_series = np.sqrt(sum((x - mean) ** 2 for x in series) / len(series))\n",
    "    \n",
    "    return(std_of_series)\n",
    "\n",
    "test_list = [1, 2, 3, 2, 3, 1, 4, 5, 6, 7, 3, 2, 3, 2, 4, 1, 2, 2, 3, 4, 1, 1, 2, 3, 5, 7, -1, -2, 2, 3, 3, 3, 1, 2]\n",
    "\n",
    "test_normal_array = np.random.normal(size=1000, scale=2)\n",
    "\n",
    "print(std_of_series(test_list))\n",
    "print(std_of_series(test_normal_array))\n"
   ]
  },
  {
   "cell_type": "markdown",
   "metadata": {},
   "source": [
    "### Calculate mean and standard deviation for each spider."
   ]
  },
  {
   "cell_type": "markdown",
   "metadata": {},
   "source": [
    "Use your funciton to calculate mean and standard deviation for all spiders in our data frame. Test your calculations using numpy funciton for mean and standard deviation. Save the mean and standard deviation in a new data frame. Use example below as a template. Make sure to use loop for your data collection - your code shoudl work for a data file with any number of spiders"
   ]
  },
  {
   "cell_type": "code",
   "execution_count": 49,
   "metadata": {},
   "outputs": [
    {
     "data": {
      "text/html": [
       "<div>\n",
       "<style scoped>\n",
       "    .dataframe tbody tr th:only-of-type {\n",
       "        vertical-align: middle;\n",
       "    }\n",
       "\n",
       "    .dataframe tbody tr th {\n",
       "        vertical-align: top;\n",
       "    }\n",
       "\n",
       "    .dataframe thead th {\n",
       "        text-align: right;\n",
       "    }\n",
       "</style>\n",
       "<table border=\"1\" class=\"dataframe\">\n",
       "  <thead>\n",
       "    <tr style=\"text-align: right;\">\n",
       "      <th></th>\n",
       "      <th>Spider</th>\n",
       "      <th>Mean</th>\n",
       "      <th>Standard Deviation</th>\n",
       "    </tr>\n",
       "  </thead>\n",
       "  <tbody>\n",
       "    <tr>\n",
       "      <th>0</th>\n",
       "      <td>s2</td>\n",
       "      <td>0.453731</td>\n",
       "      <td>3.101773</td>\n",
       "    </tr>\n",
       "    <tr>\n",
       "      <th>1</th>\n",
       "      <td>s5</td>\n",
       "      <td>1.465672</td>\n",
       "      <td>5.373610</td>\n",
       "    </tr>\n",
       "    <tr>\n",
       "      <th>2</th>\n",
       "      <td>s6</td>\n",
       "      <td>1.614925</td>\n",
       "      <td>7.419886</td>\n",
       "    </tr>\n",
       "  </tbody>\n",
       "</table>\n",
       "</div>"
      ],
      "text/plain": [
       "  Spider      Mean  Standard Deviation\n",
       "0     s2  0.453731            3.101773\n",
       "1     s5  1.465672            5.373610\n",
       "2     s6  1.614925            7.419886"
      ]
     },
     "metadata": {},
     "output_type": "display_data"
    }
   ],
   "source": [
    "stats = []\n",
    "\n",
    "for col_name in df.columns[1:]:\n",
    "    series = df[col_name]\n",
    "\n",
    "    mean = mean_of_series(series)\n",
    "    std = std_of_series(series)\n",
    "    stats += [[col_name, mean, std]]\n",
    "\n",
    "stats_df = pd.DataFrame(data=stats, columns=[\"Spider\", \"Mean\", \"Standard Deviation\"])\n",
    "\n",
    "display(stats_df)\n",
    "\n",
    "    "
   ]
  },
  {
   "attachments": {
    "image.png": {
     "image/png": "[encoded data removed]"
    }
   },
   "cell_type": "markdown",
   "metadata": {},
   "source": [
    "![image.png](attachment:image.png)"
   ]
  },
  {
   "cell_type": "markdown",
   "metadata": {},
   "source": [
    "Do you think mean and standard deviation capture well the difference between the spiders?  "
   ]
  },
  {
   "cell_type": "markdown",
   "metadata": {},
   "source": [
    "I think that they do capture some of the differences between the spiders - I can tell that spiders 5 and 6 are obviously much more active overall than 2 by looking at the table. It also seems like the standard deviation can capture some information about whether the spider has a greater range activity overall. For example, by looking at the table I can tell that although spiders 5 and 6 have similar mean activities, spider 6 has a greater range of activities (higher peaks).\n",
    "\n",
    "However, there's some things that these statistics are missing, including anything to do with the time. For example, you could have two spiders with the exact same mean and standard deviation in activity, but one is active around 5:00 AM while the other is active around 5:00 PM. There is a clear difference in the two spiders, but the mean and standard deviation don't capture it."
   ]
  },
  {
   "cell_type": "markdown",
   "metadata": {},
   "source": [
    "## Experiment 2: Use moving average to understand trend in spider activity"
   ]
  },
  {
   "cell_type": "markdown",
   "metadata": {},
   "source": [
    "Although basic statistcs capturing well overall changes, we are interested do see how spider activity changes over time.You probabaly noticed that the spiders has a sustained activity for a while and then remian silent. It would be essential for us to know when such activity period starts and ends. However, the minute-to-minute acitivity has a lot of randomisity. It would be great to see a long term trend, but get rid of short-term noise. Basically, we want to take a spider activity curve an smooth is out. There is a lot of different ways to denoise the time series, but probably the easiest is just aggregate data by longer period of time. Let's just try to calculate activity over longer periods of time\n",
    "\n",
    "Write a funcion which take a time series of the spider and calculate average over every **n** minutes. Test your function by applying it to a first 20 min of spider **s2**. Average over, 2, 3, and 5 min. That is, you will have 2, 3, and 5 times less data. Print the average and original 20 min. Inspect visually to confirm that it works"
   ]
  },
  {
   "cell_type": "code",
   "execution_count": 68,
   "metadata": {},
   "outputs": [
    {
     "data": {
      "text/plain": [
       "[<matplotlib.lines.Line2D at 0x7ff4b0720b30>]"
      ]
     },
     "execution_count": 68,
     "metadata": {},
     "output_type": "execute_result"
    },
    {
     "data": {
      "image/png": "[encoded data removed]",
      "text/plain": [
       "<Figure size 640x480 with 2 Axes>"
      ]
     },
     "metadata": {},
     "output_type": "display_data"
    }
   ],
   "source": [
    "def aggregate_series(times, series, minutes):\n",
    "    times_result = []\n",
    "    result = []\n",
    "\n",
    "    for n in range(0, len(series), minutes):\n",
    "        times_result += [times[n]]\n",
    "        result += [np.average(series[n:n+minutes])]\n",
    "\n",
    "    return (times_result, result)\n",
    "\n",
    "times_f20 = times[0:20]\n",
    "s2_f20 = s2[0:20]\n",
    "\n",
    "times_agg, s2_agg = aggregate_series(times_f20, s2_f20, 4)\n",
    "\n",
    "fig, axs = plt.subplots(2, 1)\n",
    "\n",
    "axs[0].plot(times_f20, s2_f20)\n",
    "\n",
    "axs[1].plot(times_agg, s2_agg)"
   ]
  },
  {
   "cell_type": "markdown",
   "metadata": {},
   "source": [
    "Apply your function to all spider in the dataset. Make another 3-subplot figure. In each plot original and aggregated spider plot. Do you think aggregated plot capture the spider behavior? Do you think it is easier compare aggregated plots?"
   ]
  },
  {
   "cell_type": "code",
   "execution_count": null,
   "metadata": {},
   "outputs": [],
   "source": []
  },
  {
   "cell_type": "markdown",
   "metadata": {},
   "source": [
    "You probably noticed that with approach above we lost a lot of data. To avoid such data loss, it is commond to use Another common approach to de-noising called **moving avearage**. In this approach, the average is calculated for each point moving either forward of backward. This way, only few points in the beginig or end is lost.Here is [some resources](https://www.statisticshowto.com/probability-and-statistics/statistics-definitions/moving-average/) on calculating moving average.\n",
    "\n",
    "Make a function which take a series and calcualtes it's moving average. The first/or last points which cannot be calculation should be empty(use np.NaN to do so). Test your function by applying it to a first 20 min of spider **s2**. Average over, 2, 3, and 5 min.Print the average and original 20 min. Inspect visually to confirm that it works"
   ]
  },
  {
   "cell_type": "code",
   "execution_count": null,
   "metadata": {},
   "outputs": [],
   "source": []
  },
  {
   "cell_type": "markdown",
   "metadata": {},
   "source": [
    "Apply your function to all spider in the dataset. Make another 3-subplot figure. In each plot original and arolling average. Experiment with number of points you average out (this is usually referred as *rolling window*). Which rolling window give you the best de-noising?"
   ]
  },
  {
   "cell_type": "code",
   "execution_count": null,
   "metadata": {},
   "outputs": [],
   "source": []
  },
  {
   "cell_type": "markdown",
   "metadata": {},
   "source": [
    "## Experiment 3: Does light affect spider activity?"
   ]
  },
  {
   "cell_type": "markdown",
   "metadata": {},
   "source": [
    "The file **'Practice 2_data1.csv'** contains example of several days of spider activity. It also has a column which has information about the light (0-dark, 1-light). Use rolling average to demonstrate activity of spiders in the data set and their responce to light. Do you think spiders respond to a light? Do you think the responce is similar/different among spiders. Make a visualizatio and some kind of quantitative measures to answer this question"
   ]
  },
  {
   "cell_type": "code",
   "execution_count": null,
   "metadata": {},
   "outputs": [],
   "source": []
  }
 ],
 "metadata": {
  "kernelspec": {
   "display_name": "Python 3",
   "language": "python",
   "name": "python3"
  },
  "language_info": {
   "codemirror_mode": {
    "name": "ipython",
    "version": 3
   },
   "file_extension": ".py",
   "mimetype": "text/x-python",
   "name": "python",
   "nbconvert_exporter": "python",
   "pygments_lexer": "ipython3",
   "version": "3.12.0"
  }
 },
 "nbformat": 4,
 "nbformat_minor": 2
}
