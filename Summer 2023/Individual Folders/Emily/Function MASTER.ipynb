{
 "cells": [
  {
   "cell_type": "code",
   "execution_count": 1,
   "id": "2d9fdcc2",
   "metadata": {},
   "outputs": [],
   "source": [
    "import pandas as pd\n",
    "import numpy as np\n",
    "import matplotlib.pyplot as plt\n",
    "\n",
    "#Input:\n",
    "df = pd.read_csv(\"Metazygia monitor 1.csv\")\n",
    "min_day=1440\n",
    "total_time = len(df.index)\n",
    "num_days = total_time//min_day\n",
    "column=df.columns[2:]"
   ]
  },
  {
   "cell_type": "code",
   "execution_count": 2,
   "id": "c84a7671",
   "metadata": {},
   "outputs": [],
   "source": [
    "#Create uniform y-axis limit\n",
    "def create_ylimit(df):\n",
    "    #find the standard deviation and mean of each column from the dataset without zeros\n",
    "    df_limit=df.replace(0, np.nan)\n",
    "    std=df_limit.std()\n",
    "    mean=df_limit.mean()\n",
    "    #Find mean and standard deviation of all of the data\n",
    "    df_mean=np.mean(mean)\n",
    "    df_std =np.mean(std)\n",
    "    #y limit = mean of the dataframe plus 3 standard deviations\n",
    "    y_limit = df_mean +3*df_std\n",
    "    return y_limit"
   ]
  },
  {
   "cell_type": "code",
   "execution_count": 3,
   "id": "bf507cd6",
   "metadata": {},
   "outputs": [],
   "source": [
    "#Determine when lights are on and off so it can be plotted on the raster plots\n",
    "def plot_night(df): \n",
    "    for time in range(1, len(df.index)):\n",
    "        global start1\n",
    "        global end1\n",
    "        global start2\n",
    "        global end2\n",
    "        if df.lights[time] == 1: \n",
    "            lights_on = True\n",
    "        else:\n",
    "            lights_on = False\n",
    "        #determine when lights are off initially (0:00:00)\n",
    "        if lights_on == False and time-1==0:\n",
    "            start1 = time\n",
    "        #determine if the lights are on and they were off previously\n",
    "        if lights_on == True and df.lights[time-1] == 0:\n",
    "            end1 = time+1\n",
    "        #For the LD cycle, when do the lights turn off again\n",
    "        if lights_on==False and df.lights[time-1] == 1:\n",
    "            start2 = time\n",
    "        #For the LD cycle, when does the day end\n",
    "        if lights_on==False and time==( len(df.index)-2):\n",
    "            end2= time"
   ]
  },
  {
   "cell_type": "code",
   "execution_count": 4,
   "id": "abd37747",
   "metadata": {},
   "outputs": [],
   "source": [
    "#Plot activity in subplots\n",
    "#Imput:Dataframe, List of spiders in df, Specific Spider from list, \n",
    "#Label for subplots, variable from \"create_ylimit\" funnction \n",
    "#All variables will be named in final raster plot function\n",
    "def plot_raster( df, column, spider, ax, y): \n",
    "    for i in range(0,num_days ):\n",
    "        #Separate dataframe into sections of 1440 minutes(minutes in a day) and plot the \n",
    "        #activity for each day\n",
    "        ax[i].plot(df['time'][min_day*i:min_day*(i+1)], df[column[spider]][min_day*i:min_day*(i+1)], color='blue')\n",
    "        #Label the days\n",
    "        df['temp_date']=pd.to_datetime(df['Date_Time']).dt.date\n",
    "        ax[i].set_ylabel(str(df.temp_date[i*min_day]))\n",
    "        df = df.drop(['temp_date'], axis = 1)\n",
    "        ax[i].set_xticks([])\n",
    "        # the y limit is the mean plus 3 standard deviations\n",
    "        ax[i].set_ylim(0,y)\n",
    "        #setting instructions for shading the graph when the lights are off\n",
    "        df1=df[min_day*(i):min_day*(i+1)]\n",
    "        df1=df1.reset_index()\n",
    "        #Make DD plots all grey\n",
    "        if np.mean(df1.lights)==0:\n",
    "            ax[i].axvspan(0,min_day, alpha=.5,color='grey')\n",
    "        #Run function to determine when lights are off during LD cycle\n",
    "        else:\n",
    "            plot_night(df1)\n",
    "            ax[i].axvspan(start1, end1, alpha=0.5, color='grey')\n",
    "            ax[i].axvspan(start2, end2,alpha=0.5, color='grey')"
   ]
  },
  {
   "cell_type": "code",
   "execution_count": 5,
   "id": "2733f095",
   "metadata": {},
   "outputs": [],
   "source": [
    "#Combine all funtions to make raster plots for all spiders given a data frame and list of spiders\n",
    "def spider_raster(df):\n",
    "    #create a copy and separate the date and time for reference\n",
    "    df_time = df.copy()\n",
    "    df_time[[\"day\", \"time\"]] = df_time[\"Date_Time\"].str.split(\" \", expand = True)\n",
    "    \n",
    "    #for loop for creating figures for the number of spiders in the dataframe\n",
    "    for spider in  range(0, len(column)):\n",
    "        fig, ax=plt.subplots(num_days,1, figsize=(8,12), sharey=True, sharex=True)\n",
    "        fig.suptitle(column[spider], fontsize=16)        \n",
    "        #setting the y axis limit\n",
    "        y = create_ylimit(df) \n",
    "        #plotting the raster plots\n",
    "        plot_raster(df_time, column, spider, ax, y)\n",
    "        #plot x axis\n",
    "        ax[num_days-1].set_xticks(range(0, min_day, 360)) \n",
    "        plt.xlabel('Time')\n",
    "        #save figure\n",
    "        #fig.savefig(column[spider] +'raster.jpg')\n",
    "        plt.show()\n",
    "        print('Next spider')"
   ]
  },
  {
   "cell_type": "code",
   "execution_count": 6,
   "id": "eec00a42",
   "metadata": {},
   "outputs": [],
   "source": [
    "#Function to drop incomplete days from the data set\n",
    "def wholedays(df):\n",
    "    start = df.index[df['Time']=='00:00:00']\n",
    "    end=df.index[df['Time']=='23:59:00']\n",
    "    newdf=df[start[0]:(end[-1]+1)]\n",
    "    return newdf"
   ]
  },
  {
   "cell_type": "code",
   "execution_count": 7,
   "id": "f47f6b08",
   "metadata": {},
   "outputs": [],
   "source": [
    "#Funtion to set the index as the Date and Time\n",
    "def setindex(df):\n",
    "    df['Date_Time']=pd.to_datetime(df['Date'] + ' ' + df['Time'])\n",
    "    df = df.set_index(pd.DatetimeIndex(df['Date_Time']))\n",
    "    df = df.drop(['Date', 'Time'], axis = 1)\n",
    "    return df"
   ]
  },
  {
   "cell_type": "code",
   "execution_count": 8,
   "id": "37dbf7c2",
   "metadata": {},
   "outputs": [],
   "source": [
    "#Funtion to convert txt file to csv file\n",
    "def txt_to_csv(txt):\n",
    "    df=pd.read_csv(txt+'.txt',delimiter = \"\\t\")\n",
    "    df.to_csv(txt+'.csv', index = None)\n",
    "    dfcsv = pd.read_csv(str(txt)+'.csv')\n",
    "#Dropping random empty columns\n",
    "    df1 = dfcsv.iloc[:, 1:3] \n",
    "    df1 = df1.join(dfcsv.iloc[:, -33:])\n",
    "#Create column names for each spider\n",
    "    columns=[]\n",
    "    for i in range(0,32):\n",
    "        columns.append('Monitor 1 Spider '+str(i+1))\n",
    "    columns_names = [ 'Date', 'Time', 'lights']\n",
    "    column_names=np.concatenate((columns_names, columns))\n",
    "    df1.columns = column_names\n",
    "#Run functions to drop incomplete days and set index\n",
    "    df1=wholedays(df1)\n",
    "    df1=setindex(df1)\n",
    "    return(df1)\n",
    "    \n",
    "    \n",
    "#Input example:\n",
    "#df1=txt_to_csv('Metazygia monitor 1' )\n"
   ]
  },
  {
   "cell_type": "code",
   "execution_count": 10,
   "id": "b7762534",
   "metadata": {},
   "outputs": [],
   "source": [
    "#Split DataFrame into LD and DD DataFrames\n",
    "def LDandDD(df):\n",
    "    #Run for loop to check the light activity of each day\n",
    "    for i in range(0,num_days):\n",
    "        dfnew=df[min_day*(i):min_day*(i+1)]\n",
    "        dfnew=dfnew.reset_index(drop=True)\n",
    "        #Find the first day of the DD cycle. This is where we will split the \n",
    "        #DataFrame\n",
    "        if np.mean(dfnew.lights)==0:\n",
    "            end=min_day*i\n",
    "            break\n",
    "    LDdf=df1.iloc[:end]\n",
    "    DDdf=df1.iloc[end:]\n",
    "    return LDdf, DDdf\n",
    "\n",
    "#LDdf, DDdf = LDandDD(df1)"
   ]
  },
  {
   "cell_type": "code",
   "execution_count": null,
   "id": "d7e7dada",
   "metadata": {},
   "outputs": [],
   "source": []
  }
 ],
 "metadata": {
  "kernelspec": {
   "display_name": "Python 3",
   "language": "python",
   "name": "python3"
  },
  "language_info": {
   "codemirror_mode": {
    "name": "ipython",
    "version": 3
   },
   "file_extension": ".py",
   "mimetype": "text/x-python",
   "name": "python",
   "nbconvert_exporter": "python",
   "pygments_lexer": "ipython3",
   "version": "3.8.8"
  }
 },
 "nbformat": 4,
 "nbformat_minor": 5
}
