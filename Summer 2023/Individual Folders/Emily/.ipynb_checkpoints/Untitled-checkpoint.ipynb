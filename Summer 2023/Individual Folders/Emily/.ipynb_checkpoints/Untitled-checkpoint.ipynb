{
 "cells": [
  {
   "cell_type": "code",
   "execution_count": 4,
   "id": "b7797463",
   "metadata": {},
   "outputs": [],
   "source": [
    "#import pyActigraphy\n",
    "#from pyActigraphy.analysis import Cosinor\n",
    "import pandas as pd\n",
    "import numpy as np"
   ]
  },
  {
   "cell_type": "code",
   "execution_count": 5,
   "id": "2cf4d9c8",
   "metadata": {},
   "outputs": [
    {
     "data": {
      "text/html": [
       "<div>\n",
       "<style scoped>\n",
       "    .dataframe tbody tr th:only-of-type {\n",
       "        vertical-align: middle;\n",
       "    }\n",
       "\n",
       "    .dataframe tbody tr th {\n",
       "        vertical-align: top;\n",
       "    }\n",
       "\n",
       "    .dataframe thead th {\n",
       "        text-align: right;\n",
       "    }\n",
       "</style>\n",
       "<table border=\"1\" class=\"dataframe\">\n",
       "  <thead>\n",
       "    <tr style=\"text-align: right;\">\n",
       "      <th></th>\n",
       "      <th>Date_Time</th>\n",
       "      <th>Monitor 1 Spider 12</th>\n",
       "    </tr>\n",
       "  </thead>\n",
       "  <tbody>\n",
       "    <tr>\n",
       "      <th>0</th>\n",
       "      <td>2017-04-26 00:00:00</td>\n",
       "      <td>7</td>\n",
       "    </tr>\n",
       "    <tr>\n",
       "      <th>1</th>\n",
       "      <td>2017-04-26 00:01:00</td>\n",
       "      <td>2</td>\n",
       "    </tr>\n",
       "    <tr>\n",
       "      <th>2</th>\n",
       "      <td>2017-04-26 00:02:00</td>\n",
       "      <td>7</td>\n",
       "    </tr>\n",
       "    <tr>\n",
       "      <th>3</th>\n",
       "      <td>2017-04-26 00:03:00</td>\n",
       "      <td>10</td>\n",
       "    </tr>\n",
       "    <tr>\n",
       "      <th>4</th>\n",
       "      <td>2017-04-26 00:04:00</td>\n",
       "      <td>0</td>\n",
       "    </tr>\n",
       "    <tr>\n",
       "      <th>...</th>\n",
       "      <td>...</td>\n",
       "      <td>...</td>\n",
       "    </tr>\n",
       "    <tr>\n",
       "      <th>12955</th>\n",
       "      <td>2017-05-04 23:55:00</td>\n",
       "      <td>0</td>\n",
       "    </tr>\n",
       "    <tr>\n",
       "      <th>12956</th>\n",
       "      <td>2017-05-04 23:56:00</td>\n",
       "      <td>0</td>\n",
       "    </tr>\n",
       "    <tr>\n",
       "      <th>12957</th>\n",
       "      <td>2017-05-04 23:57:00</td>\n",
       "      <td>0</td>\n",
       "    </tr>\n",
       "    <tr>\n",
       "      <th>12958</th>\n",
       "      <td>2017-05-04 23:58:00</td>\n",
       "      <td>0</td>\n",
       "    </tr>\n",
       "    <tr>\n",
       "      <th>12959</th>\n",
       "      <td>2017-05-04 23:59:00</td>\n",
       "      <td>0</td>\n",
       "    </tr>\n",
       "  </tbody>\n",
       "</table>\n",
       "<p>12960 rows × 2 columns</p>\n",
       "</div>"
      ],
      "text/plain": [
       "                 Date_Time  Monitor 1 Spider 12\n",
       "0      2017-04-26 00:00:00                    7\n",
       "1      2017-04-26 00:01:00                    2\n",
       "2      2017-04-26 00:02:00                    7\n",
       "3      2017-04-26 00:03:00                   10\n",
       "4      2017-04-26 00:04:00                    0\n",
       "...                    ...                  ...\n",
       "12955  2017-05-04 23:55:00                    0\n",
       "12956  2017-05-04 23:56:00                    0\n",
       "12957  2017-05-04 23:57:00                    0\n",
       "12958  2017-05-04 23:58:00                    0\n",
       "12959  2017-05-04 23:59:00                    0\n",
       "\n",
       "[12960 rows x 2 columns]"
      ]
     },
     "metadata": {},
     "output_type": "display_data"
    }
   ],
   "source": [
    "df1= pd.read_csv('Metazygia monitor 1-test.csv',index_col=0)\n",
    "df=df1.loc[:,['Monitor 1 Spider 12']]\n",
    "df=df.iloc[7200:]\n",
    "df=df.reset_index()\n",
    "\n",
    "cosinor = Cosinor()\n",
    "display(df)"
   ]
  },
  {
   "cell_type": "code",
   "execution_count": 68,
   "id": "9ab3144c",
   "metadata": {},
   "outputs": [],
   "source": [
    "raw = pyActigraphy.io.read_raw('example_01.AWD', start_time='1918-01-24 08:30:00', period=\"7D\", reader_type='AWD')"
   ]
  },
  {
   "cell_type": "code",
   "execution_count": 77,
   "id": "97f625de",
   "metadata": {},
   "outputs": [
    {
     "name": "stdout",
     "output_type": "stream",
     "text": [
      "No match found for the string: Serial number.\n"
     ]
    },
    {
     "ename": "AttributeError",
     "evalue": "'NoneType' object has no attribute 'split'",
     "output_type": "error",
     "traceback": [
      "\u001b[1;31m---------------------------------------------------------------------------\u001b[0m",
      "\u001b[1;31mAttributeError\u001b[0m                            Traceback (most recent call last)",
      "\u001b[1;32m<ipython-input-77-6680ccac1ef9>\u001b[0m in \u001b[0;36m<module>\u001b[1;34m\u001b[0m\n\u001b[1;32m----> 1\u001b[1;33m \u001b[0mraw1\u001b[0m \u001b[1;33m=\u001b[0m \u001b[0mpyActigraphy\u001b[0m\u001b[1;33m.\u001b[0m\u001b[0mio\u001b[0m\u001b[1;33m.\u001b[0m\u001b[0mread_raw_dqt\u001b[0m\u001b[1;33m(\u001b[0m\u001b[1;34m'Metazygia monitor 1-test.csv'\u001b[0m\u001b[1;33m)\u001b[0m\u001b[1;33m\u001b[0m\u001b[1;33m\u001b[0m\u001b[0m\n\u001b[0m",
      "\u001b[1;32m~\\AppData\\Roaming\\Python\\Python38\\site-packages\\pyActigraphy\\io\\dqt\\dqt.py\u001b[0m in \u001b[0;36mread_raw_dqt\u001b[1;34m(input_fname, name, header_size, start_time, period)\u001b[0m\n\u001b[0;32m    192\u001b[0m     \"\"\"\n\u001b[0;32m    193\u001b[0m \u001b[1;33m\u001b[0m\u001b[0m\n\u001b[1;32m--> 194\u001b[1;33m     return RawDQT(\n\u001b[0m\u001b[0;32m    195\u001b[0m         \u001b[0minput_fname\u001b[0m\u001b[1;33m=\u001b[0m\u001b[0minput_fname\u001b[0m\u001b[1;33m,\u001b[0m\u001b[1;33m\u001b[0m\u001b[1;33m\u001b[0m\u001b[0m\n\u001b[0;32m    196\u001b[0m         \u001b[0mname\u001b[0m\u001b[1;33m=\u001b[0m\u001b[0mname\u001b[0m\u001b[1;33m,\u001b[0m\u001b[1;33m\u001b[0m\u001b[1;33m\u001b[0m\u001b[0m\n",
      "\u001b[1;32m~\\AppData\\Roaming\\Python\\Python38\\site-packages\\pyActigraphy\\io\\dqt\\dqt.py\u001b[0m in \u001b[0;36m__init__\u001b[1;34m(self, input_fname, name, header_size, start_time, period)\u001b[0m\n\u001b[0;32m     49\u001b[0m \u001b[1;33m\u001b[0m\u001b[0m\n\u001b[0;32m     50\u001b[0m         \u001b[1;31m# extract informations from the header\u001b[0m\u001b[1;33m\u001b[0m\u001b[1;33m\u001b[0m\u001b[1;33m\u001b[0m\u001b[0m\n\u001b[1;32m---> 51\u001b[1;33m         \u001b[0muuid\u001b[0m \u001b[1;33m=\u001b[0m \u001b[0mself\u001b[0m\u001b[1;33m.\u001b[0m\u001b[0m__extract_dqt_uuid\u001b[0m\u001b[1;33m(\u001b[0m\u001b[0mheader\u001b[0m\u001b[1;33m)\u001b[0m\u001b[1;33m\u001b[0m\u001b[1;33m\u001b[0m\u001b[0m\n\u001b[0m\u001b[0;32m     52\u001b[0m         \u001b[1;32mif\u001b[0m \u001b[0mname\u001b[0m \u001b[1;32mis\u001b[0m \u001b[1;32mNone\u001b[0m\u001b[1;33m:\u001b[0m\u001b[1;33m\u001b[0m\u001b[1;33m\u001b[0m\u001b[0m\n\u001b[0;32m     53\u001b[0m             \u001b[0mname\u001b[0m \u001b[1;33m=\u001b[0m \u001b[0muuid\u001b[0m\u001b[1;33m\u001b[0m\u001b[1;33m\u001b[0m\u001b[0m\n",
      "\u001b[1;32m~\\AppData\\Roaming\\Python\\Python38\\site-packages\\pyActigraphy\\io\\dqt\\dqt.py\u001b[0m in \u001b[0;36m__extract_dqt_uuid\u001b[1;34m(cls, header)\u001b[0m\n\u001b[0;32m    141\u001b[0m     \u001b[1;32mdef\u001b[0m \u001b[0m__extract_dqt_uuid\u001b[0m\u001b[1;33m(\u001b[0m\u001b[0mcls\u001b[0m\u001b[1;33m,\u001b[0m \u001b[0mheader\u001b[0m\u001b[1;33m)\u001b[0m\u001b[1;33m:\u001b[0m\u001b[1;33m\u001b[0m\u001b[1;33m\u001b[0m\u001b[0m\n\u001b[0;32m    142\u001b[0m         \u001b[0muuidstr\u001b[0m \u001b[1;33m=\u001b[0m \u001b[0mcls\u001b[0m\u001b[1;33m.\u001b[0m\u001b[0m__match_string\u001b[0m\u001b[1;33m(\u001b[0m\u001b[0mheader\u001b[0m\u001b[1;33m=\u001b[0m\u001b[0mheader\u001b[0m\u001b[1;33m,\u001b[0m \u001b[0mmatch\u001b[0m\u001b[1;33m=\u001b[0m\u001b[1;34m'Serial number'\u001b[0m\u001b[1;33m)\u001b[0m\u001b[1;33m\u001b[0m\u001b[1;33m\u001b[0m\u001b[0m\n\u001b[1;32m--> 143\u001b[1;33m         \u001b[1;32mreturn\u001b[0m \u001b[0muuidstr\u001b[0m\u001b[1;33m.\u001b[0m\u001b[0msplit\u001b[0m\u001b[1;33m(\u001b[0m\u001b[1;34m','\u001b[0m\u001b[1;33m)\u001b[0m\u001b[1;33m[\u001b[0m\u001b[1;36m1\u001b[0m\u001b[1;33m]\u001b[0m\u001b[1;33m\u001b[0m\u001b[1;33m\u001b[0m\u001b[0m\n\u001b[0m\u001b[0;32m    144\u001b[0m \u001b[1;33m\u001b[0m\u001b[0m\n\u001b[0;32m    145\u001b[0m     \u001b[1;33m@\u001b[0m\u001b[0mclassmethod\u001b[0m\u001b[1;33m\u001b[0m\u001b[1;33m\u001b[0m\u001b[0m\n",
      "\u001b[1;31mAttributeError\u001b[0m: 'NoneType' object has no attribute 'split'"
     ]
    }
   ],
   "source": [
    "raw1 = pyActigraphy.io.read_raw_dqt('Metazygia monitor 1-test.csv')"
   ]
  },
  {
   "cell_type": "code",
   "execution_count": 70,
   "id": "600ef927",
   "metadata": {},
   "outputs": [
    {
     "ename": "AttributeError",
     "evalue": "'RawReader' object has no attribute 'index'",
     "output_type": "error",
     "traceback": [
      "\u001b[1;31m---------------------------------------------------------------------------\u001b[0m",
      "\u001b[1;31mAttributeError\u001b[0m                            Traceback (most recent call last)",
      "\u001b[1;32m<ipython-input-70-384196ade790>\u001b[0m in \u001b[0;36m<module>\u001b[1;34m\u001b[0m\n\u001b[1;32m----> 1\u001b[1;33m \u001b[0mresults\u001b[0m \u001b[1;33m=\u001b[0m \u001b[0mcosinor\u001b[0m\u001b[1;33m.\u001b[0m\u001b[0mfit\u001b[0m\u001b[1;33m(\u001b[0m\u001b[0mraw\u001b[0m\u001b[1;33m,\u001b[0m \u001b[0mverbose\u001b[0m\u001b[1;33m=\u001b[0m\u001b[1;32mTrue\u001b[0m\u001b[1;33m)\u001b[0m \u001b[1;31m# Set verbose to True to print the fit output\u001b[0m\u001b[1;33m\u001b[0m\u001b[1;33m\u001b[0m\u001b[0m\n\u001b[0m",
      "\u001b[1;32m~\\AppData\\Roaming\\Python\\Python38\\site-packages\\pyActigraphy\\analysis\\cosinor.py\u001b[0m in \u001b[0;36mfit\u001b[1;34m(self, ts, params, method, nan_policy, reduce_fcn, verbose)\u001b[0m\n\u001b[0;32m    131\u001b[0m         \u001b[1;31m# Define the x range by converting timestamps to indices, in order to\u001b[0m\u001b[1;33m\u001b[0m\u001b[1;33m\u001b[0m\u001b[1;33m\u001b[0m\u001b[0m\n\u001b[0;32m    132\u001b[0m         \u001b[1;31m# deal with time series with irregular index.\u001b[0m\u001b[1;33m\u001b[0m\u001b[1;33m\u001b[0m\u001b[1;33m\u001b[0m\u001b[0m\n\u001b[1;32m--> 133\u001b[1;33m         \u001b[0mx\u001b[0m \u001b[1;33m=\u001b[0m \u001b[0mself\u001b[0m\u001b[1;33m.\u001b[0m\u001b[0m_convert_timestamp_to_index\u001b[0m\u001b[1;33m(\u001b[0m\u001b[0mts\u001b[0m\u001b[1;33m)\u001b[0m\u001b[1;33m\u001b[0m\u001b[1;33m\u001b[0m\u001b[0m\n\u001b[0m\u001b[0;32m    134\u001b[0m \u001b[1;33m\u001b[0m\u001b[0m\n\u001b[0;32m    135\u001b[0m         \u001b[1;31m# Minimize residuals\u001b[0m\u001b[1;33m\u001b[0m\u001b[1;33m\u001b[0m\u001b[1;33m\u001b[0m\u001b[0m\n",
      "\u001b[1;32m~\\AppData\\Roaming\\Python\\Python38\\site-packages\\pyActigraphy\\analysis\\cosinor.py\u001b[0m in \u001b[0;36m_convert_timestamp_to_index\u001b[1;34m(ts)\u001b[0m\n\u001b[0;32m     55\u001b[0m         \u001b[1;31m# Define the x range by converting timestamps to indices, in order to\u001b[0m\u001b[1;33m\u001b[0m\u001b[1;33m\u001b[0m\u001b[1;33m\u001b[0m\u001b[0m\n\u001b[0;32m     56\u001b[0m         \u001b[1;31m# deal with time series with irregular index.\u001b[0m\u001b[1;33m\u001b[0m\u001b[1;33m\u001b[0m\u001b[1;33m\u001b[0m\u001b[0m\n\u001b[1;32m---> 57\u001b[1;33m         \u001b[0mx\u001b[0m \u001b[1;33m=\u001b[0m \u001b[1;33m(\u001b[0m\u001b[1;33m(\u001b[0m\u001b[0mts\u001b[0m\u001b[1;33m.\u001b[0m\u001b[0mindex\u001b[0m \u001b[1;33m-\u001b[0m \u001b[0mts\u001b[0m\u001b[1;33m.\u001b[0m\u001b[0mindex\u001b[0m\u001b[1;33m[\u001b[0m\u001b[1;36m0\u001b[0m\u001b[1;33m]\u001b[0m\u001b[1;33m)\u001b[0m\u001b[1;33m/\u001b[0m\u001b[0mts\u001b[0m\u001b[1;33m.\u001b[0m\u001b[0mindex\u001b[0m\u001b[1;33m.\u001b[0m\u001b[0mfreq\u001b[0m\u001b[1;33m)\u001b[0m\u001b[1;33m.\u001b[0m\u001b[0mvalues\u001b[0m\u001b[1;33m\u001b[0m\u001b[1;33m\u001b[0m\u001b[0m\n\u001b[0m\u001b[0;32m     58\u001b[0m         \u001b[1;32mreturn\u001b[0m \u001b[0mx\u001b[0m\u001b[1;33m\u001b[0m\u001b[1;33m\u001b[0m\u001b[0m\n\u001b[0;32m     59\u001b[0m \u001b[1;33m\u001b[0m\u001b[0m\n",
      "\u001b[1;31mAttributeError\u001b[0m: 'RawReader' object has no attribute 'index'"
     ]
    }
   ],
   "source": [
    "results = cosinor.fit(raw, verbose=True) # Set verbose to True to print the fit output"
   ]
  },
  {
   "cell_type": "code",
   "execution_count": 50,
   "id": "3ba11c4a",
   "metadata": {},
   "outputs": [
    {
     "name": "stdout",
     "output_type": "stream",
     "text": [
      "Name          Value      Min      Max   Stderr     Vary     Expr Brute_Step\n",
      "Acrophase     3.142        0    6.283     None     True     None     None\n",
      "Amplitude        50        0      inf     None     True     None     None\n",
      "Mesor            50        0      inf     None     True     None     None\n",
      "Period         1440        0      inf     None     True     None     None\n"
     ]
    }
   ],
   "source": [
    "import plotly.graph_objects as go\n",
    "cosinor.fit_initial_params.pretty_print()"
   ]
  },
  {
   "cell_type": "code",
   "execution_count": 65,
   "id": "210b6d87",
   "metadata": {},
   "outputs": [
    {
     "data": {
      "text/plain": [
       "<pyActigraphy.io.reader.reader.RawReader at 0x17ad1afb670>"
      ]
     },
     "metadata": {},
     "output_type": "display_data"
    }
   ],
   "source": [
    "readers = pyActigraphy.io.read_raw('example_*.AWD', reader_type='AWD')\n",
    "len(readers.readers)\n"
   ]
  },
  {
   "cell_type": "code",
   "execution_count": 63,
   "id": "162442cd",
   "metadata": {},
   "outputs": [],
   "source": [
    "results_batch = cosinor.fit_reader(readers, n_jobs=3, prefer='threads') # prefer='threads': add that parameter if running on Mac OS.\n"
   ]
  },
  {
   "cell_type": "code",
   "execution_count": 64,
   "id": "c65ae642",
   "metadata": {},
   "outputs": [
    {
     "data": {
      "text/html": [
       "<div>\n",
       "<style scoped>\n",
       "    .dataframe tbody tr th:only-of-type {\n",
       "        vertical-align: middle;\n",
       "    }\n",
       "\n",
       "    .dataframe tbody tr th {\n",
       "        vertical-align: top;\n",
       "    }\n",
       "\n",
       "    .dataframe thead th {\n",
       "        text-align: right;\n",
       "    }\n",
       "</style>\n",
       "<table border=\"1\" class=\"dataframe\">\n",
       "  <thead>\n",
       "    <tr style=\"text-align: right;\">\n",
       "      <th></th>\n",
       "      <th>Amplitude</th>\n",
       "      <th>Acrophase</th>\n",
       "      <th>Period</th>\n",
       "      <th>Mesor</th>\n",
       "      <th>BIC</th>\n",
       "      <th>RedChiSq</th>\n",
       "    </tr>\n",
       "  </thead>\n",
       "  <tbody>\n",
       "    <tr>\n",
       "      <th>example_01</th>\n",
       "      <td>1.387660e-08</td>\n",
       "      <td>3.017009</td>\n",
       "      <td>1443.453625</td>\n",
       "      <td>140.988195</td>\n",
       "      <td>204975.575725</td>\n",
       "      <td>68696.548902</td>\n",
       "    </tr>\n",
       "  </tbody>\n",
       "</table>\n",
       "</div>"
      ],
      "text/plain": [
       "               Amplitude  Acrophase       Period       Mesor            BIC  \\\n",
       "example_01  1.387660e-08   3.017009  1443.453625  140.988195  204975.575725   \n",
       "\n",
       "                RedChiSq  \n",
       "example_01  68696.548902  "
      ]
     },
     "execution_count": 64,
     "metadata": {},
     "output_type": "execute_result"
    }
   ],
   "source": [
    "results_batch"
   ]
  },
  {
   "cell_type": "code",
   "execution_count": 25,
   "id": "5b5250c1",
   "metadata": {},
   "outputs": [
    {
     "data": {
      "text/plain": [
       "nan"
      ]
     },
     "execution_count": 25,
     "metadata": {},
     "output_type": "execute_result"
    },
    {
     "data": {
      "image/png": "[encoded data removed]",
      "text/plain": [
       "<Figure size 432x288 with 1 Axes>"
      ]
     },
     "metadata": {
      "needs_background": "light"
     },
     "output_type": "display_data"
    }
   ],
   "source": [
    "from astropy.timeseries import LombScargle\n",
    "import gatspy\n",
    "\n",
    "df=pd.read_csv('Metazygia monitor 1-test.csv', index_col=0)\n",
    "dfdark=df.iloc[7200:]\n",
    "dflight=df.iloc[:7200]\n",
    "dfcos=dfdark.loc[:,['lights','Monitor 1 Spider 6']]\n",
    "dfcos['test']='Spider'\n",
    "dfcos['real']=dfdark['Monitor 1 Spider 6']\n",
    "dfcos['y']=dfcos['real'].rolling(window=60).mean()\n",
    "dfcos['x']=range(0,len(dfcos.real))\n",
    "#dfcos=dfcos.drop(columns=['lights', 'Monitor 1 Spider 21'])\n",
    "dfcos=dfcos.dropna()\n",
    "\n",
    "\n",
    "time = range(len(dfcos.x))\n",
    "move = dfcos['real'].values\n",
    "\n",
    "\n",
    "\n",
    "lss = LombScargle(time, move)\n",
    "\n",
    "freq, power = lss.autopower()\n",
    "lss.false_alarm_probability(power.max()) \n",
    "plt.plot(frequency, power) \n",
    "import matplotlib.pyplot as plt  \n",
    " \n",
    "\n",
    "dy = 0.1\n",
    "ls = LombScargle(move, time, dy)\n",
    "\n",
    "\n",
    "freq, power = ls.autopower()\n",
    "ls.false_alarm_probability(power.max()) \n",
    "#lss.false_alarm_probability(power.max()) "
   ]
  },
  {
   "cell_type": "code",
   "execution_count": 21,
   "id": "2b258540",
   "metadata": {},
   "outputs": [
    {
     "ename": "NameError",
     "evalue": "name 'gatspy' is not defined",
     "output_type": "error",
     "traceback": [
      "\u001b[1;31m---------------------------------------------------------------------------\u001b[0m",
      "\u001b[1;31mNameError\u001b[0m                                 Traceback (most recent call last)",
      "\u001b[1;32m<ipython-input-21-23fb6af9d31a>\u001b[0m in \u001b[0;36m<module>\u001b[1;34m\u001b[0m\n\u001b[1;32m----> 1\u001b[1;33m \u001b[0mgatspy\u001b[0m\u001b[1;33m.\u001b[0m\u001b[0mfap\u001b[0m\u001b[1;33m(\u001b[0m\u001b[1;33m)\u001b[0m\u001b[1;33m\u001b[0m\u001b[1;33m\u001b[0m\u001b[0m\n\u001b[0m",
      "\u001b[1;31mNameError\u001b[0m: name 'gatspy' is not defined"
     ]
    }
   ],
   "source": [
    "gatspy.fap()"
   ]
  },
  {
   "cell_type": "code",
   "execution_count": null,
   "id": "1dc130e7",
   "metadata": {},
   "outputs": [],
   "source": []
  }
 ],
 "metadata": {
  "kernelspec": {
   "display_name": "Python 3",
   "language": "python",
   "name": "python3"
  },
  "language_info": {
   "codemirror_mode": {
    "name": "ipython",
    "version": 3
   },
   "file_extension": ".py",
   "mimetype": "text/x-python",
   "name": "python",
   "nbconvert_exporter": "python",
   "pygments_lexer": "ipython3",
   "version": "3.8.8"
  }
 },
 "nbformat": 4,
 "nbformat_minor": 5
}
