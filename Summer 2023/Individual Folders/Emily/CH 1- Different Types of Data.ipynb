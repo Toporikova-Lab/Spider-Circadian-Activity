{
 "cells": [
  {
   "cell_type": "code",
   "execution_count": 1,
   "metadata": {},
   "outputs": [],
   "source": [
    "from __future__ import print_function\n",
    "import os\n",
    "import sys\n",
    "import pandas as pd\n",
    "import numpy as np\n",
    "%matplotlib inline\n",
    "from matplotlib import pyplot as plt\n",
    "import seaborn as sns"
   ]
  },
  {
   "cell_type": "markdown",
   "metadata": {},
   "source": [
    "The data used in the textbook examples is not availbale so I am using a different csv file."
   ]
  },
  {
   "cell_type": "code",
   "execution_count": 2,
   "metadata": {},
   "outputs": [],
   "source": [
    "data = pd.read_excel('P_Data_Extract_From_World_Development_Indicators.xlsx')"
   ]
  },
  {
   "cell_type": "code",
   "execution_count": 3,
   "metadata": {},
   "outputs": [
    {
     "name": "stdout",
     "output_type": "stream",
     "text": [
      "Column names: Index(['Country Name', 'Country Code', 'Series Name', 'Series Code',\n",
      "       '1960 [YR1960]', '1961 [YR1961]', '1962 [YR1962]', '1963 [YR1963]',\n",
      "       '1964 [YR1964]', '1965 [YR1965]', '1966 [YR1966]', '1967 [YR1967]',\n",
      "       '1968 [YR1968]', '1969 [YR1969]', '1970 [YR1970]', '1971 [YR1971]',\n",
      "       '1972 [YR1972]', '1973 [YR1973]', '1974 [YR1974]', '1975 [YR1975]',\n",
      "       '1976 [YR1976]', '1977 [YR1977]', '1978 [YR1978]', '1979 [YR1979]',\n",
      "       '1980 [YR1980]', '1981 [YR1981]', '1982 [YR1982]', '1983 [YR1983]',\n",
      "       '1984 [YR1984]', '1985 [YR1985]', '1986 [YR1986]', '1987 [YR1987]',\n",
      "       '1988 [YR1988]', '1989 [YR1989]', '1990 [YR1990]', '1991 [YR1991]',\n",
      "       '1992 [YR1992]', '1993 [YR1993]', '1994 [YR1994]', '1995 [YR1995]',\n",
      "       '1996 [YR1996]', '1997 [YR1997]', '1998 [YR1998]', '1999 [YR1999]',\n",
      "       '2000 [YR2000]', '2001 [YR2001]', '2002 [YR2002]', '2003 [YR2003]',\n",
      "       '2004 [YR2004]', '2005 [YR2005]', '2006 [YR2006]', '2007 [YR2007]',\n",
      "       '2008 [YR2008]', '2009 [YR2009]', '2010 [YR2010]', '2011 [YR2011]',\n",
      "       '2012 [YR2012]', '2013 [YR2013]', '2014 [YR2014]', '2015 [YR2015]',\n",
      "       '2016 [YR2016]'],\n",
      "      dtype='object')\n"
     ]
    }
   ],
   "source": [
    "print('Column names:', data.columns)"
   ]
  },
  {
   "cell_type": "code",
   "execution_count": 4,
   "metadata": {
    "scrolled": true
   },
   "outputs": [
    {
     "name": "stdout",
     "output_type": "stream",
     "text": [
      "No. of rows, columns: (537, 61)\n"
     ]
    }
   ],
   "source": [
    "print('No. of rows, columns:', data.shape)"
   ]
  },
  {
   "cell_type": "code",
   "execution_count": 5,
   "metadata": {},
   "outputs": [
    {
     "name": "stdout",
     "output_type": "stream",
     "text": [
      "Unique number of countries: 269\n"
     ]
    }
   ],
   "source": [
    "nb_countries = data['Country Name'].unique().shape[0]\n",
    "print('Unique number of countries:', nb_countries)"
   ]
  },
  {
   "cell_type": "code",
   "execution_count": 6,
   "metadata": {},
   "outputs": [],
   "source": [
    "central_govt_debt = data.loc[data['Series Name']=='Central government debt, total (% of GDP)']\n",
    "military_exp = data.loc[data['Series Name']=='Military expenditure (% of GDP)']"
   ]
  },
  {
   "cell_type": "code",
   "execution_count": 7,
   "metadata": {
    "scrolled": true
   },
   "outputs": [
    {
     "name": "stdout",
     "output_type": "stream",
     "text": [
      "Shape of central_govt_debt: (266, 61)\n",
      "Shape of military_exp: (266, 61)\n"
     ]
    }
   ],
   "source": [
    "print('Shape of central_govt_debt:', central_govt_debt.shape)\n",
    "print('Shape of military_exp:',military_exp.shape)"
   ]
  },
  {
   "cell_type": "code",
   "execution_count": 8,
   "metadata": {
    "scrolled": true
   },
   "outputs": [
    {
     "data": {
      "text/plain": [
       "count     266\n",
       "unique     74\n",
       "top        ..\n",
       "freq      192\n",
       "Name: 2010 [YR2010], dtype: object"
      ]
     },
     "execution_count": 8,
     "metadata": {},
     "output_type": "execute_result"
    }
   ],
   "source": [
    "central_govt_debt['2010 [YR2010]'].describe()"
   ]
  },
  {
   "cell_type": "code",
   "execution_count": 9,
   "metadata": {},
   "outputs": [
    {
     "data": {
      "text/plain": [
       "count     266\n",
       "unique    192\n",
       "top        ..\n",
       "freq       72\n",
       "Name: 2010 [YR2010], dtype: object"
      ]
     },
     "execution_count": 9,
     "metadata": {},
     "output_type": "execute_result"
    }
   ],
   "source": [
    "military_exp['2010 [YR2010]'].describe()"
   ]
  },
  {
   "cell_type": "code",
   "execution_count": 10,
   "metadata": {},
   "outputs": [],
   "source": [
    "central_govt_debt.index = central_govt_debt['Country Code']\n",
    "military_exp.index = military_exp['Country Code']"
   ]
  },
  {
   "cell_type": "code",
   "execution_count": 11,
   "metadata": {},
   "outputs": [],
   "source": [
    "central_govt_debt_2010 = central_govt_debt['2010 [YR2010]'].dropna()\n",
    "military_exp_2010 = military_exp['2010 [YR2010]'].dropna()\n",
    "\n"
   ]
  },
  {
   "cell_type": "code",
   "execution_count": 12,
   "metadata": {},
   "outputs": [],
   "source": [
    "data_to_plot = pd.concat((central_govt_debt_2010, military_exp_2010), axis=1)\n"
   ]
  },
  {
   "cell_type": "code",
   "execution_count": 13,
   "metadata": {
    "scrolled": true
   },
   "outputs": [],
   "source": [
    "data_to_plot.columns = ['central_govt_debt', 'military_exp']\n",
    "data_to_plot['central_govt_debt'].replace('..', np.nan, inplace=True)\n",
    "data_to_plot['military_exp'].replace('..', np.nan, inplace=True)\n",
    "data_to_plot.dropna(subset=['central_govt_debt'], inplace=True)\n",
    "data_to_plot.dropna(subset=['military_exp'], inplace=True)"
   ]
  },
  {
   "cell_type": "code",
   "execution_count": 14,
   "metadata": {},
   "outputs": [
    {
     "data": {
      "text/html": [
       "<div>\n",
       "<style scoped>\n",
       "    .dataframe tbody tr th:only-of-type {\n",
       "        vertical-align: middle;\n",
       "    }\n",
       "\n",
       "    .dataframe tbody tr th {\n",
       "        vertical-align: top;\n",
       "    }\n",
       "\n",
       "    .dataframe thead th {\n",
       "        text-align: right;\n",
       "    }\n",
       "</style>\n",
       "<table border=\"1\" class=\"dataframe\">\n",
       "  <thead>\n",
       "    <tr style=\"text-align: right;\">\n",
       "      <th></th>\n",
       "      <th>central_govt_debt</th>\n",
       "      <th>military_exp</th>\n",
       "    </tr>\n",
       "    <tr>\n",
       "      <th>Country Code</th>\n",
       "      <th></th>\n",
       "      <th></th>\n",
       "    </tr>\n",
       "  </thead>\n",
       "  <tbody>\n",
       "    <tr>\n",
       "      <th>AUS</th>\n",
       "      <td>28.670102</td>\n",
       "      <td>1.856791</td>\n",
       "    </tr>\n",
       "    <tr>\n",
       "      <th>AUT</th>\n",
       "      <td>85.786270</td>\n",
       "      <td>0.821233</td>\n",
       "    </tr>\n",
       "    <tr>\n",
       "      <th>AZE</th>\n",
       "      <td>6.385576</td>\n",
       "      <td>2.791004</td>\n",
       "    </tr>\n",
       "    <tr>\n",
       "      <th>BLR</th>\n",
       "      <td>18.905246</td>\n",
       "      <td>1.341383</td>\n",
       "    </tr>\n",
       "    <tr>\n",
       "      <th>BEL</th>\n",
       "      <td>93.206454</td>\n",
       "      <td>1.084633</td>\n",
       "    </tr>\n",
       "    <tr>\n",
       "      <th>BLZ</th>\n",
       "      <td>64.425453</td>\n",
       "      <td>1.113671</td>\n",
       "    </tr>\n",
       "    <tr>\n",
       "      <th>BWA</th>\n",
       "      <td>21.886297</td>\n",
       "      <td>2.726859</td>\n",
       "    </tr>\n",
       "    <tr>\n",
       "      <th>BRA</th>\n",
       "      <td>61.318780</td>\n",
       "      <td>1.539407</td>\n",
       "    </tr>\n",
       "    <tr>\n",
       "      <th>BGR</th>\n",
       "      <td>20.591865</td>\n",
       "      <td>1.652468</td>\n",
       "    </tr>\n",
       "    <tr>\n",
       "      <th>CAN</th>\n",
       "      <td>53.149733</td>\n",
       "      <td>1.194338</td>\n",
       "    </tr>\n",
       "  </tbody>\n",
       "</table>\n",
       "</div>"
      ],
      "text/plain": [
       "              central_govt_debt  military_exp\n",
       "Country Code                                 \n",
       "AUS                   28.670102      1.856791\n",
       "AUT                   85.786270      0.821233\n",
       "AZE                    6.385576      2.791004\n",
       "BLR                   18.905246      1.341383\n",
       "BEL                   93.206454      1.084633\n",
       "BLZ                   64.425453      1.113671\n",
       "BWA                   21.886297      2.726859\n",
       "BRA                   61.318780      1.539407\n",
       "BGR                   20.591865      1.652468\n",
       "CAN                   53.149733      1.194338"
      ]
     },
     "execution_count": 14,
     "metadata": {},
     "output_type": "execute_result"
    }
   ],
   "source": [
    "data_to_plot.head(10)"
   ]
  },
  {
   "cell_type": "code",
   "execution_count": 15,
   "metadata": {},
   "outputs": [],
   "source": [
    "data_to_plot = data_to_plot.loc[(~pd.isnull(data_to_plot.central_govt_debt)) & (~pd.isnull(data_to_plot.military_exp)), :]"
   ]
  },
  {
   "cell_type": "code",
   "execution_count": 16,
   "metadata": {},
   "outputs": [
    {
     "data": {
      "text/html": [
       "<div>\n",
       "<style scoped>\n",
       "    .dataframe tbody tr th:only-of-type {\n",
       "        vertical-align: middle;\n",
       "    }\n",
       "\n",
       "    .dataframe tbody tr th {\n",
       "        vertical-align: top;\n",
       "    }\n",
       "\n",
       "    .dataframe thead th {\n",
       "        text-align: right;\n",
       "    }\n",
       "</style>\n",
       "<table border=\"1\" class=\"dataframe\">\n",
       "  <thead>\n",
       "    <tr style=\"text-align: right;\">\n",
       "      <th></th>\n",
       "      <th>central_govt_debt</th>\n",
       "      <th>military_exp</th>\n",
       "    </tr>\n",
       "    <tr>\n",
       "      <th>Country Code</th>\n",
       "      <th></th>\n",
       "      <th></th>\n",
       "    </tr>\n",
       "  </thead>\n",
       "  <tbody>\n",
       "    <tr>\n",
       "      <th>AUS</th>\n",
       "      <td>28.670102</td>\n",
       "      <td>1.856791</td>\n",
       "    </tr>\n",
       "    <tr>\n",
       "      <th>AUT</th>\n",
       "      <td>85.786270</td>\n",
       "      <td>0.821233</td>\n",
       "    </tr>\n",
       "    <tr>\n",
       "      <th>AZE</th>\n",
       "      <td>6.385576</td>\n",
       "      <td>2.791004</td>\n",
       "    </tr>\n",
       "    <tr>\n",
       "      <th>BLR</th>\n",
       "      <td>18.905246</td>\n",
       "      <td>1.341383</td>\n",
       "    </tr>\n",
       "    <tr>\n",
       "      <th>BEL</th>\n",
       "      <td>93.206454</td>\n",
       "      <td>1.084633</td>\n",
       "    </tr>\n",
       "  </tbody>\n",
       "</table>\n",
       "</div>"
      ],
      "text/plain": [
       "              central_govt_debt  military_exp\n",
       "Country Code                                 \n",
       "AUS                   28.670102      1.856791\n",
       "AUT                   85.786270      0.821233\n",
       "AZE                    6.385576      2.791004\n",
       "BLR                   18.905246      1.341383\n",
       "BEL                   93.206454      1.084633"
      ]
     },
     "execution_count": 16,
     "metadata": {},
     "output_type": "execute_result"
    }
   ],
   "source": [
    "data_to_plot.head()"
   ]
  },
  {
   "cell_type": "code",
   "execution_count": 17,
   "metadata": {},
   "outputs": [
    {
     "name": "stderr",
     "output_type": "stream",
     "text": [
      "C:\\ProgramData\\Anaconda3\\lib\\site-packages\\seaborn\\distributions.py:2557: FutureWarning: `distplot` is a deprecated function and will be removed in a future version. Please adapt your code to use either `displot` (a figure-level function with similar flexibility) or `histplot` (an axes-level function for histograms).\n",
      "  warnings.warn(msg, FutureWarning)\n"
     ]
    },
    {
     "data": {
      "text/plain": [
       "Text(0.5, 1.0, 'Military expenditure (% of GDP) of 85 countries in 2010')"
      ]
     },
     "execution_count": 17,
     "metadata": {},
     "output_type": "execute_result"
    },
    {
     "data": {
      "image/png": "[encoded data removed]",
      "text/plain": [
       "<Figure size 396x396 with 1 Axes>"
      ]
     },
     "metadata": {
      "needs_background": "light"
     },
     "output_type": "display_data"
    }
   ],
   "source": [
    "plt.figure(figsize=(5.5, 5.5))\n",
    "g = sns.distplot(np.array(data_to_plot.military_exp), norm_hist=False)\n",
    "g.set_title('Military expenditure (% of GDP) of 85 countries in 2010')\n"
   ]
  },
  {
   "cell_type": "code",
   "execution_count": 18,
   "metadata": {},
   "outputs": [
    {
     "data": {
      "text/plain": [
       "Text(0.5, 1.0, 'Military expenditures & Debt of central governments in 2010')"
      ]
     },
     "execution_count": 18,
     "metadata": {},
     "output_type": "execute_result"
    },
    {
     "data": {
      "image/png": "[encoded data removed]",
      "text/plain": [
       "<Figure size 396x396 with 1 Axes>"
      ]
     },
     "metadata": {
      "needs_background": "light"
     },
     "output_type": "display_data"
    }
   ],
   "source": [
    "plt.figure(figsize=(5.5, 5.5))\n",
    "g = sns.kdeplot(data_to_plot.military_exp, y=data_to_plot.central_govt_debt)\n",
    "g.set_title('Military expenditures & Debt of central governments in 2010')\n"
   ]
  },
  {
   "cell_type": "code",
   "execution_count": 62,
   "metadata": {},
   "outputs": [],
   "source": [
    "central_govt_debt_us = central_govt_debt.loc[central_govt_debt['Country Code']=='USA', :].T\n",
    "military_exp_us = military_exp.loc[military_exp['Country Code']=='USA', :].T"
   ]
  },
  {
   "cell_type": "code",
   "execution_count": 63,
   "metadata": {},
   "outputs": [],
   "source": [
    "data_us = pd.concat((military_exp_us, central_govt_debt_us), axis=1)"
   ]
  },
  {
   "cell_type": "code",
   "execution_count": 67,
   "metadata": {},
   "outputs": [
    {
     "name": "stdout",
     "output_type": "stream",
     "text": [
      "(array([54], dtype=int64),)\n"
     ]
    }
   ],
   "source": [
    "index0 = np.where(data_us.index=='1960 [YR1960]')\n",
    "index1 = np.where(data_us.index=='2010 [YR2010]')\n",
    "print(index1)"
   ]
  },
  {
   "cell_type": "code",
   "execution_count": 68,
   "metadata": {},
   "outputs": [
    {
     "data": {
      "text/html": [
       "<div>\n",
       "<style scoped>\n",
       "    .dataframe tbody tr th:only-of-type {\n",
       "        vertical-align: middle;\n",
       "    }\n",
       "\n",
       "    .dataframe tbody tr th {\n",
       "        vertical-align: top;\n",
       "    }\n",
       "\n",
       "    .dataframe thead th {\n",
       "        text-align: right;\n",
       "    }\n",
       "</style>\n",
       "<table border=\"1\" class=\"dataframe\">\n",
       "  <thead>\n",
       "    <tr style=\"text-align: right;\">\n",
       "      <th>Country Code</th>\n",
       "      <th>USA</th>\n",
       "      <th>USA</th>\n",
       "    </tr>\n",
       "  </thead>\n",
       "  <tbody>\n",
       "    <tr>\n",
       "      <th>1960 [YR1960]</th>\n",
       "      <td>8.993125</td>\n",
       "      <td>..</td>\n",
       "    </tr>\n",
       "    <tr>\n",
       "      <th>1961 [YR1961]</th>\n",
       "      <td>9.156032</td>\n",
       "      <td>..</td>\n",
       "    </tr>\n",
       "    <tr>\n",
       "      <th>1962 [YR1962]</th>\n",
       "      <td>9.331673</td>\n",
       "      <td>..</td>\n",
       "    </tr>\n",
       "    <tr>\n",
       "      <th>1963 [YR1963]</th>\n",
       "      <td>8.831891</td>\n",
       "      <td>..</td>\n",
       "    </tr>\n",
       "    <tr>\n",
       "      <th>1964 [YR1964]</th>\n",
       "      <td>8.051281</td>\n",
       "      <td>..</td>\n",
       "    </tr>\n",
       "  </tbody>\n",
       "</table>\n",
       "</div>"
      ],
      "text/plain": [
       "Country Code        USA USA\n",
       "1960 [YR1960]  8.993125  ..\n",
       "1961 [YR1961]  9.156032  ..\n",
       "1962 [YR1962]  9.331673  ..\n",
       "1963 [YR1963]  8.831891  ..\n",
       "1964 [YR1964]  8.051281  .."
      ]
     },
     "execution_count": 68,
     "metadata": {},
     "output_type": "execute_result"
    }
   ],
   "source": [
    "data_us = data_us.iloc[4 : 54 ,:]\n",
    "data_us.head()"
   ]
  },
  {
   "cell_type": "code",
   "execution_count": 69,
   "metadata": {},
   "outputs": [],
   "source": [
    "data_us.columns = ['Federal Military Expenditure', 'Debt of Federal Government']"
   ]
  },
  {
   "cell_type": "code",
   "execution_count": 49,
   "metadata": {},
   "outputs": [
    {
     "data": {
      "text/html": [
       "<div>\n",
       "<style scoped>\n",
       "    .dataframe tbody tr th:only-of-type {\n",
       "        vertical-align: middle;\n",
       "    }\n",
       "\n",
       "    .dataframe tbody tr th {\n",
       "        vertical-align: top;\n",
       "    }\n",
       "\n",
       "    .dataframe thead th {\n",
       "        text-align: right;\n",
       "    }\n",
       "</style>\n",
       "<table border=\"1\" class=\"dataframe\">\n",
       "  <thead>\n",
       "    <tr style=\"text-align: right;\">\n",
       "      <th></th>\n",
       "      <th>Federal Military Expenditure</th>\n",
       "      <th>Debt of Federal Government</th>\n",
       "    </tr>\n",
       "  </thead>\n",
       "  <tbody>\n",
       "    <tr>\n",
       "      <th>1960 [YR1960]</th>\n",
       "      <td>8.993125</td>\n",
       "      <td>..</td>\n",
       "    </tr>\n",
       "    <tr>\n",
       "      <th>1961 [YR1961]</th>\n",
       "      <td>9.156032</td>\n",
       "      <td>..</td>\n",
       "    </tr>\n",
       "    <tr>\n",
       "      <th>1962 [YR1962]</th>\n",
       "      <td>9.331673</td>\n",
       "      <td>..</td>\n",
       "    </tr>\n",
       "    <tr>\n",
       "      <th>1963 [YR1963]</th>\n",
       "      <td>8.831891</td>\n",
       "      <td>..</td>\n",
       "    </tr>\n",
       "    <tr>\n",
       "      <th>1964 [YR1964]</th>\n",
       "      <td>8.051281</td>\n",
       "      <td>..</td>\n",
       "    </tr>\n",
       "    <tr>\n",
       "      <th>1965 [YR1965]</th>\n",
       "      <td>7.587247</td>\n",
       "      <td>..</td>\n",
       "    </tr>\n",
       "    <tr>\n",
       "      <th>1966 [YR1966]</th>\n",
       "      <td>8.4353</td>\n",
       "      <td>..</td>\n",
       "    </tr>\n",
       "    <tr>\n",
       "      <th>1967 [YR1967]</th>\n",
       "      <td>9.417796</td>\n",
       "      <td>..</td>\n",
       "    </tr>\n",
       "    <tr>\n",
       "      <th>1968 [YR1968]</th>\n",
       "      <td>9.268454</td>\n",
       "      <td>..</td>\n",
       "    </tr>\n",
       "    <tr>\n",
       "      <th>1969 [YR1969]</th>\n",
       "      <td>8.633264</td>\n",
       "      <td>..</td>\n",
       "    </tr>\n",
       "    <tr>\n",
       "      <th>1970 [YR1970]</th>\n",
       "      <td>8.032744</td>\n",
       "      <td>..</td>\n",
       "    </tr>\n",
       "    <tr>\n",
       "      <th>1971 [YR1971]</th>\n",
       "      <td>6.94307</td>\n",
       "      <td>..</td>\n",
       "    </tr>\n",
       "    <tr>\n",
       "      <th>1972 [YR1972]</th>\n",
       "      <td>6.519757</td>\n",
       "      <td>..</td>\n",
       "    </tr>\n",
       "    <tr>\n",
       "      <th>1973 [YR1973]</th>\n",
       "      <td>5.893871</td>\n",
       "      <td>..</td>\n",
       "    </tr>\n",
       "    <tr>\n",
       "      <th>1974 [YR1974]</th>\n",
       "      <td>5.954111</td>\n",
       "      <td>..</td>\n",
       "    </tr>\n",
       "    <tr>\n",
       "      <th>1975 [YR1975]</th>\n",
       "      <td>5.622679</td>\n",
       "      <td>..</td>\n",
       "    </tr>\n",
       "    <tr>\n",
       "      <th>1976 [YR1976]</th>\n",
       "      <td>5.191071</td>\n",
       "      <td>..</td>\n",
       "    </tr>\n",
       "    <tr>\n",
       "      <th>1977 [YR1977]</th>\n",
       "      <td>5.155617</td>\n",
       "      <td>..</td>\n",
       "    </tr>\n",
       "    <tr>\n",
       "      <th>1978 [YR1978]</th>\n",
       "      <td>4.943087</td>\n",
       "      <td>..</td>\n",
       "    </tr>\n",
       "    <tr>\n",
       "      <th>1979 [YR1979]</th>\n",
       "      <td>4.951992</td>\n",
       "      <td>..</td>\n",
       "    </tr>\n",
       "    <tr>\n",
       "      <th>1980 [YR1980]</th>\n",
       "      <td>5.153537</td>\n",
       "      <td>..</td>\n",
       "    </tr>\n",
       "    <tr>\n",
       "      <th>1981 [YR1981]</th>\n",
       "      <td>5.646541</td>\n",
       "      <td>..</td>\n",
       "    </tr>\n",
       "    <tr>\n",
       "      <th>1982 [YR1982]</th>\n",
       "      <td>6.814057</td>\n",
       "      <td>..</td>\n",
       "    </tr>\n",
       "    <tr>\n",
       "      <th>1983 [YR1983]</th>\n",
       "      <td>6.321144</td>\n",
       "      <td>..</td>\n",
       "    </tr>\n",
       "    <tr>\n",
       "      <th>1984 [YR1984]</th>\n",
       "      <td>6.236417</td>\n",
       "      <td>..</td>\n",
       "    </tr>\n",
       "    <tr>\n",
       "      <th>1985 [YR1985]</th>\n",
       "      <td>6.453219</td>\n",
       "      <td>..</td>\n",
       "    </tr>\n",
       "    <tr>\n",
       "      <th>1986 [YR1986]</th>\n",
       "      <td>6.626523</td>\n",
       "      <td>..</td>\n",
       "    </tr>\n",
       "    <tr>\n",
       "      <th>1987 [YR1987]</th>\n",
       "      <td>6.420274</td>\n",
       "      <td>..</td>\n",
       "    </tr>\n",
       "    <tr>\n",
       "      <th>1988 [YR1988]</th>\n",
       "      <td>6.071278</td>\n",
       "      <td>..</td>\n",
       "    </tr>\n",
       "    <tr>\n",
       "      <th>1989 [YR1989]</th>\n",
       "      <td>5.871206</td>\n",
       "      <td>39.1284</td>\n",
       "    </tr>\n",
       "  </tbody>\n",
       "</table>\n",
       "</div>"
      ],
      "text/plain": [
       "              Federal Military Expenditure Debt of Federal Government\n",
       "1960 [YR1960]                     8.993125                         ..\n",
       "1961 [YR1961]                     9.156032                         ..\n",
       "1962 [YR1962]                     9.331673                         ..\n",
       "1963 [YR1963]                     8.831891                         ..\n",
       "1964 [YR1964]                     8.051281                         ..\n",
       "1965 [YR1965]                     7.587247                         ..\n",
       "1966 [YR1966]                       8.4353                         ..\n",
       "1967 [YR1967]                     9.417796                         ..\n",
       "1968 [YR1968]                     9.268454                         ..\n",
       "1969 [YR1969]                     8.633264                         ..\n",
       "1970 [YR1970]                     8.032744                         ..\n",
       "1971 [YR1971]                      6.94307                         ..\n",
       "1972 [YR1972]                     6.519757                         ..\n",
       "1973 [YR1973]                     5.893871                         ..\n",
       "1974 [YR1974]                     5.954111                         ..\n",
       "1975 [YR1975]                     5.622679                         ..\n",
       "1976 [YR1976]                     5.191071                         ..\n",
       "1977 [YR1977]                     5.155617                         ..\n",
       "1978 [YR1978]                     4.943087                         ..\n",
       "1979 [YR1979]                     4.951992                         ..\n",
       "1980 [YR1980]                     5.153537                         ..\n",
       "1981 [YR1981]                     5.646541                         ..\n",
       "1982 [YR1982]                     6.814057                         ..\n",
       "1983 [YR1983]                     6.321144                         ..\n",
       "1984 [YR1984]                     6.236417                         ..\n",
       "1985 [YR1985]                     6.453219                         ..\n",
       "1986 [YR1986]                     6.626523                         ..\n",
       "1987 [YR1987]                     6.420274                         ..\n",
       "1988 [YR1988]                     6.071278                         ..\n",
       "1989 [YR1989]                     5.871206                    39.1284"
      ]
     },
     "execution_count": 49,
     "metadata": {},
     "output_type": "execute_result"
    }
   ],
   "source": [
    "data_us.head(30)"
   ]
  },
  {
   "cell_type": "code",
   "execution_count": 70,
   "metadata": {},
   "outputs": [
    {
     "name": "stdout",
     "output_type": "stream",
     "text": [
      "Shape of data_us: (21, 2)\n"
     ]
    },
    {
     "name": "stderr",
     "output_type": "stream",
     "text": [
      "C:\\ProgramData\\Anaconda3\\lib\\site-packages\\pandas\\core\\frame.py:4524: SettingWithCopyWarning: \n",
      "A value is trying to be set on a copy of a slice from a DataFrame\n",
      "\n",
      "See the caveats in the documentation: https://pandas.pydata.org/pandas-docs/stable/user_guide/indexing.html#returning-a-view-versus-a-copy\n",
      "  return super().replace(\n",
      "<ipython-input-70-2d6bb6b6a0a3>:3: SettingWithCopyWarning: \n",
      "A value is trying to be set on a copy of a slice from a DataFrame\n",
      "\n",
      "See the caveats in the documentation: https://pandas.pydata.org/pandas-docs/stable/user_guide/indexing.html#returning-a-view-versus-a-copy\n",
      "  data_us.dropna(inplace=True)\n"
     ]
    }
   ],
   "source": [
    "#There are null rows for several years possibly due to unavailability of data for these years\n",
    "data_us.replace('..', np.nan, inplace=True)\n",
    "data_us.dropna(inplace=True)\n",
    "print('Shape of data_us:', data_us.shape)"
   ]
  },
  {
   "cell_type": "code",
   "execution_count": 71,
   "metadata": {},
   "outputs": [
    {
     "data": {
      "text/html": [
       "<div>\n",
       "<style scoped>\n",
       "    .dataframe tbody tr th:only-of-type {\n",
       "        vertical-align: middle;\n",
       "    }\n",
       "\n",
       "    .dataframe tbody tr th {\n",
       "        vertical-align: top;\n",
       "    }\n",
       "\n",
       "    .dataframe thead th {\n",
       "        text-align: right;\n",
       "    }\n",
       "</style>\n",
       "<table border=\"1\" class=\"dataframe\">\n",
       "  <thead>\n",
       "    <tr style=\"text-align: right;\">\n",
       "      <th></th>\n",
       "      <th>Federal Military Expenditure</th>\n",
       "      <th>Debt of Federal Government</th>\n",
       "    </tr>\n",
       "  </thead>\n",
       "  <tbody>\n",
       "    <tr>\n",
       "      <th>1989 [YR1989]</th>\n",
       "      <td>5.871206</td>\n",
       "      <td>39.128400</td>\n",
       "    </tr>\n",
       "    <tr>\n",
       "      <th>1990 [YR1990]</th>\n",
       "      <td>5.605175</td>\n",
       "      <td>40.933944</td>\n",
       "    </tr>\n",
       "    <tr>\n",
       "      <th>1991 [YR1991]</th>\n",
       "      <td>4.883429</td>\n",
       "      <td>44.061597</td>\n",
       "    </tr>\n",
       "    <tr>\n",
       "      <th>1992 [YR1992]</th>\n",
       "      <td>4.970467</td>\n",
       "      <td>46.050144</td>\n",
       "    </tr>\n",
       "    <tr>\n",
       "      <th>1993 [YR1993]</th>\n",
       "      <td>4.604350</td>\n",
       "      <td>48.246140</td>\n",
       "    </tr>\n",
       "    <tr>\n",
       "      <th>1994 [YR1994]</th>\n",
       "      <td>4.215265</td>\n",
       "      <td>47.353482</td>\n",
       "    </tr>\n",
       "    <tr>\n",
       "      <th>1995 [YR1995]</th>\n",
       "      <td>3.860246</td>\n",
       "      <td>47.209535</td>\n",
       "    </tr>\n",
       "    <tr>\n",
       "      <th>1996 [YR1996]</th>\n",
       "      <td>3.554982</td>\n",
       "      <td>46.741769</td>\n",
       "    </tr>\n",
       "    <tr>\n",
       "      <th>1997 [YR1997]</th>\n",
       "      <td>3.405562</td>\n",
       "      <td>44.117470</td>\n",
       "    </tr>\n",
       "    <tr>\n",
       "      <th>1998 [YR1998]</th>\n",
       "      <td>3.201558</td>\n",
       "      <td>41.129149</td>\n",
       "    </tr>\n",
       "    <tr>\n",
       "      <th>1999 [YR1999]</th>\n",
       "      <td>3.085677</td>\n",
       "      <td>37.727278</td>\n",
       "    </tr>\n",
       "    <tr>\n",
       "      <th>2000 [YR2000]</th>\n",
       "      <td>3.112242</td>\n",
       "      <td>33.267655</td>\n",
       "    </tr>\n",
       "    <tr>\n",
       "      <th>2001 [YR2001]</th>\n",
       "      <td>3.123810</td>\n",
       "      <td>52.443676</td>\n",
       "    </tr>\n",
       "    <tr>\n",
       "      <th>2002 [YR2002]</th>\n",
       "      <td>3.447618</td>\n",
       "      <td>53.862514</td>\n",
       "    </tr>\n",
       "    <tr>\n",
       "      <th>2003 [YR2003]</th>\n",
       "      <td>3.827161</td>\n",
       "      <td>56.250405</td>\n",
       "    </tr>\n",
       "    <tr>\n",
       "      <th>2004 [YR2004]</th>\n",
       "      <td>4.016313</td>\n",
       "      <td>56.662286</td>\n",
       "    </tr>\n",
       "    <tr>\n",
       "      <th>2005 [YR2005]</th>\n",
       "      <td>4.090035</td>\n",
       "      <td>56.538848</td>\n",
       "    </tr>\n",
       "    <tr>\n",
       "      <th>2006 [YR2006]</th>\n",
       "      <td>4.041627</td>\n",
       "      <td>55.467336</td>\n",
       "    </tr>\n",
       "    <tr>\n",
       "      <th>2007 [YR2007]</th>\n",
       "      <td>4.079655</td>\n",
       "      <td>55.659926</td>\n",
       "    </tr>\n",
       "    <tr>\n",
       "      <th>2008 [YR2008]</th>\n",
       "      <td>4.463827</td>\n",
       "      <td>63.815130</td>\n",
       "    </tr>\n",
       "  </tbody>\n",
       "</table>\n",
       "</div>"
      ],
      "text/plain": [
       "               Federal Military Expenditure  Debt of Federal Government\n",
       "1989 [YR1989]                      5.871206                   39.128400\n",
       "1990 [YR1990]                      5.605175                   40.933944\n",
       "1991 [YR1991]                      4.883429                   44.061597\n",
       "1992 [YR1992]                      4.970467                   46.050144\n",
       "1993 [YR1993]                      4.604350                   48.246140\n",
       "1994 [YR1994]                      4.215265                   47.353482\n",
       "1995 [YR1995]                      3.860246                   47.209535\n",
       "1996 [YR1996]                      3.554982                   46.741769\n",
       "1997 [YR1997]                      3.405562                   44.117470\n",
       "1998 [YR1998]                      3.201558                   41.129149\n",
       "1999 [YR1999]                      3.085677                   37.727278\n",
       "2000 [YR2000]                      3.112242                   33.267655\n",
       "2001 [YR2001]                      3.123810                   52.443676\n",
       "2002 [YR2002]                      3.447618                   53.862514\n",
       "2003 [YR2003]                      3.827161                   56.250405\n",
       "2004 [YR2004]                      4.016313                   56.662286\n",
       "2005 [YR2005]                      4.090035                   56.538848\n",
       "2006 [YR2006]                      4.041627                   55.467336\n",
       "2007 [YR2007]                      4.079655                   55.659926\n",
       "2008 [YR2008]                      4.463827                   63.815130"
      ]
     },
     "execution_count": 71,
     "metadata": {},
     "output_type": "execute_result"
    }
   ],
   "source": [
    "#First 20 rows of data_us after dropping rows with missing values\n",
    "data_us.head(20)"
   ]
  },
  {
   "cell_type": "code",
   "execution_count": 72,
   "metadata": {},
   "outputs": [
    {
     "data": {
      "text/plain": [
       "<AxesSubplot:title={'center':'Debt of Federal Government during 1988-2010 (% of GDP)'}>"
      ]
     },
     "execution_count": 72,
     "metadata": {},
     "output_type": "execute_result"
    },
    {
     "data": {
      "image/png": "[encoded data removed]",
      "text/plain": [
       "<Figure size 396x396 with 2 Axes>"
      ]
     },
     "metadata": {
      "needs_background": "light"
     },
     "output_type": "display_data"
    }
   ],
   "source": [
    "# Two subplots, the axes array is 1-d\n",
    "f, axarr = plt.subplots(2, sharex=True)\n",
    "f.set_size_inches(5.5, 5.5)\n",
    "axarr[0].set_title('Federal Military Expenditure during 1988-2010 (% of GDP)')\n",
    "data_us['Federal Military Expenditure'].plot(linestyle='-', marker='*', color='b', ax=axarr[0])\n",
    "axarr[1].set_title('Debt of Federal Government during 1988-2010 (% of GDP)')\n",
    "data_us['Debt of Federal Government'].plot(linestyle='-', marker='*', color='r', ax=axarr[1])\n"
   ]
  },
  {
   "cell_type": "code",
   "execution_count": 132,
   "metadata": {},
   "outputs": [
    {
     "data": {
      "text/plain": [
       "Country Name                       United States\n",
       "Country Code                                 USA\n",
       "Series Name      Military expenditure (% of GDP)\n",
       "Series Code                    MS.MIL.XPND.GD.ZS\n",
       "1960 [YR1960]                           8.993125\n",
       "                              ...               \n",
       "2012 [YR2012]                           4.477401\n",
       "2013 [YR2013]                           4.046679\n",
       "2014 [YR2014]                           3.695895\n",
       "2015 [YR2015]                           3.477845\n",
       "2016 [YR2016]                           3.413464\n",
       "Length: 61, dtype: object"
      ]
     },
     "metadata": {},
     "output_type": "display_data"
    }
   ],
   "source": [
    "\n",
    "\n",
    "central_govt_debt = data.loc[data['Series Name']=='Central government debt, total (% of GDP)']\n",
    "military_exp = data.loc[data['Series Name']=='Military expenditure (% of GDP)']\n",
    "\n",
    "\n",
    "chn=military_exp.loc[military_exp['Country Code']=='CHN', :]\n",
    "\n",
    "chn = pd.Series(data=chn.values[0], index=chn.columns)\n",
    "chn.replace('..',np.nan, inplace=True)\n",
    "chn.dropna(inplace=True)\n",
    "\n",
    "\n",
    "\n",
    "usa=military_exp.loc[military_exp['Country Code']=='USA', :]\n",
    "usa = pd.Series(data=usa.values[0], index=usa.columns)\n",
    "usa.replace('..',np.nan, inplace=True)\n",
    "usa.dropna(inplace=True)\n",
    "\n",
    "\n",
    "\n",
    "ind=military_exp.loc[military_exp['Country Code']=='IND', :]\n",
    "ind = pd.Series(data=ind.values[0], index=ind.columns)\n",
    "ind.replace('..',np.nan, inplace=True)\n",
    "ind.dropna(inplace=True)\n",
    "\n",
    "gbr=military_exp.loc[military_exp['Country Code']=='GBR', :]\n",
    "gbr = pd.Series(data=gbr.values[0], index=gbr.columns)\n",
    "gbr.replace('..',np.nan, inplace=True)\n",
    "gbr.dropna(inplace=True)\n",
    "\n",
    "\n",
    "display(usa)"
   ]
  },
  {
   "cell_type": "code",
   "execution_count": 146,
   "metadata": {},
   "outputs": [
    {
     "data": {
      "text/plain": [
       "([<matplotlib.axis.XTick at 0x1f3d6009250>,\n",
       "  <matplotlib.axis.XTick at 0x1f3d5ec16a0>,\n",
       "  <matplotlib.axis.XTick at 0x1f3d600fdf0>],\n",
       " [Text(0, 0, ''), Text(0, 0, ''), Text(0, 0, '')])"
      ]
     },
     "execution_count": 146,
     "metadata": {},
     "output_type": "execute_result"
    },
    {
     "data": {
      "image/png": "[encoded data removed]",
      "text/plain": [
       "<Figure size 396x396 with 1 Axes>"
      ]
     },
     "metadata": {
      "needs_background": "light"
     },
     "output_type": "display_data"
    }
   ],
   "source": [
    "plt.figure(figsize=(5.5, 5.5))\n",
    "plt.plot(usa.iloc[32:59],linestyle='-', marker='*', color='b')\n",
    "plt.plot(chn.iloc[4:59],linestyle='-', marker='*', color='r')\n",
    "plt.plot(gbr.iloc[32:59],linestyle='-', marker='*', color='g')\n",
    "plt.plot(ind.iloc[32:59],linestyle='-', marker='*', color='y')\n",
    "plt.legend(['USA','CHINA','UK','INDIA'], loc=1)\n",
    "plt.title('Miltitary expenditure of 4 countries')\n",
    "plt.ylabel('Military expenditure (% of GDP)')\n",
    "plt.xlabel('Years')\n",
    "plt.xticks([0, 14, 28])"
   ]
  },
  {
   "cell_type": "code",
   "execution_count": null,
   "metadata": {},
   "outputs": [],
   "source": []
  }
 ],
 "metadata": {
  "anaconda-cloud": {},
  "kernelspec": {
   "display_name": "Python 3",
   "language": "python",
   "name": "python3"
  },
  "language_info": {
   "codemirror_mode": {
    "name": "ipython",
    "version": 3
   },
   "file_extension": ".py",
   "mimetype": "text/x-python",
   "name": "python",
   "nbconvert_exporter": "python",
   "pygments_lexer": "ipython3",
   "version": "3.8.8"
  }
 },
 "nbformat": 4,
 "nbformat_minor": 1
}
