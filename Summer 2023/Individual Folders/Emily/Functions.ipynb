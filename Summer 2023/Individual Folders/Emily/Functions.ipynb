{
 "cells": [
  {
   "cell_type": "code",
   "execution_count": 4,
   "id": "52ba17a8",
   "metadata": {},
   "outputs": [],
   "source": [
    "#Import relevant packages\n",
    "import pandas as pd\n",
    "import numpy as np\n",
    "import matplotlib.pyplot as plt\n",
    "from PIL import Image\n",
    "\n",
    "#Define Functions\n",
    "def wholedays(df):\n",
    "    start = df.index[df['Time']=='0:00:00']\n",
    "    end=df.index[df['Time']=='23:59:00']\n",
    "    newdf=df[start[0]:(end[-1]+1)]\n",
    "    return newdf\n",
    "\n",
    "def setindex(df):\n",
    "    df['Date_Time']=df['Date'].astype(str)+' '+df['Time']\n",
    "    new=df.set_index('Date_Time')\n",
    "    return new\n",
    "\n",
    "def spiderraster(df, spider):\n",
    "    min_day=24*60\n",
    "    total_time = len(df.index)\n",
    "    num_days = total_time//min_day\n",
    "    fig, ax=plt.subplots(num_days,1, figsize=(8,12), sharey=True, sharex=True)\n",
    "    #setting the y axis limit\n",
    "    limit=df.replace(0, np.nan)\n",
    "    std=limit.std()\n",
    "    mean=limit.mean()\n",
    "    u=np.mean(mean)\n",
    "    s=np.mean(std)\n",
    "    y=u+3*s\n",
    "    #plotting the raster plots\n",
    "    for i in range(0,num_days):\n",
    "        ax[i].plot(df.Time[min_day*i:min_day*(i+1)], df[spider][min_day*i:min_day*(i+1)], color='blue')\n",
    "        ax[i].set_ylabel('d'+str(i+1))\n",
    "        ax[i].set_xticks([])\n",
    "        # the y limit is the mean plus 3 standard deviations\n",
    "        ax[i].set_ylim(0,y)\n",
    "        #setting instructions for shading the graph when the lights are off\n",
    "        dfa=df[min_day*(i):min_day*(i+1)]\n",
    "        dfa=dfa.reset_index()\n",
    "        if np.mean(dfa.lights)==0:\n",
    "            ax[i].axvspan(0,min_day, alpha=.5,color='grey')\n",
    "        else:\n",
    "            for j in range(1, len(dfa.index)-1):\n",
    "                global start1\n",
    "                global end1\n",
    "                global start2\n",
    "                global end2\n",
    "                if dfa.lights[j] == 1:\n",
    "                    lights_on = True\n",
    "                else:\n",
    "                    lights_on = False\n",
    "                if lights_on == False and j-1==0:\n",
    "                    start1 = j\n",
    "                if lights_on==False and dfa.lights[j-1] == 1:\n",
    "                    start2 = j\n",
    "                if lights_on==False and j==( len(dfa.index)-2):\n",
    "                    end2= j\n",
    "                if lights_on == False and dfa.lights[j+1] == 1:\n",
    "                    end1 = j+1\n",
    "            \n",
    "            ax[i].axvspan(start1, end1, alpha=0.5, color='grey')\n",
    "            ax[i].axvspan(start2, end2,alpha=0.5, color='grey')\n",
    "    ax[num_days-1].set_xticks(range(0, min_day, 180)) \n",
    "    plt.xlabel('Time')\n",
    "    plt.suptitle(spider+' Locomotor Activity')\n",
    "    #plt.show()\n",
    "    fig.savefig(spider+'raster.jpg')\n",
    "    \n",
    "#spiderraster(df,df.s24)\n"
   ]
  },
  {
   "cell_type": "code",
   "execution_count": 5,
   "id": "a078aed3",
   "metadata": {},
   "outputs": [
    {
     "name": "stderr",
     "output_type": "stream",
     "text": [
      "<ipython-input-4-0e48d18dae1a>:15: SettingWithCopyWarning: \n",
      "A value is trying to be set on a copy of a slice from a DataFrame.\n",
      "Try using .loc[row_indexer,col_indexer] = value instead\n",
      "\n",
      "See the caveats in the documentation: https://pandas.pydata.org/pandas-docs/stable/user_guide/indexing.html#returning-a-view-versus-a-copy\n",
      "  df['Date_Time']=df['Date'].astype(str)+' '+df['Time']\n"
     ]
    },
    {
     "data": {
      "text/html": [
       "<div>\n",
       "<style scoped>\n",
       "    .dataframe tbody tr th:only-of-type {\n",
       "        vertical-align: middle;\n",
       "    }\n",
       "\n",
       "    .dataframe tbody tr th {\n",
       "        vertical-align: top;\n",
       "    }\n",
       "\n",
       "    .dataframe thead th {\n",
       "        text-align: right;\n",
       "    }\n",
       "</style>\n",
       "<table border=\"1\" class=\"dataframe\">\n",
       "  <thead>\n",
       "    <tr style=\"text-align: right;\">\n",
       "      <th></th>\n",
       "      <th>Date</th>\n",
       "      <th>Time</th>\n",
       "      <th>lights</th>\n",
       "      <th>s1</th>\n",
       "      <th>s2</th>\n",
       "      <th>s3</th>\n",
       "      <th>s4</th>\n",
       "      <th>s5</th>\n",
       "      <th>s6</th>\n",
       "      <th>s7</th>\n",
       "      <th>...</th>\n",
       "      <th>s23</th>\n",
       "      <th>s24</th>\n",
       "      <th>s25</th>\n",
       "      <th>s26</th>\n",
       "      <th>s27</th>\n",
       "      <th>s28</th>\n",
       "      <th>s29</th>\n",
       "      <th>s30</th>\n",
       "      <th>s31</th>\n",
       "      <th>s32</th>\n",
       "    </tr>\n",
       "    <tr>\n",
       "      <th>Date_Time</th>\n",
       "      <th></th>\n",
       "      <th></th>\n",
       "      <th></th>\n",
       "      <th></th>\n",
       "      <th></th>\n",
       "      <th></th>\n",
       "      <th></th>\n",
       "      <th></th>\n",
       "      <th></th>\n",
       "      <th></th>\n",
       "      <th></th>\n",
       "      <th></th>\n",
       "      <th></th>\n",
       "      <th></th>\n",
       "      <th></th>\n",
       "      <th></th>\n",
       "      <th></th>\n",
       "      <th></th>\n",
       "      <th></th>\n",
       "      <th></th>\n",
       "      <th></th>\n",
       "    </tr>\n",
       "  </thead>\n",
       "  <tbody>\n",
       "    <tr>\n",
       "      <th>11-Jun-17 0:00:00</th>\n",
       "      <td>11-Jun-17</td>\n",
       "      <td>0:00:00</td>\n",
       "      <td>0</td>\n",
       "      <td>6</td>\n",
       "      <td>2</td>\n",
       "      <td>0</td>\n",
       "      <td>0</td>\n",
       "      <td>0</td>\n",
       "      <td>0</td>\n",
       "      <td>7</td>\n",
       "      <td>...</td>\n",
       "      <td>5</td>\n",
       "      <td>1</td>\n",
       "      <td>0</td>\n",
       "      <td>0</td>\n",
       "      <td>0</td>\n",
       "      <td>0</td>\n",
       "      <td>0</td>\n",
       "      <td>7</td>\n",
       "      <td>6</td>\n",
       "      <td>0</td>\n",
       "    </tr>\n",
       "    <tr>\n",
       "      <th>11-Jun-17 0:01:00</th>\n",
       "      <td>11-Jun-17</td>\n",
       "      <td>0:01:00</td>\n",
       "      <td>0</td>\n",
       "      <td>0</td>\n",
       "      <td>6</td>\n",
       "      <td>0</td>\n",
       "      <td>0</td>\n",
       "      <td>0</td>\n",
       "      <td>0</td>\n",
       "      <td>8</td>\n",
       "      <td>...</td>\n",
       "      <td>0</td>\n",
       "      <td>7</td>\n",
       "      <td>0</td>\n",
       "      <td>4</td>\n",
       "      <td>0</td>\n",
       "      <td>0</td>\n",
       "      <td>0</td>\n",
       "      <td>0</td>\n",
       "      <td>0</td>\n",
       "      <td>0</td>\n",
       "    </tr>\n",
       "    <tr>\n",
       "      <th>11-Jun-17 0:02:00</th>\n",
       "      <td>11-Jun-17</td>\n",
       "      <td>0:02:00</td>\n",
       "      <td>0</td>\n",
       "      <td>0</td>\n",
       "      <td>11</td>\n",
       "      <td>0</td>\n",
       "      <td>0</td>\n",
       "      <td>0</td>\n",
       "      <td>0</td>\n",
       "      <td>0</td>\n",
       "      <td>...</td>\n",
       "      <td>0</td>\n",
       "      <td>0</td>\n",
       "      <td>0</td>\n",
       "      <td>17</td>\n",
       "      <td>0</td>\n",
       "      <td>0</td>\n",
       "      <td>0</td>\n",
       "      <td>0</td>\n",
       "      <td>1</td>\n",
       "      <td>0</td>\n",
       "    </tr>\n",
       "    <tr>\n",
       "      <th>11-Jun-17 0:03:00</th>\n",
       "      <td>11-Jun-17</td>\n",
       "      <td>0:03:00</td>\n",
       "      <td>0</td>\n",
       "      <td>0</td>\n",
       "      <td>7</td>\n",
       "      <td>0</td>\n",
       "      <td>0</td>\n",
       "      <td>0</td>\n",
       "      <td>0</td>\n",
       "      <td>0</td>\n",
       "      <td>...</td>\n",
       "      <td>0</td>\n",
       "      <td>4</td>\n",
       "      <td>0</td>\n",
       "      <td>0</td>\n",
       "      <td>0</td>\n",
       "      <td>0</td>\n",
       "      <td>0</td>\n",
       "      <td>0</td>\n",
       "      <td>0</td>\n",
       "      <td>0</td>\n",
       "    </tr>\n",
       "    <tr>\n",
       "      <th>11-Jun-17 0:04:00</th>\n",
       "      <td>11-Jun-17</td>\n",
       "      <td>0:04:00</td>\n",
       "      <td>0</td>\n",
       "      <td>0</td>\n",
       "      <td>20</td>\n",
       "      <td>0</td>\n",
       "      <td>0</td>\n",
       "      <td>0</td>\n",
       "      <td>5</td>\n",
       "      <td>4</td>\n",
       "      <td>...</td>\n",
       "      <td>0</td>\n",
       "      <td>0</td>\n",
       "      <td>0</td>\n",
       "      <td>0</td>\n",
       "      <td>0</td>\n",
       "      <td>0</td>\n",
       "      <td>0</td>\n",
       "      <td>0</td>\n",
       "      <td>0</td>\n",
       "      <td>0</td>\n",
       "    </tr>\n",
       "    <tr>\n",
       "      <th>...</th>\n",
       "      <td>...</td>\n",
       "      <td>...</td>\n",
       "      <td>...</td>\n",
       "      <td>...</td>\n",
       "      <td>...</td>\n",
       "      <td>...</td>\n",
       "      <td>...</td>\n",
       "      <td>...</td>\n",
       "      <td>...</td>\n",
       "      <td>...</td>\n",
       "      <td>...</td>\n",
       "      <td>...</td>\n",
       "      <td>...</td>\n",
       "      <td>...</td>\n",
       "      <td>...</td>\n",
       "      <td>...</td>\n",
       "      <td>...</td>\n",
       "      <td>...</td>\n",
       "      <td>...</td>\n",
       "      <td>...</td>\n",
       "      <td>...</td>\n",
       "    </tr>\n",
       "    <tr>\n",
       "      <th>27-Jun-17 23:55:00</th>\n",
       "      <td>27-Jun-17</td>\n",
       "      <td>23:55:00</td>\n",
       "      <td>0</td>\n",
       "      <td>0</td>\n",
       "      <td>0</td>\n",
       "      <td>0</td>\n",
       "      <td>0</td>\n",
       "      <td>0</td>\n",
       "      <td>0</td>\n",
       "      <td>0</td>\n",
       "      <td>...</td>\n",
       "      <td>0</td>\n",
       "      <td>0</td>\n",
       "      <td>0</td>\n",
       "      <td>0</td>\n",
       "      <td>0</td>\n",
       "      <td>0</td>\n",
       "      <td>2</td>\n",
       "      <td>0</td>\n",
       "      <td>1</td>\n",
       "      <td>0</td>\n",
       "    </tr>\n",
       "    <tr>\n",
       "      <th>27-Jun-17 23:56:00</th>\n",
       "      <td>27-Jun-17</td>\n",
       "      <td>23:56:00</td>\n",
       "      <td>0</td>\n",
       "      <td>0</td>\n",
       "      <td>0</td>\n",
       "      <td>0</td>\n",
       "      <td>0</td>\n",
       "      <td>0</td>\n",
       "      <td>0</td>\n",
       "      <td>0</td>\n",
       "      <td>...</td>\n",
       "      <td>0</td>\n",
       "      <td>0</td>\n",
       "      <td>0</td>\n",
       "      <td>0</td>\n",
       "      <td>0</td>\n",
       "      <td>0</td>\n",
       "      <td>3</td>\n",
       "      <td>0</td>\n",
       "      <td>0</td>\n",
       "      <td>0</td>\n",
       "    </tr>\n",
       "    <tr>\n",
       "      <th>27-Jun-17 23:57:00</th>\n",
       "      <td>27-Jun-17</td>\n",
       "      <td>23:57:00</td>\n",
       "      <td>0</td>\n",
       "      <td>0</td>\n",
       "      <td>0</td>\n",
       "      <td>0</td>\n",
       "      <td>0</td>\n",
       "      <td>0</td>\n",
       "      <td>0</td>\n",
       "      <td>0</td>\n",
       "      <td>...</td>\n",
       "      <td>0</td>\n",
       "      <td>0</td>\n",
       "      <td>0</td>\n",
       "      <td>0</td>\n",
       "      <td>0</td>\n",
       "      <td>0</td>\n",
       "      <td>3</td>\n",
       "      <td>0</td>\n",
       "      <td>0</td>\n",
       "      <td>3</td>\n",
       "    </tr>\n",
       "    <tr>\n",
       "      <th>27-Jun-17 23:58:00</th>\n",
       "      <td>27-Jun-17</td>\n",
       "      <td>23:58:00</td>\n",
       "      <td>0</td>\n",
       "      <td>0</td>\n",
       "      <td>0</td>\n",
       "      <td>0</td>\n",
       "      <td>0</td>\n",
       "      <td>0</td>\n",
       "      <td>0</td>\n",
       "      <td>0</td>\n",
       "      <td>...</td>\n",
       "      <td>0</td>\n",
       "      <td>0</td>\n",
       "      <td>0</td>\n",
       "      <td>0</td>\n",
       "      <td>0</td>\n",
       "      <td>0</td>\n",
       "      <td>1</td>\n",
       "      <td>0</td>\n",
       "      <td>0</td>\n",
       "      <td>0</td>\n",
       "    </tr>\n",
       "    <tr>\n",
       "      <th>27-Jun-17 23:59:00</th>\n",
       "      <td>27-Jun-17</td>\n",
       "      <td>23:59:00</td>\n",
       "      <td>0</td>\n",
       "      <td>0</td>\n",
       "      <td>0</td>\n",
       "      <td>0</td>\n",
       "      <td>0</td>\n",
       "      <td>0</td>\n",
       "      <td>0</td>\n",
       "      <td>0</td>\n",
       "      <td>...</td>\n",
       "      <td>0</td>\n",
       "      <td>0</td>\n",
       "      <td>0</td>\n",
       "      <td>0</td>\n",
       "      <td>0</td>\n",
       "      <td>0</td>\n",
       "      <td>1</td>\n",
       "      <td>0</td>\n",
       "      <td>0</td>\n",
       "      <td>0</td>\n",
       "    </tr>\n",
       "  </tbody>\n",
       "</table>\n",
       "<p>24480 rows × 35 columns</p>\n",
       "</div>"
      ],
      "text/plain": [
       "                         Date      Time  lights  s1  s2  s3  s4  s5  s6  s7  \\\n",
       "Date_Time                                                                     \n",
       "11-Jun-17 0:00:00   11-Jun-17   0:00:00       0   6   2   0   0   0   0   7   \n",
       "11-Jun-17 0:01:00   11-Jun-17   0:01:00       0   0   6   0   0   0   0   8   \n",
       "11-Jun-17 0:02:00   11-Jun-17   0:02:00       0   0  11   0   0   0   0   0   \n",
       "11-Jun-17 0:03:00   11-Jun-17   0:03:00       0   0   7   0   0   0   0   0   \n",
       "11-Jun-17 0:04:00   11-Jun-17   0:04:00       0   0  20   0   0   0   5   4   \n",
       "...                       ...       ...     ...  ..  ..  ..  ..  ..  ..  ..   \n",
       "27-Jun-17 23:55:00  27-Jun-17  23:55:00       0   0   0   0   0   0   0   0   \n",
       "27-Jun-17 23:56:00  27-Jun-17  23:56:00       0   0   0   0   0   0   0   0   \n",
       "27-Jun-17 23:57:00  27-Jun-17  23:57:00       0   0   0   0   0   0   0   0   \n",
       "27-Jun-17 23:58:00  27-Jun-17  23:58:00       0   0   0   0   0   0   0   0   \n",
       "27-Jun-17 23:59:00  27-Jun-17  23:59:00       0   0   0   0   0   0   0   0   \n",
       "\n",
       "                    ...  s23  s24  s25  s26  s27  s28  s29  s30  s31  s32  \n",
       "Date_Time           ...                                                    \n",
       "11-Jun-17 0:00:00   ...    5    1    0    0    0    0    0    7    6    0  \n",
       "11-Jun-17 0:01:00   ...    0    7    0    4    0    0    0    0    0    0  \n",
       "11-Jun-17 0:02:00   ...    0    0    0   17    0    0    0    0    1    0  \n",
       "11-Jun-17 0:03:00   ...    0    4    0    0    0    0    0    0    0    0  \n",
       "11-Jun-17 0:04:00   ...    0    0    0    0    0    0    0    0    0    0  \n",
       "...                 ...  ...  ...  ...  ...  ...  ...  ...  ...  ...  ...  \n",
       "27-Jun-17 23:55:00  ...    0    0    0    0    0    0    2    0    1    0  \n",
       "27-Jun-17 23:56:00  ...    0    0    0    0    0    0    3    0    0    0  \n",
       "27-Jun-17 23:57:00  ...    0    0    0    0    0    0    3    0    0    3  \n",
       "27-Jun-17 23:58:00  ...    0    0    0    0    0    0    1    0    0    0  \n",
       "27-Jun-17 23:59:00  ...    0    0    0    0    0    0    1    0    0    0  \n",
       "\n",
       "[24480 rows x 35 columns]"
      ]
     },
     "execution_count": 5,
     "metadata": {},
     "output_type": "execute_result"
    }
   ],
   "source": [
    "dfn=pd.read_csv('Practice 4_data2.csv')\n",
    "newdf=wholedays(dfn)\n",
    "df=setindex(newdf)\n",
    "df"
   ]
  },
  {
   "cell_type": "code",
   "execution_count": 15,
   "id": "0992ab9a",
   "metadata": {
    "scrolled": true
   },
   "outputs": [
    {
     "ename": "AttributeError",
     "evalue": "'Series' object has no attribute 'columns'",
     "output_type": "error",
     "traceback": [
      "\u001b[1;31m---------------------------------------------------------------------------\u001b[0m",
      "\u001b[1;31mAttributeError\u001b[0m                            Traceback (most recent call last)",
      "\u001b[1;32m<ipython-input-15-4b1fe0743108>\u001b[0m in \u001b[0;36m<module>\u001b[1;34m\u001b[0m\n\u001b[1;32m----> 1\u001b[1;33m \u001b[0mcolumn_names\u001b[0m \u001b[1;33m=\u001b[0m \u001b[1;33m(\u001b[0m\u001b[0mdf\u001b[0m\u001b[1;33m.\u001b[0m\u001b[0mcolumns\u001b[0m\u001b[1;33m.\u001b[0m\u001b[0mvalues\u001b[0m\u001b[1;33m[\u001b[0m\u001b[1;36m3\u001b[0m\u001b[1;33m:\u001b[0m\u001b[1;36m5\u001b[0m\u001b[1;33m]\u001b[0m\u001b[1;33m)\u001b[0m\u001b[1;33m\u001b[0m\u001b[1;33m\u001b[0m\u001b[0m\n\u001b[0m\u001b[0;32m      2\u001b[0m \u001b[0mdisplay\u001b[0m\u001b[1;33m(\u001b[0m\u001b[0mtype\u001b[0m\u001b[1;33m(\u001b[0m\u001b[0mcolumn_names\u001b[0m\u001b[1;33m)\u001b[0m\u001b[1;33m)\u001b[0m\u001b[1;33m\u001b[0m\u001b[1;33m\u001b[0m\u001b[0m\n\u001b[0;32m      3\u001b[0m \u001b[0mdisplay\u001b[0m\u001b[1;33m(\u001b[0m\u001b[0mcolumn_names\u001b[0m\u001b[1;33m[\u001b[0m\u001b[1;36m0\u001b[0m\u001b[1;33m]\u001b[0m\u001b[1;33m)\u001b[0m\u001b[1;33m\u001b[0m\u001b[1;33m\u001b[0m\u001b[0m\n\u001b[0;32m      4\u001b[0m \u001b[1;33m\u001b[0m\u001b[0m\n\u001b[0;32m      5\u001b[0m     \u001b[1;31m#column_names[i]='df.'+column_names[i]\u001b[0m\u001b[1;33m\u001b[0m\u001b[1;33m\u001b[0m\u001b[1;33m\u001b[0m\u001b[0m\n",
      "\u001b[1;32mC:\\ProgramData\\Anaconda3\\lib\\site-packages\\pandas\\core\\generic.py\u001b[0m in \u001b[0;36m__getattr__\u001b[1;34m(self, name)\u001b[0m\n\u001b[0;32m   5463\u001b[0m             \u001b[1;32mif\u001b[0m \u001b[0mself\u001b[0m\u001b[1;33m.\u001b[0m\u001b[0m_info_axis\u001b[0m\u001b[1;33m.\u001b[0m\u001b[0m_can_hold_identifiers_and_holds_name\u001b[0m\u001b[1;33m(\u001b[0m\u001b[0mname\u001b[0m\u001b[1;33m)\u001b[0m\u001b[1;33m:\u001b[0m\u001b[1;33m\u001b[0m\u001b[1;33m\u001b[0m\u001b[0m\n\u001b[0;32m   5464\u001b[0m                 \u001b[1;32mreturn\u001b[0m \u001b[0mself\u001b[0m\u001b[1;33m[\u001b[0m\u001b[0mname\u001b[0m\u001b[1;33m]\u001b[0m\u001b[1;33m\u001b[0m\u001b[1;33m\u001b[0m\u001b[0m\n\u001b[1;32m-> 5465\u001b[1;33m             \u001b[1;32mreturn\u001b[0m \u001b[0mobject\u001b[0m\u001b[1;33m.\u001b[0m\u001b[0m__getattribute__\u001b[0m\u001b[1;33m(\u001b[0m\u001b[0mself\u001b[0m\u001b[1;33m,\u001b[0m \u001b[0mname\u001b[0m\u001b[1;33m)\u001b[0m\u001b[1;33m\u001b[0m\u001b[1;33m\u001b[0m\u001b[0m\n\u001b[0m\u001b[0;32m   5466\u001b[0m \u001b[1;33m\u001b[0m\u001b[0m\n\u001b[0;32m   5467\u001b[0m     \u001b[1;32mdef\u001b[0m \u001b[0m__setattr__\u001b[0m\u001b[1;33m(\u001b[0m\u001b[0mself\u001b[0m\u001b[1;33m,\u001b[0m \u001b[0mname\u001b[0m\u001b[1;33m:\u001b[0m \u001b[0mstr\u001b[0m\u001b[1;33m,\u001b[0m \u001b[0mvalue\u001b[0m\u001b[1;33m)\u001b[0m \u001b[1;33m->\u001b[0m \u001b[1;32mNone\u001b[0m\u001b[1;33m:\u001b[0m\u001b[1;33m\u001b[0m\u001b[1;33m\u001b[0m\u001b[0m\n",
      "\u001b[1;31mAttributeError\u001b[0m: 'Series' object has no attribute 'columns'"
     ]
    }
   ],
   "source": [
    "column_names = (df.columns.values[3:5]) \n",
    "display(type(column_names))\n",
    "display(column_names[0])\n",
    "\n",
    "    #column_names[i]='df.'+column_names[i]\n",
    "    \n",
    "    \n",
    "#np.array(column_names)\n",
    "#array=np.array(column_names)\n",
    "#for i in range(len(column_names)):\n",
    "    #spiderraster(df,(column_names[0]))\n",
    "    \n",
    "#print(column_names[0])\n",
    "#a=str(column_names[0])\n",
    "#print(type(column_names[0]))\n",
    "\n",
    "#plt.plot(df.Time,df.s1)\n",
    "#plt.show()\n",
    "\n",
    "#for i in range(len(column_names)):\n",
    "    #spiderraster(df,column_names[i])"
   ]
  },
  {
   "cell_type": "code",
   "execution_count": 7,
   "id": "8e2ce6d1",
   "metadata": {},
   "outputs": [],
   "source": [
    "from statsmodels.tsa.stattools import adfuller\n",
    "import pandas as pd\n",
    "import numpy as np\n",
    "df=df.s26"
   ]
  },
  {
   "cell_type": "code",
   "execution_count": 8,
   "id": "e31fe6df",
   "metadata": {},
   "outputs": [
    {
     "data": {
      "text/plain": [
       "<AxesSubplot:xlabel='Date_Time'>"
      ]
     },
     "execution_count": 8,
     "metadata": {},
     "output_type": "execute_result"
    },
    {
     "data": {
      "image/png": "[encoded data removed]",
      "text/plain": [
       "<Figure size 1008x576 with 1 Axes>"
      ]
     },
     "metadata": {
      "needs_background": "light"
     },
     "output_type": "display_data"
    }
   ],
   "source": [
    "df.plot(figsize=(14,8))"
   ]
  },
  {
   "cell_type": "code",
   "execution_count": 9,
   "id": "72cdddab",
   "metadata": {},
   "outputs": [
    {
     "name": "stdout",
     "output_type": "stream",
     "text": [
      "ADF Statistic: -6.178794\n",
      "p-value: 0.000000\n",
      "Critical Values:\n",
      "\t1%: -3.431\n",
      "\t5%: -2.862\n",
      "\t10%: -2.567\n",
      "Reject Ho - Time Series is Stationary\n"
     ]
    }
   ],
   "source": [
    "# ADF Test\n",
    "#Lag=  value of time gap being considered \n",
    "#The lag time is the time between the two time series you are correlating.\n",
    "result = adfuller(df, autolag='AIC')\n",
    "\n",
    "print('ADF Statistic: %f' % result[0])\n",
    "#if p-value is less than .05, we reject the null hypothesis and the data is stationary\n",
    "print('p-value: %f' % result[1])\n",
    "\n",
    "print('Critical Values:')\n",
    "\n",
    "for key, value in result[4].items():\n",
    "    print('\\t%s: %.3f' % (key, value))\n",
    "if result[0] < result[4][\"5%\"]:\n",
    "    print (\"Reject Ho - Time Series is Stationary\")\n",
    "else:\n",
    "    print (\"Failed to Reject Ho - Time Series is Non-Stationary\")"
   ]
  },
  {
   "cell_type": "code",
   "execution_count": 10,
   "id": "c84f68e5",
   "metadata": {},
   "outputs": [
    {
     "name": "stdout",
     "output_type": "stream",
     "text": [
      "Results of KPSS Test:\n",
      "Test Statistic            3.710893\n",
      "p-value                   0.010000\n",
      "#Lags Used               79.000000\n",
      "Critical Value (10%)      0.347000\n",
      "Critical Value (5%)       0.463000\n",
      "Critical Value (2.5%)     0.574000\n",
      "Critical Value (1%)       0.739000\n",
      "dtype: float64\n"
     ]
    },
    {
     "name": "stderr",
     "output_type": "stream",
     "text": [
      "C:\\ProgramData\\Anaconda3\\lib\\site-packages\\statsmodels\\tsa\\stattools.py:1906: InterpolationWarning: The test statistic is outside of the range of p-values available in the\n",
      "look-up table. The actual p-value is smaller than the p-value returned.\n",
      "\n",
      "  warnings.warn(\n"
     ]
    }
   ],
   "source": [
    "from statsmodels.tsa.stattools import kpss\n",
    "def kpss_test(timeseries):\n",
    "    print ('Results of KPSS Test:')\n",
    "    kpsstest = kpss(timeseries, regression='c', nlags=\"auto\")\n",
    "    kpss_output = pd.Series(kpsstest[0:3], index=['Test Statistic','p-value','#Lags Used'])\n",
    "    for key,value in kpsstest[3].items():\n",
    "        kpss_output['Critical Value (%s)'%key] = value\n",
    "    print (kpss_output)\n",
    "kpss_test(df)"
   ]
  },
  {
   "cell_type": "code",
   "execution_count": 11,
   "id": "7294b346",
   "metadata": {},
   "outputs": [
    {
     "data": {
      "text/plain": [
       "Date_Time\n",
       "11-Jun-17 0:00:00      0\n",
       "11-Jun-17 0:01:00      4\n",
       "11-Jun-17 0:02:00     17\n",
       "11-Jun-17 0:03:00      0\n",
       "11-Jun-17 0:04:00      0\n",
       "                      ..\n",
       "27-Jun-17 23:55:00     0\n",
       "27-Jun-17 23:56:00     0\n",
       "27-Jun-17 23:57:00     0\n",
       "27-Jun-17 23:58:00     0\n",
       "27-Jun-17 23:59:00     0\n",
       "Name: s26, Length: 24480, dtype: int64"
      ]
     },
     "metadata": {},
     "output_type": "display_data"
    },
    {
     "name": "stdout",
     "output_type": "stream",
     "text": [
      "Results of KPSS Test:\n",
      "Test Statistic             0.009808\n",
      "p-value                    0.100000\n",
      "#Lags Used               414.000000\n",
      "Critical Value (10%)       0.347000\n",
      "Critical Value (5%)        0.463000\n",
      "Critical Value (2.5%)      0.574000\n",
      "Critical Value (1%)        0.739000\n",
      "dtype: float64\n"
     ]
    },
    {
     "name": "stderr",
     "output_type": "stream",
     "text": [
      "C:\\ProgramData\\Anaconda3\\lib\\site-packages\\statsmodels\\tsa\\stattools.py:1910: InterpolationWarning: The test statistic is outside of the range of p-values available in the\n",
      "look-up table. The actual p-value is greater than the p-value returned.\n",
      "\n",
      "  warnings.warn(\n"
     ]
    }
   ],
   "source": [
    "display(df)\n",
    "dfdiff=np.diff(df)\n",
    "kpss_test(dfdiff)"
   ]
  },
  {
   "cell_type": "code",
   "execution_count": 12,
   "id": "f9c53b06",
   "metadata": {},
   "outputs": [
    {
     "name": "stdout",
     "output_type": "stream",
     "text": [
      "ADF Statistic: -37.956551\n",
      "p-value: 0.000000\n",
      "Critical Values:\n",
      "\t1%: -3.431\n",
      "\t5%: -2.862\n",
      "\t10%: -2.567\n",
      "Reject Ho - Time Series is Stationary\n"
     ]
    }
   ],
   "source": [
    "result = adfuller(dfdiff, autolag='AIC')\n",
    "\n",
    "print('ADF Statistic: %f' % result[0])\n",
    "#if p-value is less than .05, we reject the null hypothesis and the data is stationary\n",
    "print('p-value: %f' % result[1])\n",
    "\n",
    "print('Critical Values:')\n",
    "\n",
    "for key, value in result[4].items():\n",
    "    print('\\t%s: %.3f' % (key, value))\n",
    "if result[0] < result[4][\"5%\"]:\n",
    "    print (\"Reject Ho - Time Series is Stationary\")\n",
    "else:\n",
    "    print (\"Failed to Reject Ho - Time Series is Non-Stationary\")"
   ]
  },
  {
   "cell_type": "code",
   "execution_count": 13,
   "id": "f0bb2bda",
   "metadata": {},
   "outputs": [],
   "source": [
    "import pandas as pd\n",
    "from arch.unitroot import PhillipsPerron\n",
    "def test_stationarity_pp(data):\n",
    "    \"\"\"\n",
    "    Performs the Phillips-Perron (PP) test to check stationarity of a time series.\n",
    "    Args:\n",
    "        data (array-like): Input time series data.\n",
    "    Returns:\n",
    "        None\n",
    "    \"\"\"\n",
    "    # Perform PP test\n",
    "    result = PhillipsPerron(data)\n",
    "    # Extract test statistics and p-value\n",
    "    test_statistic = result.stat\n",
    "    p_value = result.pvalue\n",
    "    # Set significance level\n",
    "    significance_level = 0.05\n",
    "    # Print the results\n",
    "    print(\"Phillips-Perron Test Results:\")\n",
    "    print(\"-----------------------------\")\n",
    "    print(f\"Test Statistic: {test_statistic:.4f}\")\n",
    "    print(f\"P-value: {p_value:.4f}\")\n",
    "    print(f\"Significance Level: {significance_level}\")\n",
    "    print(\"-----------------------------\")\n",
    "    # Compare the p-value with the significance level\n",
    "    if p_value < significance_level:\n",
    "        print(\"Conclusion: Reject the null hypothesis (stationary)\")\n",
    "    else:\n",
    "        print(\"Conclusion: Fail to reject the null hypothesis (non-stationary)\")"
   ]
  },
  {
   "cell_type": "code",
   "execution_count": 44,
   "id": "9c3a5bf4",
   "metadata": {},
   "outputs": [
    {
     "name": "stdout",
     "output_type": "stream",
     "text": [
      "Phillips-Perron Test Results:\n",
      "-----------------------------\n",
      "Test Statistic: -133.5819\n",
      "P-value: 0.0000\n",
      "Significance Level: 0.05\n",
      "-----------------------------\n",
      "Conclusion: Reject the null hypothesis (stationary)\n"
     ]
    }
   ],
   "source": [
    "# python -m pip install arch\n",
    "test_stationarity_pp(df)"
   ]
  },
  {
   "cell_type": "code",
   "execution_count": null,
   "id": "deee207d",
   "metadata": {},
   "outputs": [],
   "source": [
    "plt.plot( df.index[1:],dfdiff)\n",
    "plt.xticks(range(1,len(df.index)), 1000)\n",
    "plt.show()"
   ]
  },
  {
   "cell_type": "code",
   "execution_count": 23,
   "id": "012168ba",
   "metadata": {},
   "outputs": [
    {
     "name": "stderr",
     "output_type": "stream",
     "text": [
      "<ipython-input-14-0e48d18dae1a>:15: SettingWithCopyWarning:\n",
      "\n",
      "\n",
      "A value is trying to be set on a copy of a slice from a DataFrame.\n",
      "Try using .loc[row_indexer,col_indexer] = value instead\n",
      "\n",
      "See the caveats in the documentation: https://pandas.pydata.org/pandas-docs/stable/user_guide/indexing.html#returning-a-view-versus-a-copy\n",
      "\n"
     ]
    },
    {
     "data": {
      "text/html": [
       "<div>\n",
       "<style scoped>\n",
       "    .dataframe tbody tr th:only-of-type {\n",
       "        vertical-align: middle;\n",
       "    }\n",
       "\n",
       "    .dataframe tbody tr th {\n",
       "        vertical-align: top;\n",
       "    }\n",
       "\n",
       "    .dataframe thead th {\n",
       "        text-align: right;\n",
       "    }\n",
       "</style>\n",
       "<table border=\"1\" class=\"dataframe\">\n",
       "  <thead>\n",
       "    <tr style=\"text-align: right;\">\n",
       "      <th>Date_Time</th>\n",
       "      <th>11-Jun-17 0:03:00</th>\n",
       "      <th>11-Jun-17 0:04:00</th>\n",
       "      <th>11-Jun-17 0:05:00</th>\n",
       "      <th>11-Jun-17 0:06:00</th>\n",
       "      <th>11-Jun-17 0:07:00</th>\n",
       "      <th>11-Jun-17 0:08:00</th>\n",
       "      <th>11-Jun-17 0:09:00</th>\n",
       "      <th>11-Jun-17 0:10:00</th>\n",
       "      <th>11-Jun-17 0:11:00</th>\n",
       "      <th>11-Jun-17 0:12:00</th>\n",
       "      <th>...</th>\n",
       "      <th>27-Jun-17 23:50:00</th>\n",
       "      <th>27-Jun-17 23:51:00</th>\n",
       "      <th>27-Jun-17 23:52:00</th>\n",
       "      <th>27-Jun-17 23:53:00</th>\n",
       "      <th>27-Jun-17 23:54:00</th>\n",
       "      <th>27-Jun-17 23:55:00</th>\n",
       "      <th>27-Jun-17 23:56:00</th>\n",
       "      <th>27-Jun-17 23:57:00</th>\n",
       "      <th>27-Jun-17 23:58:00</th>\n",
       "      <th>27-Jun-17 23:59:00</th>\n",
       "    </tr>\n",
       "  </thead>\n",
       "  <tbody>\n",
       "    <tr>\n",
       "      <th>s1</th>\n",
       "      <td>0</td>\n",
       "      <td>0</td>\n",
       "      <td>0</td>\n",
       "      <td>0</td>\n",
       "      <td>0</td>\n",
       "      <td>0</td>\n",
       "      <td>0</td>\n",
       "      <td>0</td>\n",
       "      <td>0</td>\n",
       "      <td>0</td>\n",
       "      <td>...</td>\n",
       "      <td>0</td>\n",
       "      <td>0</td>\n",
       "      <td>0</td>\n",
       "      <td>0</td>\n",
       "      <td>0</td>\n",
       "      <td>0</td>\n",
       "      <td>0</td>\n",
       "      <td>0</td>\n",
       "      <td>0</td>\n",
       "      <td>0</td>\n",
       "    </tr>\n",
       "    <tr>\n",
       "      <th>s2</th>\n",
       "      <td>7</td>\n",
       "      <td>20</td>\n",
       "      <td>8</td>\n",
       "      <td>5</td>\n",
       "      <td>7</td>\n",
       "      <td>12</td>\n",
       "      <td>4</td>\n",
       "      <td>6</td>\n",
       "      <td>6</td>\n",
       "      <td>6</td>\n",
       "      <td>...</td>\n",
       "      <td>2</td>\n",
       "      <td>0</td>\n",
       "      <td>0</td>\n",
       "      <td>5</td>\n",
       "      <td>0</td>\n",
       "      <td>0</td>\n",
       "      <td>0</td>\n",
       "      <td>0</td>\n",
       "      <td>0</td>\n",
       "      <td>0</td>\n",
       "    </tr>\n",
       "    <tr>\n",
       "      <th>s3</th>\n",
       "      <td>0</td>\n",
       "      <td>0</td>\n",
       "      <td>0</td>\n",
       "      <td>0</td>\n",
       "      <td>0</td>\n",
       "      <td>0</td>\n",
       "      <td>0</td>\n",
       "      <td>0</td>\n",
       "      <td>0</td>\n",
       "      <td>0</td>\n",
       "      <td>...</td>\n",
       "      <td>0</td>\n",
       "      <td>0</td>\n",
       "      <td>0</td>\n",
       "      <td>0</td>\n",
       "      <td>0</td>\n",
       "      <td>0</td>\n",
       "      <td>0</td>\n",
       "      <td>0</td>\n",
       "      <td>0</td>\n",
       "      <td>0</td>\n",
       "    </tr>\n",
       "    <tr>\n",
       "      <th>s4</th>\n",
       "      <td>0</td>\n",
       "      <td>0</td>\n",
       "      <td>0</td>\n",
       "      <td>0</td>\n",
       "      <td>0</td>\n",
       "      <td>0</td>\n",
       "      <td>0</td>\n",
       "      <td>0</td>\n",
       "      <td>0</td>\n",
       "      <td>0</td>\n",
       "      <td>...</td>\n",
       "      <td>0</td>\n",
       "      <td>0</td>\n",
       "      <td>0</td>\n",
       "      <td>0</td>\n",
       "      <td>0</td>\n",
       "      <td>0</td>\n",
       "      <td>0</td>\n",
       "      <td>0</td>\n",
       "      <td>0</td>\n",
       "      <td>0</td>\n",
       "    </tr>\n",
       "    <tr>\n",
       "      <th>s5</th>\n",
       "      <td>0</td>\n",
       "      <td>0</td>\n",
       "      <td>0</td>\n",
       "      <td>0</td>\n",
       "      <td>0</td>\n",
       "      <td>0</td>\n",
       "      <td>0</td>\n",
       "      <td>0</td>\n",
       "      <td>0</td>\n",
       "      <td>0</td>\n",
       "      <td>...</td>\n",
       "      <td>0</td>\n",
       "      <td>0</td>\n",
       "      <td>0</td>\n",
       "      <td>0</td>\n",
       "      <td>0</td>\n",
       "      <td>0</td>\n",
       "      <td>0</td>\n",
       "      <td>0</td>\n",
       "      <td>0</td>\n",
       "      <td>0</td>\n",
       "    </tr>\n",
       "    <tr>\n",
       "      <th>s6</th>\n",
       "      <td>0</td>\n",
       "      <td>5</td>\n",
       "      <td>0</td>\n",
       "      <td>0</td>\n",
       "      <td>0</td>\n",
       "      <td>0</td>\n",
       "      <td>0</td>\n",
       "      <td>0</td>\n",
       "      <td>0</td>\n",
       "      <td>0</td>\n",
       "      <td>...</td>\n",
       "      <td>0</td>\n",
       "      <td>0</td>\n",
       "      <td>0</td>\n",
       "      <td>0</td>\n",
       "      <td>0</td>\n",
       "      <td>0</td>\n",
       "      <td>0</td>\n",
       "      <td>0</td>\n",
       "      <td>0</td>\n",
       "      <td>0</td>\n",
       "    </tr>\n",
       "    <tr>\n",
       "      <th>s7</th>\n",
       "      <td>0</td>\n",
       "      <td>4</td>\n",
       "      <td>4</td>\n",
       "      <td>6</td>\n",
       "      <td>1</td>\n",
       "      <td>2</td>\n",
       "      <td>14</td>\n",
       "      <td>3</td>\n",
       "      <td>7</td>\n",
       "      <td>5</td>\n",
       "      <td>...</td>\n",
       "      <td>0</td>\n",
       "      <td>0</td>\n",
       "      <td>0</td>\n",
       "      <td>0</td>\n",
       "      <td>0</td>\n",
       "      <td>0</td>\n",
       "      <td>0</td>\n",
       "      <td>0</td>\n",
       "      <td>0</td>\n",
       "      <td>0</td>\n",
       "    </tr>\n",
       "    <tr>\n",
       "      <th>s8</th>\n",
       "      <td>0</td>\n",
       "      <td>0</td>\n",
       "      <td>0</td>\n",
       "      <td>0</td>\n",
       "      <td>0</td>\n",
       "      <td>0</td>\n",
       "      <td>0</td>\n",
       "      <td>0</td>\n",
       "      <td>0</td>\n",
       "      <td>0</td>\n",
       "      <td>...</td>\n",
       "      <td>0</td>\n",
       "      <td>0</td>\n",
       "      <td>0</td>\n",
       "      <td>0</td>\n",
       "      <td>0</td>\n",
       "      <td>0</td>\n",
       "      <td>0</td>\n",
       "      <td>0</td>\n",
       "      <td>0</td>\n",
       "      <td>0</td>\n",
       "    </tr>\n",
       "    <tr>\n",
       "      <th>s9</th>\n",
       "      <td>0</td>\n",
       "      <td>0</td>\n",
       "      <td>0</td>\n",
       "      <td>0</td>\n",
       "      <td>0</td>\n",
       "      <td>0</td>\n",
       "      <td>0</td>\n",
       "      <td>0</td>\n",
       "      <td>0</td>\n",
       "      <td>0</td>\n",
       "      <td>...</td>\n",
       "      <td>0</td>\n",
       "      <td>0</td>\n",
       "      <td>0</td>\n",
       "      <td>0</td>\n",
       "      <td>0</td>\n",
       "      <td>0</td>\n",
       "      <td>0</td>\n",
       "      <td>0</td>\n",
       "      <td>0</td>\n",
       "      <td>0</td>\n",
       "    </tr>\n",
       "    <tr>\n",
       "      <th>s10</th>\n",
       "      <td>0</td>\n",
       "      <td>0</td>\n",
       "      <td>5</td>\n",
       "      <td>5</td>\n",
       "      <td>7</td>\n",
       "      <td>6</td>\n",
       "      <td>2</td>\n",
       "      <td>3</td>\n",
       "      <td>6</td>\n",
       "      <td>0</td>\n",
       "      <td>...</td>\n",
       "      <td>0</td>\n",
       "      <td>0</td>\n",
       "      <td>0</td>\n",
       "      <td>0</td>\n",
       "      <td>0</td>\n",
       "      <td>0</td>\n",
       "      <td>0</td>\n",
       "      <td>0</td>\n",
       "      <td>0</td>\n",
       "      <td>0</td>\n",
       "    </tr>\n",
       "    <tr>\n",
       "      <th>s11</th>\n",
       "      <td>0</td>\n",
       "      <td>0</td>\n",
       "      <td>0</td>\n",
       "      <td>0</td>\n",
       "      <td>0</td>\n",
       "      <td>0</td>\n",
       "      <td>0</td>\n",
       "      <td>0</td>\n",
       "      <td>0</td>\n",
       "      <td>0</td>\n",
       "      <td>...</td>\n",
       "      <td>6</td>\n",
       "      <td>0</td>\n",
       "      <td>3</td>\n",
       "      <td>4</td>\n",
       "      <td>10</td>\n",
       "      <td>4</td>\n",
       "      <td>9</td>\n",
       "      <td>28</td>\n",
       "      <td>2</td>\n",
       "      <td>5</td>\n",
       "    </tr>\n",
       "    <tr>\n",
       "      <th>s12</th>\n",
       "      <td>0</td>\n",
       "      <td>0</td>\n",
       "      <td>0</td>\n",
       "      <td>0</td>\n",
       "      <td>0</td>\n",
       "      <td>0</td>\n",
       "      <td>0</td>\n",
       "      <td>0</td>\n",
       "      <td>0</td>\n",
       "      <td>0</td>\n",
       "      <td>...</td>\n",
       "      <td>0</td>\n",
       "      <td>0</td>\n",
       "      <td>0</td>\n",
       "      <td>0</td>\n",
       "      <td>0</td>\n",
       "      <td>0</td>\n",
       "      <td>0</td>\n",
       "      <td>0</td>\n",
       "      <td>0</td>\n",
       "      <td>0</td>\n",
       "    </tr>\n",
       "    <tr>\n",
       "      <th>s13</th>\n",
       "      <td>0</td>\n",
       "      <td>0</td>\n",
       "      <td>2</td>\n",
       "      <td>0</td>\n",
       "      <td>7</td>\n",
       "      <td>2</td>\n",
       "      <td>4</td>\n",
       "      <td>4</td>\n",
       "      <td>0</td>\n",
       "      <td>3</td>\n",
       "      <td>...</td>\n",
       "      <td>0</td>\n",
       "      <td>0</td>\n",
       "      <td>0</td>\n",
       "      <td>0</td>\n",
       "      <td>0</td>\n",
       "      <td>0</td>\n",
       "      <td>0</td>\n",
       "      <td>0</td>\n",
       "      <td>0</td>\n",
       "      <td>0</td>\n",
       "    </tr>\n",
       "    <tr>\n",
       "      <th>s14</th>\n",
       "      <td>0</td>\n",
       "      <td>0</td>\n",
       "      <td>0</td>\n",
       "      <td>0</td>\n",
       "      <td>0</td>\n",
       "      <td>0</td>\n",
       "      <td>0</td>\n",
       "      <td>0</td>\n",
       "      <td>0</td>\n",
       "      <td>0</td>\n",
       "      <td>...</td>\n",
       "      <td>0</td>\n",
       "      <td>0</td>\n",
       "      <td>0</td>\n",
       "      <td>0</td>\n",
       "      <td>0</td>\n",
       "      <td>0</td>\n",
       "      <td>0</td>\n",
       "      <td>0</td>\n",
       "      <td>0</td>\n",
       "      <td>0</td>\n",
       "    </tr>\n",
       "    <tr>\n",
       "      <th>s15</th>\n",
       "      <td>3</td>\n",
       "      <td>28</td>\n",
       "      <td>3</td>\n",
       "      <td>0</td>\n",
       "      <td>4</td>\n",
       "      <td>1</td>\n",
       "      <td>8</td>\n",
       "      <td>9</td>\n",
       "      <td>5</td>\n",
       "      <td>11</td>\n",
       "      <td>...</td>\n",
       "      <td>0</td>\n",
       "      <td>0</td>\n",
       "      <td>0</td>\n",
       "      <td>0</td>\n",
       "      <td>0</td>\n",
       "      <td>0</td>\n",
       "      <td>0</td>\n",
       "      <td>0</td>\n",
       "      <td>0</td>\n",
       "      <td>0</td>\n",
       "    </tr>\n",
       "    <tr>\n",
       "      <th>s16</th>\n",
       "      <td>0</td>\n",
       "      <td>0</td>\n",
       "      <td>0</td>\n",
       "      <td>0</td>\n",
       "      <td>0</td>\n",
       "      <td>0</td>\n",
       "      <td>0</td>\n",
       "      <td>0</td>\n",
       "      <td>0</td>\n",
       "      <td>0</td>\n",
       "      <td>...</td>\n",
       "      <td>0</td>\n",
       "      <td>0</td>\n",
       "      <td>0</td>\n",
       "      <td>0</td>\n",
       "      <td>0</td>\n",
       "      <td>0</td>\n",
       "      <td>0</td>\n",
       "      <td>0</td>\n",
       "      <td>0</td>\n",
       "      <td>0</td>\n",
       "    </tr>\n",
       "    <tr>\n",
       "      <th>s17</th>\n",
       "      <td>4</td>\n",
       "      <td>8</td>\n",
       "      <td>5</td>\n",
       "      <td>4</td>\n",
       "      <td>0</td>\n",
       "      <td>0</td>\n",
       "      <td>0</td>\n",
       "      <td>0</td>\n",
       "      <td>26</td>\n",
       "      <td>0</td>\n",
       "      <td>...</td>\n",
       "      <td>0</td>\n",
       "      <td>0</td>\n",
       "      <td>0</td>\n",
       "      <td>0</td>\n",
       "      <td>0</td>\n",
       "      <td>0</td>\n",
       "      <td>0</td>\n",
       "      <td>0</td>\n",
       "      <td>0</td>\n",
       "      <td>0</td>\n",
       "    </tr>\n",
       "    <tr>\n",
       "      <th>s18</th>\n",
       "      <td>0</td>\n",
       "      <td>0</td>\n",
       "      <td>2</td>\n",
       "      <td>2</td>\n",
       "      <td>0</td>\n",
       "      <td>0</td>\n",
       "      <td>4</td>\n",
       "      <td>2</td>\n",
       "      <td>0</td>\n",
       "      <td>0</td>\n",
       "      <td>...</td>\n",
       "      <td>0</td>\n",
       "      <td>0</td>\n",
       "      <td>0</td>\n",
       "      <td>0</td>\n",
       "      <td>0</td>\n",
       "      <td>0</td>\n",
       "      <td>0</td>\n",
       "      <td>0</td>\n",
       "      <td>0</td>\n",
       "      <td>0</td>\n",
       "    </tr>\n",
       "    <tr>\n",
       "      <th>s19</th>\n",
       "      <td>0</td>\n",
       "      <td>0</td>\n",
       "      <td>0</td>\n",
       "      <td>0</td>\n",
       "      <td>0</td>\n",
       "      <td>0</td>\n",
       "      <td>0</td>\n",
       "      <td>0</td>\n",
       "      <td>0</td>\n",
       "      <td>0</td>\n",
       "      <td>...</td>\n",
       "      <td>0</td>\n",
       "      <td>0</td>\n",
       "      <td>0</td>\n",
       "      <td>0</td>\n",
       "      <td>0</td>\n",
       "      <td>0</td>\n",
       "      <td>1</td>\n",
       "      <td>11</td>\n",
       "      <td>7</td>\n",
       "      <td>3</td>\n",
       "    </tr>\n",
       "    <tr>\n",
       "      <th>s20</th>\n",
       "      <td>0</td>\n",
       "      <td>0</td>\n",
       "      <td>0</td>\n",
       "      <td>0</td>\n",
       "      <td>0</td>\n",
       "      <td>0</td>\n",
       "      <td>0</td>\n",
       "      <td>0</td>\n",
       "      <td>0</td>\n",
       "      <td>3</td>\n",
       "      <td>...</td>\n",
       "      <td>0</td>\n",
       "      <td>0</td>\n",
       "      <td>0</td>\n",
       "      <td>0</td>\n",
       "      <td>0</td>\n",
       "      <td>0</td>\n",
       "      <td>0</td>\n",
       "      <td>0</td>\n",
       "      <td>0</td>\n",
       "      <td>0</td>\n",
       "    </tr>\n",
       "    <tr>\n",
       "      <th>s21</th>\n",
       "      <td>3</td>\n",
       "      <td>2</td>\n",
       "      <td>6</td>\n",
       "      <td>0</td>\n",
       "      <td>0</td>\n",
       "      <td>0</td>\n",
       "      <td>0</td>\n",
       "      <td>0</td>\n",
       "      <td>0</td>\n",
       "      <td>0</td>\n",
       "      <td>...</td>\n",
       "      <td>0</td>\n",
       "      <td>0</td>\n",
       "      <td>0</td>\n",
       "      <td>0</td>\n",
       "      <td>0</td>\n",
       "      <td>0</td>\n",
       "      <td>0</td>\n",
       "      <td>0</td>\n",
       "      <td>0</td>\n",
       "      <td>0</td>\n",
       "    </tr>\n",
       "    <tr>\n",
       "      <th>s22</th>\n",
       "      <td>0</td>\n",
       "      <td>12</td>\n",
       "      <td>6</td>\n",
       "      <td>2</td>\n",
       "      <td>1</td>\n",
       "      <td>3</td>\n",
       "      <td>0</td>\n",
       "      <td>6</td>\n",
       "      <td>1</td>\n",
       "      <td>2</td>\n",
       "      <td>...</td>\n",
       "      <td>0</td>\n",
       "      <td>0</td>\n",
       "      <td>0</td>\n",
       "      <td>0</td>\n",
       "      <td>0</td>\n",
       "      <td>0</td>\n",
       "      <td>0</td>\n",
       "      <td>0</td>\n",
       "      <td>0</td>\n",
       "      <td>0</td>\n",
       "    </tr>\n",
       "    <tr>\n",
       "      <th>s23</th>\n",
       "      <td>0</td>\n",
       "      <td>0</td>\n",
       "      <td>0</td>\n",
       "      <td>0</td>\n",
       "      <td>0</td>\n",
       "      <td>0</td>\n",
       "      <td>0</td>\n",
       "      <td>0</td>\n",
       "      <td>0</td>\n",
       "      <td>0</td>\n",
       "      <td>...</td>\n",
       "      <td>0</td>\n",
       "      <td>0</td>\n",
       "      <td>0</td>\n",
       "      <td>0</td>\n",
       "      <td>0</td>\n",
       "      <td>0</td>\n",
       "      <td>0</td>\n",
       "      <td>0</td>\n",
       "      <td>0</td>\n",
       "      <td>0</td>\n",
       "    </tr>\n",
       "    <tr>\n",
       "      <th>s24</th>\n",
       "      <td>4</td>\n",
       "      <td>0</td>\n",
       "      <td>0</td>\n",
       "      <td>8</td>\n",
       "      <td>18</td>\n",
       "      <td>0</td>\n",
       "      <td>0</td>\n",
       "      <td>0</td>\n",
       "      <td>0</td>\n",
       "      <td>0</td>\n",
       "      <td>...</td>\n",
       "      <td>0</td>\n",
       "      <td>0</td>\n",
       "      <td>0</td>\n",
       "      <td>0</td>\n",
       "      <td>0</td>\n",
       "      <td>0</td>\n",
       "      <td>0</td>\n",
       "      <td>0</td>\n",
       "      <td>0</td>\n",
       "      <td>0</td>\n",
       "    </tr>\n",
       "    <tr>\n",
       "      <th>s25</th>\n",
       "      <td>0</td>\n",
       "      <td>0</td>\n",
       "      <td>0</td>\n",
       "      <td>0</td>\n",
       "      <td>0</td>\n",
       "      <td>0</td>\n",
       "      <td>0</td>\n",
       "      <td>0</td>\n",
       "      <td>0</td>\n",
       "      <td>0</td>\n",
       "      <td>...</td>\n",
       "      <td>0</td>\n",
       "      <td>0</td>\n",
       "      <td>0</td>\n",
       "      <td>0</td>\n",
       "      <td>0</td>\n",
       "      <td>0</td>\n",
       "      <td>0</td>\n",
       "      <td>0</td>\n",
       "      <td>0</td>\n",
       "      <td>0</td>\n",
       "    </tr>\n",
       "    <tr>\n",
       "      <th>s26</th>\n",
       "      <td>0</td>\n",
       "      <td>0</td>\n",
       "      <td>0</td>\n",
       "      <td>0</td>\n",
       "      <td>0</td>\n",
       "      <td>0</td>\n",
       "      <td>0</td>\n",
       "      <td>0</td>\n",
       "      <td>0</td>\n",
       "      <td>0</td>\n",
       "      <td>...</td>\n",
       "      <td>0</td>\n",
       "      <td>0</td>\n",
       "      <td>0</td>\n",
       "      <td>0</td>\n",
       "      <td>0</td>\n",
       "      <td>0</td>\n",
       "      <td>0</td>\n",
       "      <td>0</td>\n",
       "      <td>0</td>\n",
       "      <td>0</td>\n",
       "    </tr>\n",
       "    <tr>\n",
       "      <th>s27</th>\n",
       "      <td>0</td>\n",
       "      <td>0</td>\n",
       "      <td>0</td>\n",
       "      <td>0</td>\n",
       "      <td>0</td>\n",
       "      <td>0</td>\n",
       "      <td>0</td>\n",
       "      <td>0</td>\n",
       "      <td>0</td>\n",
       "      <td>0</td>\n",
       "      <td>...</td>\n",
       "      <td>0</td>\n",
       "      <td>0</td>\n",
       "      <td>0</td>\n",
       "      <td>0</td>\n",
       "      <td>0</td>\n",
       "      <td>0</td>\n",
       "      <td>0</td>\n",
       "      <td>0</td>\n",
       "      <td>0</td>\n",
       "      <td>0</td>\n",
       "    </tr>\n",
       "    <tr>\n",
       "      <th>s28</th>\n",
       "      <td>0</td>\n",
       "      <td>0</td>\n",
       "      <td>0</td>\n",
       "      <td>0</td>\n",
       "      <td>0</td>\n",
       "      <td>0</td>\n",
       "      <td>0</td>\n",
       "      <td>0</td>\n",
       "      <td>0</td>\n",
       "      <td>0</td>\n",
       "      <td>...</td>\n",
       "      <td>0</td>\n",
       "      <td>0</td>\n",
       "      <td>0</td>\n",
       "      <td>0</td>\n",
       "      <td>0</td>\n",
       "      <td>0</td>\n",
       "      <td>0</td>\n",
       "      <td>0</td>\n",
       "      <td>0</td>\n",
       "      <td>0</td>\n",
       "    </tr>\n",
       "    <tr>\n",
       "      <th>s29</th>\n",
       "      <td>0</td>\n",
       "      <td>0</td>\n",
       "      <td>0</td>\n",
       "      <td>0</td>\n",
       "      <td>0</td>\n",
       "      <td>14</td>\n",
       "      <td>18</td>\n",
       "      <td>6</td>\n",
       "      <td>8</td>\n",
       "      <td>20</td>\n",
       "      <td>...</td>\n",
       "      <td>0</td>\n",
       "      <td>0</td>\n",
       "      <td>0</td>\n",
       "      <td>3</td>\n",
       "      <td>0</td>\n",
       "      <td>2</td>\n",
       "      <td>3</td>\n",
       "      <td>3</td>\n",
       "      <td>1</td>\n",
       "      <td>1</td>\n",
       "    </tr>\n",
       "    <tr>\n",
       "      <th>s30</th>\n",
       "      <td>0</td>\n",
       "      <td>0</td>\n",
       "      <td>0</td>\n",
       "      <td>0</td>\n",
       "      <td>0</td>\n",
       "      <td>0</td>\n",
       "      <td>0</td>\n",
       "      <td>0</td>\n",
       "      <td>0</td>\n",
       "      <td>0</td>\n",
       "      <td>...</td>\n",
       "      <td>0</td>\n",
       "      <td>0</td>\n",
       "      <td>0</td>\n",
       "      <td>0</td>\n",
       "      <td>0</td>\n",
       "      <td>0</td>\n",
       "      <td>0</td>\n",
       "      <td>0</td>\n",
       "      <td>0</td>\n",
       "      <td>0</td>\n",
       "    </tr>\n",
       "    <tr>\n",
       "      <th>s31</th>\n",
       "      <td>0</td>\n",
       "      <td>0</td>\n",
       "      <td>0</td>\n",
       "      <td>0</td>\n",
       "      <td>0</td>\n",
       "      <td>0</td>\n",
       "      <td>0</td>\n",
       "      <td>15</td>\n",
       "      <td>4</td>\n",
       "      <td>0</td>\n",
       "      <td>...</td>\n",
       "      <td>7</td>\n",
       "      <td>1</td>\n",
       "      <td>5</td>\n",
       "      <td>9</td>\n",
       "      <td>3</td>\n",
       "      <td>1</td>\n",
       "      <td>0</td>\n",
       "      <td>0</td>\n",
       "      <td>0</td>\n",
       "      <td>0</td>\n",
       "    </tr>\n",
       "    <tr>\n",
       "      <th>s32</th>\n",
       "      <td>0</td>\n",
       "      <td>0</td>\n",
       "      <td>0</td>\n",
       "      <td>0</td>\n",
       "      <td>0</td>\n",
       "      <td>0</td>\n",
       "      <td>0</td>\n",
       "      <td>0</td>\n",
       "      <td>0</td>\n",
       "      <td>0</td>\n",
       "      <td>...</td>\n",
       "      <td>0</td>\n",
       "      <td>0</td>\n",
       "      <td>0</td>\n",
       "      <td>0</td>\n",
       "      <td>0</td>\n",
       "      <td>0</td>\n",
       "      <td>0</td>\n",
       "      <td>3</td>\n",
       "      <td>0</td>\n",
       "      <td>0</td>\n",
       "    </tr>\n",
       "  </tbody>\n",
       "</table>\n",
       "<p>32 rows × 24477 columns</p>\n",
       "</div>"
      ],
      "text/plain": [
       "Date_Time  11-Jun-17 0:03:00  11-Jun-17 0:04:00  11-Jun-17 0:05:00  \\\n",
       "s1                         0                  0                  0   \n",
       "s2                         7                 20                  8   \n",
       "s3                         0                  0                  0   \n",
       "s4                         0                  0                  0   \n",
       "s5                         0                  0                  0   \n",
       "s6                         0                  5                  0   \n",
       "s7                         0                  4                  4   \n",
       "s8                         0                  0                  0   \n",
       "s9                         0                  0                  0   \n",
       "s10                        0                  0                  5   \n",
       "s11                        0                  0                  0   \n",
       "s12                        0                  0                  0   \n",
       "s13                        0                  0                  2   \n",
       "s14                        0                  0                  0   \n",
       "s15                        3                 28                  3   \n",
       "s16                        0                  0                  0   \n",
       "s17                        4                  8                  5   \n",
       "s18                        0                  0                  2   \n",
       "s19                        0                  0                  0   \n",
       "s20                        0                  0                  0   \n",
       "s21                        3                  2                  6   \n",
       "s22                        0                 12                  6   \n",
       "s23                        0                  0                  0   \n",
       "s24                        4                  0                  0   \n",
       "s25                        0                  0                  0   \n",
       "s26                        0                  0                  0   \n",
       "s27                        0                  0                  0   \n",
       "s28                        0                  0                  0   \n",
       "s29                        0                  0                  0   \n",
       "s30                        0                  0                  0   \n",
       "s31                        0                  0                  0   \n",
       "s32                        0                  0                  0   \n",
       "\n",
       "Date_Time  11-Jun-17 0:06:00  11-Jun-17 0:07:00  11-Jun-17 0:08:00  \\\n",
       "s1                         0                  0                  0   \n",
       "s2                         5                  7                 12   \n",
       "s3                         0                  0                  0   \n",
       "s4                         0                  0                  0   \n",
       "s5                         0                  0                  0   \n",
       "s6                         0                  0                  0   \n",
       "s7                         6                  1                  2   \n",
       "s8                         0                  0                  0   \n",
       "s9                         0                  0                  0   \n",
       "s10                        5                  7                  6   \n",
       "s11                        0                  0                  0   \n",
       "s12                        0                  0                  0   \n",
       "s13                        0                  7                  2   \n",
       "s14                        0                  0                  0   \n",
       "s15                        0                  4                  1   \n",
       "s16                        0                  0                  0   \n",
       "s17                        4                  0                  0   \n",
       "s18                        2                  0                  0   \n",
       "s19                        0                  0                  0   \n",
       "s20                        0                  0                  0   \n",
       "s21                        0                  0                  0   \n",
       "s22                        2                  1                  3   \n",
       "s23                        0                  0                  0   \n",
       "s24                        8                 18                  0   \n",
       "s25                        0                  0                  0   \n",
       "s26                        0                  0                  0   \n",
       "s27                        0                  0                  0   \n",
       "s28                        0                  0                  0   \n",
       "s29                        0                  0                 14   \n",
       "s30                        0                  0                  0   \n",
       "s31                        0                  0                  0   \n",
       "s32                        0                  0                  0   \n",
       "\n",
       "Date_Time  11-Jun-17 0:09:00  11-Jun-17 0:10:00  11-Jun-17 0:11:00  \\\n",
       "s1                         0                  0                  0   \n",
       "s2                         4                  6                  6   \n",
       "s3                         0                  0                  0   \n",
       "s4                         0                  0                  0   \n",
       "s5                         0                  0                  0   \n",
       "s6                         0                  0                  0   \n",
       "s7                        14                  3                  7   \n",
       "s8                         0                  0                  0   \n",
       "s9                         0                  0                  0   \n",
       "s10                        2                  3                  6   \n",
       "s11                        0                  0                  0   \n",
       "s12                        0                  0                  0   \n",
       "s13                        4                  4                  0   \n",
       "s14                        0                  0                  0   \n",
       "s15                        8                  9                  5   \n",
       "s16                        0                  0                  0   \n",
       "s17                        0                  0                 26   \n",
       "s18                        4                  2                  0   \n",
       "s19                        0                  0                  0   \n",
       "s20                        0                  0                  0   \n",
       "s21                        0                  0                  0   \n",
       "s22                        0                  6                  1   \n",
       "s23                        0                  0                  0   \n",
       "s24                        0                  0                  0   \n",
       "s25                        0                  0                  0   \n",
       "s26                        0                  0                  0   \n",
       "s27                        0                  0                  0   \n",
       "s28                        0                  0                  0   \n",
       "s29                       18                  6                  8   \n",
       "s30                        0                  0                  0   \n",
       "s31                        0                 15                  4   \n",
       "s32                        0                  0                  0   \n",
       "\n",
       "Date_Time  11-Jun-17 0:12:00  ...  27-Jun-17 23:50:00  27-Jun-17 23:51:00  \\\n",
       "s1                         0  ...                   0                   0   \n",
       "s2                         6  ...                   2                   0   \n",
       "s3                         0  ...                   0                   0   \n",
       "s4                         0  ...                   0                   0   \n",
       "s5                         0  ...                   0                   0   \n",
       "s6                         0  ...                   0                   0   \n",
       "s7                         5  ...                   0                   0   \n",
       "s8                         0  ...                   0                   0   \n",
       "s9                         0  ...                   0                   0   \n",
       "s10                        0  ...                   0                   0   \n",
       "s11                        0  ...                   6                   0   \n",
       "s12                        0  ...                   0                   0   \n",
       "s13                        3  ...                   0                   0   \n",
       "s14                        0  ...                   0                   0   \n",
       "s15                       11  ...                   0                   0   \n",
       "s16                        0  ...                   0                   0   \n",
       "s17                        0  ...                   0                   0   \n",
       "s18                        0  ...                   0                   0   \n",
       "s19                        0  ...                   0                   0   \n",
       "s20                        3  ...                   0                   0   \n",
       "s21                        0  ...                   0                   0   \n",
       "s22                        2  ...                   0                   0   \n",
       "s23                        0  ...                   0                   0   \n",
       "s24                        0  ...                   0                   0   \n",
       "s25                        0  ...                   0                   0   \n",
       "s26                        0  ...                   0                   0   \n",
       "s27                        0  ...                   0                   0   \n",
       "s28                        0  ...                   0                   0   \n",
       "s29                       20  ...                   0                   0   \n",
       "s30                        0  ...                   0                   0   \n",
       "s31                        0  ...                   7                   1   \n",
       "s32                        0  ...                   0                   0   \n",
       "\n",
       "Date_Time  27-Jun-17 23:52:00  27-Jun-17 23:53:00  27-Jun-17 23:54:00  \\\n",
       "s1                          0                   0                   0   \n",
       "s2                          0                   5                   0   \n",
       "s3                          0                   0                   0   \n",
       "s4                          0                   0                   0   \n",
       "s5                          0                   0                   0   \n",
       "s6                          0                   0                   0   \n",
       "s7                          0                   0                   0   \n",
       "s8                          0                   0                   0   \n",
       "s9                          0                   0                   0   \n",
       "s10                         0                   0                   0   \n",
       "s11                         3                   4                  10   \n",
       "s12                         0                   0                   0   \n",
       "s13                         0                   0                   0   \n",
       "s14                         0                   0                   0   \n",
       "s15                         0                   0                   0   \n",
       "s16                         0                   0                   0   \n",
       "s17                         0                   0                   0   \n",
       "s18                         0                   0                   0   \n",
       "s19                         0                   0                   0   \n",
       "s20                         0                   0                   0   \n",
       "s21                         0                   0                   0   \n",
       "s22                         0                   0                   0   \n",
       "s23                         0                   0                   0   \n",
       "s24                         0                   0                   0   \n",
       "s25                         0                   0                   0   \n",
       "s26                         0                   0                   0   \n",
       "s27                         0                   0                   0   \n",
       "s28                         0                   0                   0   \n",
       "s29                         0                   3                   0   \n",
       "s30                         0                   0                   0   \n",
       "s31                         5                   9                   3   \n",
       "s32                         0                   0                   0   \n",
       "\n",
       "Date_Time  27-Jun-17 23:55:00  27-Jun-17 23:56:00  27-Jun-17 23:57:00  \\\n",
       "s1                          0                   0                   0   \n",
       "s2                          0                   0                   0   \n",
       "s3                          0                   0                   0   \n",
       "s4                          0                   0                   0   \n",
       "s5                          0                   0                   0   \n",
       "s6                          0                   0                   0   \n",
       "s7                          0                   0                   0   \n",
       "s8                          0                   0                   0   \n",
       "s9                          0                   0                   0   \n",
       "s10                         0                   0                   0   \n",
       "s11                         4                   9                  28   \n",
       "s12                         0                   0                   0   \n",
       "s13                         0                   0                   0   \n",
       "s14                         0                   0                   0   \n",
       "s15                         0                   0                   0   \n",
       "s16                         0                   0                   0   \n",
       "s17                         0                   0                   0   \n",
       "s18                         0                   0                   0   \n",
       "s19                         0                   1                  11   \n",
       "s20                         0                   0                   0   \n",
       "s21                         0                   0                   0   \n",
       "s22                         0                   0                   0   \n",
       "s23                         0                   0                   0   \n",
       "s24                         0                   0                   0   \n",
       "s25                         0                   0                   0   \n",
       "s26                         0                   0                   0   \n",
       "s27                         0                   0                   0   \n",
       "s28                         0                   0                   0   \n",
       "s29                         2                   3                   3   \n",
       "s30                         0                   0                   0   \n",
       "s31                         1                   0                   0   \n",
       "s32                         0                   0                   3   \n",
       "\n",
       "Date_Time  27-Jun-17 23:58:00  27-Jun-17 23:59:00  \n",
       "s1                          0                   0  \n",
       "s2                          0                   0  \n",
       "s3                          0                   0  \n",
       "s4                          0                   0  \n",
       "s5                          0                   0  \n",
       "s6                          0                   0  \n",
       "s7                          0                   0  \n",
       "s8                          0                   0  \n",
       "s9                          0                   0  \n",
       "s10                         0                   0  \n",
       "s11                         2                   5  \n",
       "s12                         0                   0  \n",
       "s13                         0                   0  \n",
       "s14                         0                   0  \n",
       "s15                         0                   0  \n",
       "s16                         0                   0  \n",
       "s17                         0                   0  \n",
       "s18                         0                   0  \n",
       "s19                         7                   3  \n",
       "s20                         0                   0  \n",
       "s21                         0                   0  \n",
       "s22                         0                   0  \n",
       "s23                         0                   0  \n",
       "s24                         0                   0  \n",
       "s25                         0                   0  \n",
       "s26                         0                   0  \n",
       "s27                         0                   0  \n",
       "s28                         0                   0  \n",
       "s29                         1                   1  \n",
       "s30                         0                   0  \n",
       "s31                         0                   0  \n",
       "s32                         0                   0  \n",
       "\n",
       "[32 rows x 24477 columns]"
      ]
     },
     "metadata": {},
     "output_type": "display_data"
    }
   ],
   "source": [
    "import pandas  as pd\n",
    "import numpy   as np\n",
    "import seaborn as sns\n",
    "import matplotlib.pyplot as plt\n",
    "from sklearn.metrics import r2_score\n",
    "sns.set()\n",
    "from sklearn.decomposition import PCA\n",
    "from sklearn.preprocessing import StandardScaler\n",
    "\n",
    "dfn=pd.read_csv('Practice 4_data2.csv')\n",
    "newdf=wholedays(dfn)\n",
    "df=setindex(newdf)\n",
    "\n",
    "df=df.iloc[3:,3:]\n",
    "\n",
    "df=df.T\n",
    "display(df)"
   ]
  },
  {
   "cell_type": "code",
   "execution_count": 26,
   "id": "3e81c1d1",
   "metadata": {},
   "outputs": [
    {
     "data": {
      "application/vnd.plotly.v1+json": {
       "config": {
        "plotlyServerURL": "https://plot.ly"
       },
       "data": [
        {
         "hovertemplate": "color=s1<br>PC 1=%{x}<br>PC 2=%{y}<extra></extra>",
         "legendgroup": "s1",
         "marker": {
          "color": "#636efa",
          "symbol": "circle"
         },
         "mode": "markers",
         "name": "s1",
         "orientation": "v",
         "showlegend": true,
         "type": "scatter",
         "x": [
          -61.89887840866133
         ],
         "xaxis": "x",
         "y": [
          -45.82896997510934
         ],
         "yaxis": "y"
        },
        {
         "hovertemplate": "color=s2<br>PC 1=%{x}<br>PC 2=%{y}<extra></extra>",
         "legendgroup": "s2",
         "marker": {
          "color": "#EF553B",
          "symbol": "circle"
         },
         "mode": "markers",
         "name": "s2",
         "orientation": "v",
         "showlegend": true,
         "type": "scatter",
         "x": [
          -3.9360854021718246
         ],
         "xaxis": "x",
         "y": [
          -9.70600881151265
         ],
         "yaxis": "y"
        },
        {
         "hovertemplate": "color=s3<br>PC 1=%{x}<br>PC 2=%{y}<extra></extra>",
         "legendgroup": "s3",
         "marker": {
          "color": "#00cc96",
          "symbol": "circle"
         },
         "mode": "markers",
         "name": "s3",
         "orientation": "v",
         "showlegend": true,
         "type": "scatter",
         "x": [
          -41.57351839199314
         ],
         "xaxis": "x",
         "y": [
          -20.380353378406035
         ],
         "yaxis": "y"
        },
        {
         "hovertemplate": "color=s4<br>PC 1=%{x}<br>PC 2=%{y}<extra></extra>",
         "legendgroup": "s4",
         "marker": {
          "color": "#ab63fa",
          "symbol": "circle"
         },
         "mode": "markers",
         "name": "s4",
         "orientation": "v",
         "showlegend": true,
         "type": "scatter",
         "x": [
          -67.98984664189985
         ],
         "xaxis": "x",
         "y": [
          -25.810587097898292
         ],
         "yaxis": "y"
        },
        {
         "hovertemplate": "color=s5<br>PC 1=%{x}<br>PC 2=%{y}<extra></extra>",
         "legendgroup": "s5",
         "marker": {
          "color": "#FFA15A",
          "symbol": "circle"
         },
         "mode": "markers",
         "name": "s5",
         "orientation": "v",
         "showlegend": true,
         "type": "scatter",
         "x": [
          -56.39509720904982
         ],
         "xaxis": "x",
         "y": [
          -54.929321229368114
         ],
         "yaxis": "y"
        },
        {
         "hovertemplate": "color=s6<br>PC 1=%{x}<br>PC 2=%{y}<extra></extra>",
         "legendgroup": "s6",
         "marker": {
          "color": "#19d3f3",
          "symbol": "circle"
         },
         "mode": "markers",
         "name": "s6",
         "orientation": "v",
         "showlegend": true,
         "type": "scatter",
         "x": [
          1143.552018057504
         ],
         "xaxis": "x",
         "y": [
          -277.8415944084526
         ],
         "yaxis": "y"
        },
        {
         "hovertemplate": "color=s7<br>PC 1=%{x}<br>PC 2=%{y}<extra></extra>",
         "legendgroup": "s7",
         "marker": {
          "color": "#FF6692",
          "symbol": "circle"
         },
         "mode": "markers",
         "name": "s7",
         "orientation": "v",
         "showlegend": true,
         "type": "scatter",
         "x": [
          -8.100541905937664
         ],
         "xaxis": "x",
         "y": [
          -16.67378032245623
         ],
         "yaxis": "y"
        },
        {
         "hovertemplate": "color=s8<br>PC 1=%{x}<br>PC 2=%{y}<extra></extra>",
         "legendgroup": "s8",
         "marker": {
          "color": "#B6E880",
          "symbol": "circle"
         },
         "mode": "markers",
         "name": "s8",
         "orientation": "v",
         "showlegend": true,
         "type": "scatter",
         "x": [
          -68.09312301600562
         ],
         "xaxis": "x",
         "y": [
          -34.75383272178461
         ],
         "yaxis": "y"
        },
        {
         "hovertemplate": "color=s9<br>PC 1=%{x}<br>PC 2=%{y}<extra></extra>",
         "legendgroup": "s9",
         "marker": {
          "color": "#FF97FF",
          "symbol": "circle"
         },
         "mode": "markers",
         "name": "s9",
         "orientation": "v",
         "showlegend": true,
         "type": "scatter",
         "x": [
          -73.20044989242132
         ],
         "xaxis": "x",
         "y": [
          -39.24252942791203
         ],
         "yaxis": "y"
        },
        {
         "hovertemplate": "color=s10<br>PC 1=%{x}<br>PC 2=%{y}<extra></extra>",
         "legendgroup": "s10",
         "marker": {
          "color": "#FECB52",
          "symbol": "circle"
         },
         "mode": "markers",
         "name": "s10",
         "orientation": "v",
         "showlegend": true,
         "type": "scatter",
         "x": [
          -49.23464025748607
         ],
         "xaxis": "x",
         "y": [
          -28.482352530809937
         ],
         "yaxis": "y"
        },
        {
         "hovertemplate": "color=s11<br>PC 1=%{x}<br>PC 2=%{y}<extra></extra>",
         "legendgroup": "s11",
         "marker": {
          "color": "#636efa",
          "symbol": "circle"
         },
         "mode": "markers",
         "name": "s11",
         "orientation": "v",
         "showlegend": true,
         "type": "scatter",
         "x": [
          -48.25237944122978
         ],
         "xaxis": "x",
         "y": [
          15.554035513188596
         ],
         "yaxis": "y"
        },
        {
         "hovertemplate": "color=s12<br>PC 1=%{x}<br>PC 2=%{y}<extra></extra>",
         "legendgroup": "s12",
         "marker": {
          "color": "#EF553B",
          "symbol": "circle"
         },
         "mode": "markers",
         "name": "s12",
         "orientation": "v",
         "showlegend": true,
         "type": "scatter",
         "x": [
          -82.98687892655464
         ],
         "xaxis": "x",
         "y": [
          -34.39481269795734
         ],
         "yaxis": "y"
        },
        {
         "hovertemplate": "color=s13<br>PC 1=%{x}<br>PC 2=%{y}<extra></extra>",
         "legendgroup": "s13",
         "marker": {
          "color": "#00cc96",
          "symbol": "circle"
         },
         "mode": "markers",
         "name": "s13",
         "orientation": "v",
         "showlegend": true,
         "type": "scatter",
         "x": [
          -68.02496342901932
         ],
         "xaxis": "x",
         "y": [
          -41.61724410854633
         ],
         "yaxis": "y"
        },
        {
         "hovertemplate": "color=s14<br>PC 1=%{x}<br>PC 2=%{y}<extra></extra>",
         "legendgroup": "s14",
         "marker": {
          "color": "#ab63fa",
          "symbol": "circle"
         },
         "mode": "markers",
         "name": "s14",
         "orientation": "v",
         "showlegend": true,
         "type": "scatter",
         "x": [
          -58.65881958342671
         ],
         "xaxis": "x",
         "y": [
          -2.8518117451045426
         ],
         "yaxis": "y"
        },
        {
         "hovertemplate": "color=s15<br>PC 1=%{x}<br>PC 2=%{y}<extra></extra>",
         "legendgroup": "s15",
         "marker": {
          "color": "#FFA15A",
          "symbol": "circle"
         },
         "mode": "markers",
         "name": "s15",
         "orientation": "v",
         "showlegend": true,
         "type": "scatter",
         "x": [
          -4.420542553281996
         ],
         "xaxis": "x",
         "y": [
          -14.556691390766389
         ],
         "yaxis": "y"
        },
        {
         "hovertemplate": "color=s16<br>PC 1=%{x}<br>PC 2=%{y}<extra></extra>",
         "legendgroup": "s16",
         "marker": {
          "color": "#19d3f3",
          "symbol": "circle"
         },
         "mode": "markers",
         "name": "s16",
         "orientation": "v",
         "showlegend": true,
         "type": "scatter",
         "x": [
          -1.2761665224688972
         ],
         "xaxis": "x",
         "y": [
          15.011797108667759
         ],
         "yaxis": "y"
        },
        {
         "hovertemplate": "color=s17<br>PC 1=%{x}<br>PC 2=%{y}<extra></extra>",
         "legendgroup": "s17",
         "marker": {
          "color": "#FF6692",
          "symbol": "circle"
         },
         "mode": "markers",
         "name": "s17",
         "orientation": "v",
         "showlegend": true,
         "type": "scatter",
         "x": [
          -26.284513303712476
         ],
         "xaxis": "x",
         "y": [
          -18.12723209339017
         ],
         "yaxis": "y"
        },
        {
         "hovertemplate": "color=s18<br>PC 1=%{x}<br>PC 2=%{y}<extra></extra>",
         "legendgroup": "s18",
         "marker": {
          "color": "#B6E880",
          "symbol": "circle"
         },
         "mode": "markers",
         "name": "s18",
         "orientation": "v",
         "showlegend": true,
         "type": "scatter",
         "x": [
          -59.12643872474933
         ],
         "xaxis": "x",
         "y": [
          -23.000465148466542
         ],
         "yaxis": "y"
        },
        {
         "hovertemplate": "color=s19<br>PC 1=%{x}<br>PC 2=%{y}<extra></extra>",
         "legendgroup": "s19",
         "marker": {
          "color": "#FF97FF",
          "symbol": "circle"
         },
         "mode": "markers",
         "name": "s19",
         "orientation": "v",
         "showlegend": true,
         "type": "scatter",
         "x": [
          -58.4136429560863
         ],
         "xaxis": "x",
         "y": [
          -11.831342892448673
         ],
         "yaxis": "y"
        },
        {
         "hovertemplate": "color=s20<br>PC 1=%{x}<br>PC 2=%{y}<extra></extra>",
         "legendgroup": "s20",
         "marker": {
          "color": "#FECB52",
          "symbol": "circle"
         },
         "mode": "markers",
         "name": "s20",
         "orientation": "v",
         "showlegend": true,
         "type": "scatter",
         "x": [
          -65.13055328711879
         ],
         "xaxis": "x",
         "y": [
          -20.490489643224667
         ],
         "yaxis": "y"
        },
        {
         "hovertemplate": "color=s21<br>PC 1=%{x}<br>PC 2=%{y}<extra></extra>",
         "legendgroup": "s21",
         "marker": {
          "color": "#636efa",
          "symbol": "circle"
         },
         "mode": "markers",
         "name": "s21",
         "orientation": "v",
         "showlegend": true,
         "type": "scatter",
         "x": [
          262.221744325676
         ],
         "xaxis": "x",
         "y": [
          1045.118452695148
         ],
         "yaxis": "y"
        },
        {
         "hovertemplate": "color=s22<br>PC 1=%{x}<br>PC 2=%{y}<extra></extra>",
         "legendgroup": "s22",
         "marker": {
          "color": "#EF553B",
          "symbol": "circle"
         },
         "mode": "markers",
         "name": "s22",
         "orientation": "v",
         "showlegend": true,
         "type": "scatter",
         "x": [
          -62.99357180824736
         ],
         "xaxis": "x",
         "y": [
          -32.5681114638857
         ],
         "yaxis": "y"
        },
        {
         "hovertemplate": "color=s23<br>PC 1=%{x}<br>PC 2=%{y}<extra></extra>",
         "legendgroup": "s23",
         "marker": {
          "color": "#00cc96",
          "symbol": "circle"
         },
         "mode": "markers",
         "name": "s23",
         "orientation": "v",
         "showlegend": true,
         "type": "scatter",
         "x": [
          -38.85481419424065
         ],
         "xaxis": "x",
         "y": [
          -19.576687072989348
         ],
         "yaxis": "y"
        },
        {
         "hovertemplate": "color=s24<br>PC 1=%{x}<br>PC 2=%{y}<extra></extra>",
         "legendgroup": "s24",
         "marker": {
          "color": "#ab63fa",
          "symbol": "circle"
         },
         "mode": "markers",
         "name": "s24",
         "orientation": "v",
         "showlegend": true,
         "type": "scatter",
         "x": [
          -13.950784896523073
         ],
         "xaxis": "x",
         "y": [
          -14.69549298662163
         ],
         "yaxis": "y"
        },
        {
         "hovertemplate": "color=s25<br>PC 1=%{x}<br>PC 2=%{y}<extra></extra>",
         "legendgroup": "s25",
         "marker": {
          "color": "#FFA15A",
          "symbol": "circle"
         },
         "mode": "markers",
         "name": "s25",
         "orientation": "v",
         "showlegend": true,
         "type": "scatter",
         "x": [
          -52.94122401047279
         ],
         "xaxis": "x",
         "y": [
          -61.72863130015892
         ],
         "yaxis": "y"
        },
        {
         "hovertemplate": "color=s26<br>PC 1=%{x}<br>PC 2=%{y}<extra></extra>",
         "legendgroup": "s26",
         "marker": {
          "color": "#19d3f3",
          "symbol": "circle"
         },
         "mode": "markers",
         "name": "s26",
         "orientation": "v",
         "showlegend": true,
         "type": "scatter",
         "x": [
          -87.90134952275491
         ],
         "xaxis": "x",
         "y": [
          -41.20261301935209
         ],
         "yaxis": "y"
        },
        {
         "hovertemplate": "color=s27<br>PC 1=%{x}<br>PC 2=%{y}<extra></extra>",
         "legendgroup": "s27",
         "marker": {
          "color": "#FF6692",
          "symbol": "circle"
         },
         "mode": "markers",
         "name": "s27",
         "orientation": "v",
         "showlegend": true,
         "type": "scatter",
         "x": [
          -52.47726093426103
         ],
         "xaxis": "x",
         "y": [
          -24.45868495221698
         ],
         "yaxis": "y"
        },
        {
         "hovertemplate": "color=s28<br>PC 1=%{x}<br>PC 2=%{y}<extra></extra>",
         "legendgroup": "s28",
         "marker": {
          "color": "#B6E880",
          "symbol": "circle"
         },
         "mode": "markers",
         "name": "s28",
         "orientation": "v",
         "showlegend": true,
         "type": "scatter",
         "x": [
          -93.74987478070453
         ],
         "xaxis": "x",
         "y": [
          -40.586348252014446
         ],
         "yaxis": "y"
        },
        {
         "hovertemplate": "color=s29<br>PC 1=%{x}<br>PC 2=%{y}<extra></extra>",
         "legendgroup": "s29",
         "marker": {
          "color": "#FF97FF",
          "symbol": "circle"
         },
         "mode": "markers",
         "name": "s29",
         "orientation": "v",
         "showlegend": true,
         "type": "scatter",
         "x": [
          -46.05380339926274
         ],
         "xaxis": "x",
         "y": [
          -29.38656604820456
         ],
         "yaxis": "y"
        },
        {
         "hovertemplate": "color=s30<br>PC 1=%{x}<br>PC 2=%{y}<extra></extra>",
         "legendgroup": "s30",
         "marker": {
          "color": "#FECB52",
          "symbol": "circle"
         },
         "mode": "markers",
         "name": "s30",
         "orientation": "v",
         "showlegend": true,
         "type": "scatter",
         "x": [
          53.958089437529516
         ],
         "xaxis": "x",
         "y": [
          -17.76999669530317
         ],
         "yaxis": "y"
        },
        {
         "hovertemplate": "color=s31<br>PC 1=%{x}<br>PC 2=%{y}<extra></extra>",
         "legendgroup": "s31",
         "marker": {
          "color": "#636efa",
          "symbol": "circle"
         },
         "mode": "markers",
         "name": "s31",
         "orientation": "v",
         "showlegend": true,
         "type": "scatter",
         "x": [
          -49.486847704628964
         ],
         "xaxis": "x",
         "y": [
          -39.15511858791673
         ],
         "yaxis": "y"
        },
        {
         "hovertemplate": "color=s32<br>PC 1=%{x}<br>PC 2=%{y}<extra></extra>",
         "legendgroup": "s32",
         "marker": {
          "color": "#EF553B",
          "symbol": "circle"
         },
         "mode": "markers",
         "name": "s32",
         "orientation": "v",
         "showlegend": true,
         "type": "scatter",
         "x": [
          -58.325240716338925
         ],
         "xaxis": "x",
         "y": [
          -34.0366153147261
         ],
         "yaxis": "y"
        }
       ],
       "layout": {
        "legend": {
         "title": {
          "text": "color"
         },
         "tracegroupgap": 0
        },
        "margin": {
         "t": 60
        },
        "template": {
         "data": {
          "bar": [
           {
            "error_x": {
             "color": "#2a3f5f"
            },
            "error_y": {
             "color": "#2a3f5f"
            },
            "marker": {
             "line": {
              "color": "#E5ECF6",
              "width": 0.5
             },
             "pattern": {
              "fillmode": "overlay",
              "size": 10,
              "solidity": 0.2
             }
            },
            "type": "bar"
           }
          ],
          "barpolar": [
           {
            "marker": {
             "line": {
              "color": "#E5ECF6",
              "width": 0.5
             },
             "pattern": {
              "fillmode": "overlay",
              "size": 10,
              "solidity": 0.2
             }
            },
            "type": "barpolar"
           }
          ],
          "carpet": [
           {
            "aaxis": {
             "endlinecolor": "#2a3f5f",
             "gridcolor": "white",
             "linecolor": "white",
             "minorgridcolor": "white",
             "startlinecolor": "#2a3f5f"
            },
            "baxis": {
             "endlinecolor": "#2a3f5f",
             "gridcolor": "white",
             "linecolor": "white",
             "minorgridcolor": "white",
             "startlinecolor": "#2a3f5f"
            },
            "type": "carpet"
           }
          ],
          "choropleth": [
           {
            "colorbar": {
             "outlinewidth": 0,
             "ticks": ""
            },
            "type": "choropleth"
           }
          ],
          "contour": [
           {
            "colorbar": {
             "outlinewidth": 0,
             "ticks": ""
            },
            "colorscale": [
             [
              0,
              "#0d0887"
             ],
             [
              0.1111111111111111,
              "#46039f"
             ],
             [
              0.2222222222222222,
              "#7201a8"
             ],
             [
              0.3333333333333333,
              "#9c179e"
             ],
             [
              0.4444444444444444,
              "#bd3786"
             ],
             [
              0.5555555555555556,
              "#d8576b"
             ],
             [
              0.6666666666666666,
              "#ed7953"
             ],
             [
              0.7777777777777778,
              "#fb9f3a"
             ],
             [
              0.8888888888888888,
              "#fdca26"
             ],
             [
              1,
              "#f0f921"
             ]
            ],
            "type": "contour"
           }
          ],
          "contourcarpet": [
           {
            "colorbar": {
             "outlinewidth": 0,
             "ticks": ""
            },
            "type": "contourcarpet"
           }
          ],
          "heatmap": [
           {
            "colorbar": {
             "outlinewidth": 0,
             "ticks": ""
            },
            "colorscale": [
             [
              0,
              "#0d0887"
             ],
             [
              0.1111111111111111,
              "#46039f"
             ],
             [
              0.2222222222222222,
              "#7201a8"
             ],
             [
              0.3333333333333333,
              "#9c179e"
             ],
             [
              0.4444444444444444,
              "#bd3786"
             ],
             [
              0.5555555555555556,
              "#d8576b"
             ],
             [
              0.6666666666666666,
              "#ed7953"
             ],
             [
              0.7777777777777778,
              "#fb9f3a"
             ],
             [
              0.8888888888888888,
              "#fdca26"
             ],
             [
              1,
              "#f0f921"
             ]
            ],
            "type": "heatmap"
           }
          ],
          "heatmapgl": [
           {
            "colorbar": {
             "outlinewidth": 0,
             "ticks": ""
            },
            "colorscale": [
             [
              0,
              "#0d0887"
             ],
             [
              0.1111111111111111,
              "#46039f"
             ],
             [
              0.2222222222222222,
              "#7201a8"
             ],
             [
              0.3333333333333333,
              "#9c179e"
             ],
             [
              0.4444444444444444,
              "#bd3786"
             ],
             [
              0.5555555555555556,
              "#d8576b"
             ],
             [
              0.6666666666666666,
              "#ed7953"
             ],
             [
              0.7777777777777778,
              "#fb9f3a"
             ],
             [
              0.8888888888888888,
              "#fdca26"
             ],
             [
              1,
              "#f0f921"
             ]
            ],
            "type": "heatmapgl"
           }
          ],
          "histogram": [
           {
            "marker": {
             "pattern": {
              "fillmode": "overlay",
              "size": 10,
              "solidity": 0.2
             }
            },
            "type": "histogram"
           }
          ],
          "histogram2d": [
           {
            "colorbar": {
             "outlinewidth": 0,
             "ticks": ""
            },
            "colorscale": [
             [
              0,
              "#0d0887"
             ],
             [
              0.1111111111111111,
              "#46039f"
             ],
             [
              0.2222222222222222,
              "#7201a8"
             ],
             [
              0.3333333333333333,
              "#9c179e"
             ],
             [
              0.4444444444444444,
              "#bd3786"
             ],
             [
              0.5555555555555556,
              "#d8576b"
             ],
             [
              0.6666666666666666,
              "#ed7953"
             ],
             [
              0.7777777777777778,
              "#fb9f3a"
             ],
             [
              0.8888888888888888,
              "#fdca26"
             ],
             [
              1,
              "#f0f921"
             ]
            ],
            "type": "histogram2d"
           }
          ],
          "histogram2dcontour": [
           {
            "colorbar": {
             "outlinewidth": 0,
             "ticks": ""
            },
            "colorscale": [
             [
              0,
              "#0d0887"
             ],
             [
              0.1111111111111111,
              "#46039f"
             ],
             [
              0.2222222222222222,
              "#7201a8"
             ],
             [
              0.3333333333333333,
              "#9c179e"
             ],
             [
              0.4444444444444444,
              "#bd3786"
             ],
             [
              0.5555555555555556,
              "#d8576b"
             ],
             [
              0.6666666666666666,
              "#ed7953"
             ],
             [
              0.7777777777777778,
              "#fb9f3a"
             ],
             [
              0.8888888888888888,
              "#fdca26"
             ],
             [
              1,
              "#f0f921"
             ]
            ],
            "type": "histogram2dcontour"
           }
          ],
          "mesh3d": [
           {
            "colorbar": {
             "outlinewidth": 0,
             "ticks": ""
            },
            "type": "mesh3d"
           }
          ],
          "parcoords": [
           {
            "line": {
             "colorbar": {
              "outlinewidth": 0,
              "ticks": ""
             }
            },
            "type": "parcoords"
           }
          ],
          "pie": [
           {
            "automargin": true,
            "type": "pie"
           }
          ],
          "scatter": [
           {
            "fillpattern": {
             "fillmode": "overlay",
             "size": 10,
             "solidity": 0.2
            },
            "type": "scatter"
           }
          ],
          "scatter3d": [
           {
            "line": {
             "colorbar": {
              "outlinewidth": 0,
              "ticks": ""
             }
            },
            "marker": {
             "colorbar": {
              "outlinewidth": 0,
              "ticks": ""
             }
            },
            "type": "scatter3d"
           }
          ],
          "scattercarpet": [
           {
            "marker": {
             "colorbar": {
              "outlinewidth": 0,
              "ticks": ""
             }
            },
            "type": "scattercarpet"
           }
          ],
          "scattergeo": [
           {
            "marker": {
             "colorbar": {
              "outlinewidth": 0,
              "ticks": ""
             }
            },
            "type": "scattergeo"
           }
          ],
          "scattergl": [
           {
            "marker": {
             "colorbar": {
              "outlinewidth": 0,
              "ticks": ""
             }
            },
            "type": "scattergl"
           }
          ],
          "scattermapbox": [
           {
            "marker": {
             "colorbar": {
              "outlinewidth": 0,
              "ticks": ""
             }
            },
            "type": "scattermapbox"
           }
          ],
          "scatterpolar": [
           {
            "marker": {
             "colorbar": {
              "outlinewidth": 0,
              "ticks": ""
             }
            },
            "type": "scatterpolar"
           }
          ],
          "scatterpolargl": [
           {
            "marker": {
             "colorbar": {
              "outlinewidth": 0,
              "ticks": ""
             }
            },
            "type": "scatterpolargl"
           }
          ],
          "scatterternary": [
           {
            "marker": {
             "colorbar": {
              "outlinewidth": 0,
              "ticks": ""
             }
            },
            "type": "scatterternary"
           }
          ],
          "surface": [
           {
            "colorbar": {
             "outlinewidth": 0,
             "ticks": ""
            },
            "colorscale": [
             [
              0,
              "#0d0887"
             ],
             [
              0.1111111111111111,
              "#46039f"
             ],
             [
              0.2222222222222222,
              "#7201a8"
             ],
             [
              0.3333333333333333,
              "#9c179e"
             ],
             [
              0.4444444444444444,
              "#bd3786"
             ],
             [
              0.5555555555555556,
              "#d8576b"
             ],
             [
              0.6666666666666666,
              "#ed7953"
             ],
             [
              0.7777777777777778,
              "#fb9f3a"
             ],
             [
              0.8888888888888888,
              "#fdca26"
             ],
             [
              1,
              "#f0f921"
             ]
            ],
            "type": "surface"
           }
          ],
          "table": [
           {
            "cells": {
             "fill": {
              "color": "#EBF0F8"
             },
             "line": {
              "color": "white"
             }
            },
            "header": {
             "fill": {
              "color": "#C8D4E3"
             },
             "line": {
              "color": "white"
             }
            },
            "type": "table"
           }
          ]
         },
         "layout": {
          "annotationdefaults": {
           "arrowcolor": "#2a3f5f",
           "arrowhead": 0,
           "arrowwidth": 1
          },
          "autotypenumbers": "strict",
          "coloraxis": {
           "colorbar": {
            "outlinewidth": 0,
            "ticks": ""
           }
          },
          "colorscale": {
           "diverging": [
            [
             0,
             "#8e0152"
            ],
            [
             0.1,
             "#c51b7d"
            ],
            [
             0.2,
             "#de77ae"
            ],
            [
             0.3,
             "#f1b6da"
            ],
            [
             0.4,
             "#fde0ef"
            ],
            [
             0.5,
             "#f7f7f7"
            ],
            [
             0.6,
             "#e6f5d0"
            ],
            [
             0.7,
             "#b8e186"
            ],
            [
             0.8,
             "#7fbc41"
            ],
            [
             0.9,
             "#4d9221"
            ],
            [
             1,
             "#276419"
            ]
           ],
           "sequential": [
            [
             0,
             "#0d0887"
            ],
            [
             0.1111111111111111,
             "#46039f"
            ],
            [
             0.2222222222222222,
             "#7201a8"
            ],
            [
             0.3333333333333333,
             "#9c179e"
            ],
            [
             0.4444444444444444,
             "#bd3786"
            ],
            [
             0.5555555555555556,
             "#d8576b"
            ],
            [
             0.6666666666666666,
             "#ed7953"
            ],
            [
             0.7777777777777778,
             "#fb9f3a"
            ],
            [
             0.8888888888888888,
             "#fdca26"
            ],
            [
             1,
             "#f0f921"
            ]
           ],
           "sequentialminus": [
            [
             0,
             "#0d0887"
            ],
            [
             0.1111111111111111,
             "#46039f"
            ],
            [
             0.2222222222222222,
             "#7201a8"
            ],
            [
             0.3333333333333333,
             "#9c179e"
            ],
            [
             0.4444444444444444,
             "#bd3786"
            ],
            [
             0.5555555555555556,
             "#d8576b"
            ],
            [
             0.6666666666666666,
             "#ed7953"
            ],
            [
             0.7777777777777778,
             "#fb9f3a"
            ],
            [
             0.8888888888888888,
             "#fdca26"
            ],
            [
             1,
             "#f0f921"
            ]
           ]
          },
          "colorway": [
           "#636efa",
           "#EF553B",
           "#00cc96",
           "#ab63fa",
           "#FFA15A",
           "#19d3f3",
           "#FF6692",
           "#B6E880",
           "#FF97FF",
           "#FECB52"
          ],
          "font": {
           "color": "#2a3f5f"
          },
          "geo": {
           "bgcolor": "white",
           "lakecolor": "white",
           "landcolor": "#E5ECF6",
           "showlakes": true,
           "showland": true,
           "subunitcolor": "white"
          },
          "hoverlabel": {
           "align": "left"
          },
          "hovermode": "closest",
          "mapbox": {
           "style": "light"
          },
          "paper_bgcolor": "white",
          "plot_bgcolor": "#E5ECF6",
          "polar": {
           "angularaxis": {
            "gridcolor": "white",
            "linecolor": "white",
            "ticks": ""
           },
           "bgcolor": "#E5ECF6",
           "radialaxis": {
            "gridcolor": "white",
            "linecolor": "white",
            "ticks": ""
           }
          },
          "scene": {
           "xaxis": {
            "backgroundcolor": "#E5ECF6",
            "gridcolor": "white",
            "gridwidth": 2,
            "linecolor": "white",
            "showbackground": true,
            "ticks": "",
            "zerolinecolor": "white"
           },
           "yaxis": {
            "backgroundcolor": "#E5ECF6",
            "gridcolor": "white",
            "gridwidth": 2,
            "linecolor": "white",
            "showbackground": true,
            "ticks": "",
            "zerolinecolor": "white"
           },
           "zaxis": {
            "backgroundcolor": "#E5ECF6",
            "gridcolor": "white",
            "gridwidth": 2,
            "linecolor": "white",
            "showbackground": true,
            "ticks": "",
            "zerolinecolor": "white"
           }
          },
          "shapedefaults": {
           "line": {
            "color": "#2a3f5f"
           }
          },
          "ternary": {
           "aaxis": {
            "gridcolor": "white",
            "linecolor": "white",
            "ticks": ""
           },
           "baxis": {
            "gridcolor": "white",
            "linecolor": "white",
            "ticks": ""
           },
           "bgcolor": "#E5ECF6",
           "caxis": {
            "gridcolor": "white",
            "linecolor": "white",
            "ticks": ""
           }
          },
          "title": {
           "x": 0.05
          },
          "xaxis": {
           "automargin": true,
           "gridcolor": "white",
           "linecolor": "white",
           "ticks": "",
           "title": {
            "standoff": 15
           },
           "zerolinecolor": "white",
           "zerolinewidth": 2
          },
          "yaxis": {
           "automargin": true,
           "gridcolor": "white",
           "linecolor": "white",
           "ticks": "",
           "title": {
            "standoff": 15
           },
           "zerolinecolor": "white",
           "zerolinewidth": 2
          }
         }
        },
        "xaxis": {
         "anchor": "y",
         "domain": [
          0,
          1
         ],
         "title": {
          "text": "PC 1"
         }
        },
        "yaxis": {
         "anchor": "x",
         "domain": [
          0,
          1
         ],
         "title": {
          "text": "PC 2"
         }
        }
       }
      },
      "text/html": [
       "<div>                            <div id=\"838f6b08-0f20-48b5-8427-25b45f9654fc\" class=\"plotly-graph-div\" style=\"height:525px; width:100%;\"></div>            <script type=\"text/javascript\">                require([\"plotly\"], function(Plotly) {                    window.PLOTLYENV=window.PLOTLYENV || {};                                    if (document.getElementById(\"838f6b08-0f20-48b5-8427-25b45f9654fc\")) {                    Plotly.newPlot(                        \"838f6b08-0f20-48b5-8427-25b45f9654fc\",                        [{\"hovertemplate\":\"color=s1\\u003cbr\\u003ePC 1=%{x}\\u003cbr\\u003ePC 2=%{y}\\u003cextra\\u003e\\u003c\\u002fextra\\u003e\",\"legendgroup\":\"s1\",\"marker\":{\"color\":\"#636efa\",\"symbol\":\"circle\"},\"mode\":\"markers\",\"name\":\"s1\",\"orientation\":\"v\",\"showlegend\":true,\"x\":[-61.89887840866133],\"xaxis\":\"x\",\"y\":[-45.82896997510934],\"yaxis\":\"y\",\"type\":\"scatter\"},{\"hovertemplate\":\"color=s2\\u003cbr\\u003ePC 1=%{x}\\u003cbr\\u003ePC 2=%{y}\\u003cextra\\u003e\\u003c\\u002fextra\\u003e\",\"legendgroup\":\"s2\",\"marker\":{\"color\":\"#EF553B\",\"symbol\":\"circle\"},\"mode\":\"markers\",\"name\":\"s2\",\"orientation\":\"v\",\"showlegend\":true,\"x\":[-3.9360854021718246],\"xaxis\":\"x\",\"y\":[-9.70600881151265],\"yaxis\":\"y\",\"type\":\"scatter\"},{\"hovertemplate\":\"color=s3\\u003cbr\\u003ePC 1=%{x}\\u003cbr\\u003ePC 2=%{y}\\u003cextra\\u003e\\u003c\\u002fextra\\u003e\",\"legendgroup\":\"s3\",\"marker\":{\"color\":\"#00cc96\",\"symbol\":\"circle\"},\"mode\":\"markers\",\"name\":\"s3\",\"orientation\":\"v\",\"showlegend\":true,\"x\":[-41.57351839199314],\"xaxis\":\"x\",\"y\":[-20.380353378406035],\"yaxis\":\"y\",\"type\":\"scatter\"},{\"hovertemplate\":\"color=s4\\u003cbr\\u003ePC 1=%{x}\\u003cbr\\u003ePC 2=%{y}\\u003cextra\\u003e\\u003c\\u002fextra\\u003e\",\"legendgroup\":\"s4\",\"marker\":{\"color\":\"#ab63fa\",\"symbol\":\"circle\"},\"mode\":\"markers\",\"name\":\"s4\",\"orientation\":\"v\",\"showlegend\":true,\"x\":[-67.98984664189985],\"xaxis\":\"x\",\"y\":[-25.810587097898292],\"yaxis\":\"y\",\"type\":\"scatter\"},{\"hovertemplate\":\"color=s5\\u003cbr\\u003ePC 1=%{x}\\u003cbr\\u003ePC 2=%{y}\\u003cextra\\u003e\\u003c\\u002fextra\\u003e\",\"legendgroup\":\"s5\",\"marker\":{\"color\":\"#FFA15A\",\"symbol\":\"circle\"},\"mode\":\"markers\",\"name\":\"s5\",\"orientation\":\"v\",\"showlegend\":true,\"x\":[-56.39509720904982],\"xaxis\":\"x\",\"y\":[-54.929321229368114],\"yaxis\":\"y\",\"type\":\"scatter\"},{\"hovertemplate\":\"color=s6\\u003cbr\\u003ePC 1=%{x}\\u003cbr\\u003ePC 2=%{y}\\u003cextra\\u003e\\u003c\\u002fextra\\u003e\",\"legendgroup\":\"s6\",\"marker\":{\"color\":\"#19d3f3\",\"symbol\":\"circle\"},\"mode\":\"markers\",\"name\":\"s6\",\"orientation\":\"v\",\"showlegend\":true,\"x\":[1143.552018057504],\"xaxis\":\"x\",\"y\":[-277.8415944084526],\"yaxis\":\"y\",\"type\":\"scatter\"},{\"hovertemplate\":\"color=s7\\u003cbr\\u003ePC 1=%{x}\\u003cbr\\u003ePC 2=%{y}\\u003cextra\\u003e\\u003c\\u002fextra\\u003e\",\"legendgroup\":\"s7\",\"marker\":{\"color\":\"#FF6692\",\"symbol\":\"circle\"},\"mode\":\"markers\",\"name\":\"s7\",\"orientation\":\"v\",\"showlegend\":true,\"x\":[-8.100541905937664],\"xaxis\":\"x\",\"y\":[-16.67378032245623],\"yaxis\":\"y\",\"type\":\"scatter\"},{\"hovertemplate\":\"color=s8\\u003cbr\\u003ePC 1=%{x}\\u003cbr\\u003ePC 2=%{y}\\u003cextra\\u003e\\u003c\\u002fextra\\u003e\",\"legendgroup\":\"s8\",\"marker\":{\"color\":\"#B6E880\",\"symbol\":\"circle\"},\"mode\":\"markers\",\"name\":\"s8\",\"orientation\":\"v\",\"showlegend\":true,\"x\":[-68.09312301600562],\"xaxis\":\"x\",\"y\":[-34.75383272178461],\"yaxis\":\"y\",\"type\":\"scatter\"},{\"hovertemplate\":\"color=s9\\u003cbr\\u003ePC 1=%{x}\\u003cbr\\u003ePC 2=%{y}\\u003cextra\\u003e\\u003c\\u002fextra\\u003e\",\"legendgroup\":\"s9\",\"marker\":{\"color\":\"#FF97FF\",\"symbol\":\"circle\"},\"mode\":\"markers\",\"name\":\"s9\",\"orientation\":\"v\",\"showlegend\":true,\"x\":[-73.20044989242132],\"xaxis\":\"x\",\"y\":[-39.24252942791203],\"yaxis\":\"y\",\"type\":\"scatter\"},{\"hovertemplate\":\"color=s10\\u003cbr\\u003ePC 1=%{x}\\u003cbr\\u003ePC 2=%{y}\\u003cextra\\u003e\\u003c\\u002fextra\\u003e\",\"legendgroup\":\"s10\",\"marker\":{\"color\":\"#FECB52\",\"symbol\":\"circle\"},\"mode\":\"markers\",\"name\":\"s10\",\"orientation\":\"v\",\"showlegend\":true,\"x\":[-49.23464025748607],\"xaxis\":\"x\",\"y\":[-28.482352530809937],\"yaxis\":\"y\",\"type\":\"scatter\"},{\"hovertemplate\":\"color=s11\\u003cbr\\u003ePC 1=%{x}\\u003cbr\\u003ePC 2=%{y}\\u003cextra\\u003e\\u003c\\u002fextra\\u003e\",\"legendgroup\":\"s11\",\"marker\":{\"color\":\"#636efa\",\"symbol\":\"circle\"},\"mode\":\"markers\",\"name\":\"s11\",\"orientation\":\"v\",\"showlegend\":true,\"x\":[-48.25237944122978],\"xaxis\":\"x\",\"y\":[15.554035513188596],\"yaxis\":\"y\",\"type\":\"scatter\"},{\"hovertemplate\":\"color=s12\\u003cbr\\u003ePC 1=%{x}\\u003cbr\\u003ePC 2=%{y}\\u003cextra\\u003e\\u003c\\u002fextra\\u003e\",\"legendgroup\":\"s12\",\"marker\":{\"color\":\"#EF553B\",\"symbol\":\"circle\"},\"mode\":\"markers\",\"name\":\"s12\",\"orientation\":\"v\",\"showlegend\":true,\"x\":[-82.98687892655464],\"xaxis\":\"x\",\"y\":[-34.39481269795734],\"yaxis\":\"y\",\"type\":\"scatter\"},{\"hovertemplate\":\"color=s13\\u003cbr\\u003ePC 1=%{x}\\u003cbr\\u003ePC 2=%{y}\\u003cextra\\u003e\\u003c\\u002fextra\\u003e\",\"legendgroup\":\"s13\",\"marker\":{\"color\":\"#00cc96\",\"symbol\":\"circle\"},\"mode\":\"markers\",\"name\":\"s13\",\"orientation\":\"v\",\"showlegend\":true,\"x\":[-68.02496342901932],\"xaxis\":\"x\",\"y\":[-41.61724410854633],\"yaxis\":\"y\",\"type\":\"scatter\"},{\"hovertemplate\":\"color=s14\\u003cbr\\u003ePC 1=%{x}\\u003cbr\\u003ePC 2=%{y}\\u003cextra\\u003e\\u003c\\u002fextra\\u003e\",\"legendgroup\":\"s14\",\"marker\":{\"color\":\"#ab63fa\",\"symbol\":\"circle\"},\"mode\":\"markers\",\"name\":\"s14\",\"orientation\":\"v\",\"showlegend\":true,\"x\":[-58.65881958342671],\"xaxis\":\"x\",\"y\":[-2.8518117451045426],\"yaxis\":\"y\",\"type\":\"scatter\"},{\"hovertemplate\":\"color=s15\\u003cbr\\u003ePC 1=%{x}\\u003cbr\\u003ePC 2=%{y}\\u003cextra\\u003e\\u003c\\u002fextra\\u003e\",\"legendgroup\":\"s15\",\"marker\":{\"color\":\"#FFA15A\",\"symbol\":\"circle\"},\"mode\":\"markers\",\"name\":\"s15\",\"orientation\":\"v\",\"showlegend\":true,\"x\":[-4.420542553281996],\"xaxis\":\"x\",\"y\":[-14.556691390766389],\"yaxis\":\"y\",\"type\":\"scatter\"},{\"hovertemplate\":\"color=s16\\u003cbr\\u003ePC 1=%{x}\\u003cbr\\u003ePC 2=%{y}\\u003cextra\\u003e\\u003c\\u002fextra\\u003e\",\"legendgroup\":\"s16\",\"marker\":{\"color\":\"#19d3f3\",\"symbol\":\"circle\"},\"mode\":\"markers\",\"name\":\"s16\",\"orientation\":\"v\",\"showlegend\":true,\"x\":[-1.2761665224688972],\"xaxis\":\"x\",\"y\":[15.011797108667759],\"yaxis\":\"y\",\"type\":\"scatter\"},{\"hovertemplate\":\"color=s17\\u003cbr\\u003ePC 1=%{x}\\u003cbr\\u003ePC 2=%{y}\\u003cextra\\u003e\\u003c\\u002fextra\\u003e\",\"legendgroup\":\"s17\",\"marker\":{\"color\":\"#FF6692\",\"symbol\":\"circle\"},\"mode\":\"markers\",\"name\":\"s17\",\"orientation\":\"v\",\"showlegend\":true,\"x\":[-26.284513303712476],\"xaxis\":\"x\",\"y\":[-18.12723209339017],\"yaxis\":\"y\",\"type\":\"scatter\"},{\"hovertemplate\":\"color=s18\\u003cbr\\u003ePC 1=%{x}\\u003cbr\\u003ePC 2=%{y}\\u003cextra\\u003e\\u003c\\u002fextra\\u003e\",\"legendgroup\":\"s18\",\"marker\":{\"color\":\"#B6E880\",\"symbol\":\"circle\"},\"mode\":\"markers\",\"name\":\"s18\",\"orientation\":\"v\",\"showlegend\":true,\"x\":[-59.12643872474933],\"xaxis\":\"x\",\"y\":[-23.000465148466542],\"yaxis\":\"y\",\"type\":\"scatter\"},{\"hovertemplate\":\"color=s19\\u003cbr\\u003ePC 1=%{x}\\u003cbr\\u003ePC 2=%{y}\\u003cextra\\u003e\\u003c\\u002fextra\\u003e\",\"legendgroup\":\"s19\",\"marker\":{\"color\":\"#FF97FF\",\"symbol\":\"circle\"},\"mode\":\"markers\",\"name\":\"s19\",\"orientation\":\"v\",\"showlegend\":true,\"x\":[-58.4136429560863],\"xaxis\":\"x\",\"y\":[-11.831342892448673],\"yaxis\":\"y\",\"type\":\"scatter\"},{\"hovertemplate\":\"color=s20\\u003cbr\\u003ePC 1=%{x}\\u003cbr\\u003ePC 2=%{y}\\u003cextra\\u003e\\u003c\\u002fextra\\u003e\",\"legendgroup\":\"s20\",\"marker\":{\"color\":\"#FECB52\",\"symbol\":\"circle\"},\"mode\":\"markers\",\"name\":\"s20\",\"orientation\":\"v\",\"showlegend\":true,\"x\":[-65.13055328711879],\"xaxis\":\"x\",\"y\":[-20.490489643224667],\"yaxis\":\"y\",\"type\":\"scatter\"},{\"hovertemplate\":\"color=s21\\u003cbr\\u003ePC 1=%{x}\\u003cbr\\u003ePC 2=%{y}\\u003cextra\\u003e\\u003c\\u002fextra\\u003e\",\"legendgroup\":\"s21\",\"marker\":{\"color\":\"#636efa\",\"symbol\":\"circle\"},\"mode\":\"markers\",\"name\":\"s21\",\"orientation\":\"v\",\"showlegend\":true,\"x\":[262.221744325676],\"xaxis\":\"x\",\"y\":[1045.118452695148],\"yaxis\":\"y\",\"type\":\"scatter\"},{\"hovertemplate\":\"color=s22\\u003cbr\\u003ePC 1=%{x}\\u003cbr\\u003ePC 2=%{y}\\u003cextra\\u003e\\u003c\\u002fextra\\u003e\",\"legendgroup\":\"s22\",\"marker\":{\"color\":\"#EF553B\",\"symbol\":\"circle\"},\"mode\":\"markers\",\"name\":\"s22\",\"orientation\":\"v\",\"showlegend\":true,\"x\":[-62.99357180824736],\"xaxis\":\"x\",\"y\":[-32.5681114638857],\"yaxis\":\"y\",\"type\":\"scatter\"},{\"hovertemplate\":\"color=s23\\u003cbr\\u003ePC 1=%{x}\\u003cbr\\u003ePC 2=%{y}\\u003cextra\\u003e\\u003c\\u002fextra\\u003e\",\"legendgroup\":\"s23\",\"marker\":{\"color\":\"#00cc96\",\"symbol\":\"circle\"},\"mode\":\"markers\",\"name\":\"s23\",\"orientation\":\"v\",\"showlegend\":true,\"x\":[-38.85481419424065],\"xaxis\":\"x\",\"y\":[-19.576687072989348],\"yaxis\":\"y\",\"type\":\"scatter\"},{\"hovertemplate\":\"color=s24\\u003cbr\\u003ePC 1=%{x}\\u003cbr\\u003ePC 2=%{y}\\u003cextra\\u003e\\u003c\\u002fextra\\u003e\",\"legendgroup\":\"s24\",\"marker\":{\"color\":\"#ab63fa\",\"symbol\":\"circle\"},\"mode\":\"markers\",\"name\":\"s24\",\"orientation\":\"v\",\"showlegend\":true,\"x\":[-13.950784896523073],\"xaxis\":\"x\",\"y\":[-14.69549298662163],\"yaxis\":\"y\",\"type\":\"scatter\"},{\"hovertemplate\":\"color=s25\\u003cbr\\u003ePC 1=%{x}\\u003cbr\\u003ePC 2=%{y}\\u003cextra\\u003e\\u003c\\u002fextra\\u003e\",\"legendgroup\":\"s25\",\"marker\":{\"color\":\"#FFA15A\",\"symbol\":\"circle\"},\"mode\":\"markers\",\"name\":\"s25\",\"orientation\":\"v\",\"showlegend\":true,\"x\":[-52.94122401047279],\"xaxis\":\"x\",\"y\":[-61.72863130015892],\"yaxis\":\"y\",\"type\":\"scatter\"},{\"hovertemplate\":\"color=s26\\u003cbr\\u003ePC 1=%{x}\\u003cbr\\u003ePC 2=%{y}\\u003cextra\\u003e\\u003c\\u002fextra\\u003e\",\"legendgroup\":\"s26\",\"marker\":{\"color\":\"#19d3f3\",\"symbol\":\"circle\"},\"mode\":\"markers\",\"name\":\"s26\",\"orientation\":\"v\",\"showlegend\":true,\"x\":[-87.90134952275491],\"xaxis\":\"x\",\"y\":[-41.20261301935209],\"yaxis\":\"y\",\"type\":\"scatter\"},{\"hovertemplate\":\"color=s27\\u003cbr\\u003ePC 1=%{x}\\u003cbr\\u003ePC 2=%{y}\\u003cextra\\u003e\\u003c\\u002fextra\\u003e\",\"legendgroup\":\"s27\",\"marker\":{\"color\":\"#FF6692\",\"symbol\":\"circle\"},\"mode\":\"markers\",\"name\":\"s27\",\"orientation\":\"v\",\"showlegend\":true,\"x\":[-52.47726093426103],\"xaxis\":\"x\",\"y\":[-24.45868495221698],\"yaxis\":\"y\",\"type\":\"scatter\"},{\"hovertemplate\":\"color=s28\\u003cbr\\u003ePC 1=%{x}\\u003cbr\\u003ePC 2=%{y}\\u003cextra\\u003e\\u003c\\u002fextra\\u003e\",\"legendgroup\":\"s28\",\"marker\":{\"color\":\"#B6E880\",\"symbol\":\"circle\"},\"mode\":\"markers\",\"name\":\"s28\",\"orientation\":\"v\",\"showlegend\":true,\"x\":[-93.74987478070453],\"xaxis\":\"x\",\"y\":[-40.586348252014446],\"yaxis\":\"y\",\"type\":\"scatter\"},{\"hovertemplate\":\"color=s29\\u003cbr\\u003ePC 1=%{x}\\u003cbr\\u003ePC 2=%{y}\\u003cextra\\u003e\\u003c\\u002fextra\\u003e\",\"legendgroup\":\"s29\",\"marker\":{\"color\":\"#FF97FF\",\"symbol\":\"circle\"},\"mode\":\"markers\",\"name\":\"s29\",\"orientation\":\"v\",\"showlegend\":true,\"x\":[-46.05380339926274],\"xaxis\":\"x\",\"y\":[-29.38656604820456],\"yaxis\":\"y\",\"type\":\"scatter\"},{\"hovertemplate\":\"color=s30\\u003cbr\\u003ePC 1=%{x}\\u003cbr\\u003ePC 2=%{y}\\u003cextra\\u003e\\u003c\\u002fextra\\u003e\",\"legendgroup\":\"s30\",\"marker\":{\"color\":\"#FECB52\",\"symbol\":\"circle\"},\"mode\":\"markers\",\"name\":\"s30\",\"orientation\":\"v\",\"showlegend\":true,\"x\":[53.958089437529516],\"xaxis\":\"x\",\"y\":[-17.76999669530317],\"yaxis\":\"y\",\"type\":\"scatter\"},{\"hovertemplate\":\"color=s31\\u003cbr\\u003ePC 1=%{x}\\u003cbr\\u003ePC 2=%{y}\\u003cextra\\u003e\\u003c\\u002fextra\\u003e\",\"legendgroup\":\"s31\",\"marker\":{\"color\":\"#636efa\",\"symbol\":\"circle\"},\"mode\":\"markers\",\"name\":\"s31\",\"orientation\":\"v\",\"showlegend\":true,\"x\":[-49.486847704628964],\"xaxis\":\"x\",\"y\":[-39.15511858791673],\"yaxis\":\"y\",\"type\":\"scatter\"},{\"hovertemplate\":\"color=s32\\u003cbr\\u003ePC 1=%{x}\\u003cbr\\u003ePC 2=%{y}\\u003cextra\\u003e\\u003c\\u002fextra\\u003e\",\"legendgroup\":\"s32\",\"marker\":{\"color\":\"#EF553B\",\"symbol\":\"circle\"},\"mode\":\"markers\",\"name\":\"s32\",\"orientation\":\"v\",\"showlegend\":true,\"x\":[-58.325240716338925],\"xaxis\":\"x\",\"y\":[-34.0366153147261],\"yaxis\":\"y\",\"type\":\"scatter\"}],                        {\"template\":{\"data\":{\"histogram2dcontour\":[{\"type\":\"histogram2dcontour\",\"colorbar\":{\"outlinewidth\":0,\"ticks\":\"\"},\"colorscale\":[[0.0,\"#0d0887\"],[0.1111111111111111,\"#46039f\"],[0.2222222222222222,\"#7201a8\"],[0.3333333333333333,\"#9c179e\"],[0.4444444444444444,\"#bd3786\"],[0.5555555555555556,\"#d8576b\"],[0.6666666666666666,\"#ed7953\"],[0.7777777777777778,\"#fb9f3a\"],[0.8888888888888888,\"#fdca26\"],[1.0,\"#f0f921\"]]}],\"choropleth\":[{\"type\":\"choropleth\",\"colorbar\":{\"outlinewidth\":0,\"ticks\":\"\"}}],\"histogram2d\":[{\"type\":\"histogram2d\",\"colorbar\":{\"outlinewidth\":0,\"ticks\":\"\"},\"colorscale\":[[0.0,\"#0d0887\"],[0.1111111111111111,\"#46039f\"],[0.2222222222222222,\"#7201a8\"],[0.3333333333333333,\"#9c179e\"],[0.4444444444444444,\"#bd3786\"],[0.5555555555555556,\"#d8576b\"],[0.6666666666666666,\"#ed7953\"],[0.7777777777777778,\"#fb9f3a\"],[0.8888888888888888,\"#fdca26\"],[1.0,\"#f0f921\"]]}],\"heatmap\":[{\"type\":\"heatmap\",\"colorbar\":{\"outlinewidth\":0,\"ticks\":\"\"},\"colorscale\":[[0.0,\"#0d0887\"],[0.1111111111111111,\"#46039f\"],[0.2222222222222222,\"#7201a8\"],[0.3333333333333333,\"#9c179e\"],[0.4444444444444444,\"#bd3786\"],[0.5555555555555556,\"#d8576b\"],[0.6666666666666666,\"#ed7953\"],[0.7777777777777778,\"#fb9f3a\"],[0.8888888888888888,\"#fdca26\"],[1.0,\"#f0f921\"]]}],\"heatmapgl\":[{\"type\":\"heatmapgl\",\"colorbar\":{\"outlinewidth\":0,\"ticks\":\"\"},\"colorscale\":[[0.0,\"#0d0887\"],[0.1111111111111111,\"#46039f\"],[0.2222222222222222,\"#7201a8\"],[0.3333333333333333,\"#9c179e\"],[0.4444444444444444,\"#bd3786\"],[0.5555555555555556,\"#d8576b\"],[0.6666666666666666,\"#ed7953\"],[0.7777777777777778,\"#fb9f3a\"],[0.8888888888888888,\"#fdca26\"],[1.0,\"#f0f921\"]]}],\"contourcarpet\":[{\"type\":\"contourcarpet\",\"colorbar\":{\"outlinewidth\":0,\"ticks\":\"\"}}],\"contour\":[{\"type\":\"contour\",\"colorbar\":{\"outlinewidth\":0,\"ticks\":\"\"},\"colorscale\":[[0.0,\"#0d0887\"],[0.1111111111111111,\"#46039f\"],[0.2222222222222222,\"#7201a8\"],[0.3333333333333333,\"#9c179e\"],[0.4444444444444444,\"#bd3786\"],[0.5555555555555556,\"#d8576b\"],[0.6666666666666666,\"#ed7953\"],[0.7777777777777778,\"#fb9f3a\"],[0.8888888888888888,\"#fdca26\"],[1.0,\"#f0f921\"]]}],\"surface\":[{\"type\":\"surface\",\"colorbar\":{\"outlinewidth\":0,\"ticks\":\"\"},\"colorscale\":[[0.0,\"#0d0887\"],[0.1111111111111111,\"#46039f\"],[0.2222222222222222,\"#7201a8\"],[0.3333333333333333,\"#9c179e\"],[0.4444444444444444,\"#bd3786\"],[0.5555555555555556,\"#d8576b\"],[0.6666666666666666,\"#ed7953\"],[0.7777777777777778,\"#fb9f3a\"],[0.8888888888888888,\"#fdca26\"],[1.0,\"#f0f921\"]]}],\"mesh3d\":[{\"type\":\"mesh3d\",\"colorbar\":{\"outlinewidth\":0,\"ticks\":\"\"}}],\"scatter\":[{\"fillpattern\":{\"fillmode\":\"overlay\",\"size\":10,\"solidity\":0.2},\"type\":\"scatter\"}],\"parcoords\":[{\"type\":\"parcoords\",\"line\":{\"colorbar\":{\"outlinewidth\":0,\"ticks\":\"\"}}}],\"scatterpolargl\":[{\"type\":\"scatterpolargl\",\"marker\":{\"colorbar\":{\"outlinewidth\":0,\"ticks\":\"\"}}}],\"bar\":[{\"error_x\":{\"color\":\"#2a3f5f\"},\"error_y\":{\"color\":\"#2a3f5f\"},\"marker\":{\"line\":{\"color\":\"#E5ECF6\",\"width\":0.5},\"pattern\":{\"fillmode\":\"overlay\",\"size\":10,\"solidity\":0.2}},\"type\":\"bar\"}],\"scattergeo\":[{\"type\":\"scattergeo\",\"marker\":{\"colorbar\":{\"outlinewidth\":0,\"ticks\":\"\"}}}],\"scatterpolar\":[{\"type\":\"scatterpolar\",\"marker\":{\"colorbar\":{\"outlinewidth\":0,\"ticks\":\"\"}}}],\"histogram\":[{\"marker\":{\"pattern\":{\"fillmode\":\"overlay\",\"size\":10,\"solidity\":0.2}},\"type\":\"histogram\"}],\"scattergl\":[{\"type\":\"scattergl\",\"marker\":{\"colorbar\":{\"outlinewidth\":0,\"ticks\":\"\"}}}],\"scatter3d\":[{\"type\":\"scatter3d\",\"line\":{\"colorbar\":{\"outlinewidth\":0,\"ticks\":\"\"}},\"marker\":{\"colorbar\":{\"outlinewidth\":0,\"ticks\":\"\"}}}],\"scattermapbox\":[{\"type\":\"scattermapbox\",\"marker\":{\"colorbar\":{\"outlinewidth\":0,\"ticks\":\"\"}}}],\"scatterternary\":[{\"type\":\"scatterternary\",\"marker\":{\"colorbar\":{\"outlinewidth\":0,\"ticks\":\"\"}}}],\"scattercarpet\":[{\"type\":\"scattercarpet\",\"marker\":{\"colorbar\":{\"outlinewidth\":0,\"ticks\":\"\"}}}],\"carpet\":[{\"aaxis\":{\"endlinecolor\":\"#2a3f5f\",\"gridcolor\":\"white\",\"linecolor\":\"white\",\"minorgridcolor\":\"white\",\"startlinecolor\":\"#2a3f5f\"},\"baxis\":{\"endlinecolor\":\"#2a3f5f\",\"gridcolor\":\"white\",\"linecolor\":\"white\",\"minorgridcolor\":\"white\",\"startlinecolor\":\"#2a3f5f\"},\"type\":\"carpet\"}],\"table\":[{\"cells\":{\"fill\":{\"color\":\"#EBF0F8\"},\"line\":{\"color\":\"white\"}},\"header\":{\"fill\":{\"color\":\"#C8D4E3\"},\"line\":{\"color\":\"white\"}},\"type\":\"table\"}],\"barpolar\":[{\"marker\":{\"line\":{\"color\":\"#E5ECF6\",\"width\":0.5},\"pattern\":{\"fillmode\":\"overlay\",\"size\":10,\"solidity\":0.2}},\"type\":\"barpolar\"}],\"pie\":[{\"automargin\":true,\"type\":\"pie\"}]},\"layout\":{\"autotypenumbers\":\"strict\",\"colorway\":[\"#636efa\",\"#EF553B\",\"#00cc96\",\"#ab63fa\",\"#FFA15A\",\"#19d3f3\",\"#FF6692\",\"#B6E880\",\"#FF97FF\",\"#FECB52\"],\"font\":{\"color\":\"#2a3f5f\"},\"hovermode\":\"closest\",\"hoverlabel\":{\"align\":\"left\"},\"paper_bgcolor\":\"white\",\"plot_bgcolor\":\"#E5ECF6\",\"polar\":{\"bgcolor\":\"#E5ECF6\",\"angularaxis\":{\"gridcolor\":\"white\",\"linecolor\":\"white\",\"ticks\":\"\"},\"radialaxis\":{\"gridcolor\":\"white\",\"linecolor\":\"white\",\"ticks\":\"\"}},\"ternary\":{\"bgcolor\":\"#E5ECF6\",\"aaxis\":{\"gridcolor\":\"white\",\"linecolor\":\"white\",\"ticks\":\"\"},\"baxis\":{\"gridcolor\":\"white\",\"linecolor\":\"white\",\"ticks\":\"\"},\"caxis\":{\"gridcolor\":\"white\",\"linecolor\":\"white\",\"ticks\":\"\"}},\"coloraxis\":{\"colorbar\":{\"outlinewidth\":0,\"ticks\":\"\"}},\"colorscale\":{\"sequential\":[[0.0,\"#0d0887\"],[0.1111111111111111,\"#46039f\"],[0.2222222222222222,\"#7201a8\"],[0.3333333333333333,\"#9c179e\"],[0.4444444444444444,\"#bd3786\"],[0.5555555555555556,\"#d8576b\"],[0.6666666666666666,\"#ed7953\"],[0.7777777777777778,\"#fb9f3a\"],[0.8888888888888888,\"#fdca26\"],[1.0,\"#f0f921\"]],\"sequentialminus\":[[0.0,\"#0d0887\"],[0.1111111111111111,\"#46039f\"],[0.2222222222222222,\"#7201a8\"],[0.3333333333333333,\"#9c179e\"],[0.4444444444444444,\"#bd3786\"],[0.5555555555555556,\"#d8576b\"],[0.6666666666666666,\"#ed7953\"],[0.7777777777777778,\"#fb9f3a\"],[0.8888888888888888,\"#fdca26\"],[1.0,\"#f0f921\"]],\"diverging\":[[0,\"#8e0152\"],[0.1,\"#c51b7d\"],[0.2,\"#de77ae\"],[0.3,\"#f1b6da\"],[0.4,\"#fde0ef\"],[0.5,\"#f7f7f7\"],[0.6,\"#e6f5d0\"],[0.7,\"#b8e186\"],[0.8,\"#7fbc41\"],[0.9,\"#4d9221\"],[1,\"#276419\"]]},\"xaxis\":{\"gridcolor\":\"white\",\"linecolor\":\"white\",\"ticks\":\"\",\"title\":{\"standoff\":15},\"zerolinecolor\":\"white\",\"automargin\":true,\"zerolinewidth\":2},\"yaxis\":{\"gridcolor\":\"white\",\"linecolor\":\"white\",\"ticks\":\"\",\"title\":{\"standoff\":15},\"zerolinecolor\":\"white\",\"automargin\":true,\"zerolinewidth\":2},\"scene\":{\"xaxis\":{\"backgroundcolor\":\"#E5ECF6\",\"gridcolor\":\"white\",\"linecolor\":\"white\",\"showbackground\":true,\"ticks\":\"\",\"zerolinecolor\":\"white\",\"gridwidth\":2},\"yaxis\":{\"backgroundcolor\":\"#E5ECF6\",\"gridcolor\":\"white\",\"linecolor\":\"white\",\"showbackground\":true,\"ticks\":\"\",\"zerolinecolor\":\"white\",\"gridwidth\":2},\"zaxis\":{\"backgroundcolor\":\"#E5ECF6\",\"gridcolor\":\"white\",\"linecolor\":\"white\",\"showbackground\":true,\"ticks\":\"\",\"zerolinecolor\":\"white\",\"gridwidth\":2}},\"shapedefaults\":{\"line\":{\"color\":\"#2a3f5f\"}},\"annotationdefaults\":{\"arrowcolor\":\"#2a3f5f\",\"arrowhead\":0,\"arrowwidth\":1},\"geo\":{\"bgcolor\":\"white\",\"landcolor\":\"#E5ECF6\",\"subunitcolor\":\"white\",\"showland\":true,\"showlakes\":true,\"lakecolor\":\"white\"},\"title\":{\"x\":0.05},\"mapbox\":{\"style\":\"light\"}}},\"xaxis\":{\"anchor\":\"y\",\"domain\":[0.0,1.0],\"title\":{\"text\":\"PC 1\"}},\"yaxis\":{\"anchor\":\"x\",\"domain\":[0.0,1.0],\"title\":{\"text\":\"PC 2\"}},\"legend\":{\"title\":{\"text\":\"color\"},\"tracegroupgap\":0},\"margin\":{\"t\":60}},                        {\"responsive\": true}                    ).then(function(){\n",
       "                            \n",
       "var gd = document.getElementById('838f6b08-0f20-48b5-8427-25b45f9654fc');\n",
       "var x = new MutationObserver(function (mutations, observer) {{\n",
       "        var display = window.getComputedStyle(gd).display;\n",
       "        if (!display || display === 'none') {{\n",
       "            console.log([gd, 'removed!']);\n",
       "            Plotly.purge(gd);\n",
       "            observer.disconnect();\n",
       "        }}\n",
       "}});\n",
       "\n",
       "// Listen for the removal of the full notebook cells\n",
       "var notebookContainer = gd.closest('#notebook-container');\n",
       "if (notebookContainer) {{\n",
       "    x.observe(notebookContainer, {childList: true});\n",
       "}}\n",
       "\n",
       "// Listen for the clearing of the current output cell\n",
       "var outputEl = gd.closest('.output');\n",
       "if (outputEl) {{\n",
       "    x.observe(outputEl, {childList: true});\n",
       "}}\n",
       "\n",
       "                        })                };                });            </script>        </div>"
      ]
     },
     "metadata": {},
     "output_type": "display_data"
    }
   ],
   "source": [
    "import plotly.express as px\n",
    "from sklearn.decomposition import PCA\n",
    "X = df.iloc[:, 3:]\n",
    "pca = PCA(n_components= 32)\n",
    "components = pca.fit_transform(X)\n",
    "fig = px.scatter(components, x=0, y=1, color=df.index,  labels={'0': 'PC 1', '1': 'PC 2'})\n",
    "fig.show()"
   ]
  },
  {
   "cell_type": "code",
   "execution_count": null,
   "id": "aea63d16",
   "metadata": {},
   "outputs": [],
   "source": []
  }
 ],
 "metadata": {
  "kernelspec": {
   "display_name": "Python 3",
   "language": "python",
   "name": "python3"
  },
  "language_info": {
   "codemirror_mode": {
    "name": "ipython",
    "version": 3
   },
   "file_extension": ".py",
   "mimetype": "text/x-python",
   "name": "python",
   "nbconvert_exporter": "python",
   "pygments_lexer": "ipython3",
   "version": "3.8.8"
  }
 },
 "nbformat": 4,
 "nbformat_minor": 5
}
