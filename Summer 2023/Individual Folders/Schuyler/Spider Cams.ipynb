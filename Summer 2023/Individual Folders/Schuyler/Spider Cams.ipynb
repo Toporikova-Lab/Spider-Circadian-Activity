{
 "cells": [
  {
   "cell_type": "code",
   "execution_count": 4,
   "id": "6f67beb6",
   "metadata": {},
   "outputs": [
    {
     "name": "stdout",
     "output_type": "stream",
     "text": [
      "04.mp4: 1687910700.0\n",
      "05.mp4: 1687910760.0\n",
      "06.mp4: 1687910820.0\n",
      "07.mp4: 1687910880.0\n",
      "13.mp4: 1687911180.0\n"
     ]
    }
   ],
   "source": [
    "import os\n",
    "import glob\n",
    "\n",
    "def get_last_modified_time(folder_path):\n",
    "    mp4_files = glob.glob(os.path.join(folder_path, \"*.mp4\"))\n",
    "    \n",
    "    for file_path in mp4_files:\n",
    "        if os.path.isfile(file_path):\n",
    "            file_name = os.path.basename(file_path)\n",
    "            last_modified = os.path.getmtime(file_path)\n",
    "            print(f\"{file_name}: {last_modified}\")\n",
    "        else:\n",
    "            print(f\"Invalid file: {file_path}\")\n",
    "\n",
    "# Example usage\n",
    "folder_path = \"/Volumes/Spider_Cam/record/20230627/16\"  # Replace with your folder path\n",
    "get_last_modified_time(folder_path)"
   ]
  },
  {
   "cell_type": "code",
   "execution_count": 5,
   "id": "620df924",
   "metadata": {},
   "outputs": [
    {
     "name": "stdout",
     "output_type": "stream",
     "text": [
      "04.mp4: 20:05:00\n",
      "05.mp4: 20:06:00\n",
      "06.mp4: 20:07:00\n",
      "07.mp4: 20:08:00\n",
      "13.mp4: 20:13:00\n"
     ]
    }
   ],
   "source": [
    "import time\n",
    "\n",
    "def get_last_modified_time(folder_path):\n",
    "    mp4_files = glob.glob(os.path.join(folder_path, \"*.mp4\"))\n",
    "    \n",
    "    for file_path in mp4_files:\n",
    "        if os.path.isfile(file_path):\n",
    "            file_name = os.path.basename(file_path)\n",
    "            last_modified = os.path.getmtime(file_path)\n",
    "            last_modified_time = time.localtime(last_modified)\n",
    "            last_modified_time_str = time.strftime(\"%H:%M:%S\", last_modified_time)\n",
    "            print(f\"{file_name}: {last_modified_time_str}\")\n",
    "        else:\n",
    "            print(f\"Invalid file: {file_path}\")\n",
    "            \n",
    "folder_path = \"/Volumes/Spider_Cam/record/20230627/16\"  # Replace with your folder path\n",
    "get_last_modified_time(folder_path)"
   ]
  },
  {
   "cell_type": "code",
   "execution_count": 7,
   "id": "e034c677",
   "metadata": {},
   "outputs": [
    {
     "name": "stdout",
     "output_type": "stream",
     "text": [
      "04.mp4: 2023-06-27 16:05:00\n",
      "05.mp4: 2023-06-27 16:06:00\n",
      "06.mp4: 2023-06-27 16:07:00\n",
      "07.mp4: 2023-06-27 16:08:00\n",
      "13.mp4: 2023-06-27 16:13:00\n"
     ]
    }
   ],
   "source": [
    "import datetime\n",
    "\n",
    "def get_last_modified_time(folder_path):\n",
    "    mp4_files = glob.glob(os.path.join(folder_path, \"*.mp4\"))\n",
    "    \n",
    "    for file_path in mp4_files:\n",
    "        if os.path.isfile(file_path):\n",
    "            file_name = os.path.basename(file_path)\n",
    "            last_modified = os.path.getmtime(file_path)\n",
    "            \n",
    "            # Apply time difference adjustment\n",
    "            last_modified -= 4 * 3600  # 4 hours in seconds\n",
    "            \n",
    "            last_modified_dt = datetime.datetime.fromtimestamp(last_modified)\n",
    "            last_modified_str = last_modified_dt.strftime(\"%Y-%m-%d %H:%M:%S\")\n",
    "            \n",
    "            print(f\"{file_name}: {last_modified_str}\")\n",
    "        else:\n",
    "            print(f\"Invalid file: {file_path}\")\n",
    "\n",
    "# Example usage\n",
    "folder_path = \"/Volumes/Spider_Cam/record/20230627/16\"  # Replace with your folder path\n",
    "get_last_modified_time(folder_path)"
   ]
  },
  {
   "cell_type": "code",
   "execution_count": null,
   "id": "779f3548",
   "metadata": {},
   "outputs": [],
   "source": []
  }
 ],
 "metadata": {
  "kernelspec": {
   "display_name": "Python 3 (ipykernel)",
   "language": "python",
   "name": "python3"
  },
  "language_info": {
   "codemirror_mode": {
    "name": "ipython",
    "version": 3
   },
   "file_extension": ".py",
   "mimetype": "text/x-python",
   "name": "python",
   "nbconvert_exporter": "python",
   "pygments_lexer": "ipython3",
   "version": "3.9.13"
  }
 },
 "nbformat": 4,
 "nbformat_minor": 5
}
