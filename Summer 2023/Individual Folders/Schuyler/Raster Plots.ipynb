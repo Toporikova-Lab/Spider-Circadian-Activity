{
 "cells": [
  {
   "cell_type": "code",
   "execution_count": 1,
   "id": "e3f2586f",
   "metadata": {},
   "outputs": [],
   "source": [
    "#Import relevant packages\n",
    "import pandas as pd\n",
    "import numpy as np\n",
    "import matplotlib.pyplot as plt\n",
    "\n",
    "df = pd.read_csv(\"Metazygia monitor 1.csv\")\n",
    "\n",
    "\n",
    "spider_names = ['Monitor 1 Spider 1', 'Monitor 1 Spider 2', 'Monitor 1 Spider 3', 'Monitor 1 Spider4', 'Monitor 1 Spider5', 'Monitor 1 Spider6', 'Monitor 1 Spider7', 'Monitor 1 Spider8', 'Monitor 1 Spider9', 'Monitor 1 Spider10', 'Monitor 1 Spider11', 'Monitor 1 Spider12', \n",
    "'Monitor 1 Spider13', 'Monitor 1 Spider14','Monitor 1 Spider15', 'Monitor 1 Spider16', 'Monitor 1 Spider17', 'Monitor 1 Spider18', 'Monitor 1 Spider19', 'Monitor 1 Spider20', 'Monitor 1 Spider21', 'Monitor 1 Spider22', 'Monitor 1 Spider23',\n",
    "'Monitor 1 Spider24', 'Monitor 1 Spider25', 'Monitor 1 Spider26', 'Monitor 1 Spider27', 'Monitor 1 Spider28', 'Monitor 1 Spider29', 'Monitor 1 Spider30', 'Monitor 1 Spider31', 'Monitor 1 Spider32',]\n",
    "\n",
    "\n",
    "def wholedays(df):\n",
    "    start = df.index[df['Time']=='0:00:00']\n",
    "    end=df.index[df['Time']=='23:59:00']\n",
    "    newdf=df[start[0]:(end[-1]+1)]\n",
    "    return newdf\n",
    "def setindex(df):\n",
    "    df['Date_Time']=df['Date'].astype(str)+' '+df['Time']\n",
    "    new=df.set_index('Date_Time')\n",
    "    return new\n",
    "def spiderraster(df, spider):\n",
    "    min_day=24*60\n",
    "    total_time = len(df.index)\n",
    "    num_days = total_time//min_day\n",
    "    fig, ax=plt.subplots(num_days,1, figsize=(8,12), sharey=True, sharex=True)\n",
    "    #setting the y axis limit\n",
    "    limit=df.replace(0, np.nan)\n",
    "    std=limit.std()\n",
    "    mean=limit.mean()\n",
    "    u=np.mean(mean)\n",
    "    s=np.mean(std)\n",
    "    y=u+3*s\n",
    "    #plotting the raster plots\n",
    "    for i in range(0,num_days):\n",
    "        ax[i].plot(df.Time[min_day*i:min_day*(i+1)], df[spider][min_day*i:min_day*(i+1)], color='blue')\n",
    "        ax[i].set_ylabel('d'+str(i+1))\n",
    "        ax[i].set_xticks([])\n",
    "        # the y limit is the mean plus 3 standard deviations\n",
    "        ax[i].set_ylim(0,y)\n",
    "        #setting instructions for shading the graph when the lights are off\n",
    "        dfa=df[min_day*(i):min_day*(i+1)]\n",
    "        dfa=dfa.reset_index()\n",
    "        if np.mean(dfa.lights)==0:\n",
    "            ax[i].axvspan(0,min_day, alpha=.5,color='grey')\n",
    "        else:\n",
    "            for j in range(1, len(dfa.index)-1):\n",
    "                global start1\n",
    "                global end1\n",
    "                global start2\n",
    "                global end2\n",
    "                if dfa.lights[j] == 1:\n",
    "                    lights_on = True\n",
    "                else:\n",
    "                    lights_on = False\n",
    "                if lights_on == False and j-1==0:\n",
    "                    start1 = j\n",
    "                if lights_on==False and dfa.lights[j-1] == 1:\n",
    "                    start2 = j\n",
    "                if lights_on==False and j==( len(dfa.index)-2):\n",
    "                    end2= j\n",
    "                if lights_on == False and dfa.lights[j+1] == 1:\n",
    "                    end1 = j+1\n",
    "            \n",
    "            ax[i].axvspan(start1, end1, alpha=0.5, color='grey')\n",
    "            ax[i].axvspan(start2, end2,alpha=0.5, color='grey')\n",
    "    ax[num_days-1].set_xticks(range(0, min_day, 180)) \n",
    "    plt.xlabel('Time')\n",
    "    plt.suptitle(spider+' Locomotor Activity')"
   ]
  },
  {
   "cell_type": "code",
   "execution_count": 3,
   "id": "28900601",
   "metadata": {},
   "outputs": [
    {
     "ename": "AttributeError",
     "evalue": "'DataFrame' object has no attribute 'Time'",
     "output_type": "error",
     "traceback": [
      "\u001b[1;31m---------------------------------------------------------------------------\u001b[0m",
      "\u001b[1;31mAttributeError\u001b[0m                            Traceback (most recent call last)",
      "\u001b[1;32m<ipython-input-3-dd9d05d5e292>\u001b[0m in \u001b[0;36m<module>\u001b[1;34m\u001b[0m\n\u001b[1;32m----> 1\u001b[1;33m \u001b[0mspiderraster\u001b[0m\u001b[1;33m(\u001b[0m\u001b[0mdf\u001b[0m\u001b[1;33m,\u001b[0m \u001b[0mspider_names\u001b[0m\u001b[1;33m)\u001b[0m\u001b[1;33m\u001b[0m\u001b[1;33m\u001b[0m\u001b[0m\n\u001b[0m",
      "\u001b[1;32m<ipython-input-1-475cad516393>\u001b[0m in \u001b[0;36mspiderraster\u001b[1;34m(df, spider)\u001b[0m\n\u001b[0;32m     35\u001b[0m     \u001b[1;31m#plotting the raster plots\u001b[0m\u001b[1;33m\u001b[0m\u001b[1;33m\u001b[0m\u001b[1;33m\u001b[0m\u001b[0m\n\u001b[0;32m     36\u001b[0m     \u001b[1;32mfor\u001b[0m \u001b[0mi\u001b[0m \u001b[1;32min\u001b[0m \u001b[0mrange\u001b[0m\u001b[1;33m(\u001b[0m\u001b[1;36m0\u001b[0m\u001b[1;33m,\u001b[0m\u001b[0mnum_days\u001b[0m\u001b[1;33m)\u001b[0m\u001b[1;33m:\u001b[0m\u001b[1;33m\u001b[0m\u001b[1;33m\u001b[0m\u001b[0m\n\u001b[1;32m---> 37\u001b[1;33m         \u001b[0max\u001b[0m\u001b[1;33m[\u001b[0m\u001b[0mi\u001b[0m\u001b[1;33m]\u001b[0m\u001b[1;33m.\u001b[0m\u001b[0mplot\u001b[0m\u001b[1;33m(\u001b[0m\u001b[0mdf\u001b[0m\u001b[1;33m.\u001b[0m\u001b[0mTime\u001b[0m\u001b[1;33m[\u001b[0m\u001b[0mmin_day\u001b[0m\u001b[1;33m*\u001b[0m\u001b[0mi\u001b[0m\u001b[1;33m:\u001b[0m\u001b[0mmin_day\u001b[0m\u001b[1;33m*\u001b[0m\u001b[1;33m(\u001b[0m\u001b[0mi\u001b[0m\u001b[1;33m+\u001b[0m\u001b[1;36m1\u001b[0m\u001b[1;33m)\u001b[0m\u001b[1;33m]\u001b[0m\u001b[1;33m,\u001b[0m \u001b[0mdf\u001b[0m\u001b[1;33m[\u001b[0m\u001b[0mspider\u001b[0m\u001b[1;33m]\u001b[0m\u001b[1;33m[\u001b[0m\u001b[0mmin_day\u001b[0m\u001b[1;33m*\u001b[0m\u001b[0mi\u001b[0m\u001b[1;33m:\u001b[0m\u001b[0mmin_day\u001b[0m\u001b[1;33m*\u001b[0m\u001b[1;33m(\u001b[0m\u001b[0mi\u001b[0m\u001b[1;33m+\u001b[0m\u001b[1;36m1\u001b[0m\u001b[1;33m)\u001b[0m\u001b[1;33m]\u001b[0m\u001b[1;33m,\u001b[0m \u001b[0mcolor\u001b[0m\u001b[1;33m=\u001b[0m\u001b[1;34m'blue'\u001b[0m\u001b[1;33m)\u001b[0m\u001b[1;33m\u001b[0m\u001b[1;33m\u001b[0m\u001b[0m\n\u001b[0m\u001b[0;32m     38\u001b[0m         \u001b[0max\u001b[0m\u001b[1;33m[\u001b[0m\u001b[0mi\u001b[0m\u001b[1;33m]\u001b[0m\u001b[1;33m.\u001b[0m\u001b[0mset_ylabel\u001b[0m\u001b[1;33m(\u001b[0m\u001b[1;34m'd'\u001b[0m\u001b[1;33m+\u001b[0m\u001b[0mstr\u001b[0m\u001b[1;33m(\u001b[0m\u001b[0mi\u001b[0m\u001b[1;33m+\u001b[0m\u001b[1;36m1\u001b[0m\u001b[1;33m)\u001b[0m\u001b[1;33m)\u001b[0m\u001b[1;33m\u001b[0m\u001b[1;33m\u001b[0m\u001b[0m\n\u001b[0;32m     39\u001b[0m         \u001b[0max\u001b[0m\u001b[1;33m[\u001b[0m\u001b[0mi\u001b[0m\u001b[1;33m]\u001b[0m\u001b[1;33m.\u001b[0m\u001b[0mset_xticks\u001b[0m\u001b[1;33m(\u001b[0m\u001b[1;33m[\u001b[0m\u001b[1;33m]\u001b[0m\u001b[1;33m)\u001b[0m\u001b[1;33m\u001b[0m\u001b[1;33m\u001b[0m\u001b[0m\n",
      "\u001b[1;32mC:\\ProgramData\\Anaconda3\\lib\\site-packages\\pandas\\core\\generic.py\u001b[0m in \u001b[0;36m__getattr__\u001b[1;34m(self, name)\u001b[0m\n\u001b[0;32m   5463\u001b[0m             \u001b[1;32mif\u001b[0m \u001b[0mself\u001b[0m\u001b[1;33m.\u001b[0m\u001b[0m_info_axis\u001b[0m\u001b[1;33m.\u001b[0m\u001b[0m_can_hold_identifiers_and_holds_name\u001b[0m\u001b[1;33m(\u001b[0m\u001b[0mname\u001b[0m\u001b[1;33m)\u001b[0m\u001b[1;33m:\u001b[0m\u001b[1;33m\u001b[0m\u001b[1;33m\u001b[0m\u001b[0m\n\u001b[0;32m   5464\u001b[0m                 \u001b[1;32mreturn\u001b[0m \u001b[0mself\u001b[0m\u001b[1;33m[\u001b[0m\u001b[0mname\u001b[0m\u001b[1;33m]\u001b[0m\u001b[1;33m\u001b[0m\u001b[1;33m\u001b[0m\u001b[0m\n\u001b[1;32m-> 5465\u001b[1;33m             \u001b[1;32mreturn\u001b[0m \u001b[0mobject\u001b[0m\u001b[1;33m.\u001b[0m\u001b[0m__getattribute__\u001b[0m\u001b[1;33m(\u001b[0m\u001b[0mself\u001b[0m\u001b[1;33m,\u001b[0m \u001b[0mname\u001b[0m\u001b[1;33m)\u001b[0m\u001b[1;33m\u001b[0m\u001b[1;33m\u001b[0m\u001b[0m\n\u001b[0m\u001b[0;32m   5466\u001b[0m \u001b[1;33m\u001b[0m\u001b[0m\n\u001b[0;32m   5467\u001b[0m     \u001b[1;32mdef\u001b[0m \u001b[0m__setattr__\u001b[0m\u001b[1;33m(\u001b[0m\u001b[0mself\u001b[0m\u001b[1;33m,\u001b[0m \u001b[0mname\u001b[0m\u001b[1;33m:\u001b[0m \u001b[0mstr\u001b[0m\u001b[1;33m,\u001b[0m \u001b[0mvalue\u001b[0m\u001b[1;33m)\u001b[0m \u001b[1;33m->\u001b[0m \u001b[1;32mNone\u001b[0m\u001b[1;33m:\u001b[0m\u001b[1;33m\u001b[0m\u001b[1;33m\u001b[0m\u001b[0m\n",
      "\u001b[1;31mAttributeError\u001b[0m: 'DataFrame' object has no attribute 'Time'"
     ]
    },
    {
     "data": {
      "image/png": "[encoded data removed]",
      "text/plain": [
       "<Figure size 576x864 with 14 Axes>"
      ]
     },
     "metadata": {
      "needs_background": "light"
     },
     "output_type": "display_data"
    }
   ],
   "source": [
    "spiderraster(df, spider_names)"
   ]
  },
  {
   "cell_type": "code",
   "execution_count": null,
   "id": "82623237",
   "metadata": {},
   "outputs": [],
   "source": []
  }
 ],
 "metadata": {
  "kernelspec": {
   "display_name": "Python 3",
   "language": "python",
   "name": "python3"
  },
  "language_info": {
   "codemirror_mode": {
    "name": "ipython",
    "version": 3
   },
   "file_extension": ".py",
   "mimetype": "text/x-python",
   "name": "python",
   "nbconvert_exporter": "python",
   "pygments_lexer": "ipython3",
   "version": "3.8.8"
  }
 },
 "nbformat": 4,
 "nbformat_minor": 5
}
