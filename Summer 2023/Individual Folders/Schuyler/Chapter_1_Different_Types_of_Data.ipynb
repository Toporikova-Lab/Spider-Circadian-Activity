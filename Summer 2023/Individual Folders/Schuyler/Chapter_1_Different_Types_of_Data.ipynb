{
 "cells": [
  {
   "cell_type": "code",
   "execution_count": 1,
   "metadata": {},
   "outputs": [],
   "source": [
    "from __future__ import print_function\n",
    "import os\n",
    "import sys\n",
    "import pandas as pd\n",
    "import numpy as np\n",
    "%matplotlib inline\n",
    "from matplotlib import pyplot as plt\n",
    "import seaborn as sns"
   ]
  },
  {
   "cell_type": "code",
   "execution_count": 10,
   "metadata": {},
   "outputs": [],
   "source": [
    "data = pd.read_excel('P_Data_Extract_From_World_Development_Indicators_2.xlsx')"
   ]
  },
  {
   "cell_type": "code",
   "execution_count": 11,
   "metadata": {},
   "outputs": [
    {
     "name": "stdout",
     "output_type": "stream",
     "text": [
      "Column names: Index(['Series Name', 'Series Code', 'Country Name', 'Country Code',\n",
      "       '1960 [YR1960]', '1961 [YR1961]', '1962 [YR1962]', '1963 [YR1963]',\n",
      "       '1964 [YR1964]', '1965 [YR1965]', '1966 [YR1966]', '1967 [YR1967]',\n",
      "       '1968 [YR1968]', '1969 [YR1969]', '1970 [YR1970]', '1971 [YR1971]',\n",
      "       '1972 [YR1972]', '1973 [YR1973]', '1974 [YR1974]', '1975 [YR1975]',\n",
      "       '1976 [YR1976]', '1977 [YR1977]', '1978 [YR1978]', '1979 [YR1979]',\n",
      "       '1980 [YR1980]', '1981 [YR1981]', '1982 [YR1982]', '1983 [YR1983]',\n",
      "       '1984 [YR1984]', '1985 [YR1985]', '1986 [YR1986]', '1987 [YR1987]',\n",
      "       '1988 [YR1988]', '1989 [YR1989]', '1990 [YR1990]', '1991 [YR1991]',\n",
      "       '1992 [YR1992]', '1993 [YR1993]', '1994 [YR1994]', '1995 [YR1995]',\n",
      "       '1996 [YR1996]', '1997 [YR1997]', '1998 [YR1998]', '1999 [YR1999]',\n",
      "       '2000 [YR2000]', '2001 [YR2001]', '2002 [YR2002]', '2003 [YR2003]',\n",
      "       '2004 [YR2004]', '2005 [YR2005]', '2006 [YR2006]', '2007 [YR2007]',\n",
      "       '2008 [YR2008]', '2009 [YR2009]', '2010 [YR2010]', '2011 [YR2011]',\n",
      "       '2012 [YR2012]', '2013 [YR2013]', '2014 [YR2014]', '2015 [YR2015]',\n",
      "       '2016 [YR2016]'],\n",
      "      dtype='object')\n"
     ]
    }
   ],
   "source": [
    "print('Column names:', data.columns)"
   ]
  },
  {
   "cell_type": "code",
   "execution_count": 12,
   "metadata": {
    "scrolled": true
   },
   "outputs": [
    {
     "name": "stdout",
     "output_type": "stream",
     "text": [
      "No. of rows, columns: (537, 61)\n"
     ]
    }
   ],
   "source": [
    "print('No. of rows, columns:', data.shape)"
   ]
  },
  {
   "cell_type": "code",
   "execution_count": 13,
   "metadata": {},
   "outputs": [
    {
     "name": "stdout",
     "output_type": "stream",
     "text": [
      "Unique number of indicators: 5\n"
     ]
    }
   ],
   "source": [
    "nb_indicators = data['Series Name'].unique().shape[0]\n",
    "print('Unique number of indicators:', nb_indicators)"
   ]
  },
  {
   "cell_type": "code",
   "execution_count": 14,
   "metadata": {},
   "outputs": [
    {
     "name": "stdout",
     "output_type": "stream",
     "text": [
      "Unique number of countries: 267\n"
     ]
    }
   ],
   "source": [
    "nb_countries = data['Country Code'].unique().shape[0]\n",
    "print('Unique number of countries:', nb_countries)"
   ]
  },
  {
   "cell_type": "code",
   "execution_count": 16,
   "metadata": {},
   "outputs": [],
   "source": [
    "central_govt_debt = data.loc[data['Series Name']=='Central government debt, total (% of GDP)']\n",
    "military_exp = data.loc[data['Series Name']=='Military expenditure (% of GDP)']"
   ]
  },
  {
   "cell_type": "code",
   "execution_count": 17,
   "metadata": {},
   "outputs": [
    {
     "name": "stdout",
     "output_type": "stream",
     "text": [
      "Shape of central_govt_debt: (266, 61)\n",
      "Shape of military_exp: (266, 61)\n"
     ]
    }
   ],
   "source": [
    "print('Shape of central_govt_debt:', central_govt_debt.shape)\n",
    "print('Shape of military_exp:', military_exp.shape)"
   ]
  },
  {
   "cell_type": "code",
   "execution_count": 19,
   "metadata": {},
   "outputs": [
    {
     "data": {
      "text/plain": [
       "count     266\n",
       "unique     74\n",
       "top        ..\n",
       "freq      192\n",
       "Name: 2010 [YR2010], dtype: object"
      ]
     },
     "execution_count": 19,
     "metadata": {},
     "output_type": "execute_result"
    }
   ],
   "source": [
    "central_govt_debt['2010 [YR2010]'].describe()"
   ]
  },
  {
   "cell_type": "code",
   "execution_count": 20,
   "metadata": {},
   "outputs": [
    {
     "data": {
      "text/plain": [
       "count     266\n",
       "unique    192\n",
       "top        ..\n",
       "freq       72\n",
       "Name: 2010 [YR2010], dtype: object"
      ]
     },
     "execution_count": 20,
     "metadata": {},
     "output_type": "execute_result"
    }
   ],
   "source": [
    "military_exp['2010 [YR2010]'].describe()"
   ]
  },
  {
   "cell_type": "code",
   "execution_count": 21,
   "metadata": {},
   "outputs": [],
   "source": [
    "central_govt_debt.index = central_govt_debt['Country Code']\n",
    "military_exp.index = military_exp['Country Code']"
   ]
  },
  {
   "cell_type": "code",
   "execution_count": 23,
   "metadata": {},
   "outputs": [],
   "source": [
    "central_govt_debt_2010 = central_govt_debt['2010 [YR2010]'].loc[~pd.isnull(central_govt_debt['2010 [YR2010]'])]\n",
    "military_exp_2010 = military_exp['2010 [YR2010]'].loc[~pd.isnull(military_exp['2010 [YR2010]'])]"
   ]
  },
  {
   "cell_type": "code",
   "execution_count": 24,
   "metadata": {},
   "outputs": [],
   "source": [
    "data_to_plot = pd.concat((central_govt_debt_2010, military_exp_2010), axis=1)"
   ]
  },
  {
   "cell_type": "code",
   "execution_count": 25,
   "metadata": {},
   "outputs": [],
   "source": [
    "data_to_plot.columns = ['central_govt_debt', 'military_exp']"
   ]
  },
  {
   "cell_type": "code",
   "execution_count": 26,
   "metadata": {},
   "outputs": [
    {
     "data": {
      "text/html": [
       "<div>\n",
       "<style scoped>\n",
       "    .dataframe tbody tr th:only-of-type {\n",
       "        vertical-align: middle;\n",
       "    }\n",
       "\n",
       "    .dataframe tbody tr th {\n",
       "        vertical-align: top;\n",
       "    }\n",
       "\n",
       "    .dataframe thead th {\n",
       "        text-align: right;\n",
       "    }\n",
       "</style>\n",
       "<table border=\"1\" class=\"dataframe\">\n",
       "  <thead>\n",
       "    <tr style=\"text-align: right;\">\n",
       "      <th></th>\n",
       "      <th>central_govt_debt</th>\n",
       "      <th>military_exp</th>\n",
       "    </tr>\n",
       "    <tr>\n",
       "      <th>Country Code</th>\n",
       "      <th></th>\n",
       "      <th></th>\n",
       "    </tr>\n",
       "  </thead>\n",
       "  <tbody>\n",
       "    <tr>\n",
       "      <th>AFG</th>\n",
       "      <td>..</td>\n",
       "      <td>1.945836</td>\n",
       "    </tr>\n",
       "    <tr>\n",
       "      <th>ALB</th>\n",
       "      <td>..</td>\n",
       "      <td>1.558592</td>\n",
       "    </tr>\n",
       "    <tr>\n",
       "      <th>DZA</th>\n",
       "      <td>..</td>\n",
       "      <td>3.518013</td>\n",
       "    </tr>\n",
       "    <tr>\n",
       "      <th>ASM</th>\n",
       "      <td>..</td>\n",
       "      <td>..</td>\n",
       "    </tr>\n",
       "    <tr>\n",
       "      <th>AND</th>\n",
       "      <td>..</td>\n",
       "      <td>..</td>\n",
       "    </tr>\n",
       "    <tr>\n",
       "      <th>AGO</th>\n",
       "      <td>..</td>\n",
       "      <td>4.177585</td>\n",
       "    </tr>\n",
       "    <tr>\n",
       "      <th>ATG</th>\n",
       "      <td>..</td>\n",
       "      <td>..</td>\n",
       "    </tr>\n",
       "    <tr>\n",
       "      <th>ARG</th>\n",
       "      <td>..</td>\n",
       "      <td>0.814878</td>\n",
       "    </tr>\n",
       "    <tr>\n",
       "      <th>ARM</th>\n",
       "      <td>..</td>\n",
       "      <td>4.265646</td>\n",
       "    </tr>\n",
       "    <tr>\n",
       "      <th>ABW</th>\n",
       "      <td>..</td>\n",
       "      <td>..</td>\n",
       "    </tr>\n",
       "  </tbody>\n",
       "</table>\n",
       "</div>"
      ],
      "text/plain": [
       "             central_govt_debt military_exp\n",
       "Country Code                               \n",
       "AFG                         ..     1.945836\n",
       "ALB                         ..     1.558592\n",
       "DZA                         ..     3.518013\n",
       "ASM                         ..           ..\n",
       "AND                         ..           ..\n",
       "AGO                         ..     4.177585\n",
       "ATG                         ..           ..\n",
       "ARG                         ..     0.814878\n",
       "ARM                         ..     4.265646\n",
       "ABW                         ..           .."
      ]
     },
     "execution_count": 26,
     "metadata": {},
     "output_type": "execute_result"
    }
   ],
   "source": [
    "data_to_plot.head(10)"
   ]
  },
  {
   "cell_type": "code",
   "execution_count": 32,
   "metadata": {},
   "outputs": [],
   "source": [
    "data_to_plot.replace('..', np.nan, inplace = True)\n",
    "data_to_plot.dropna(inplace = True)\n",
    "\n"
   ]
  },
  {
   "cell_type": "code",
   "execution_count": 33,
   "metadata": {},
   "outputs": [
    {
     "data": {
      "text/html": [
       "<div>\n",
       "<style scoped>\n",
       "    .dataframe tbody tr th:only-of-type {\n",
       "        vertical-align: middle;\n",
       "    }\n",
       "\n",
       "    .dataframe tbody tr th {\n",
       "        vertical-align: top;\n",
       "    }\n",
       "\n",
       "    .dataframe thead th {\n",
       "        text-align: right;\n",
       "    }\n",
       "</style>\n",
       "<table border=\"1\" class=\"dataframe\">\n",
       "  <thead>\n",
       "    <tr style=\"text-align: right;\">\n",
       "      <th></th>\n",
       "      <th>central_govt_debt</th>\n",
       "      <th>military_exp</th>\n",
       "    </tr>\n",
       "    <tr>\n",
       "      <th>Country Code</th>\n",
       "      <th></th>\n",
       "      <th></th>\n",
       "    </tr>\n",
       "  </thead>\n",
       "  <tbody>\n",
       "    <tr>\n",
       "      <th>AUS</th>\n",
       "      <td>28.670102</td>\n",
       "      <td>1.856791</td>\n",
       "    </tr>\n",
       "    <tr>\n",
       "      <th>AUT</th>\n",
       "      <td>85.786270</td>\n",
       "      <td>0.821233</td>\n",
       "    </tr>\n",
       "    <tr>\n",
       "      <th>AZE</th>\n",
       "      <td>6.385576</td>\n",
       "      <td>2.791004</td>\n",
       "    </tr>\n",
       "    <tr>\n",
       "      <th>BLR</th>\n",
       "      <td>18.905246</td>\n",
       "      <td>1.341383</td>\n",
       "    </tr>\n",
       "    <tr>\n",
       "      <th>BEL</th>\n",
       "      <td>93.206454</td>\n",
       "      <td>1.084633</td>\n",
       "    </tr>\n",
       "  </tbody>\n",
       "</table>\n",
       "</div>"
      ],
      "text/plain": [
       "              central_govt_debt  military_exp\n",
       "Country Code                                 \n",
       "AUS                   28.670102      1.856791\n",
       "AUT                   85.786270      0.821233\n",
       "AZE                    6.385576      2.791004\n",
       "BLR                   18.905246      1.341383\n",
       "BEL                   93.206454      1.084633"
      ]
     },
     "execution_count": 33,
     "metadata": {},
     "output_type": "execute_result"
    }
   ],
   "source": [
    "data_to_plot.head()"
   ]
  },
  {
   "cell_type": "code",
   "execution_count": 35,
   "metadata": {},
   "outputs": [
    {
     "name": "stderr",
     "output_type": "stream",
     "text": [
      "C:\\ProgramData\\Anaconda3\\lib\\site-packages\\seaborn\\distributions.py:2557: FutureWarning: `distplot` is a deprecated function and will be removed in a future version. Please adapt your code to use either `displot` (a figure-level function with similar flexibility) or `histplot` (an axes-level function for histograms).\n",
      "  warnings.warn(msg, FutureWarning)\n"
     ]
    },
    {
     "data": {
      "text/plain": [
       "Text(0.5, 1.0, 'Military expenditure (% of GDP) of 85 countries in 2010')"
      ]
     },
     "execution_count": 35,
     "metadata": {},
     "output_type": "execute_result"
    },
    {
     "data": {
      "image/png": "[encoded data removed]",
      "text/plain": [
       "<Figure size 396x396 with 1 Axes>"
      ]
     },
     "metadata": {
      "needs_background": "light"
     },
     "output_type": "display_data"
    }
   ],
   "source": [
    "plt.figure(figsize=(5.5, 5.5))\n",
    "g = sns.distplot(np.array(data_to_plot.military_exp), norm_hist=False)\n",
    "g.set_title('Military expenditure (% of GDP) of 85 countries in 2010')"
   ]
  },
  {
   "cell_type": "code",
   "execution_count": 36,
   "metadata": {},
   "outputs": [
    {
     "name": "stderr",
     "output_type": "stream",
     "text": [
      "C:\\ProgramData\\Anaconda3\\lib\\site-packages\\seaborn\\distributions.py:1639: FutureWarning: The `data2` param is now named `y`; please update your code\n",
      "  warnings.warn(msg, FutureWarning)\n"
     ]
    },
    {
     "data": {
      "text/plain": [
       "Text(0.5, 1.0, 'Military expenditures & Debt of central governments in 2010')"
      ]
     },
     "execution_count": 36,
     "metadata": {},
     "output_type": "execute_result"
    },
    {
     "data": {
      "image/png": "[encoded data removed]",
      "text/plain": [
       "<Figure size 396x396 with 1 Axes>"
      ]
     },
     "metadata": {
      "needs_background": "light"
     },
     "output_type": "display_data"
    }
   ],
   "source": [
    "plt.figure(figsize=(5.5, 5.5))\n",
    "g = sns.kdeplot(data_to_plot.military_exp, data2=data_to_plot.central_govt_debt)\n",
    "g.set_title('Military expenditures & Debt of central governments in 2010')\n"
   ]
  },
  {
   "cell_type": "code",
   "execution_count": 37,
   "metadata": {},
   "outputs": [],
   "source": [
    "central_govt_debt_us = central_govt_debt.loc[central_govt_debt['Country Code']=='USA', :].T\n",
    "military_exp_us = military_exp.loc[military_exp['Country Code']=='USA', :].T"
   ]
  },
  {
   "cell_type": "code",
   "execution_count": 38,
   "metadata": {},
   "outputs": [],
   "source": [
    "data_us = pd.concat((military_exp_us, central_govt_debt_us), axis=1)"
   ]
  },
  {
   "cell_type": "code",
   "execution_count": 40,
   "metadata": {},
   "outputs": [],
   "source": [
    "index0 = np.where(data_us.index=='1960 [YR1960]')[0][0]\n",
    "index1 = np.where(data_us.index=='2016 [YR2016]')[0][0]"
   ]
  },
  {
   "cell_type": "code",
   "execution_count": 41,
   "metadata": {},
   "outputs": [],
   "source": [
    "data_us = data_us.iloc[index0:index1+1,:]"
   ]
  },
  {
   "cell_type": "code",
   "execution_count": 42,
   "metadata": {},
   "outputs": [],
   "source": [
    "data_us.columns = ['Federal Military Expenditure', 'Debt of Federal Government']\n"
   ]
  },
  {
   "cell_type": "code",
   "execution_count": 43,
   "metadata": {},
   "outputs": [
    {
     "data": {
      "text/html": [
       "<div>\n",
       "<style scoped>\n",
       "    .dataframe tbody tr th:only-of-type {\n",
       "        vertical-align: middle;\n",
       "    }\n",
       "\n",
       "    .dataframe tbody tr th {\n",
       "        vertical-align: top;\n",
       "    }\n",
       "\n",
       "    .dataframe thead th {\n",
       "        text-align: right;\n",
       "    }\n",
       "</style>\n",
       "<table border=\"1\" class=\"dataframe\">\n",
       "  <thead>\n",
       "    <tr style=\"text-align: right;\">\n",
       "      <th></th>\n",
       "      <th>Federal Military Expenditure</th>\n",
       "      <th>Debt of Federal Government</th>\n",
       "    </tr>\n",
       "  </thead>\n",
       "  <tbody>\n",
       "    <tr>\n",
       "      <th>1960 [YR1960]</th>\n",
       "      <td>8.993125</td>\n",
       "      <td>..</td>\n",
       "    </tr>\n",
       "    <tr>\n",
       "      <th>1961 [YR1961]</th>\n",
       "      <td>9.156032</td>\n",
       "      <td>..</td>\n",
       "    </tr>\n",
       "    <tr>\n",
       "      <th>1962 [YR1962]</th>\n",
       "      <td>9.331673</td>\n",
       "      <td>..</td>\n",
       "    </tr>\n",
       "    <tr>\n",
       "      <th>1963 [YR1963]</th>\n",
       "      <td>8.831891</td>\n",
       "      <td>..</td>\n",
       "    </tr>\n",
       "    <tr>\n",
       "      <th>1964 [YR1964]</th>\n",
       "      <td>8.051281</td>\n",
       "      <td>..</td>\n",
       "    </tr>\n",
       "    <tr>\n",
       "      <th>1965 [YR1965]</th>\n",
       "      <td>7.587247</td>\n",
       "      <td>..</td>\n",
       "    </tr>\n",
       "    <tr>\n",
       "      <th>1966 [YR1966]</th>\n",
       "      <td>8.4353</td>\n",
       "      <td>..</td>\n",
       "    </tr>\n",
       "    <tr>\n",
       "      <th>1967 [YR1967]</th>\n",
       "      <td>9.417796</td>\n",
       "      <td>..</td>\n",
       "    </tr>\n",
       "    <tr>\n",
       "      <th>1968 [YR1968]</th>\n",
       "      <td>9.268454</td>\n",
       "      <td>..</td>\n",
       "    </tr>\n",
       "    <tr>\n",
       "      <th>1969 [YR1969]</th>\n",
       "      <td>8.633264</td>\n",
       "      <td>..</td>\n",
       "    </tr>\n",
       "    <tr>\n",
       "      <th>1970 [YR1970]</th>\n",
       "      <td>8.032744</td>\n",
       "      <td>..</td>\n",
       "    </tr>\n",
       "    <tr>\n",
       "      <th>1971 [YR1971]</th>\n",
       "      <td>6.94307</td>\n",
       "      <td>..</td>\n",
       "    </tr>\n",
       "    <tr>\n",
       "      <th>1972 [YR1972]</th>\n",
       "      <td>6.519757</td>\n",
       "      <td>..</td>\n",
       "    </tr>\n",
       "    <tr>\n",
       "      <th>1973 [YR1973]</th>\n",
       "      <td>5.893871</td>\n",
       "      <td>..</td>\n",
       "    </tr>\n",
       "    <tr>\n",
       "      <th>1974 [YR1974]</th>\n",
       "      <td>5.954111</td>\n",
       "      <td>..</td>\n",
       "    </tr>\n",
       "    <tr>\n",
       "      <th>1975 [YR1975]</th>\n",
       "      <td>5.622679</td>\n",
       "      <td>..</td>\n",
       "    </tr>\n",
       "    <tr>\n",
       "      <th>1976 [YR1976]</th>\n",
       "      <td>5.191071</td>\n",
       "      <td>..</td>\n",
       "    </tr>\n",
       "    <tr>\n",
       "      <th>1977 [YR1977]</th>\n",
       "      <td>5.155617</td>\n",
       "      <td>..</td>\n",
       "    </tr>\n",
       "    <tr>\n",
       "      <th>1978 [YR1978]</th>\n",
       "      <td>4.943087</td>\n",
       "      <td>..</td>\n",
       "    </tr>\n",
       "    <tr>\n",
       "      <th>1979 [YR1979]</th>\n",
       "      <td>4.951992</td>\n",
       "      <td>..</td>\n",
       "    </tr>\n",
       "  </tbody>\n",
       "</table>\n",
       "</div>"
      ],
      "text/plain": [
       "              Federal Military Expenditure Debt of Federal Government\n",
       "1960 [YR1960]                     8.993125                         ..\n",
       "1961 [YR1961]                     9.156032                         ..\n",
       "1962 [YR1962]                     9.331673                         ..\n",
       "1963 [YR1963]                     8.831891                         ..\n",
       "1964 [YR1964]                     8.051281                         ..\n",
       "1965 [YR1965]                     7.587247                         ..\n",
       "1966 [YR1966]                       8.4353                         ..\n",
       "1967 [YR1967]                     9.417796                         ..\n",
       "1968 [YR1968]                     9.268454                         ..\n",
       "1969 [YR1969]                     8.633264                         ..\n",
       "1970 [YR1970]                     8.032744                         ..\n",
       "1971 [YR1971]                      6.94307                         ..\n",
       "1972 [YR1972]                     6.519757                         ..\n",
       "1973 [YR1973]                     5.893871                         ..\n",
       "1974 [YR1974]                     5.954111                         ..\n",
       "1975 [YR1975]                     5.622679                         ..\n",
       "1976 [YR1976]                     5.191071                         ..\n",
       "1977 [YR1977]                     5.155617                         ..\n",
       "1978 [YR1978]                     4.943087                         ..\n",
       "1979 [YR1979]                     4.951992                         .."
      ]
     },
     "execution_count": 43,
     "metadata": {},
     "output_type": "execute_result"
    }
   ],
   "source": [
    "data_us.head(20)"
   ]
  },
  {
   "cell_type": "code",
   "execution_count": 46,
   "metadata": {},
   "outputs": [
    {
     "name": "stdout",
     "output_type": "stream",
     "text": [
      "Shape of data_us: (28, 2)\n"
     ]
    }
   ],
   "source": [
    "#There are null rows for several years possibly due to unavailability of data for these years\n",
    "data_us.replace('..', np.nan, inplace = True)\n",
    "data_us.dropna(inplace = True)\n",
    "print('Shape of data_us:', data_us.shape)"
   ]
  },
  {
   "cell_type": "code",
   "execution_count": 47,
   "metadata": {},
   "outputs": [
    {
     "data": {
      "text/html": [
       "<div>\n",
       "<style scoped>\n",
       "    .dataframe tbody tr th:only-of-type {\n",
       "        vertical-align: middle;\n",
       "    }\n",
       "\n",
       "    .dataframe tbody tr th {\n",
       "        vertical-align: top;\n",
       "    }\n",
       "\n",
       "    .dataframe thead th {\n",
       "        text-align: right;\n",
       "    }\n",
       "</style>\n",
       "<table border=\"1\" class=\"dataframe\">\n",
       "  <thead>\n",
       "    <tr style=\"text-align: right;\">\n",
       "      <th></th>\n",
       "      <th>Federal Military Expenditure</th>\n",
       "      <th>Debt of Federal Government</th>\n",
       "    </tr>\n",
       "  </thead>\n",
       "  <tbody>\n",
       "    <tr>\n",
       "      <th>1989 [YR1989]</th>\n",
       "      <td>5.871206</td>\n",
       "      <td>39.128400</td>\n",
       "    </tr>\n",
       "    <tr>\n",
       "      <th>1990 [YR1990]</th>\n",
       "      <td>5.605175</td>\n",
       "      <td>40.933944</td>\n",
       "    </tr>\n",
       "    <tr>\n",
       "      <th>1991 [YR1991]</th>\n",
       "      <td>4.883429</td>\n",
       "      <td>44.061597</td>\n",
       "    </tr>\n",
       "    <tr>\n",
       "      <th>1992 [YR1992]</th>\n",
       "      <td>4.970467</td>\n",
       "      <td>46.050144</td>\n",
       "    </tr>\n",
       "    <tr>\n",
       "      <th>1993 [YR1993]</th>\n",
       "      <td>4.604350</td>\n",
       "      <td>48.246140</td>\n",
       "    </tr>\n",
       "    <tr>\n",
       "      <th>1994 [YR1994]</th>\n",
       "      <td>4.215265</td>\n",
       "      <td>47.353482</td>\n",
       "    </tr>\n",
       "    <tr>\n",
       "      <th>1995 [YR1995]</th>\n",
       "      <td>3.860246</td>\n",
       "      <td>47.209535</td>\n",
       "    </tr>\n",
       "    <tr>\n",
       "      <th>1996 [YR1996]</th>\n",
       "      <td>3.554982</td>\n",
       "      <td>46.741769</td>\n",
       "    </tr>\n",
       "    <tr>\n",
       "      <th>1997 [YR1997]</th>\n",
       "      <td>3.405562</td>\n",
       "      <td>44.117470</td>\n",
       "    </tr>\n",
       "    <tr>\n",
       "      <th>1998 [YR1998]</th>\n",
       "      <td>3.201558</td>\n",
       "      <td>41.129149</td>\n",
       "    </tr>\n",
       "    <tr>\n",
       "      <th>1999 [YR1999]</th>\n",
       "      <td>3.085677</td>\n",
       "      <td>37.727278</td>\n",
       "    </tr>\n",
       "    <tr>\n",
       "      <th>2000 [YR2000]</th>\n",
       "      <td>3.112242</td>\n",
       "      <td>33.267655</td>\n",
       "    </tr>\n",
       "    <tr>\n",
       "      <th>2001 [YR2001]</th>\n",
       "      <td>3.123810</td>\n",
       "      <td>52.443676</td>\n",
       "    </tr>\n",
       "    <tr>\n",
       "      <th>2002 [YR2002]</th>\n",
       "      <td>3.447618</td>\n",
       "      <td>53.862514</td>\n",
       "    </tr>\n",
       "    <tr>\n",
       "      <th>2003 [YR2003]</th>\n",
       "      <td>3.827161</td>\n",
       "      <td>56.250405</td>\n",
       "    </tr>\n",
       "    <tr>\n",
       "      <th>2004 [YR2004]</th>\n",
       "      <td>4.016313</td>\n",
       "      <td>56.662286</td>\n",
       "    </tr>\n",
       "    <tr>\n",
       "      <th>2005 [YR2005]</th>\n",
       "      <td>4.090035</td>\n",
       "      <td>56.538848</td>\n",
       "    </tr>\n",
       "    <tr>\n",
       "      <th>2006 [YR2006]</th>\n",
       "      <td>4.041627</td>\n",
       "      <td>55.467336</td>\n",
       "    </tr>\n",
       "    <tr>\n",
       "      <th>2007 [YR2007]</th>\n",
       "      <td>4.079655</td>\n",
       "      <td>55.659926</td>\n",
       "    </tr>\n",
       "    <tr>\n",
       "      <th>2008 [YR2008]</th>\n",
       "      <td>4.463827</td>\n",
       "      <td>63.815130</td>\n",
       "    </tr>\n",
       "  </tbody>\n",
       "</table>\n",
       "</div>"
      ],
      "text/plain": [
       "               Federal Military Expenditure  Debt of Federal Government\n",
       "1989 [YR1989]                      5.871206                   39.128400\n",
       "1990 [YR1990]                      5.605175                   40.933944\n",
       "1991 [YR1991]                      4.883429                   44.061597\n",
       "1992 [YR1992]                      4.970467                   46.050144\n",
       "1993 [YR1993]                      4.604350                   48.246140\n",
       "1994 [YR1994]                      4.215265                   47.353482\n",
       "1995 [YR1995]                      3.860246                   47.209535\n",
       "1996 [YR1996]                      3.554982                   46.741769\n",
       "1997 [YR1997]                      3.405562                   44.117470\n",
       "1998 [YR1998]                      3.201558                   41.129149\n",
       "1999 [YR1999]                      3.085677                   37.727278\n",
       "2000 [YR2000]                      3.112242                   33.267655\n",
       "2001 [YR2001]                      3.123810                   52.443676\n",
       "2002 [YR2002]                      3.447618                   53.862514\n",
       "2003 [YR2003]                      3.827161                   56.250405\n",
       "2004 [YR2004]                      4.016313                   56.662286\n",
       "2005 [YR2005]                      4.090035                   56.538848\n",
       "2006 [YR2006]                      4.041627                   55.467336\n",
       "2007 [YR2007]                      4.079655                   55.659926\n",
       "2008 [YR2008]                      4.463827                   63.815130"
      ]
     },
     "execution_count": 47,
     "metadata": {},
     "output_type": "execute_result"
    }
   ],
   "source": [
    "#First 20 rows of data_us after dropping rows with missing values\n",
    "data_us.head(20)"
   ]
  },
  {
   "cell_type": "code",
   "execution_count": 49,
   "metadata": {},
   "outputs": [
    {
     "data": {
      "text/plain": [
       "<AxesSubplot:title={'center':'Debt of Federal Government during 1988-2010 (% of GDP)'}>"
      ]
     },
     "execution_count": 49,
     "metadata": {},
     "output_type": "execute_result"
    },
    {
     "data": {
      "image/png": "[encoded data removed]",
      "text/plain": [
       "<Figure size 396x396 with 2 Axes>"
      ]
     },
     "metadata": {
      "needs_background": "light"
     },
     "output_type": "display_data"
    }
   ],
   "source": [
    "# Two subplots, the axes array is 1-d\n",
    "f, axarr = plt.subplots(2, sharex=True)\n",
    "f.set_size_inches(5.5, 5.5)\n",
    "axarr[0].set_title('Federal Military Expenditure during 1988-2010 (% of GDP)')\n",
    "data_us['Federal Military Expenditure'].plot(linestyle='-', marker='*', color='b', ax=axarr[0])\n",
    "axarr[1].set_title('Debt of Federal Government during 1988-2010 (% of GDP)')\n",
    "data_us['Debt of Federal Government'].plot(linestyle='-', marker='*', color='r', ax=axarr[1])"
   ]
  },
  {
   "cell_type": "code",
   "execution_count": 57,
   "metadata": {},
   "outputs": [
    {
     "data": {
      "text/plain": [
       "Series Name      Military expenditure (% of GDP)\n",
       "Series Code                    MS.MIL.XPND.GD.ZS\n",
       "Country Name                               China\n",
       "Country Code                                 CHN\n",
       "1989 [YR1989]                           2.447101\n",
       "1990 [YR1990]                           2.454016\n",
       "1991 [YR1991]                           2.311243\n",
       "1992 [YR1992]                           2.449542\n",
       "1993 [YR1993]                           1.928067\n",
       "1994 [YR1994]                            1.69348\n",
       "1995 [YR1995]                           1.686234\n",
       "1996 [YR1996]                           1.652727\n",
       "1997 [YR1997]                           1.632651\n",
       "1998 [YR1998]                           1.655081\n",
       "1999 [YR1999]                           1.871466\n",
       "2000 [YR2000]                           1.830344\n",
       "2001 [YR2001]                           1.976186\n",
       "2002 [YR2002]                           2.049686\n",
       "2003 [YR2003]                           1.983406\n",
       "2004 [YR2004]                           1.927765\n",
       "2005 [YR2005]                           1.853342\n",
       "2006 [YR2006]                           1.854649\n",
       "2007 [YR2007]                           1.739813\n",
       "2008 [YR2008]                           1.712334\n",
       "2009 [YR2009]                           1.886133\n",
       "2010 [YR2010]                           1.739475\n",
       "2011 [YR2011]                           1.665576\n",
       "2012 [YR2012]                           1.693368\n",
       "2013 [YR2013]                           1.702855\n",
       "2014 [YR2014]                           1.728689\n",
       "2015 [YR2015]                           1.750718\n",
       "2016 [YR2016]                           1.770696\n",
       "dtype: object"
      ]
     },
     "metadata": {},
     "output_type": "display_data"
    }
   ],
   "source": [
    "chn = data.loc[(data['Series Name']=='Military expenditure (% of GDP)')&\\\n",
    "               (data['Country Code']=='CHN')\n",
    "             ]\n",
    "chn = pd.Series(data=chn.values[0], index=chn.columns)\n",
    "chn.replace('..', np.nan, inplace = True)\n",
    "chn.dropna(inplace = True)\n",
    "\n",
    "usa = data.loc[(data['Series Name']=='Military expenditure (% of GDP)')&\\\n",
    "               (data['Country Code']=='USA')\n",
    "             ]\n",
    "usa = pd.Series(data=usa.values[0], index=usa.columns)\n",
    "usa.replace('..', np.nan, inplace = True)\n",
    "usa.dropna(inplace = True)\n",
    "\n",
    "ind = data.loc[(data['Series Name']=='Military expenditure (% of GDP)')&\\\n",
    "               (data['Country Code']=='IND')\n",
    "             ]\n",
    "ind = pd.Series(data=ind.values[0], index=ind.columns)\n",
    "ind.replace('..', np.nan, inplace = True)\n",
    "ind.dropna(inplace = True)\n",
    "\n",
    "gbr = data.loc[(data['Series Name']=='Military expenditure (% of GDP)')&\\\n",
    "               (data['Country Code']=='GBR')\n",
    "             ]\n",
    "gbr = pd.Series(data=gbr.values[0], index=gbr.columns)\n",
    "gbr.replace('..', np.nan, inplace = True)\n",
    "gbr.dropna(inplace = True)\n",
    "display(chn)"
   ]
  },
  {
   "cell_type": "code",
   "execution_count": 61,
   "metadata": {},
   "outputs": [
    {
     "data": {
      "text/plain": [
       "([<matplotlib.axis.XTick at 0x1c51eb5d640>,\n",
       "  <matplotlib.axis.XTick at 0x1c51eb5d610>,\n",
       "  <matplotlib.axis.XTick at 0x1c51eb5b910>],\n",
       " [Text(0, 0, ''), Text(0, 0, ''), Text(0, 0, '')])"
      ]
     },
     "execution_count": 61,
     "metadata": {},
     "output_type": "execute_result"
    },
    {
     "data": {
      "image/png": "[encoded data removed]",
      "text/plain": [
       "<Figure size 396x396 with 1 Axes>"
      ]
     },
     "metadata": {
      "needs_background": "light"
     },
     "output_type": "display_data"
    }
   ],
   "source": [
    "plt.figure(figsize=(5.5, 5.5))\n",
    "plt.plot(usa.iloc[32:],linestyle='-', marker='*', color='b')\n",
    "plt.plot(chn.iloc[4:],linestyle='-', marker='*', color='r')\n",
    "plt.plot(ind.iloc[32:],linestyle='-', marker='*', color='g')\n",
    "plt.plot(gbr.iloc[32:],linestyle='-', marker='*', color='y')\n",
    "plt.legend(['USA','CHINA','UK','INDIA'], loc=1)\n",
    "plt.title('Miltitary expenditure of 5 countries over 10 years')\n",
    "plt.ylabel('Military expenditure (% of GDP)')\n",
    "plt.xlabel('Years')\n",
    "plt.xticks([0,14,28])"
   ]
  },
  {
   "cell_type": "code",
   "execution_count": null,
   "metadata": {},
   "outputs": [],
   "source": []
  }
 ],
 "metadata": {
  "anaconda-cloud": {},
  "kernelspec": {
   "display_name": "Python 3",
   "language": "python",
   "name": "python3"
  },
  "language_info": {
   "codemirror_mode": {
    "name": "ipython",
    "version": 3
   },
   "file_extension": ".py",
   "mimetype": "text/x-python",
   "name": "python",
   "nbconvert_exporter": "python",
   "pygments_lexer": "ipython3",
   "version": "3.8.8"
  }
 },
 "nbformat": 4,
 "nbformat_minor": 1
}
