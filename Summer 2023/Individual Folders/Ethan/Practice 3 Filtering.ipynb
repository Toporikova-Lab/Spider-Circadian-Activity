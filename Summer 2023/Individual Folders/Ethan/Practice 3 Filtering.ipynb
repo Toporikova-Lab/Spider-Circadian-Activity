{
 "cells": [
  {
   "cell_type": "markdown",
   "metadata": {},
   "source": [
    "# Distribution of transcript counts"
   ]
  },
  {
   "cell_type": "markdown",
   "metadata": {},
   "source": [
    "#### Download install and import all necessary libraries"
   ]
  },
  {
   "cell_type": "code",
   "execution_count": 2,
   "metadata": {},
   "outputs": [],
   "source": [
    "import numpy as np\n",
    "import pandas as pd\n",
    "import matplotlib.pyplot as plt\n",
    "import seaborn as sns"
   ]
  },
  {
   "cell_type": "markdown",
   "metadata": {},
   "source": [
    "### Download data file with transcripts"
   ]
  },
  {
   "cell_type": "code",
   "execution_count": 3,
   "metadata": {},
   "outputs": [
    {
     "data": {
      "text/html": [
       "<div>\n",
       "<style scoped>\n",
       "    .dataframe tbody tr th:only-of-type {\n",
       "        vertical-align: middle;\n",
       "    }\n",
       "\n",
       "    .dataframe tbody tr th {\n",
       "        vertical-align: top;\n",
       "    }\n",
       "\n",
       "    .dataframe thead th {\n",
       "        text-align: right;\n",
       "    }\n",
       "</style>\n",
       "<table border=\"1\" class=\"dataframe\">\n",
       "  <thead>\n",
       "    <tr style=\"text-align: right;\">\n",
       "      <th></th>\n",
       "      <th>rsem_outdir_NAi13t3n2_S1</th>\n",
       "      <th>rsem_outdir_NAi13t3n14_S2</th>\n",
       "      <th>rsem_outdir_NAi13t3n26_S3</th>\n",
       "      <th>rsem_outdir_NAi13t3n27_S4</th>\n",
       "      <th>rsem_outdir_NAi13t3n31_S5</th>\n",
       "      <th>rsem_outdir_NAi6t3n1_S6</th>\n",
       "      <th>rsem_outdir_NAi6t3n10_S7</th>\n",
       "      <th>rsem_outdir_NAi6t3n16_S8</th>\n",
       "      <th>rsem_outdir_NAi6t3n24_S9</th>\n",
       "      <th>rsem_outdir_NAi6t3n29_S10</th>\n",
       "      <th>rsem_outdir_NAi13t12n7_S11</th>\n",
       "      <th>rsem_outdir_NAi13t12n10_S12</th>\n",
       "      <th>rsem_outdir_NAi13t12n11_S13</th>\n",
       "      <th>rsem_outdir_NAi13t12n16_S14</th>\n",
       "      <th>rsem_outdir_NAi13t12n19_S15</th>\n",
       "      <th>rsem_outdir_NAi6t12n3_S16</th>\n",
       "      <th>rsem_outdir_NAi6t12n4_S17</th>\n",
       "      <th>rsem_outdir_NAi6t12n18_S18</th>\n",
       "      <th>rsem_outdir_NAi6t12n23_S19</th>\n",
       "      <th>rsem_outdir_NAi6t12n27_S20</th>\n",
       "    </tr>\n",
       "  </thead>\n",
       "  <tbody>\n",
       "    <tr>\n",
       "      <th>TRINITY_DN0_c0_g1</th>\n",
       "      <td>756.624</td>\n",
       "      <td>906.464</td>\n",
       "      <td>307.957</td>\n",
       "      <td>739.130</td>\n",
       "      <td>206.390</td>\n",
       "      <td>154.113</td>\n",
       "      <td>220.125</td>\n",
       "      <td>554.147</td>\n",
       "      <td>317.122</td>\n",
       "      <td>183.428</td>\n",
       "      <td>125.687</td>\n",
       "      <td>403.675</td>\n",
       "      <td>1387.289</td>\n",
       "      <td>470.699</td>\n",
       "      <td>401.953</td>\n",
       "      <td>534.054</td>\n",
       "      <td>420.981</td>\n",
       "      <td>509.926</td>\n",
       "      <td>603.937</td>\n",
       "      <td>374.140</td>\n",
       "    </tr>\n",
       "    <tr>\n",
       "      <th>TRINITY_DN0_c13_g1</th>\n",
       "      <td>0.000</td>\n",
       "      <td>0.000</td>\n",
       "      <td>0.000</td>\n",
       "      <td>0.000</td>\n",
       "      <td>0.000</td>\n",
       "      <td>0.000</td>\n",
       "      <td>0.000</td>\n",
       "      <td>0.000</td>\n",
       "      <td>0.000</td>\n",
       "      <td>0.000</td>\n",
       "      <td>0.000</td>\n",
       "      <td>0.000</td>\n",
       "      <td>0.000</td>\n",
       "      <td>0.000</td>\n",
       "      <td>0.000</td>\n",
       "      <td>0.000</td>\n",
       "      <td>0.000</td>\n",
       "      <td>0.000</td>\n",
       "      <td>0.000</td>\n",
       "      <td>0.000</td>\n",
       "    </tr>\n",
       "    <tr>\n",
       "      <th>TRINITY_DN0_c1_g1</th>\n",
       "      <td>357.557</td>\n",
       "      <td>352.441</td>\n",
       "      <td>211.422</td>\n",
       "      <td>268.329</td>\n",
       "      <td>205.709</td>\n",
       "      <td>247.210</td>\n",
       "      <td>346.917</td>\n",
       "      <td>252.998</td>\n",
       "      <td>325.901</td>\n",
       "      <td>216.055</td>\n",
       "      <td>157.471</td>\n",
       "      <td>224.673</td>\n",
       "      <td>429.794</td>\n",
       "      <td>145.129</td>\n",
       "      <td>164.364</td>\n",
       "      <td>240.231</td>\n",
       "      <td>204.186</td>\n",
       "      <td>263.276</td>\n",
       "      <td>249.055</td>\n",
       "      <td>293.112</td>\n",
       "    </tr>\n",
       "    <tr>\n",
       "      <th>TRINITY_DN0_c1_g2</th>\n",
       "      <td>1.100</td>\n",
       "      <td>1.022</td>\n",
       "      <td>1.040</td>\n",
       "      <td>1.243</td>\n",
       "      <td>1.052</td>\n",
       "      <td>1.458</td>\n",
       "      <td>0.378</td>\n",
       "      <td>0.503</td>\n",
       "      <td>1.320</td>\n",
       "      <td>1.470</td>\n",
       "      <td>0.410</td>\n",
       "      <td>1.034</td>\n",
       "      <td>1.657</td>\n",
       "      <td>0.949</td>\n",
       "      <td>1.143</td>\n",
       "      <td>0.814</td>\n",
       "      <td>0.866</td>\n",
       "      <td>0.716</td>\n",
       "      <td>1.038</td>\n",
       "      <td>1.163</td>\n",
       "    </tr>\n",
       "    <tr>\n",
       "      <th>TRINITY_DN0_c2_g1</th>\n",
       "      <td>0.000</td>\n",
       "      <td>0.000</td>\n",
       "      <td>0.000</td>\n",
       "      <td>0.000</td>\n",
       "      <td>0.000</td>\n",
       "      <td>0.000</td>\n",
       "      <td>0.000</td>\n",
       "      <td>0.000</td>\n",
       "      <td>0.000</td>\n",
       "      <td>0.000</td>\n",
       "      <td>0.000</td>\n",
       "      <td>0.000</td>\n",
       "      <td>0.000</td>\n",
       "      <td>0.000</td>\n",
       "      <td>0.000</td>\n",
       "      <td>0.000</td>\n",
       "      <td>0.000</td>\n",
       "      <td>0.000</td>\n",
       "      <td>0.000</td>\n",
       "      <td>0.000</td>\n",
       "    </tr>\n",
       "    <tr>\n",
       "      <th>TRINITY_DN0_c40_g1</th>\n",
       "      <td>0.000</td>\n",
       "      <td>0.000</td>\n",
       "      <td>0.000</td>\n",
       "      <td>0.000</td>\n",
       "      <td>0.000</td>\n",
       "      <td>0.000</td>\n",
       "      <td>0.000</td>\n",
       "      <td>0.000</td>\n",
       "      <td>0.000</td>\n",
       "      <td>0.000</td>\n",
       "      <td>0.000</td>\n",
       "      <td>0.000</td>\n",
       "      <td>0.000</td>\n",
       "      <td>0.000</td>\n",
       "      <td>0.000</td>\n",
       "      <td>0.000</td>\n",
       "      <td>0.000</td>\n",
       "      <td>0.000</td>\n",
       "      <td>0.000</td>\n",
       "      <td>0.000</td>\n",
       "    </tr>\n",
       "    <tr>\n",
       "      <th>TRINITY_DN0_c41_g1</th>\n",
       "      <td>0.000</td>\n",
       "      <td>0.000</td>\n",
       "      <td>0.000</td>\n",
       "      <td>0.000</td>\n",
       "      <td>0.000</td>\n",
       "      <td>0.000</td>\n",
       "      <td>0.000</td>\n",
       "      <td>0.000</td>\n",
       "      <td>0.000</td>\n",
       "      <td>0.000</td>\n",
       "      <td>0.000</td>\n",
       "      <td>0.000</td>\n",
       "      <td>0.000</td>\n",
       "      <td>0.000</td>\n",
       "      <td>0.000</td>\n",
       "      <td>0.000</td>\n",
       "      <td>0.000</td>\n",
       "      <td>0.000</td>\n",
       "      <td>0.000</td>\n",
       "      <td>0.000</td>\n",
       "    </tr>\n",
       "    <tr>\n",
       "      <th>TRINITY_DN0_c43_g1</th>\n",
       "      <td>0.000</td>\n",
       "      <td>0.000</td>\n",
       "      <td>0.000</td>\n",
       "      <td>0.000</td>\n",
       "      <td>0.000</td>\n",
       "      <td>0.559</td>\n",
       "      <td>0.000</td>\n",
       "      <td>0.000</td>\n",
       "      <td>0.000</td>\n",
       "      <td>0.000</td>\n",
       "      <td>0.000</td>\n",
       "      <td>0.000</td>\n",
       "      <td>0.000</td>\n",
       "      <td>0.000</td>\n",
       "      <td>0.000</td>\n",
       "      <td>0.000</td>\n",
       "      <td>0.000</td>\n",
       "      <td>0.000</td>\n",
       "      <td>0.000</td>\n",
       "      <td>0.000</td>\n",
       "    </tr>\n",
       "    <tr>\n",
       "      <th>TRINITY_DN0_c44_g1</th>\n",
       "      <td>0.000</td>\n",
       "      <td>0.000</td>\n",
       "      <td>0.000</td>\n",
       "      <td>0.000</td>\n",
       "      <td>0.000</td>\n",
       "      <td>0.000</td>\n",
       "      <td>0.000</td>\n",
       "      <td>0.000</td>\n",
       "      <td>0.000</td>\n",
       "      <td>0.000</td>\n",
       "      <td>0.000</td>\n",
       "      <td>0.000</td>\n",
       "      <td>0.000</td>\n",
       "      <td>0.000</td>\n",
       "      <td>0.000</td>\n",
       "      <td>0.000</td>\n",
       "      <td>0.000</td>\n",
       "      <td>0.000</td>\n",
       "      <td>0.000</td>\n",
       "      <td>0.000</td>\n",
       "    </tr>\n",
       "    <tr>\n",
       "      <th>TRINITY_DN100001_c0_g1</th>\n",
       "      <td>0.000</td>\n",
       "      <td>0.000</td>\n",
       "      <td>0.000</td>\n",
       "      <td>0.000</td>\n",
       "      <td>0.000</td>\n",
       "      <td>0.000</td>\n",
       "      <td>0.000</td>\n",
       "      <td>0.000</td>\n",
       "      <td>0.000</td>\n",
       "      <td>0.420</td>\n",
       "      <td>0.000</td>\n",
       "      <td>0.000</td>\n",
       "      <td>0.000</td>\n",
       "      <td>0.949</td>\n",
       "      <td>0.000</td>\n",
       "      <td>0.814</td>\n",
       "      <td>0.000</td>\n",
       "      <td>0.358</td>\n",
       "      <td>0.403</td>\n",
       "      <td>0.000</td>\n",
       "    </tr>\n",
       "  </tbody>\n",
       "</table>\n",
       "</div>"
      ],
      "text/plain": [
       "                        rsem_outdir_NAi13t3n2_S1  rsem_outdir_NAi13t3n14_S2  \\\n",
       "TRINITY_DN0_c0_g1                        756.624                    906.464   \n",
       "TRINITY_DN0_c13_g1                         0.000                      0.000   \n",
       "TRINITY_DN0_c1_g1                        357.557                    352.441   \n",
       "TRINITY_DN0_c1_g2                          1.100                      1.022   \n",
       "TRINITY_DN0_c2_g1                          0.000                      0.000   \n",
       "TRINITY_DN0_c40_g1                         0.000                      0.000   \n",
       "TRINITY_DN0_c41_g1                         0.000                      0.000   \n",
       "TRINITY_DN0_c43_g1                         0.000                      0.000   \n",
       "TRINITY_DN0_c44_g1                         0.000                      0.000   \n",
       "TRINITY_DN100001_c0_g1                     0.000                      0.000   \n",
       "\n",
       "                        rsem_outdir_NAi13t3n26_S3  rsem_outdir_NAi13t3n27_S4  \\\n",
       "TRINITY_DN0_c0_g1                         307.957                    739.130   \n",
       "TRINITY_DN0_c13_g1                          0.000                      0.000   \n",
       "TRINITY_DN0_c1_g1                         211.422                    268.329   \n",
       "TRINITY_DN0_c1_g2                           1.040                      1.243   \n",
       "TRINITY_DN0_c2_g1                           0.000                      0.000   \n",
       "TRINITY_DN0_c40_g1                          0.000                      0.000   \n",
       "TRINITY_DN0_c41_g1                          0.000                      0.000   \n",
       "TRINITY_DN0_c43_g1                          0.000                      0.000   \n",
       "TRINITY_DN0_c44_g1                          0.000                      0.000   \n",
       "TRINITY_DN100001_c0_g1                      0.000                      0.000   \n",
       "\n",
       "                        rsem_outdir_NAi13t3n31_S5  rsem_outdir_NAi6t3n1_S6  \\\n",
       "TRINITY_DN0_c0_g1                         206.390                  154.113   \n",
       "TRINITY_DN0_c13_g1                          0.000                    0.000   \n",
       "TRINITY_DN0_c1_g1                         205.709                  247.210   \n",
       "TRINITY_DN0_c1_g2                           1.052                    1.458   \n",
       "TRINITY_DN0_c2_g1                           0.000                    0.000   \n",
       "TRINITY_DN0_c40_g1                          0.000                    0.000   \n",
       "TRINITY_DN0_c41_g1                          0.000                    0.000   \n",
       "TRINITY_DN0_c43_g1                          0.000                    0.559   \n",
       "TRINITY_DN0_c44_g1                          0.000                    0.000   \n",
       "TRINITY_DN100001_c0_g1                      0.000                    0.000   \n",
       "\n",
       "                        rsem_outdir_NAi6t3n10_S7  rsem_outdir_NAi6t3n16_S8  \\\n",
       "TRINITY_DN0_c0_g1                        220.125                   554.147   \n",
       "TRINITY_DN0_c13_g1                         0.000                     0.000   \n",
       "TRINITY_DN0_c1_g1                        346.917                   252.998   \n",
       "TRINITY_DN0_c1_g2                          0.378                     0.503   \n",
       "TRINITY_DN0_c2_g1                          0.000                     0.000   \n",
       "TRINITY_DN0_c40_g1                         0.000                     0.000   \n",
       "TRINITY_DN0_c41_g1                         0.000                     0.000   \n",
       "TRINITY_DN0_c43_g1                         0.000                     0.000   \n",
       "TRINITY_DN0_c44_g1                         0.000                     0.000   \n",
       "TRINITY_DN100001_c0_g1                     0.000                     0.000   \n",
       "\n",
       "                        rsem_outdir_NAi6t3n24_S9  rsem_outdir_NAi6t3n29_S10  \\\n",
       "TRINITY_DN0_c0_g1                        317.122                    183.428   \n",
       "TRINITY_DN0_c13_g1                         0.000                      0.000   \n",
       "TRINITY_DN0_c1_g1                        325.901                    216.055   \n",
       "TRINITY_DN0_c1_g2                          1.320                      1.470   \n",
       "TRINITY_DN0_c2_g1                          0.000                      0.000   \n",
       "TRINITY_DN0_c40_g1                         0.000                      0.000   \n",
       "TRINITY_DN0_c41_g1                         0.000                      0.000   \n",
       "TRINITY_DN0_c43_g1                         0.000                      0.000   \n",
       "TRINITY_DN0_c44_g1                         0.000                      0.000   \n",
       "TRINITY_DN100001_c0_g1                     0.000                      0.420   \n",
       "\n",
       "                        rsem_outdir_NAi13t12n7_S11  \\\n",
       "TRINITY_DN0_c0_g1                          125.687   \n",
       "TRINITY_DN0_c13_g1                           0.000   \n",
       "TRINITY_DN0_c1_g1                          157.471   \n",
       "TRINITY_DN0_c1_g2                            0.410   \n",
       "TRINITY_DN0_c2_g1                            0.000   \n",
       "TRINITY_DN0_c40_g1                           0.000   \n",
       "TRINITY_DN0_c41_g1                           0.000   \n",
       "TRINITY_DN0_c43_g1                           0.000   \n",
       "TRINITY_DN0_c44_g1                           0.000   \n",
       "TRINITY_DN100001_c0_g1                       0.000   \n",
       "\n",
       "                        rsem_outdir_NAi13t12n10_S12  \\\n",
       "TRINITY_DN0_c0_g1                           403.675   \n",
       "TRINITY_DN0_c13_g1                            0.000   \n",
       "TRINITY_DN0_c1_g1                           224.673   \n",
       "TRINITY_DN0_c1_g2                             1.034   \n",
       "TRINITY_DN0_c2_g1                             0.000   \n",
       "TRINITY_DN0_c40_g1                            0.000   \n",
       "TRINITY_DN0_c41_g1                            0.000   \n",
       "TRINITY_DN0_c43_g1                            0.000   \n",
       "TRINITY_DN0_c44_g1                            0.000   \n",
       "TRINITY_DN100001_c0_g1                        0.000   \n",
       "\n",
       "                        rsem_outdir_NAi13t12n11_S13  \\\n",
       "TRINITY_DN0_c0_g1                          1387.289   \n",
       "TRINITY_DN0_c13_g1                            0.000   \n",
       "TRINITY_DN0_c1_g1                           429.794   \n",
       "TRINITY_DN0_c1_g2                             1.657   \n",
       "TRINITY_DN0_c2_g1                             0.000   \n",
       "TRINITY_DN0_c40_g1                            0.000   \n",
       "TRINITY_DN0_c41_g1                            0.000   \n",
       "TRINITY_DN0_c43_g1                            0.000   \n",
       "TRINITY_DN0_c44_g1                            0.000   \n",
       "TRINITY_DN100001_c0_g1                        0.000   \n",
       "\n",
       "                        rsem_outdir_NAi13t12n16_S14  \\\n",
       "TRINITY_DN0_c0_g1                           470.699   \n",
       "TRINITY_DN0_c13_g1                            0.000   \n",
       "TRINITY_DN0_c1_g1                           145.129   \n",
       "TRINITY_DN0_c1_g2                             0.949   \n",
       "TRINITY_DN0_c2_g1                             0.000   \n",
       "TRINITY_DN0_c40_g1                            0.000   \n",
       "TRINITY_DN0_c41_g1                            0.000   \n",
       "TRINITY_DN0_c43_g1                            0.000   \n",
       "TRINITY_DN0_c44_g1                            0.000   \n",
       "TRINITY_DN100001_c0_g1                        0.949   \n",
       "\n",
       "                        rsem_outdir_NAi13t12n19_S15  \\\n",
       "TRINITY_DN0_c0_g1                           401.953   \n",
       "TRINITY_DN0_c13_g1                            0.000   \n",
       "TRINITY_DN0_c1_g1                           164.364   \n",
       "TRINITY_DN0_c1_g2                             1.143   \n",
       "TRINITY_DN0_c2_g1                             0.000   \n",
       "TRINITY_DN0_c40_g1                            0.000   \n",
       "TRINITY_DN0_c41_g1                            0.000   \n",
       "TRINITY_DN0_c43_g1                            0.000   \n",
       "TRINITY_DN0_c44_g1                            0.000   \n",
       "TRINITY_DN100001_c0_g1                        0.000   \n",
       "\n",
       "                        rsem_outdir_NAi6t12n3_S16  rsem_outdir_NAi6t12n4_S17  \\\n",
       "TRINITY_DN0_c0_g1                         534.054                    420.981   \n",
       "TRINITY_DN0_c13_g1                          0.000                      0.000   \n",
       "TRINITY_DN0_c1_g1                         240.231                    204.186   \n",
       "TRINITY_DN0_c1_g2                           0.814                      0.866   \n",
       "TRINITY_DN0_c2_g1                           0.000                      0.000   \n",
       "TRINITY_DN0_c40_g1                          0.000                      0.000   \n",
       "TRINITY_DN0_c41_g1                          0.000                      0.000   \n",
       "TRINITY_DN0_c43_g1                          0.000                      0.000   \n",
       "TRINITY_DN0_c44_g1                          0.000                      0.000   \n",
       "TRINITY_DN100001_c0_g1                      0.814                      0.000   \n",
       "\n",
       "                        rsem_outdir_NAi6t12n18_S18  \\\n",
       "TRINITY_DN0_c0_g1                          509.926   \n",
       "TRINITY_DN0_c13_g1                           0.000   \n",
       "TRINITY_DN0_c1_g1                          263.276   \n",
       "TRINITY_DN0_c1_g2                            0.716   \n",
       "TRINITY_DN0_c2_g1                            0.000   \n",
       "TRINITY_DN0_c40_g1                           0.000   \n",
       "TRINITY_DN0_c41_g1                           0.000   \n",
       "TRINITY_DN0_c43_g1                           0.000   \n",
       "TRINITY_DN0_c44_g1                           0.000   \n",
       "TRINITY_DN100001_c0_g1                       0.358   \n",
       "\n",
       "                        rsem_outdir_NAi6t12n23_S19  rsem_outdir_NAi6t12n27_S20  \n",
       "TRINITY_DN0_c0_g1                          603.937                     374.140  \n",
       "TRINITY_DN0_c13_g1                           0.000                       0.000  \n",
       "TRINITY_DN0_c1_g1                          249.055                     293.112  \n",
       "TRINITY_DN0_c1_g2                            1.038                       1.163  \n",
       "TRINITY_DN0_c2_g1                            0.000                       0.000  \n",
       "TRINITY_DN0_c40_g1                           0.000                       0.000  \n",
       "TRINITY_DN0_c41_g1                           0.000                       0.000  \n",
       "TRINITY_DN0_c43_g1                           0.000                       0.000  \n",
       "TRINITY_DN0_c44_g1                           0.000                       0.000  \n",
       "TRINITY_DN100001_c0_g1                       0.403                       0.000  "
      ]
     },
     "execution_count": 3,
     "metadata": {},
     "output_type": "execute_result"
    }
   ],
   "source": [
    "df = pd.read_csv('RSEM.gene.TMM.EXPR.matrix.csv', index_col=0)\n",
    "df_small = df[:10]\n",
    "df_small"
   ]
  },
  {
   "cell_type": "markdown",
   "metadata": {},
   "source": [
    "### Data organization"
   ]
  },
  {
   "cell_type": "markdown",
   "metadata": {},
   "source": [
    " - **columns**\n",
    "     - Experimental subjects\n",
    "\n",
    " - **rows**\n",
    "     - codes for transcripts\n",
    "\n",
    " - **numerical value**\n",
    "     - expression level (count per milion base pairs)\n"
   ]
  },
  {
   "cell_type": "markdown",
   "metadata": {},
   "source": [
    "## Experiment 1:Distribution transcripts coutns of individual subject"
   ]
  },
  {
   "cell_type": "markdown",
   "metadata": {},
   "source": [
    "Plot histogram for subject S1 in a small dataset (**df_small**). Since this dataframe is very small, you can visually confirm if your histogram is correct. Experiment with number of bins and binwidth"
   ]
  },
  {
   "cell_type": "code",
   "execution_count": 4,
   "metadata": {},
   "outputs": [
    {
     "data": {
      "text/plain": [
       "array([[<AxesSubplot:title={'center':'rsem_outdir_NAi13t3n2_S1'}>]],\n",
       "      dtype=object)"
      ]
     },
     "execution_count": 4,
     "metadata": {},
     "output_type": "execute_result"
    },
    {
     "data": {
      "image/png": "[encoded data removed]",
      "text/plain": [
       "<Figure size 432x288 with 1 Axes>"
      ]
     },
     "metadata": {
      "needs_background": "light"
     },
     "output_type": "display_data"
    }
   ],
   "source": [
    "df_small.hist(column = \"rsem_outdir_NAi13t3n2_S1\")"
   ]
  },
  {
   "cell_type": "markdown",
   "metadata": {},
   "source": [
    "Now make histogram of a small subset for two subjects(S1 and S2). S1 should be plotted in red and S2 should be plotted in blue"
   ]
  },
  {
   "cell_type": "code",
   "execution_count": 9,
   "metadata": {},
   "outputs": [
    {
     "data": {
      "text/plain": [
       "array([[<AxesSubplot:title={'center':'rsem_outdir_NAi13t3n14_S2'}>]],\n",
       "      dtype=object)"
      ]
     },
     "execution_count": 9,
     "metadata": {},
     "output_type": "execute_result"
    },
    {
     "data": {
      "image/png": "[encoded data removed]",
      "text/plain": [
       "<Figure size 432x288 with 1 Axes>"
      ]
     },
     "metadata": {
      "needs_background": "light"
     },
     "output_type": "display_data"
    },
    {
     "data": {
      "image/png": "[encoded data removed]",
      "text/plain": [
       "<Figure size 432x288 with 1 Axes>"
      ]
     },
     "metadata": {
      "needs_background": "light"
     },
     "output_type": "display_data"
    }
   ],
   "source": [
    "df_small.hist(column = \"rsem_outdir_NAi13t3n2_S1\", color = \"red\")\n",
    "df_small.hist(column = \"rsem_outdir_NAi13t3n14_S2\")"
   ]
  },
  {
   "cell_type": "markdown",
   "metadata": {},
   "source": [
    "Finally, let’s make a histogram of subjects S1 and S2 of a full dataframe **df**. Again, S1 should be plotted in red and S2 should be plotted in blue."
   ]
  },
  {
   "cell_type": "code",
   "execution_count": 10,
   "metadata": {},
   "outputs": [
    {
     "data": {
      "text/plain": [
       "array([[<AxesSubplot:title={'center':'rsem_outdir_NAi13t3n14_S2'}>]],\n",
       "      dtype=object)"
      ]
     },
     "execution_count": 10,
     "metadata": {},
     "output_type": "execute_result"
    },
    {
     "data": {
      "image/png": "[encoded data removed]",
      "text/plain": [
       "<Figure size 432x288 with 1 Axes>"
      ]
     },
     "metadata": {
      "needs_background": "light"
     },
     "output_type": "display_data"
    },
    {
     "data": {
      "image/png": "[encoded data removed]",
      "text/plain": [
       "<Figure size 432x288 with 1 Axes>"
      ]
     },
     "metadata": {
      "needs_background": "light"
     },
     "output_type": "display_data"
    }
   ],
   "source": [
    "df.hist(column = \"rsem_outdir_NAi13t3n2_S1\", color = \"red\")\n",
    "df.hist(column = \"rsem_outdir_NAi13t3n14_S2\")"
   ]
  },
  {
   "cell_type": "markdown",
   "metadata": {},
   "source": [
    "## Experiment 2: Distribution of a whole group"
   ]
  },
  {
   "cell_type": "markdown",
   "metadata": {},
   "source": [
    "Although, it is important to inspect counts of a single subject, we are interested if our experimental condition affect significant number of subject in a group. It is, therefore, essential to plot a distribution of the expresion level of a whole group.\n",
    "Make a new dataframe, called **zt3_pulse_all_counts_small** which contains counts for all experimental subjects in **df_small** subset which was collected at time **ZT3** and was exposed to a **light pulse**. Plot histogram of this group."
   ]
  },
  {
   "cell_type": "code",
   "execution_count": null,
   "metadata": {},
   "outputs": [],
   "source": []
  },
  {
   "cell_type": "markdown",
   "metadata": {},
   "source": [
    "Make a new dataframe, called **zt3_pulse_all_counts** which contains counts for all experimental subjects in **df** data frame who was collected at time **ZT3** and was exposed to a **light pulse**. Plot counts histogram of this group."
   ]
  },
  {
   "cell_type": "code",
   "execution_count": null,
   "metadata": {},
   "outputs": [],
   "source": []
  },
  {
   "cell_type": "markdown",
   "metadata": {},
   "source": [
    "Make another histogram for group collected at the same time (**zt3**), but did not have a pulse of light. Is there a difference in histogram shape between the groups?"
   ]
  },
  {
   "cell_type": "code",
   "execution_count": null,
   "metadata": {},
   "outputs": [],
   "source": []
  },
  {
   "cell_type": "markdown",
   "metadata": {},
   "source": [
    "## Experiment 3: Distribution of the large data set"
   ]
  },
  {
   "cell_type": "markdown",
   "metadata": {},
   "source": [
    "Make a new dataframe, called **counts_all** which contains all counts(all subjects, all groups). Make histogram. What kind of distribution, do you think, would describe the shape of the distribution?"
   ]
  },
  {
   "cell_type": "code",
   "execution_count": null,
   "metadata": {},
   "outputs": [],
   "source": []
  },
  {
   "cell_type": "markdown",
   "metadata": {},
   "source": [
    "## Experiment 4: Removing rows of zeroes"
   ]
  },
  {
   "cell_type": "markdown",
   "metadata": {},
   "source": [
    "Remove all transcripts which is zero for all subject in df_small dataframe. Visually confirm that you remove the correct rows."
   ]
  },
  {
   "cell_type": "code",
   "execution_count": null,
   "metadata": {},
   "outputs": [],
   "source": []
  },
  {
   "cell_type": "markdown",
   "metadata": {},
   "source": [
    "Remove all transcripts Iin the **df** data frame which is zero for all subjects. Plot histogrm of all counts(use code from experiment 3). Does the shape of the distribution changes when you remove zero counts?"
   ]
  },
  {
   "cell_type": "code",
   "execution_count": null,
   "metadata": {},
   "outputs": [],
   "source": []
  },
  {
   "cell_type": "markdown",
   "metadata": {},
   "source": [
    "Remove all transcripts in  dataframe **df** for which all counts is less than 0.1 (that is there are no subject which is higher than 0.1). Plot histogrm of all countsin this modifyed data frame. Does the shape of the distribution changes when you remove low counts?"
   ]
  },
  {
   "cell_type": "code",
   "execution_count": null,
   "metadata": {},
   "outputs": [],
   "source": []
  },
  {
   "cell_type": "markdown",
   "metadata": {},
   "source": [
    "Remove all transcripts in dataframe **df** for which all counts is less than 1. Plot histogrm of all countsfor this new dataframe. Does the shape of the distribution changes compare with threshold of 0.1?"
   ]
  },
  {
   "cell_type": "code",
   "execution_count": null,
   "metadata": {},
   "outputs": [],
   "source": []
  },
  {
   "cell_type": "markdown",
   "metadata": {},
   "source": [
    "Experiment with the threshold for counts. At what threshold level the shape of the distribution changes most drammatically? Make a representative graph to show this change."
   ]
  },
  {
   "cell_type": "code",
   "execution_count": null,
   "metadata": {},
   "outputs": [],
   "source": []
  },
  {
   "cell_type": "markdown",
   "metadata": {},
   "source": [
    "## Experiment 5: Filtering using low counts and minimum number of subjects"
   ]
  },
  {
   "cell_type": "markdown",
   "metadata": {},
   "source": [
    "As we discussed in the Practice 1, it would be useful to remove low expressed transcript, but only if they are low expressed in majority of subjects.\n",
    "Remove all transcripts which is less than 0.5 in at least 19 out of 20 subjects in the dataframe **df**. Plot histogrm of all counts in this new data frame. Does the shape of the distribution changes when you remove low counts?"
   ]
  },
  {
   "cell_type": "code",
   "execution_count": null,
   "metadata": {},
   "outputs": [],
   "source": []
  },
  {
   "cell_type": "markdown",
   "metadata": {},
   "source": [
    "Remove all transcripts which is less than 0.5 in at least 18 out of 20 subjects in the dataframe **df**. Plot histogrm of all counts in this modifyed data frame. Does the shape of the distribution changes when you remove low counts?"
   ]
  },
  {
   "cell_type": "code",
   "execution_count": null,
   "metadata": {},
   "outputs": [],
   "source": []
  },
  {
   "cell_type": "markdown",
   "metadata": {},
   "source": [
    "Experiment with minimum number of subject above the 0.5 count threshold. At what minumum number of subject the shape of the distribution changes most drammatically? Make a representative graph to show this change."
   ]
  },
  {
   "cell_type": "code",
   "execution_count": null,
   "metadata": {},
   "outputs": [],
   "source": []
  }
 ],
 "metadata": {
  "kernelspec": {
   "display_name": "Python 3",
   "language": "python",
   "name": "python3"
  },
  "language_info": {
   "codemirror_mode": {
    "name": "ipython",
    "version": 3
   },
   "file_extension": ".py",
   "mimetype": "text/x-python",
   "name": "python",
   "nbconvert_exporter": "python",
   "pygments_lexer": "ipython3",
   "version": "3.8.8"
  }
 },
 "nbformat": 4,
 "nbformat_minor": 2
}
