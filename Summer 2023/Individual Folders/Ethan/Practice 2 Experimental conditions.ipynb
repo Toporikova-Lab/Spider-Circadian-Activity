{
 "cells": [
  {
   "cell_type": "markdown",
   "metadata": {},
   "source": [
    "# Working with experimental conditions"
   ]
  },
  {
   "cell_type": "markdown",
   "metadata": {},
   "source": [
    "#### Download install and import all necessary libraries"
   ]
  },
  {
   "cell_type": "code",
   "execution_count": 2,
   "metadata": {},
   "outputs": [],
   "source": [
    "import numpy as np\n",
    "import pandas as pd\n",
    "import matplotlib.pyplot as plt\n",
    "import seaborn as sns"
   ]
  },
  {
   "cell_type": "markdown",
   "metadata": {},
   "source": [
    "### Download data file with transcripts"
   ]
  },
  {
   "cell_type": "code",
   "execution_count": 3,
   "metadata": {},
   "outputs": [
    {
     "data": {
      "text/html": [
       "<div>\n",
       "<style scoped>\n",
       "    .dataframe tbody tr th:only-of-type {\n",
       "        vertical-align: middle;\n",
       "    }\n",
       "\n",
       "    .dataframe tbody tr th {\n",
       "        vertical-align: top;\n",
       "    }\n",
       "\n",
       "    .dataframe thead th {\n",
       "        text-align: right;\n",
       "    }\n",
       "</style>\n",
       "<table border=\"1\" class=\"dataframe\">\n",
       "  <thead>\n",
       "    <tr style=\"text-align: right;\">\n",
       "      <th></th>\n",
       "      <th>rsem_outdir_NAi13t3n2_S1</th>\n",
       "      <th>rsem_outdir_NAi13t3n14_S2</th>\n",
       "      <th>rsem_outdir_NAi13t3n26_S3</th>\n",
       "      <th>rsem_outdir_NAi13t3n27_S4</th>\n",
       "      <th>rsem_outdir_NAi13t3n31_S5</th>\n",
       "      <th>rsem_outdir_NAi6t3n1_S6</th>\n",
       "      <th>rsem_outdir_NAi6t3n10_S7</th>\n",
       "      <th>rsem_outdir_NAi6t3n16_S8</th>\n",
       "      <th>rsem_outdir_NAi6t3n24_S9</th>\n",
       "      <th>rsem_outdir_NAi6t3n29_S10</th>\n",
       "      <th>rsem_outdir_NAi13t12n7_S11</th>\n",
       "      <th>rsem_outdir_NAi13t12n10_S12</th>\n",
       "      <th>rsem_outdir_NAi13t12n11_S13</th>\n",
       "      <th>rsem_outdir_NAi13t12n16_S14</th>\n",
       "      <th>rsem_outdir_NAi13t12n19_S15</th>\n",
       "      <th>rsem_outdir_NAi6t12n3_S16</th>\n",
       "      <th>rsem_outdir_NAi6t12n4_S17</th>\n",
       "      <th>rsem_outdir_NAi6t12n18_S18</th>\n",
       "      <th>rsem_outdir_NAi6t12n23_S19</th>\n",
       "      <th>rsem_outdir_NAi6t12n27_S20</th>\n",
       "    </tr>\n",
       "  </thead>\n",
       "  <tbody>\n",
       "    <tr>\n",
       "      <th>TRINITY_DN0_c0_g1</th>\n",
       "      <td>756.624</td>\n",
       "      <td>906.464</td>\n",
       "      <td>307.957</td>\n",
       "      <td>739.130</td>\n",
       "      <td>206.390</td>\n",
       "      <td>154.113</td>\n",
       "      <td>220.125</td>\n",
       "      <td>554.147</td>\n",
       "      <td>317.122</td>\n",
       "      <td>183.428</td>\n",
       "      <td>125.687</td>\n",
       "      <td>403.675</td>\n",
       "      <td>1387.289</td>\n",
       "      <td>470.699</td>\n",
       "      <td>401.953</td>\n",
       "      <td>534.054</td>\n",
       "      <td>420.981</td>\n",
       "      <td>509.926</td>\n",
       "      <td>603.937</td>\n",
       "      <td>374.140</td>\n",
       "    </tr>\n",
       "    <tr>\n",
       "      <th>TRINITY_DN0_c13_g1</th>\n",
       "      <td>0.000</td>\n",
       "      <td>0.000</td>\n",
       "      <td>0.000</td>\n",
       "      <td>0.000</td>\n",
       "      <td>0.000</td>\n",
       "      <td>0.000</td>\n",
       "      <td>0.000</td>\n",
       "      <td>0.000</td>\n",
       "      <td>0.000</td>\n",
       "      <td>0.000</td>\n",
       "      <td>0.000</td>\n",
       "      <td>0.000</td>\n",
       "      <td>0.000</td>\n",
       "      <td>0.000</td>\n",
       "      <td>0.000</td>\n",
       "      <td>0.000</td>\n",
       "      <td>0.000</td>\n",
       "      <td>0.000</td>\n",
       "      <td>0.000</td>\n",
       "      <td>0.000</td>\n",
       "    </tr>\n",
       "    <tr>\n",
       "      <th>TRINITY_DN0_c1_g1</th>\n",
       "      <td>357.557</td>\n",
       "      <td>352.441</td>\n",
       "      <td>211.422</td>\n",
       "      <td>268.329</td>\n",
       "      <td>205.709</td>\n",
       "      <td>247.210</td>\n",
       "      <td>346.917</td>\n",
       "      <td>252.998</td>\n",
       "      <td>325.901</td>\n",
       "      <td>216.055</td>\n",
       "      <td>157.471</td>\n",
       "      <td>224.673</td>\n",
       "      <td>429.794</td>\n",
       "      <td>145.129</td>\n",
       "      <td>164.364</td>\n",
       "      <td>240.231</td>\n",
       "      <td>204.186</td>\n",
       "      <td>263.276</td>\n",
       "      <td>249.055</td>\n",
       "      <td>293.112</td>\n",
       "    </tr>\n",
       "    <tr>\n",
       "      <th>TRINITY_DN0_c1_g2</th>\n",
       "      <td>1.100</td>\n",
       "      <td>1.022</td>\n",
       "      <td>1.040</td>\n",
       "      <td>1.243</td>\n",
       "      <td>1.052</td>\n",
       "      <td>1.458</td>\n",
       "      <td>0.378</td>\n",
       "      <td>0.503</td>\n",
       "      <td>1.320</td>\n",
       "      <td>1.470</td>\n",
       "      <td>0.410</td>\n",
       "      <td>1.034</td>\n",
       "      <td>1.657</td>\n",
       "      <td>0.949</td>\n",
       "      <td>1.143</td>\n",
       "      <td>0.814</td>\n",
       "      <td>0.866</td>\n",
       "      <td>0.716</td>\n",
       "      <td>1.038</td>\n",
       "      <td>1.163</td>\n",
       "    </tr>\n",
       "    <tr>\n",
       "      <th>TRINITY_DN0_c2_g1</th>\n",
       "      <td>0.000</td>\n",
       "      <td>0.000</td>\n",
       "      <td>0.000</td>\n",
       "      <td>0.000</td>\n",
       "      <td>0.000</td>\n",
       "      <td>0.000</td>\n",
       "      <td>0.000</td>\n",
       "      <td>0.000</td>\n",
       "      <td>0.000</td>\n",
       "      <td>0.000</td>\n",
       "      <td>0.000</td>\n",
       "      <td>0.000</td>\n",
       "      <td>0.000</td>\n",
       "      <td>0.000</td>\n",
       "      <td>0.000</td>\n",
       "      <td>0.000</td>\n",
       "      <td>0.000</td>\n",
       "      <td>0.000</td>\n",
       "      <td>0.000</td>\n",
       "      <td>0.000</td>\n",
       "    </tr>\n",
       "  </tbody>\n",
       "</table>\n",
       "</div>"
      ],
      "text/plain": [
       "                    rsem_outdir_NAi13t3n2_S1  rsem_outdir_NAi13t3n14_S2  \\\n",
       "TRINITY_DN0_c0_g1                    756.624                    906.464   \n",
       "TRINITY_DN0_c13_g1                     0.000                      0.000   \n",
       "TRINITY_DN0_c1_g1                    357.557                    352.441   \n",
       "TRINITY_DN0_c1_g2                      1.100                      1.022   \n",
       "TRINITY_DN0_c2_g1                      0.000                      0.000   \n",
       "\n",
       "                    rsem_outdir_NAi13t3n26_S3  rsem_outdir_NAi13t3n27_S4  \\\n",
       "TRINITY_DN0_c0_g1                     307.957                    739.130   \n",
       "TRINITY_DN0_c13_g1                      0.000                      0.000   \n",
       "TRINITY_DN0_c1_g1                     211.422                    268.329   \n",
       "TRINITY_DN0_c1_g2                       1.040                      1.243   \n",
       "TRINITY_DN0_c2_g1                       0.000                      0.000   \n",
       "\n",
       "                    rsem_outdir_NAi13t3n31_S5  rsem_outdir_NAi6t3n1_S6  \\\n",
       "TRINITY_DN0_c0_g1                     206.390                  154.113   \n",
       "TRINITY_DN0_c13_g1                      0.000                    0.000   \n",
       "TRINITY_DN0_c1_g1                     205.709                  247.210   \n",
       "TRINITY_DN0_c1_g2                       1.052                    1.458   \n",
       "TRINITY_DN0_c2_g1                       0.000                    0.000   \n",
       "\n",
       "                    rsem_outdir_NAi6t3n10_S7  rsem_outdir_NAi6t3n16_S8  \\\n",
       "TRINITY_DN0_c0_g1                    220.125                   554.147   \n",
       "TRINITY_DN0_c13_g1                     0.000                     0.000   \n",
       "TRINITY_DN0_c1_g1                    346.917                   252.998   \n",
       "TRINITY_DN0_c1_g2                      0.378                     0.503   \n",
       "TRINITY_DN0_c2_g1                      0.000                     0.000   \n",
       "\n",
       "                    rsem_outdir_NAi6t3n24_S9  rsem_outdir_NAi6t3n29_S10  \\\n",
       "TRINITY_DN0_c0_g1                    317.122                    183.428   \n",
       "TRINITY_DN0_c13_g1                     0.000                      0.000   \n",
       "TRINITY_DN0_c1_g1                    325.901                    216.055   \n",
       "TRINITY_DN0_c1_g2                      1.320                      1.470   \n",
       "TRINITY_DN0_c2_g1                      0.000                      0.000   \n",
       "\n",
       "                    rsem_outdir_NAi13t12n7_S11  rsem_outdir_NAi13t12n10_S12  \\\n",
       "TRINITY_DN0_c0_g1                      125.687                      403.675   \n",
       "TRINITY_DN0_c13_g1                       0.000                        0.000   \n",
       "TRINITY_DN0_c1_g1                      157.471                      224.673   \n",
       "TRINITY_DN0_c1_g2                        0.410                        1.034   \n",
       "TRINITY_DN0_c2_g1                        0.000                        0.000   \n",
       "\n",
       "                    rsem_outdir_NAi13t12n11_S13  rsem_outdir_NAi13t12n16_S14  \\\n",
       "TRINITY_DN0_c0_g1                      1387.289                      470.699   \n",
       "TRINITY_DN0_c13_g1                        0.000                        0.000   \n",
       "TRINITY_DN0_c1_g1                       429.794                      145.129   \n",
       "TRINITY_DN0_c1_g2                         1.657                        0.949   \n",
       "TRINITY_DN0_c2_g1                         0.000                        0.000   \n",
       "\n",
       "                    rsem_outdir_NAi13t12n19_S15  rsem_outdir_NAi6t12n3_S16  \\\n",
       "TRINITY_DN0_c0_g1                       401.953                    534.054   \n",
       "TRINITY_DN0_c13_g1                        0.000                      0.000   \n",
       "TRINITY_DN0_c1_g1                       164.364                    240.231   \n",
       "TRINITY_DN0_c1_g2                         1.143                      0.814   \n",
       "TRINITY_DN0_c2_g1                         0.000                      0.000   \n",
       "\n",
       "                    rsem_outdir_NAi6t12n4_S17  rsem_outdir_NAi6t12n18_S18  \\\n",
       "TRINITY_DN0_c0_g1                     420.981                     509.926   \n",
       "TRINITY_DN0_c13_g1                      0.000                       0.000   \n",
       "TRINITY_DN0_c1_g1                     204.186                     263.276   \n",
       "TRINITY_DN0_c1_g2                       0.866                       0.716   \n",
       "TRINITY_DN0_c2_g1                       0.000                       0.000   \n",
       "\n",
       "                    rsem_outdir_NAi6t12n23_S19  rsem_outdir_NAi6t12n27_S20  \n",
       "TRINITY_DN0_c0_g1                      603.937                     374.140  \n",
       "TRINITY_DN0_c13_g1                       0.000                       0.000  \n",
       "TRINITY_DN0_c1_g1                      249.055                     293.112  \n",
       "TRINITY_DN0_c1_g2                        1.038                       1.163  \n",
       "TRINITY_DN0_c2_g1                        0.000                       0.000  "
      ]
     },
     "execution_count": 3,
     "metadata": {},
     "output_type": "execute_result"
    }
   ],
   "source": [
    "df = pd.read_csv('RSEM.gene.TMM.EXPR.matrix.csv', index_col=0)\n",
    "df.head()"
   ]
  },
  {
   "cell_type": "markdown",
   "metadata": {},
   "source": [
    "### Data organization"
   ]
  },
  {
   "cell_type": "markdown",
   "metadata": {},
   "source": [
    " - **columns**\n",
    "     - Experimental subjects\n",
    "\n",
    " - **rows**\n",
    "     - codes for transcripts\n",
    "\n",
    " - **numerical value**\n",
    "     - expression level (count per milion base pairs)\n"
   ]
  },
  {
   "cell_type": "markdown",
   "metadata": {},
   "source": [
    "## Experiment 1:extract names of experimental subjects"
   ]
  },
  {
   "cell_type": "markdown",
   "metadata": {},
   "source": [
    "The coulumns of the data frame **df** contains names of experimenal samples (there is some code to include information about experimetnal conditions). In the cell below, write a short, easy to read Python script to extract names of samples in a list, array or a dataframe (whichever is more convenient for you). Use variable **subject_names** to keep your list/array/dataframe"
   ]
  },
  {
   "cell_type": "code",
   "execution_count": 4,
   "metadata": {},
   "outputs": [
    {
     "name": "stdout",
     "output_type": "stream",
     "text": [
      "The names of the experimental subjects are: ['rsem_outdir_NAi13t3n2_S1', 'rsem_outdir_NAi13t3n14_S2', 'rsem_outdir_NAi13t3n26_S3', 'rsem_outdir_NAi13t3n27_S4', 'rsem_outdir_NAi13t3n31_S5', 'rsem_outdir_NAi6t3n1_S6', 'rsem_outdir_NAi6t3n10_S7', 'rsem_outdir_NAi6t3n16_S8', 'rsem_outdir_NAi6t3n24_S9', 'rsem_outdir_NAi6t3n29_S10', 'rsem_outdir_NAi13t12n7_S11', 'rsem_outdir_NAi13t12n10_S12', 'rsem_outdir_NAi13t12n11_S13', 'rsem_outdir_NAi13t12n16_S14', 'rsem_outdir_NAi13t12n19_S15', 'rsem_outdir_NAi6t12n3_S16', 'rsem_outdir_NAi6t12n4_S17', 'rsem_outdir_NAi6t12n18_S18', 'rsem_outdir_NAi6t12n23_S19', 'rsem_outdir_NAi6t12n27_S20']\n"
     ]
    }
   ],
   "source": [
    "#Declearing a variable (list) and appending columns from the DataFrame, df\n",
    "subject_names = [item for item in df.columns]\n",
    "print(\"The names of the experimental subjects are: \" + str(subject_names))"
   ]
  },
  {
   "cell_type": "markdown",
   "metadata": {},
   "source": [
    "## Experiment 2: Separate experimenal subjects using light conditions"
   ]
  },
  {
   "cell_type": "markdown",
   "metadata": {},
   "source": [
    "The names of experimenal samples contain a lot of information. In this and several following experiments we will try to extract such information from the name and use it to diviude samples into experimental groups.\n",
    "\n",
    "Alll samples names start with the name of experiment (“rsem_outdir_NA”), followed by information on light conditions. There are only two light conditions in this experiment:\n",
    "\n",
    "   - **i13** - experimenatal subject received a light PULSE\n",
    "\n",
    "   - **i6** - experimental subject received NO light pulse\n",
    "\n",
    "Use appropriate Python code to make two new lists/dataframes, pulse AND no_pulse.\n",
    "\n",
    "   - The list/dataframe **pulse** should contain names of experimental subject which receive a light pulse (for example, *rsem_outdir_NAi13t12n10_S12*).\n",
    "\n",
    "   - The list/dataframe **no_pulse** should contain names of experimental subjects who receive no light pulse(for example, *rsem_outdir_NAi6t3n16_S8*). Provide informative printout\n"
   ]
  },
  {
   "cell_type": "code",
   "execution_count": 5,
   "metadata": {},
   "outputs": [
    {
     "name": "stdout",
     "output_type": "stream",
     "text": [
      "The experimental subjects that recieved a light pulse are: ['rsem_outdir_NAi13t3n2_S1', 'rsem_outdir_NAi13t3n14_S2', 'rsem_outdir_NAi13t3n26_S3', 'rsem_outdir_NAi13t3n27_S4', 'rsem_outdir_NAi13t3n31_S5', 'rsem_outdir_NAi13t12n7_S11', 'rsem_outdir_NAi13t12n10_S12', 'rsem_outdir_NAi13t12n11_S13', 'rsem_outdir_NAi13t12n16_S14', 'rsem_outdir_NAi13t12n19_S15']\n",
      "The experimental subjects that did not recieve a light pulse are: ['rsem_outdir_NAi6t3n1_S6', 'rsem_outdir_NAi6t3n10_S7', 'rsem_outdir_NAi6t3n16_S8', 'rsem_outdir_NAi6t3n24_S9', 'rsem_outdir_NAi6t3n29_S10', 'rsem_outdir_NAi6t12n3_S16', 'rsem_outdir_NAi6t12n4_S17', 'rsem_outdir_NAi6t12n18_S18', 'rsem_outdir_NAi6t12n23_S19', 'rsem_outdir_NAi6t12n27_S20']\n"
     ]
    }
   ],
   "source": [
    "#Declearing two lists to store data that have a pulse and no pulse, respectively\n",
    "pulse = []\n",
    "no_pulse = []\n",
    "#Looping through the column names in the DataFrame, df\n",
    "for col in df:\n",
    "    #Conditional statement: If i13 is in the column name, add it to the \"pulse\" list\n",
    "    if col.find(\"i13\") > -1:\n",
    "        pulse.append(col)\n",
    "    #Second Conditional Statement: If i6 is in the column name, add it to the \"no_pulse\" list\n",
    "    elif col.find(\"i6\") > -1:\n",
    "        no_pulse.append(col)\n",
    "print(\"The experimental subjects that recieved a light pulse are: \" + str([name for name in pulse]))\n",
    "print(\"The experimental subjects that did not recieve a light pulse are: \" + str([name for name in no_pulse]))"
   ]
  },
  {
   "cell_type": "markdown",
   "metadata": {},
   "source": [
    "## Experiment 3: Separate experimenal subject using collection time"
   ]
  },
  {
   "cell_type": "markdown",
   "metadata": {},
   "source": [
    "After the light information, next several characters in the name of experimenal subject code for time of sample collections. There were only two collection times in our experiment:\n",
    "\n",
    "   - t3 - samples were collected at circadian time 3\n",
    "\n",
    "   - t12 - samples were collected at circadian time 12\n",
    "\n",
    "Use appropriate Ptyhon script to make two new lists/dataframes, **zt3** AND **zt12**.\n",
    "\n",
    "   - The list/dataframe **zt3** should contain names of experimental subjects which were collected at time 3( for example, *rsem_outdir_NAi6t3n1_S6*).\n",
    "\n",
    "   - The list/dataframe **zt12** should contain names of experimental subjects who was collected at circadian time 12 (for example, *rsem_outdir_NAi13t12n10_S12*). Make informative printout\n"
   ]
  },
  {
   "cell_type": "code",
   "execution_count": 6,
   "metadata": {},
   "outputs": [
    {
     "name": "stdout",
     "output_type": "stream",
     "text": [
      "The names of the samples that were collected at circadian time 3 are: ['rsem_outdir_NAi13t3n2_S1', 'rsem_outdir_NAi13t3n14_S2', 'rsem_outdir_NAi13t3n26_S3', 'rsem_outdir_NAi13t3n27_S4', 'rsem_outdir_NAi13t3n31_S5', 'rsem_outdir_NAi6t3n1_S6', 'rsem_outdir_NAi6t3n10_S7', 'rsem_outdir_NAi6t3n16_S8', 'rsem_outdir_NAi6t3n24_S9', 'rsem_outdir_NAi6t3n29_S10']\n",
      "The names of the samples that were collected at circadian time 12 are: ['rsem_outdir_NAi13t12n7_S11', 'rsem_outdir_NAi13t12n10_S12', 'rsem_outdir_NAi13t12n11_S13', 'rsem_outdir_NAi13t12n16_S14', 'rsem_outdir_NAi13t12n19_S15', 'rsem_outdir_NAi6t12n3_S16', 'rsem_outdir_NAi6t12n4_S17', 'rsem_outdir_NAi6t12n18_S18', 'rsem_outdir_NAi6t12n23_S19', 'rsem_outdir_NAi6t12n27_S20']\n"
     ]
    }
   ],
   "source": [
    "#Declearing two lists to store data that have a zt of 3 and a zt of 12, respectively\n",
    "zt3 = []\n",
    "zt12 = []\n",
    "#Looping through the column names in the DataFrame, df\n",
    "for name in subject_names:\n",
    "    #Conditional Statement: if t3 is in the column name, then add it into the zt3 list\n",
    "    if name.find(\"t3\") != -1:\n",
    "        zt3.append(name)\n",
    "    #Second Conditional Statement: if t12 is in the column name, then add it into the zt12 list\n",
    "    elif name.find(\"t12\") != -1:\n",
    "        zt12.append(name)\n",
    "print(\"The names of the samples that were collected at circadian time 3 are: \" + str(zt3))\n",
    "print(\"The names of the samples that were collected at circadian time 12 are: \" + str(zt12))"
   ]
  },
  {
   "cell_type": "markdown",
   "metadata": {},
   "source": [
    "## Experiment 4: Report subject IDs"
   ]
  },
  {
   "cell_type": "markdown",
   "metadata": {},
   "source": [
    "Finally, the last few chcaracters in a sample name indicate a specie(S for spider) and experimental id (nuber of spider). For example, **S11** indicate spider id is 11.\n",
    "\n",
    "Use appropriate Ptyhon code to make a new dataframes, **spiders**. It should have two columns:\n",
    "\n",
    "  -  first column containing a full sample name (for example, *rsem_outdir_NAi6t3n1_S6*)\n",
    "\n",
    "  -  the second should contain a subject number( for previous example, *6*)\n"
   ]
  },
  {
   "cell_type": "code",
   "execution_count": 7,
   "metadata": {},
   "outputs": [
    {
     "data": {
      "text/html": [
       "<div>\n",
       "<style scoped>\n",
       "    .dataframe tbody tr th:only-of-type {\n",
       "        vertical-align: middle;\n",
       "    }\n",
       "\n",
       "    .dataframe tbody tr th {\n",
       "        vertical-align: top;\n",
       "    }\n",
       "\n",
       "    .dataframe thead th {\n",
       "        text-align: right;\n",
       "    }\n",
       "</style>\n",
       "<table border=\"1\" class=\"dataframe\">\n",
       "  <thead>\n",
       "    <tr style=\"text-align: right;\">\n",
       "      <th></th>\n",
       "      <th>0</th>\n",
       "    </tr>\n",
       "  </thead>\n",
       "  <tbody>\n",
       "    <tr>\n",
       "      <th>rsem_outdir_NAi13t3n2_S1</th>\n",
       "      <td>1</td>\n",
       "    </tr>\n",
       "    <tr>\n",
       "      <th>rsem_outdir_NAi13t3n14_S2</th>\n",
       "      <td>2</td>\n",
       "    </tr>\n",
       "    <tr>\n",
       "      <th>rsem_outdir_NAi13t3n26_S3</th>\n",
       "      <td>3</td>\n",
       "    </tr>\n",
       "    <tr>\n",
       "      <th>rsem_outdir_NAi13t3n27_S4</th>\n",
       "      <td>4</td>\n",
       "    </tr>\n",
       "    <tr>\n",
       "      <th>rsem_outdir_NAi13t3n31_S5</th>\n",
       "      <td>5</td>\n",
       "    </tr>\n",
       "    <tr>\n",
       "      <th>rsem_outdir_NAi6t3n1_S6</th>\n",
       "      <td>6</td>\n",
       "    </tr>\n",
       "    <tr>\n",
       "      <th>rsem_outdir_NAi6t3n10_S7</th>\n",
       "      <td>7</td>\n",
       "    </tr>\n",
       "    <tr>\n",
       "      <th>rsem_outdir_NAi6t3n16_S8</th>\n",
       "      <td>8</td>\n",
       "    </tr>\n",
       "    <tr>\n",
       "      <th>rsem_outdir_NAi6t3n24_S9</th>\n",
       "      <td>9</td>\n",
       "    </tr>\n",
       "    <tr>\n",
       "      <th>rsem_outdir_NAi6t3n29_S10</th>\n",
       "      <td>10</td>\n",
       "    </tr>\n",
       "    <tr>\n",
       "      <th>rsem_outdir_NAi13t12n7_S11</th>\n",
       "      <td>11</td>\n",
       "    </tr>\n",
       "    <tr>\n",
       "      <th>rsem_outdir_NAi13t12n10_S12</th>\n",
       "      <td>12</td>\n",
       "    </tr>\n",
       "    <tr>\n",
       "      <th>rsem_outdir_NAi13t12n11_S13</th>\n",
       "      <td>13</td>\n",
       "    </tr>\n",
       "    <tr>\n",
       "      <th>rsem_outdir_NAi13t12n16_S14</th>\n",
       "      <td>14</td>\n",
       "    </tr>\n",
       "    <tr>\n",
       "      <th>rsem_outdir_NAi13t12n19_S15</th>\n",
       "      <td>15</td>\n",
       "    </tr>\n",
       "    <tr>\n",
       "      <th>rsem_outdir_NAi6t12n3_S16</th>\n",
       "      <td>16</td>\n",
       "    </tr>\n",
       "    <tr>\n",
       "      <th>rsem_outdir_NAi6t12n4_S17</th>\n",
       "      <td>17</td>\n",
       "    </tr>\n",
       "    <tr>\n",
       "      <th>rsem_outdir_NAi6t12n18_S18</th>\n",
       "      <td>18</td>\n",
       "    </tr>\n",
       "    <tr>\n",
       "      <th>rsem_outdir_NAi6t12n23_S19</th>\n",
       "      <td>19</td>\n",
       "    </tr>\n",
       "    <tr>\n",
       "      <th>rsem_outdir_NAi6t12n27_S20</th>\n",
       "      <td>20</td>\n",
       "    </tr>\n",
       "  </tbody>\n",
       "</table>\n",
       "</div>"
      ],
      "text/plain": [
       "                              0\n",
       "rsem_outdir_NAi13t3n2_S1      1\n",
       "rsem_outdir_NAi13t3n14_S2     2\n",
       "rsem_outdir_NAi13t3n26_S3     3\n",
       "rsem_outdir_NAi13t3n27_S4     4\n",
       "rsem_outdir_NAi13t3n31_S5     5\n",
       "rsem_outdir_NAi6t3n1_S6       6\n",
       "rsem_outdir_NAi6t3n10_S7      7\n",
       "rsem_outdir_NAi6t3n16_S8      8\n",
       "rsem_outdir_NAi6t3n24_S9      9\n",
       "rsem_outdir_NAi6t3n29_S10    10\n",
       "rsem_outdir_NAi13t12n7_S11   11\n",
       "rsem_outdir_NAi13t12n10_S12  12\n",
       "rsem_outdir_NAi13t12n11_S13  13\n",
       "rsem_outdir_NAi13t12n16_S14  14\n",
       "rsem_outdir_NAi13t12n19_S15  15\n",
       "rsem_outdir_NAi6t12n3_S16    16\n",
       "rsem_outdir_NAi6t12n4_S17    17\n",
       "rsem_outdir_NAi6t12n18_S18   18\n",
       "rsem_outdir_NAi6t12n23_S19   19\n",
       "rsem_outdir_NAi6t12n27_S20   20"
      ]
     },
     "metadata": {},
     "output_type": "display_data"
    }
   ],
   "source": [
    "#Declearing a variable (Dictionary) to store the data for sunject number with full sample name as a key\n",
    "spider_dict = {}\n",
    "# Looping through the column names\n",
    "for name in subject_names:\n",
    "    #If the spider has a subject name (as deoted by the S), add it into the dictionary\n",
    "    if name.find(\"S\") != -1:\n",
    "        spider_dict[name] = name[(name.find(\"S\")+1):]\n",
    "#Converting dictionary into a DataFrame in Pandas and saving it in a variable called \"spider\"\n",
    "spider = pd.DataFrame.from_dict(spider_dict, orient = \"index\")\n",
    "display(spider)"
   ]
  },
  {
   "cell_type": "markdown",
   "metadata": {},
   "source": [
    "## Experiment 5: Summarizing experimental information in a dataframe"
   ]
  },
  {
   "cell_type": "markdown",
   "metadata": {},
   "source": [
    "Finally, we will combine all experimenal conditions in a single dataframe. Make a new dataframe called **metadata**.\n",
    "\n",
    "  -  The first colunm should contain all sample name (for example, *rsem_outdir_NAi13t3n2_S1*).\n",
    "\n",
    "  -  The second column, named collection_times should contain experimenal time (**3** or **12**)\n",
    "\n",
    "  -  The third column, named pulse, should contain light pulse indicator\n",
    "      -  **yes** for pulse\n",
    "      -  **no** for no pulse\n",
    "\n",
    "Here is an example of the first three lines of such dataframe:"
   ]
  },
  {
   "attachments": {
    "image.png": {
     "image/png": "[encoded data removed]"
    }
   },
   "cell_type": "markdown",
   "metadata": {},
   "source": [
    "![image.png](attachment:image.png)"
   ]
  },
  {
   "cell_type": "code",
   "execution_count": 9,
   "metadata": {},
   "outputs": [
    {
     "name": "stdout",
     "output_type": "stream",
     "text": [
      "                            collection_times pulse\n",
      "                                                  \n",
      "rsem_outdir_NAi13t3n2_S1                   3   yes\n",
      "rsem_outdir_NAi13t3n14_S2                  3   yes\n",
      "rsem_outdir_NAi13t3n26_S3                  3   yes\n",
      "rsem_outdir_NAi13t3n27_S4                  3   yes\n",
      "rsem_outdir_NAi13t3n31_S5                  3   yes\n",
      "rsem_outdir_NAi6t3n1_S6                    3    no\n",
      "rsem_outdir_NAi6t3n10_S7                   3    no\n",
      "rsem_outdir_NAi6t3n16_S8                   3    no\n",
      "rsem_outdir_NAi6t3n24_S9                   3    no\n",
      "rsem_outdir_NAi6t3n29_S10                  3    no\n",
      "rsem_outdir_NAi13t12n7_S11                12   yes\n",
      "rsem_outdir_NAi13t12n10_S12               12   yes\n",
      "rsem_outdir_NAi13t12n11_S13               12   yes\n",
      "rsem_outdir_NAi13t12n16_S14               12   yes\n",
      "rsem_outdir_NAi13t12n19_S15               12   yes\n",
      "rsem_outdir_NAi6t12n3_S16                 12    no\n",
      "rsem_outdir_NAi6t12n4_S17                 12    no\n",
      "rsem_outdir_NAi6t12n18_S18                12    no\n",
      "rsem_outdir_NAi6t12n23_S19                12    no\n",
      "rsem_outdir_NAi6t12n27_S20                12    no\n"
     ]
    }
   ],
   "source": [
    "#Declearing 2 varables to store data based off of pulse or no pulse and collection times\n",
    "pulse_list = []\n",
    "collection_times_list = []\n",
    "\n",
    "#Loop through the column names (name is a column name in the DataFrame, df)\n",
    "for name in subject_names:\n",
    "    #Conditional Statement: if column name is in the pulse list from Experiment 2, then add yes into the list for that name\n",
    "    if name in pulse:\n",
    "        pulse_list.append(\"yes\")\n",
    "     #Conditional Statement: if column name is in the no_pulse list from Experiment 2, then add no into the list for that name\n",
    "    elif name in no_pulse:\n",
    "        pulse_list.append(\"no\")\n",
    "    #Conditional Statement: if column name is in the zt3 list from Ex 3, then add a 3 in the list for a zt of 3 for that name.\n",
    "    if name in zt3:\n",
    "        collection_times_list.append(\"3\")\n",
    "    #Conditional Statement: if column name is in the zt12 list from Ex 3, then add a 12 in the list for a zt of 12 for that name.\n",
    "    elif name in zt12:\n",
    "        collection_times_list.append(\"12\")\n",
    "#Declearing a variable (dict) to store the column names, collection times, and pulse/no pulse.\n",
    "combined_dict = {\"\": subject_names, \"collection_times\": collection_times_list, \"pulse\": pulse_list}\n",
    "#Converting dictionary into a Pandas DataFrame and then saving it in a new variable called \"metadata\"\n",
    "metadata = pd.DataFrame.from_dict(combined_dict)\n",
    "#setting the first element of the index to a blank space to match the given format\n",
    "metadata = metadata.set_index(\"\")\n",
    "print(metadata)"
   ]
  },
  {
   "cell_type": "code",
   "execution_count": null,
   "metadata": {},
   "outputs": [],
   "source": []
  }
 ],
 "metadata": {
  "kernelspec": {
   "display_name": "Python 3",
   "language": "python",
   "name": "python3"
  },
  "language_info": {
   "codemirror_mode": {
    "name": "ipython",
    "version": 3
   },
   "file_extension": ".py",
   "mimetype": "text/x-python",
   "name": "python",
   "nbconvert_exporter": "python",
   "pygments_lexer": "ipython3",
   "version": "3.8.8"
  }
 },
 "nbformat": 4,
 "nbformat_minor": 2
}
