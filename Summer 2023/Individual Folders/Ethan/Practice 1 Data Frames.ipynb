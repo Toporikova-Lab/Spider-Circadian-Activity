{
 "cells": [
  {
   "cell_type": "markdown",
   "metadata": {},
   "source": [
    "# Working with transcript data frames"
   ]
  },
  {
   "cell_type": "markdown",
   "metadata": {},
   "source": [
    "This Practice document is intended to give you some practice working with analysis of RNA seq data. Which is a large collection of gene couns collected at different experimental conditions. The basic Python knowlege is requred to successfully completing this Practice notebooK. If you are not comfortable working with this assignment, you might want to refresh some knowlege of Python (or learn some of the data science related Python techniques) by watching working through [Python for Data Analysis](https://www.linkedin.com/learning-login/share?account=55435129&forceAccount=false&redirect=https%3A%2F%2Fwww.linkedin.com%2Flearning%2Fpython-data-analysis-2%3Ftrk%3Dshare_ent_url%26shareId%3Dme4yPNxuRT2ijhL4wQL58Q%253D%253D) short course in LinkedIn platform. Just remember to login to [LinkedIn Learning](https://go.wlu.edu/learn) using your WLU id."
   ]
  },
  {
   "cell_type": "markdown",
   "metadata": {},
   "source": [
    "#### Download install and import all necessary libraries"
   ]
  },
  {
   "cell_type": "code",
   "execution_count": 2,
   "metadata": {},
   "outputs": [],
   "source": [
    "import numpy as np\n",
    "import pandas as pd\n",
    "import matplotlib.pyplot as plt\n",
    "import seaborn as sns"
   ]
  },
  {
   "cell_type": "markdown",
   "metadata": {},
   "source": [
    "### Download data file with transcript"
   ]
  },
  {
   "cell_type": "code",
   "execution_count": 4,
   "metadata": {},
   "outputs": [
    {
     "data": {
      "text/html": [
       "<div>\n",
       "<style scoped>\n",
       "    .dataframe tbody tr th:only-of-type {\n",
       "        vertical-align: middle;\n",
       "    }\n",
       "\n",
       "    .dataframe tbody tr th {\n",
       "        vertical-align: top;\n",
       "    }\n",
       "\n",
       "    .dataframe thead th {\n",
       "        text-align: right;\n",
       "    }\n",
       "</style>\n",
       "<table border=\"1\" class=\"dataframe\">\n",
       "  <thead>\n",
       "    <tr style=\"text-align: right;\">\n",
       "      <th></th>\n",
       "      <th>Subject1</th>\n",
       "      <th>Subject2</th>\n",
       "      <th>Subject3</th>\n",
       "      <th>Subject4</th>\n",
       "    </tr>\n",
       "    <tr>\n",
       "      <th>transcript</th>\n",
       "      <th></th>\n",
       "      <th></th>\n",
       "      <th></th>\n",
       "      <th></th>\n",
       "    </tr>\n",
       "  </thead>\n",
       "  <tbody>\n",
       "    <tr>\n",
       "      <th>TRINITY_DN0_c0_g1</th>\n",
       "      <td>756.624</td>\n",
       "      <td>906.464</td>\n",
       "      <td>307.957</td>\n",
       "      <td>739.130</td>\n",
       "    </tr>\n",
       "    <tr>\n",
       "      <th>TRINITY_DN0_c13_g1</th>\n",
       "      <td>0.000</td>\n",
       "      <td>0.000</td>\n",
       "      <td>0.000</td>\n",
       "      <td>0.000</td>\n",
       "    </tr>\n",
       "    <tr>\n",
       "      <th>TRINITY_DN0_c1_g1</th>\n",
       "      <td>357.557</td>\n",
       "      <td>352.441</td>\n",
       "      <td>211.422</td>\n",
       "      <td>268.329</td>\n",
       "    </tr>\n",
       "    <tr>\n",
       "      <th>TRINITY_DN0_c1_g2</th>\n",
       "      <td>1.100</td>\n",
       "      <td>1.022</td>\n",
       "      <td>1.040</td>\n",
       "      <td>1.243</td>\n",
       "    </tr>\n",
       "    <tr>\n",
       "      <th>TRINITY_DN0_c2_g1</th>\n",
       "      <td>0.000</td>\n",
       "      <td>0.000</td>\n",
       "      <td>0.000</td>\n",
       "      <td>0.000</td>\n",
       "    </tr>\n",
       "    <tr>\n",
       "      <th>TRINITY_DN0_c40_g1</th>\n",
       "      <td>0.000</td>\n",
       "      <td>0.000</td>\n",
       "      <td>0.000</td>\n",
       "      <td>0.000</td>\n",
       "    </tr>\n",
       "    <tr>\n",
       "      <th>TRINITY_DN0_c41_g1</th>\n",
       "      <td>0.000</td>\n",
       "      <td>0.000</td>\n",
       "      <td>0.000</td>\n",
       "      <td>0.000</td>\n",
       "    </tr>\n",
       "    <tr>\n",
       "      <th>TRINITY_DN0_c43_g1</th>\n",
       "      <td>0.000</td>\n",
       "      <td>0.000</td>\n",
       "      <td>0.000</td>\n",
       "      <td>0.000</td>\n",
       "    </tr>\n",
       "    <tr>\n",
       "      <th>TRINITY_DN0_c44_g1</th>\n",
       "      <td>0.000</td>\n",
       "      <td>0.000</td>\n",
       "      <td>0.000</td>\n",
       "      <td>0.000</td>\n",
       "    </tr>\n",
       "    <tr>\n",
       "      <th>TRINITY_DN100001_c0_g1</th>\n",
       "      <td>0.000</td>\n",
       "      <td>0.000</td>\n",
       "      <td>0.000</td>\n",
       "      <td>0.000</td>\n",
       "    </tr>\n",
       "    <tr>\n",
       "      <th>TRINITY_DN100002_c0_g1</th>\n",
       "      <td>0.296</td>\n",
       "      <td>0.000</td>\n",
       "      <td>0.000</td>\n",
       "      <td>0.000</td>\n",
       "    </tr>\n",
       "    <tr>\n",
       "      <th>TRINITY_DN100003_c0_g1</th>\n",
       "      <td>0.000</td>\n",
       "      <td>0.000</td>\n",
       "      <td>0.000</td>\n",
       "      <td>0.000</td>\n",
       "    </tr>\n",
       "    <tr>\n",
       "      <th>TRINITY_DN100006_c0_g1</th>\n",
       "      <td>0.000</td>\n",
       "      <td>0.000</td>\n",
       "      <td>0.000</td>\n",
       "      <td>0.000</td>\n",
       "    </tr>\n",
       "    <tr>\n",
       "      <th>TRINITY_DN100007_c0_g1</th>\n",
       "      <td>0.000</td>\n",
       "      <td>0.198</td>\n",
       "      <td>0.539</td>\n",
       "      <td>0.000</td>\n",
       "    </tr>\n",
       "    <tr>\n",
       "      <th>TRINITY_DN100009_c0_g1</th>\n",
       "      <td>0.000</td>\n",
       "      <td>0.000</td>\n",
       "      <td>0.000</td>\n",
       "      <td>0.464</td>\n",
       "    </tr>\n",
       "    <tr>\n",
       "      <th>TRINITY_DN10000_c0_g1</th>\n",
       "      <td>0.307</td>\n",
       "      <td>0.188</td>\n",
       "      <td>0.501</td>\n",
       "      <td>0.445</td>\n",
       "    </tr>\n",
       "    <tr>\n",
       "      <th>TRINITY_DN10000_c1_g1</th>\n",
       "      <td>0.000</td>\n",
       "      <td>0.000</td>\n",
       "      <td>0.000</td>\n",
       "      <td>0.000</td>\n",
       "    </tr>\n",
       "    <tr>\n",
       "      <th>TRINITY_DN100010_c0_g1</th>\n",
       "      <td>0.000</td>\n",
       "      <td>0.000</td>\n",
       "      <td>0.000</td>\n",
       "      <td>0.000</td>\n",
       "    </tr>\n",
       "    <tr>\n",
       "      <th>TRINITY_DN100011_c0_g1</th>\n",
       "      <td>0.000</td>\n",
       "      <td>0.000</td>\n",
       "      <td>0.000</td>\n",
       "      <td>0.000</td>\n",
       "    </tr>\n",
       "    <tr>\n",
       "      <th>TRINITY_DN100012_c0_g1</th>\n",
       "      <td>0.000</td>\n",
       "      <td>0.000</td>\n",
       "      <td>0.000</td>\n",
       "      <td>0.000</td>\n",
       "    </tr>\n",
       "    <tr>\n",
       "      <th>TRINITY_DN100014_c0_g1</th>\n",
       "      <td>6.143</td>\n",
       "      <td>5.006</td>\n",
       "      <td>0.700</td>\n",
       "      <td>2.598</td>\n",
       "    </tr>\n",
       "    <tr>\n",
       "      <th>TRINITY_DN100015_c0_g1</th>\n",
       "      <td>0.000</td>\n",
       "      <td>0.709</td>\n",
       "      <td>0.000</td>\n",
       "      <td>0.000</td>\n",
       "    </tr>\n",
       "    <tr>\n",
       "      <th>TRINITY_DN100016_c0_g1</th>\n",
       "      <td>0.000</td>\n",
       "      <td>0.000</td>\n",
       "      <td>0.000</td>\n",
       "      <td>0.000</td>\n",
       "    </tr>\n",
       "    <tr>\n",
       "      <th>TRINITY_DN100018_c0_g1</th>\n",
       "      <td>0.000</td>\n",
       "      <td>0.000</td>\n",
       "      <td>0.000</td>\n",
       "      <td>0.668</td>\n",
       "    </tr>\n",
       "    <tr>\n",
       "      <th>TRINITY_DN10001_c0_g1</th>\n",
       "      <td>0.042</td>\n",
       "      <td>0.042</td>\n",
       "      <td>0.085</td>\n",
       "      <td>0.065</td>\n",
       "    </tr>\n",
       "    <tr>\n",
       "      <th>TRINITY_DN10001_c1_g1</th>\n",
       "      <td>0.486</td>\n",
       "      <td>0.000</td>\n",
       "      <td>0.719</td>\n",
       "      <td>0.566</td>\n",
       "    </tr>\n",
       "    <tr>\n",
       "      <th>TRINITY_DN10001_c1_g2</th>\n",
       "      <td>0.508</td>\n",
       "      <td>0.000</td>\n",
       "      <td>0.000</td>\n",
       "      <td>0.000</td>\n",
       "    </tr>\n",
       "    <tr>\n",
       "      <th>TRINITY_DN10001_c1_g3</th>\n",
       "      <td>0.000</td>\n",
       "      <td>0.000</td>\n",
       "      <td>0.558</td>\n",
       "      <td>0.510</td>\n",
       "    </tr>\n",
       "  </tbody>\n",
       "</table>\n",
       "</div>"
      ],
      "text/plain": [
       "                        Subject1  Subject2  Subject3  Subject4\n",
       "transcript                                                    \n",
       "TRINITY_DN0_c0_g1        756.624   906.464   307.957   739.130\n",
       "TRINITY_DN0_c13_g1         0.000     0.000     0.000     0.000\n",
       "TRINITY_DN0_c1_g1        357.557   352.441   211.422   268.329\n",
       "TRINITY_DN0_c1_g2          1.100     1.022     1.040     1.243\n",
       "TRINITY_DN0_c2_g1          0.000     0.000     0.000     0.000\n",
       "TRINITY_DN0_c40_g1         0.000     0.000     0.000     0.000\n",
       "TRINITY_DN0_c41_g1         0.000     0.000     0.000     0.000\n",
       "TRINITY_DN0_c43_g1         0.000     0.000     0.000     0.000\n",
       "TRINITY_DN0_c44_g1         0.000     0.000     0.000     0.000\n",
       "TRINITY_DN100001_c0_g1     0.000     0.000     0.000     0.000\n",
       "TRINITY_DN100002_c0_g1     0.296     0.000     0.000     0.000\n",
       "TRINITY_DN100003_c0_g1     0.000     0.000     0.000     0.000\n",
       "TRINITY_DN100006_c0_g1     0.000     0.000     0.000     0.000\n",
       "TRINITY_DN100007_c0_g1     0.000     0.198     0.539     0.000\n",
       "TRINITY_DN100009_c0_g1     0.000     0.000     0.000     0.464\n",
       "TRINITY_DN10000_c0_g1      0.307     0.188     0.501     0.445\n",
       "TRINITY_DN10000_c1_g1      0.000     0.000     0.000     0.000\n",
       "TRINITY_DN100010_c0_g1     0.000     0.000     0.000     0.000\n",
       "TRINITY_DN100011_c0_g1     0.000     0.000     0.000     0.000\n",
       "TRINITY_DN100012_c0_g1     0.000     0.000     0.000     0.000\n",
       "TRINITY_DN100014_c0_g1     6.143     5.006     0.700     2.598\n",
       "TRINITY_DN100015_c0_g1     0.000     0.709     0.000     0.000\n",
       "TRINITY_DN100016_c0_g1     0.000     0.000     0.000     0.000\n",
       "TRINITY_DN100018_c0_g1     0.000     0.000     0.000     0.668\n",
       "TRINITY_DN10001_c0_g1      0.042     0.042     0.085     0.065\n",
       "TRINITY_DN10001_c1_g1      0.486     0.000     0.719     0.566\n",
       "TRINITY_DN10001_c1_g2      0.508     0.000     0.000     0.000\n",
       "TRINITY_DN10001_c1_g3      0.000     0.000     0.558     0.510"
      ]
     },
     "execution_count": 4,
     "metadata": {},
     "output_type": "execute_result"
    }
   ],
   "source": [
    "df = pd.read_csv('small.gene.matrix.csv', index_col=0)\n",
    "df"
   ]
  },
  {
   "cell_type": "markdown",
   "metadata": {},
   "source": [
    "### Data organization"
   ]
  },
  {
   "cell_type": "markdown",
   "metadata": {},
   "source": [
    "The format of the data frame above is representative of our full file which onganizes transcripts in our RNA seq experiment. The index labels individual transcripts (if we knew the genome, we would refer to them as a gene, but since spider transcriptiome is unknown, than we refer to them as transcript, or chunks of RNA).  The numerical values represent expression level (count per milion base pairs). The individual subjects organized as columns."
   ]
  },
  {
   "cell_type": "markdown",
   "metadata": {},
   "source": [
    "## Experiment 1:number of subjects"
   ]
  },
  {
   "cell_type": "markdown",
   "metadata": {},
   "source": [
    "In the cell below, writa a Python script to calcluate number of experimental subjects. Make informative printout"
   ]
  },
  {
   "cell_type": "code",
   "execution_count": 5,
   "metadata": {},
   "outputs": [
    {
     "name": "stdout",
     "output_type": "stream",
     "text": [
      "There are 4 experimental subjects in the DataFrame.\n"
     ]
    }
   ],
   "source": [
    "#number of columns\n",
    "print(\"There are \" + str(len(df.columns)) + \" experimental subjects in the DataFrame.\")"
   ]
  },
  {
   "cell_type": "markdown",
   "metadata": {},
   "source": [
    "## Experiment 2:number of transcripts"
   ]
  },
  {
   "cell_type": "markdown",
   "metadata": {},
   "source": [
    "Use the cell below to calcluate total number of transcripts. Make informative printout"
   ]
  },
  {
   "cell_type": "code",
   "execution_count": 6,
   "metadata": {},
   "outputs": [
    {
     "name": "stdout",
     "output_type": "stream",
     "text": [
      "There are 28 transcripts in the DataFrame\n"
     ]
    }
   ],
   "source": [
    "#number of transcripts\n",
    "print(\"There are \" + str(len(df.index)) + \" transcripts in the DataFrame\")"
   ]
  },
  {
   "cell_type": "markdown",
   "metadata": {},
   "source": [
    "## Experiment 3: number of non-zero transcripts"
   ]
  },
  {
   "cell_type": "markdown",
   "metadata": {},
   "source": [
    "Calcluate number of number of transcripts which has expression level equal zero."
   ]
  },
  {
   "cell_type": "code",
   "execution_count": 7,
   "metadata": {},
   "outputs": [
    {
     "name": "stdout",
     "output_type": "stream",
     "text": [
      "There are 14 transcripts that have an expression level of zero.\n"
     ]
    }
   ],
   "source": [
    "a = df[(df.Subject1 == 0) & (df.Subject2 == 0) & (df.Subject3 == 0) & (df.Subject4 == 0)]\n",
    "print(\"There are \" + str(len(a))  + \" transcripts that have an expression level of zero.\")"
   ]
  },
  {
   "cell_type": "markdown",
   "metadata": {},
   "source": [
    "## Experiment 4: filter zero transcript"
   ]
  },
  {
   "cell_type": "markdown",
   "metadata": {},
   "source": [
    "We have to treat zero expressed transcripts quite carefuly. Some of them might be just experimental noise - that is the genes they code are never being express. However, some of the zero transcripts might be meaningful. Fo example, some of circadian protein is highly expressed during the day, but not expressed at night. Since our experimental subjects was collected at different times of day, we have to keep transcripts which differentially expressed in different subjects, but can safely remove transcripts which is zero for every subject. Make a new data frame called, df_nonzero, which contains only transcripts which has at least one non-zero level of expression. In other words, you have to remove transcripts which is zero for all subjects. How many non-zero transcripts do we have in our dataset? Provide informative printout"
   ]
  },
  {
   "cell_type": "code",
   "execution_count": 8,
   "metadata": {},
   "outputs": [
    {
     "name": "stdout",
     "output_type": "stream",
     "text": [
      "There are 14 transcripts in the updated DataSet (14 non-zero transcripts)\n"
     ]
    }
   ],
   "source": [
    "df_nonzero =  df[(df.Subject1 + df.Subject2 + df.Subject3 + df.Subject4 != 0)]\n",
    "print(\"There are \" + str(len(df_nonzero)) + \" transcripts in the updated DataSet (14 non-zero transcripts)\")"
   ]
  },
  {
   "cell_type": "markdown",
   "metadata": {},
   "source": [
    "## Experiment 5:strenghening filtering criteria"
   ]
  },
  {
   "cell_type": "markdown",
   "metadata": {},
   "source": [
    "Rna seq technique is quite noisy and some expression values might be due random chance alone. We can assume that if only one subject has non-zero expression, it is an experimental error. Let’s apply even stricter criteria for transcripts selection. Let’s also remove the transcripts which has only one non-zero subject. Save results in new frame called, df_nonzero1. How many transcripts do you have now? Provide informative printout"
   ]
  },
  {
   "cell_type": "code",
   "execution_count": 1,
   "metadata": {},
   "outputs": [
    {
     "ename": "NameError",
     "evalue": "name 'df' is not defined",
     "output_type": "error",
     "traceback": [
      "\u001b[1;31m---------------------------------------------------------------------------\u001b[0m",
      "\u001b[1;31mNameError\u001b[0m                                 Traceback (most recent call last)",
      "\u001b[1;32m<ipython-input-1-ab6a49f0ec43>\u001b[0m in \u001b[0;36m<module>\u001b[1;34m\u001b[0m\n\u001b[1;32m----> 1\u001b[1;33m \u001b[0mdf_nonzero\u001b[0m \u001b[1;33m=\u001b[0m  \u001b[0mdf\u001b[0m\u001b[1;33m[\u001b[0m\u001b[1;33m(\u001b[0m\u001b[0mdf\u001b[0m\u001b[1;33m.\u001b[0m\u001b[0mSubject1\u001b[0m \u001b[1;33m+\u001b[0m \u001b[0mdf\u001b[0m\u001b[1;33m.\u001b[0m\u001b[0mSubject2\u001b[0m \u001b[1;33m+\u001b[0m \u001b[0mdf\u001b[0m\u001b[1;33m.\u001b[0m\u001b[0mSubject3\u001b[0m \u001b[1;33m+\u001b[0m \u001b[0mdf\u001b[0m\u001b[1;33m.\u001b[0m\u001b[0mSubject4\u001b[0m \u001b[1;33m!=\u001b[0m \u001b[1;36m0\u001b[0m\u001b[1;33m)\u001b[0m\u001b[1;33m]\u001b[0m\u001b[1;33m\u001b[0m\u001b[1;33m\u001b[0m\u001b[0m\n\u001b[0m\u001b[0;32m      2\u001b[0m \u001b[0mdf_nonzerocopy\u001b[0m \u001b[1;33m=\u001b[0m \u001b[0mdf_nonzero\u001b[0m\u001b[1;33m.\u001b[0m\u001b[0mcopy\u001b[0m\u001b[1;33m(\u001b[0m\u001b[1;33m)\u001b[0m\u001b[1;33m\u001b[0m\u001b[1;33m\u001b[0m\u001b[0m\n\u001b[0;32m      3\u001b[0m \u001b[0mdf_nonzerocopy\u001b[0m \u001b[1;33m=\u001b[0m \u001b[0mdf_nonzerocopy\u001b[0m\u001b[1;33m.\u001b[0m\u001b[0mastype\u001b[0m\u001b[1;33m(\u001b[0m\u001b[0mbool\u001b[0m\u001b[1;33m)\u001b[0m\u001b[1;33m\u001b[0m\u001b[1;33m\u001b[0m\u001b[0m\n\u001b[0;32m      4\u001b[0m \u001b[0mdf_nonzerocopy\u001b[0m \u001b[1;33m=\u001b[0m \u001b[0mdf_nonzerocopy\u001b[0m\u001b[1;33m.\u001b[0m\u001b[0mastype\u001b[0m\u001b[1;33m(\u001b[0m\u001b[0mint\u001b[0m\u001b[1;33m)\u001b[0m\u001b[1;33m\u001b[0m\u001b[1;33m\u001b[0m\u001b[0m\n\u001b[0;32m      5\u001b[0m \u001b[1;33m\u001b[0m\u001b[0m\n",
      "\u001b[1;31mNameError\u001b[0m: name 'df' is not defined"
     ]
    }
   ],
   "source": [
    "df_nonzero =  df[(df.Subject1 + df.Subject2 + df.Subject3 + df.Subject4 != 0)]\n",
    "df_nonzerocopy = df_nonzero.copy()\n",
    "df_nonzerocopy = df_nonzerocopy.astype(bool)\n",
    "df_nonzerocopy = df_nonzerocopy.astype(int)\n",
    "\n",
    "\n",
    "df_nonzero['sum'] = df_nonzerocopy.sum(axis = 1)\n",
    "print(df_nonzero)\n",
    "print(\"There are \" + str(len(df_nonzero)) + \" transcripts in the updated DataSet.\")\n",
    "df_new = df_nonzero[df_nonzero['sum'] > 1] \n",
    "df_new = df_new.drop('sum', axis = 1)\n",
    "display(df_new)"
   ]
  },
  {
   "cell_type": "code",
   "execution_count": null,
   "metadata": {},
   "outputs": [],
   "source": []
  },
  {
   "cell_type": "code",
   "execution_count": null,
   "metadata": {},
   "outputs": [],
   "source": []
  },
  {
   "cell_type": "markdown",
   "metadata": {},
   "source": [
    "## Experiment 6:setting expression threshold"
   ]
  },
  {
   "cell_type": "markdown",
   "metadata": {},
   "source": [
    "So far we only remove transcripts which was exactly zero, however very small non-zero values of expression can also be due noise alone. Let’s apply the non-zero expression threshold to filter our transcripts which has three or more subjects below 0.3. How many transcript do you have now?"
   ]
  },
  {
   "cell_type": "code",
   "execution_count": 10,
   "metadata": {
    "scrolled": true
   },
   "outputs": [
    {
     "data": {
      "text/html": [
       "<div>\n",
       "<style scoped>\n",
       "    .dataframe tbody tr th:only-of-type {\n",
       "        vertical-align: middle;\n",
       "    }\n",
       "\n",
       "    .dataframe tbody tr th {\n",
       "        vertical-align: top;\n",
       "    }\n",
       "\n",
       "    .dataframe thead th {\n",
       "        text-align: right;\n",
       "    }\n",
       "</style>\n",
       "<table border=\"1\" class=\"dataframe\">\n",
       "  <thead>\n",
       "    <tr style=\"text-align: right;\">\n",
       "      <th></th>\n",
       "      <th>Subject1</th>\n",
       "      <th>Subject2</th>\n",
       "      <th>Subject3</th>\n",
       "      <th>Subject4</th>\n",
       "    </tr>\n",
       "    <tr>\n",
       "      <th>transcript</th>\n",
       "      <th></th>\n",
       "      <th></th>\n",
       "      <th></th>\n",
       "      <th></th>\n",
       "    </tr>\n",
       "  </thead>\n",
       "  <tbody>\n",
       "    <tr>\n",
       "      <th>TRINITY_DN0_c0_g1</th>\n",
       "      <td>756.624</td>\n",
       "      <td>906.464</td>\n",
       "      <td>307.957</td>\n",
       "      <td>739.130</td>\n",
       "    </tr>\n",
       "    <tr>\n",
       "      <th>TRINITY_DN0_c1_g1</th>\n",
       "      <td>357.557</td>\n",
       "      <td>352.441</td>\n",
       "      <td>211.422</td>\n",
       "      <td>268.329</td>\n",
       "    </tr>\n",
       "    <tr>\n",
       "      <th>TRINITY_DN0_c1_g2</th>\n",
       "      <td>1.100</td>\n",
       "      <td>1.022</td>\n",
       "      <td>1.040</td>\n",
       "      <td>1.243</td>\n",
       "    </tr>\n",
       "    <tr>\n",
       "      <th>TRINITY_DN10000_c0_g1</th>\n",
       "      <td>0.307</td>\n",
       "      <td>0.188</td>\n",
       "      <td>0.501</td>\n",
       "      <td>0.445</td>\n",
       "    </tr>\n",
       "    <tr>\n",
       "      <th>TRINITY_DN100014_c0_g1</th>\n",
       "      <td>6.143</td>\n",
       "      <td>5.006</td>\n",
       "      <td>0.700</td>\n",
       "      <td>2.598</td>\n",
       "    </tr>\n",
       "    <tr>\n",
       "      <th>TRINITY_DN10001_c1_g1</th>\n",
       "      <td>0.486</td>\n",
       "      <td>0.000</td>\n",
       "      <td>0.719</td>\n",
       "      <td>0.566</td>\n",
       "    </tr>\n",
       "    <tr>\n",
       "      <th>TRINITY_DN10001_c1_g3</th>\n",
       "      <td>0.000</td>\n",
       "      <td>0.000</td>\n",
       "      <td>0.558</td>\n",
       "      <td>0.510</td>\n",
       "    </tr>\n",
       "  </tbody>\n",
       "</table>\n",
       "</div>"
      ],
      "text/plain": [
       "                        Subject1  Subject2  Subject3  Subject4\n",
       "transcript                                                    \n",
       "TRINITY_DN0_c0_g1        756.624   906.464   307.957   739.130\n",
       "TRINITY_DN0_c1_g1        357.557   352.441   211.422   268.329\n",
       "TRINITY_DN0_c1_g2          1.100     1.022     1.040     1.243\n",
       "TRINITY_DN10000_c0_g1      0.307     0.188     0.501     0.445\n",
       "TRINITY_DN100014_c0_g1     6.143     5.006     0.700     2.598\n",
       "TRINITY_DN10001_c1_g1      0.486     0.000     0.719     0.566\n",
       "TRINITY_DN10001_c1_g3      0.000     0.000     0.558     0.510"
      ]
     },
     "metadata": {},
     "output_type": "display_data"
    }
   ],
   "source": [
    "df_newcopy = df_new.copy()\n",
    "df_newcopy = df_newcopy - 0.3\n",
    "for col in df_newcopy:\n",
    "    df_newcopy[col] = df_newcopy[col] > 0\n",
    "    df_newcopy[col] = df_newcopy[col].astype(int)\n",
    "df_new['sum'] = df_newcopy.sum(axis = 1)\n",
    "df_newcopy1 = df_new[df_new['sum'] > 1]\n",
    "df_newcopy1 = df_newcopy1.drop('sum', axis = 1)\n",
    "display(df_newcopy1)"
   ]
  },
  {
   "cell_type": "markdown",
   "metadata": {},
   "source": [
    "## Experiment 7: writing transcripts in a file"
   ]
  },
  {
   "cell_type": "markdown",
   "metadata": {},
   "source": [
    "Extract names of filtered transcripts from Experiment 6 and save them in a .csv file. The file should contain subjec names in a firsts row."
   ]
  },
  {
   "cell_type": "code",
   "execution_count": 14,
   "metadata": {},
   "outputs": [],
   "source": [
    "#Declearing a variable (a list) to store data from the previous experiment (Extraxcting indexes)\n",
    "filtered_names_list = [df_newcopy.index]\n",
    "#Converting the list into a Pandas DataFrame\n",
    "filtered_names_df = pd.DataFrame(filtered_names_list)\n",
    "#Transposing the index of the DataFrame into a row\n",
    "filtered_names_df = filtered_names_df.transpose()\n",
    "#Converting the DataFrame into a CSV File\n",
    "filtered_names_csv = filtered_names_df.to_csv(\"FilteredNames.csv\")"
   ]
  },
  {
   "cell_type": "markdown",
   "metadata": {},
   "source": [
    "## Experiment 8: names of experimental subjects"
   ]
  },
  {
   "cell_type": "markdown",
   "metadata": {},
   "source": [
    "Use appropriate commands to extract names of experimental subjects. Save them in .csv file."
   ]
  },
  {
   "cell_type": "code",
   "execution_count": 16,
   "metadata": {},
   "outputs": [],
   "source": [
    "# Declearing a variable (a list) to store data from previous experiment (Extraqcting column nmaes)\n",
    "col_list = [df_newcopy1.columns]\n",
    "#Creating a DataFrame from the variable above\n",
    "df1 = pd.DataFrame(col_list)\n",
    "#Converting the DataFrame into a CSV File\n",
    "experimental_subject_name_csv = df1.to_csv(\"ExperimentalSubjectNames.csv\")    "
   ]
  },
  {
   "cell_type": "code",
   "execution_count": null,
   "metadata": {},
   "outputs": [],
   "source": []
  },
  {
   "cell_type": "code",
   "execution_count": null,
   "metadata": {},
   "outputs": [],
   "source": []
  },
  {
   "cell_type": "code",
   "execution_count": null,
   "metadata": {},
   "outputs": [],
   "source": []
  },
  {
   "cell_type": "code",
   "execution_count": null,
   "metadata": {},
   "outputs": [],
   "source": []
  },
  {
   "cell_type": "code",
   "execution_count": null,
   "metadata": {},
   "outputs": [],
   "source": []
  },
  {
   "cell_type": "code",
   "execution_count": null,
   "metadata": {},
   "outputs": [],
   "source": []
  },
  {
   "cell_type": "code",
   "execution_count": null,
   "metadata": {},
   "outputs": [],
   "source": []
  },
  {
   "cell_type": "code",
   "execution_count": null,
   "metadata": {},
   "outputs": [],
   "source": []
  },
  {
   "cell_type": "code",
   "execution_count": null,
   "metadata": {},
   "outputs": [],
   "source": []
  },
  {
   "cell_type": "code",
   "execution_count": null,
   "metadata": {},
   "outputs": [],
   "source": []
  },
  {
   "cell_type": "code",
   "execution_count": null,
   "metadata": {},
   "outputs": [],
   "source": []
  },
  {
   "cell_type": "code",
   "execution_count": null,
   "metadata": {},
   "outputs": [],
   "source": []
  },
  {
   "cell_type": "code",
   "execution_count": null,
   "metadata": {},
   "outputs": [],
   "source": []
  },
  {
   "cell_type": "code",
   "execution_count": null,
   "metadata": {},
   "outputs": [],
   "source": []
  },
  {
   "cell_type": "code",
   "execution_count": null,
   "metadata": {},
   "outputs": [],
   "source": []
  },
  {
   "cell_type": "code",
   "execution_count": null,
   "metadata": {},
   "outputs": [],
   "source": []
  },
  {
   "cell_type": "code",
   "execution_count": null,
   "metadata": {},
   "outputs": [],
   "source": []
  },
  {
   "cell_type": "code",
   "execution_count": null,
   "metadata": {},
   "outputs": [],
   "source": []
  },
  {
   "cell_type": "code",
   "execution_count": null,
   "metadata": {},
   "outputs": [],
   "source": []
  },
  {
   "cell_type": "code",
   "execution_count": null,
   "metadata": {},
   "outputs": [],
   "source": []
  },
  {
   "cell_type": "code",
   "execution_count": null,
   "metadata": {},
   "outputs": [],
   "source": []
  },
  {
   "cell_type": "code",
   "execution_count": null,
   "metadata": {},
   "outputs": [],
   "source": []
  },
  {
   "cell_type": "code",
   "execution_count": null,
   "metadata": {},
   "outputs": [],
   "source": []
  },
  {
   "cell_type": "code",
   "execution_count": null,
   "metadata": {},
   "outputs": [],
   "source": []
  },
  {
   "cell_type": "code",
   "execution_count": null,
   "metadata": {},
   "outputs": [],
   "source": []
  },
  {
   "cell_type": "code",
   "execution_count": null,
   "metadata": {},
   "outputs": [],
   "source": []
  },
  {
   "cell_type": "code",
   "execution_count": null,
   "metadata": {},
   "outputs": [],
   "source": []
  },
  {
   "cell_type": "code",
   "execution_count": null,
   "metadata": {},
   "outputs": [],
   "source": []
  }
 ],
 "metadata": {
  "kernelspec": {
   "display_name": "Python 3",
   "language": "python",
   "name": "python3"
  },
  "language_info": {
   "codemirror_mode": {
    "name": "ipython",
    "version": 3
   },
   "file_extension": ".py",
   "mimetype": "text/x-python",
   "name": "python",
   "nbconvert_exporter": "python",
   "pygments_lexer": "ipython3",
   "version": "3.8.8"
  }
 },
 "nbformat": 4,
 "nbformat_minor": 2
}
