{
 "cells": [
  {
   "cell_type": "markdown",
   "metadata": {},
   "source": [
    "# Working with transcript data frames"
   ]
  },
  {
   "cell_type": "markdown",
   "metadata": {},
   "source": [
    "This Practice document is intended to give you some practice working with analysis of RNA seq data. Which is a large collection of gene couns collected at different experimental conditions. The basic Python knowlege is requred to successfully completing this Practice notebooK. If you are not comfortable working with this assignment, you might want to refresh some knowlege of Python (or learn some of the data science related Python techniques) by watching working through [Python for Data Analysis](https://www.linkedin.com/learning-login/share?account=55435129&forceAccount=false&redirect=https%3A%2F%2Fwww.linkedin.com%2Flearning%2Fpython-data-analysis-2%3Ftrk%3Dshare_ent_url%26shareId%3Dme4yPNxuRT2ijhL4wQL58Q%253D%253D) short course in LinkedIn platform. Just remember to login to [LinkedIn Learning](https://go.wlu.edu/learn) using your WLU id."
   ]
  },
  {
   "cell_type": "markdown",
   "metadata": {},
   "source": [
    "#### Download install and import all necessary libraries"
   ]
  },
  {
   "cell_type": "code",
   "execution_count": 1,
   "metadata": {},
   "outputs": [],
   "source": [
    "import numpy as np\n",
    "import pandas as pd\n",
    "import matplotlib.pyplot as plt\n",
    "import seaborn as sns"
   ]
  },
  {
   "cell_type": "markdown",
   "metadata": {},
   "source": [
    "### Download data file with transcript"
   ]
  },
  {
   "cell_type": "code",
   "execution_count": 2,
   "metadata": {},
   "outputs": [
    {
     "data": {
      "text/html": [
       "<div>\n",
       "<style scoped>\n",
       "    .dataframe tbody tr th:only-of-type {\n",
       "        vertical-align: middle;\n",
       "    }\n",
       "\n",
       "    .dataframe tbody tr th {\n",
       "        vertical-align: top;\n",
       "    }\n",
       "\n",
       "    .dataframe thead th {\n",
       "        text-align: right;\n",
       "    }\n",
       "</style>\n",
       "<table border=\"1\" class=\"dataframe\">\n",
       "  <thead>\n",
       "    <tr style=\"text-align: right;\">\n",
       "      <th></th>\n",
       "      <th>Subject1</th>\n",
       "      <th>Subject2</th>\n",
       "      <th>Subject3</th>\n",
       "      <th>Subject4</th>\n",
       "    </tr>\n",
       "    <tr>\n",
       "      <th>transcript</th>\n",
       "      <th></th>\n",
       "      <th></th>\n",
       "      <th></th>\n",
       "      <th></th>\n",
       "    </tr>\n",
       "  </thead>\n",
       "  <tbody>\n",
       "    <tr>\n",
       "      <th>TRINITY_DN0_c0_g1</th>\n",
       "      <td>756.624</td>\n",
       "      <td>906.464</td>\n",
       "      <td>307.957</td>\n",
       "      <td>739.130</td>\n",
       "    </tr>\n",
       "    <tr>\n",
       "      <th>TRINITY_DN0_c13_g1</th>\n",
       "      <td>0.000</td>\n",
       "      <td>0.000</td>\n",
       "      <td>0.000</td>\n",
       "      <td>0.000</td>\n",
       "    </tr>\n",
       "    <tr>\n",
       "      <th>TRINITY_DN0_c1_g1</th>\n",
       "      <td>357.557</td>\n",
       "      <td>352.441</td>\n",
       "      <td>211.422</td>\n",
       "      <td>268.329</td>\n",
       "    </tr>\n",
       "    <tr>\n",
       "      <th>TRINITY_DN0_c1_g2</th>\n",
       "      <td>1.100</td>\n",
       "      <td>1.022</td>\n",
       "      <td>1.040</td>\n",
       "      <td>1.243</td>\n",
       "    </tr>\n",
       "    <tr>\n",
       "      <th>TRINITY_DN0_c2_g1</th>\n",
       "      <td>0.000</td>\n",
       "      <td>0.000</td>\n",
       "      <td>0.000</td>\n",
       "      <td>0.000</td>\n",
       "    </tr>\n",
       "    <tr>\n",
       "      <th>TRINITY_DN0_c40_g1</th>\n",
       "      <td>0.000</td>\n",
       "      <td>0.000</td>\n",
       "      <td>0.000</td>\n",
       "      <td>0.000</td>\n",
       "    </tr>\n",
       "    <tr>\n",
       "      <th>TRINITY_DN0_c41_g1</th>\n",
       "      <td>0.000</td>\n",
       "      <td>0.000</td>\n",
       "      <td>0.000</td>\n",
       "      <td>0.000</td>\n",
       "    </tr>\n",
       "    <tr>\n",
       "      <th>TRINITY_DN0_c43_g1</th>\n",
       "      <td>0.000</td>\n",
       "      <td>0.000</td>\n",
       "      <td>0.000</td>\n",
       "      <td>0.000</td>\n",
       "    </tr>\n",
       "    <tr>\n",
       "      <th>TRINITY_DN0_c44_g1</th>\n",
       "      <td>0.000</td>\n",
       "      <td>0.000</td>\n",
       "      <td>0.000</td>\n",
       "      <td>0.000</td>\n",
       "    </tr>\n",
       "    <tr>\n",
       "      <th>TRINITY_DN100001_c0_g1</th>\n",
       "      <td>0.000</td>\n",
       "      <td>0.000</td>\n",
       "      <td>0.000</td>\n",
       "      <td>0.000</td>\n",
       "    </tr>\n",
       "    <tr>\n",
       "      <th>TRINITY_DN100002_c0_g1</th>\n",
       "      <td>0.296</td>\n",
       "      <td>0.000</td>\n",
       "      <td>0.000</td>\n",
       "      <td>0.000</td>\n",
       "    </tr>\n",
       "    <tr>\n",
       "      <th>TRINITY_DN100003_c0_g1</th>\n",
       "      <td>0.000</td>\n",
       "      <td>0.000</td>\n",
       "      <td>0.000</td>\n",
       "      <td>0.000</td>\n",
       "    </tr>\n",
       "    <tr>\n",
       "      <th>TRINITY_DN100006_c0_g1</th>\n",
       "      <td>0.000</td>\n",
       "      <td>0.000</td>\n",
       "      <td>0.000</td>\n",
       "      <td>0.000</td>\n",
       "    </tr>\n",
       "    <tr>\n",
       "      <th>TRINITY_DN100007_c0_g1</th>\n",
       "      <td>0.000</td>\n",
       "      <td>0.198</td>\n",
       "      <td>0.539</td>\n",
       "      <td>0.000</td>\n",
       "    </tr>\n",
       "    <tr>\n",
       "      <th>TRINITY_DN100009_c0_g1</th>\n",
       "      <td>0.000</td>\n",
       "      <td>0.000</td>\n",
       "      <td>0.000</td>\n",
       "      <td>0.464</td>\n",
       "    </tr>\n",
       "    <tr>\n",
       "      <th>TRINITY_DN10000_c0_g1</th>\n",
       "      <td>0.307</td>\n",
       "      <td>0.188</td>\n",
       "      <td>0.501</td>\n",
       "      <td>0.445</td>\n",
       "    </tr>\n",
       "    <tr>\n",
       "      <th>TRINITY_DN10000_c1_g1</th>\n",
       "      <td>0.000</td>\n",
       "      <td>0.000</td>\n",
       "      <td>0.000</td>\n",
       "      <td>0.000</td>\n",
       "    </tr>\n",
       "    <tr>\n",
       "      <th>TRINITY_DN100010_c0_g1</th>\n",
       "      <td>0.000</td>\n",
       "      <td>0.000</td>\n",
       "      <td>0.000</td>\n",
       "      <td>0.000</td>\n",
       "    </tr>\n",
       "    <tr>\n",
       "      <th>TRINITY_DN100011_c0_g1</th>\n",
       "      <td>0.000</td>\n",
       "      <td>0.000</td>\n",
       "      <td>0.000</td>\n",
       "      <td>0.000</td>\n",
       "    </tr>\n",
       "    <tr>\n",
       "      <th>TRINITY_DN100012_c0_g1</th>\n",
       "      <td>0.000</td>\n",
       "      <td>0.000</td>\n",
       "      <td>0.000</td>\n",
       "      <td>0.000</td>\n",
       "    </tr>\n",
       "    <tr>\n",
       "      <th>TRINITY_DN100014_c0_g1</th>\n",
       "      <td>6.143</td>\n",
       "      <td>5.006</td>\n",
       "      <td>0.700</td>\n",
       "      <td>2.598</td>\n",
       "    </tr>\n",
       "    <tr>\n",
       "      <th>TRINITY_DN100015_c0_g1</th>\n",
       "      <td>0.000</td>\n",
       "      <td>0.709</td>\n",
       "      <td>0.000</td>\n",
       "      <td>0.000</td>\n",
       "    </tr>\n",
       "    <tr>\n",
       "      <th>TRINITY_DN100016_c0_g1</th>\n",
       "      <td>0.000</td>\n",
       "      <td>0.000</td>\n",
       "      <td>0.000</td>\n",
       "      <td>0.000</td>\n",
       "    </tr>\n",
       "    <tr>\n",
       "      <th>TRINITY_DN100018_c0_g1</th>\n",
       "      <td>0.000</td>\n",
       "      <td>0.000</td>\n",
       "      <td>0.000</td>\n",
       "      <td>0.668</td>\n",
       "    </tr>\n",
       "    <tr>\n",
       "      <th>TRINITY_DN10001_c0_g1</th>\n",
       "      <td>0.042</td>\n",
       "      <td>0.042</td>\n",
       "      <td>0.085</td>\n",
       "      <td>0.065</td>\n",
       "    </tr>\n",
       "    <tr>\n",
       "      <th>TRINITY_DN10001_c1_g1</th>\n",
       "      <td>0.486</td>\n",
       "      <td>0.000</td>\n",
       "      <td>0.719</td>\n",
       "      <td>0.566</td>\n",
       "    </tr>\n",
       "    <tr>\n",
       "      <th>TRINITY_DN10001_c1_g2</th>\n",
       "      <td>0.508</td>\n",
       "      <td>0.000</td>\n",
       "      <td>0.000</td>\n",
       "      <td>0.000</td>\n",
       "    </tr>\n",
       "    <tr>\n",
       "      <th>TRINITY_DN10001_c1_g3</th>\n",
       "      <td>0.000</td>\n",
       "      <td>0.000</td>\n",
       "      <td>0.558</td>\n",
       "      <td>0.510</td>\n",
       "    </tr>\n",
       "  </tbody>\n",
       "</table>\n",
       "</div>"
      ],
      "text/plain": [
       "                        Subject1  Subject2  Subject3  Subject4\n",
       "transcript                                                    \n",
       "TRINITY_DN0_c0_g1        756.624   906.464   307.957   739.130\n",
       "TRINITY_DN0_c13_g1         0.000     0.000     0.000     0.000\n",
       "TRINITY_DN0_c1_g1        357.557   352.441   211.422   268.329\n",
       "TRINITY_DN0_c1_g2          1.100     1.022     1.040     1.243\n",
       "TRINITY_DN0_c2_g1          0.000     0.000     0.000     0.000\n",
       "TRINITY_DN0_c40_g1         0.000     0.000     0.000     0.000\n",
       "TRINITY_DN0_c41_g1         0.000     0.000     0.000     0.000\n",
       "TRINITY_DN0_c43_g1         0.000     0.000     0.000     0.000\n",
       "TRINITY_DN0_c44_g1         0.000     0.000     0.000     0.000\n",
       "TRINITY_DN100001_c0_g1     0.000     0.000     0.000     0.000\n",
       "TRINITY_DN100002_c0_g1     0.296     0.000     0.000     0.000\n",
       "TRINITY_DN100003_c0_g1     0.000     0.000     0.000     0.000\n",
       "TRINITY_DN100006_c0_g1     0.000     0.000     0.000     0.000\n",
       "TRINITY_DN100007_c0_g1     0.000     0.198     0.539     0.000\n",
       "TRINITY_DN100009_c0_g1     0.000     0.000     0.000     0.464\n",
       "TRINITY_DN10000_c0_g1      0.307     0.188     0.501     0.445\n",
       "TRINITY_DN10000_c1_g1      0.000     0.000     0.000     0.000\n",
       "TRINITY_DN100010_c0_g1     0.000     0.000     0.000     0.000\n",
       "TRINITY_DN100011_c0_g1     0.000     0.000     0.000     0.000\n",
       "TRINITY_DN100012_c0_g1     0.000     0.000     0.000     0.000\n",
       "TRINITY_DN100014_c0_g1     6.143     5.006     0.700     2.598\n",
       "TRINITY_DN100015_c0_g1     0.000     0.709     0.000     0.000\n",
       "TRINITY_DN100016_c0_g1     0.000     0.000     0.000     0.000\n",
       "TRINITY_DN100018_c0_g1     0.000     0.000     0.000     0.668\n",
       "TRINITY_DN10001_c0_g1      0.042     0.042     0.085     0.065\n",
       "TRINITY_DN10001_c1_g1      0.486     0.000     0.719     0.566\n",
       "TRINITY_DN10001_c1_g2      0.508     0.000     0.000     0.000\n",
       "TRINITY_DN10001_c1_g3      0.000     0.000     0.558     0.510"
      ]
     },
     "execution_count": 2,
     "metadata": {},
     "output_type": "execute_result"
    }
   ],
   "source": [
    "df = pd.read_csv('small.gene.matrix.csv', index_col=0)\n",
    "df"
   ]
  },
  {
   "cell_type": "markdown",
   "metadata": {},
   "source": [
    "### Data organization"
   ]
  },
  {
   "cell_type": "markdown",
   "metadata": {},
   "source": [
    "The format of the data frame above is representative of our full file which onganizes transcripts in our RNA seq experiment. The index labels individual transcripts (if we knew the genome, we would refer to them as a gene, but since spider transcriptiome is unknown, than we refer to them as transcript, or chunks of RNA).  The numerical values represent expression level (count per milion base pairs). The individual subjects organized as columns."
   ]
  },
  {
   "cell_type": "markdown",
   "metadata": {},
   "source": [
    "## Experiment 1:number of subjects"
   ]
  },
  {
   "cell_type": "markdown",
   "metadata": {},
   "source": [
    "In the cell below, writa a Python script to calcluate number of experimental subjects. Make informative printout"
   ]
  },
  {
   "cell_type": "code",
   "execution_count": 3,
   "metadata": {},
   "outputs": [
    {
     "name": "stdout",
     "output_type": "stream",
     "text": [
      "There are 4 experimental subjects in the DataFrame.\n"
     ]
    }
   ],
   "source": [
    "#number of columns\n",
    "print(\"There are \" + str(len(df.columns)) + \" experimental subjects in the DataFrame.\")"
   ]
  },
  {
   "cell_type": "markdown",
   "metadata": {},
   "source": [
    "## Experiment 2:number of transcripts"
   ]
  },
  {
   "cell_type": "markdown",
   "metadata": {},
   "source": [
    "Use the cell below to calcluate total number of transcripts. Make informative printout"
   ]
  },
  {
   "cell_type": "code",
   "execution_count": 4,
   "metadata": {},
   "outputs": [
    {
     "name": "stdout",
     "output_type": "stream",
     "text": [
      "There are 28 transcripts in the DataFrame\n"
     ]
    }
   ],
   "source": [
    "#number of transcripts\n",
    "print(\"There are \" + str(len(df.index)) + \" transcripts in the DataFrame\")"
   ]
  },
  {
   "cell_type": "markdown",
   "metadata": {},
   "source": [
    "## Experiment 3: number of non-zero transcripts"
   ]
  },
  {
   "cell_type": "markdown",
   "metadata": {},
   "source": [
    "Calcluate number of number of transcripts which has expression level equal zero."
   ]
  },
  {
   "cell_type": "code",
   "execution_count": 5,
   "metadata": {},
   "outputs": [
    {
     "name": "stdout",
     "output_type": "stream",
     "text": [
      "There are 14 transcripts that have an expression level of zero.\n"
     ]
    }
   ],
   "source": [
    "a = df[(df.Subject1 == 0) & (df.Subject2 == 0) & (df.Subject3 == 0) & (df.Subject4 == 0)]\n",
    "print(\"There are \" + str(len(a))  + \" transcripts that have an expression level of zero.\")"
   ]
  },
  {
   "cell_type": "markdown",
   "metadata": {},
   "source": [
    "## Experiment 4: filter zero transcript"
   ]
  },
  {
   "cell_type": "markdown",
   "metadata": {},
   "source": [
    "We have to treat zero expressed transcripts quite carefuly. Some of them might be just experimental noise - that is the genes they code are never being express. However, some of the zero transcripts might be meaningful. Fo example, some of circadian protein is highly expressed during the day, but not expressed at night. Since our experimental subjects was collected at different times of day, we have to keep transcripts which differentially expressed in different subjects, but can safely remove transcripts which is zero for every subject. Make a new data frame called, df_nonzero, which contains only transcripts which has at least one non-zero level of expression. In other words, you have to remove transcripts which is zero for all subjects. How many non-zero transcripts do we have in our dataset? Provide informative printout"
   ]
  },
  {
   "cell_type": "code",
   "execution_count": 10,
   "metadata": {},
   "outputs": [
    {
     "name": "stdout",
     "output_type": "stream",
     "text": [
      "There are 14 transcripts in the updated DataSet (14 non-zero transcripts)\n"
     ]
    }
   ],
   "source": [
    "df_nonzero =  df[(df.Subject1 + df.Subject2 + df.Subject3 + df.Subject4 != 0)]\n",
    "print(\"There are \" + str(len(df_nonzero)) + \" transcripts in the updated DataSet (14 non-zero transcripts)\")"
   ]
  },
  {
   "cell_type": "markdown",
   "metadata": {},
   "source": [
    "## Experiment 5:strenghening filtering criteria"
   ]
  },
  {
   "cell_type": "markdown",
   "metadata": {},
   "source": [
    "Rna seq technique is quite noisy and some expression values might be due random chance alone. We can assume that if only one subject has non-zero expression, it is an experimental error. Let’s apply even stricter criteria for transcripts selection. Let’s also remove the transcripts which has only one non-zero subject. Save results in new frame called, df_nonzero1. How many transcripts do you have now? Provide informative printout"
   ]
  },
  {
   "cell_type": "code",
   "execution_count": 13,
   "metadata": {},
   "outputs": [
    {
     "name": "stdout",
     "output_type": "stream",
     "text": [
      "There are 9 transcripts in the updated DataSet.\n"
     ]
    },
    {
     "name": "stderr",
     "output_type": "stream",
     "text": [
      "C:\\ProgramData\\Anaconda3\\lib\\site-packages\\pandas\\core\\generic.py:5494: SettingWithCopyWarning: \n",
      "A value is trying to be set on a copy of a slice from a DataFrame.\n",
      "Try using .loc[row_indexer,col_indexer] = value instead\n",
      "\n",
      "See the caveats in the documentation: https://pandas.pydata.org/pandas-docs/stable/user_guide/indexing.html#returning-a-view-versus-a-copy\n",
      "  self[name] = value\n"
     ]
    }
   ],
   "source": [
    "df_nonzerocopy = df_nonzero\n",
    "df_nonzero.Subject1 = df_nonzero.Subject1.astype(bool)\n",
    "df_nonzero.Subject2 = df_nonzero.Subject2.astype(bool)\n",
    "df_nonzero.Subject3 = df_nonzero.Subject3.astype(bool)\n",
    "df_nonzero.Subject4 = df_nonzero.Subject4.astype(bool)\n",
    "df_nonzero.Subject1 = df_nonzero.Subject1.astype(int)\n",
    "df_nonzero.Subject2 = df_nonzero.Subject2.astype(int)\n",
    "df_nonzero.Subject3 = df_nonzero.Subject3.astype(int)\n",
    "df_nonzero.Subject4 = df_nonzero.Subject4.astype(int)\n",
    "df_nonzero1 = df_nonzero[(df_nonzero.Subject1 + df_nonzero.Subject2 + df_nonzero.Subject3 + df_nonzero.Subject4 != 1)]\n",
    "print(\"There are \" + str(len(df_nonzero1)) + \" transcripts in the updated DataSet.\")"
   ]
  },
  {
   "cell_type": "code",
   "execution_count": 22,
   "metadata": {},
   "outputs": [
    {
     "name": "stderr",
     "output_type": "stream",
     "text": [
      "<ipython-input-22-0c8832d01023>:1: SettingWithCopyWarning: \n",
      "A value is trying to be set on a copy of a slice from a DataFrame.\n",
      "Try using .loc[row_indexer,col_indexer] = value instead\n",
      "\n",
      "See the caveats in the documentation: https://pandas.pydata.org/pandas-docs/stable/user_guide/indexing.html#returning-a-view-versus-a-copy\n",
      "  df_nonzero[\"true\"] = df_nonzero.sum(axis = 1)\n"
     ]
    },
    {
     "data": {
      "text/html": [
       "<div>\n",
       "<style scoped>\n",
       "    .dataframe tbody tr th:only-of-type {\n",
       "        vertical-align: middle;\n",
       "    }\n",
       "\n",
       "    .dataframe tbody tr th {\n",
       "        vertical-align: top;\n",
       "    }\n",
       "\n",
       "    .dataframe thead th {\n",
       "        text-align: right;\n",
       "    }\n",
       "</style>\n",
       "<table border=\"1\" class=\"dataframe\">\n",
       "  <thead>\n",
       "    <tr style=\"text-align: right;\">\n",
       "      <th></th>\n",
       "      <th>Subject1</th>\n",
       "      <th>Subject2</th>\n",
       "      <th>Subject3</th>\n",
       "      <th>Subject4</th>\n",
       "      <th>true</th>\n",
       "    </tr>\n",
       "    <tr>\n",
       "      <th>transcript</th>\n",
       "      <th></th>\n",
       "      <th></th>\n",
       "      <th></th>\n",
       "      <th></th>\n",
       "      <th></th>\n",
       "    </tr>\n",
       "  </thead>\n",
       "  <tbody>\n",
       "    <tr>\n",
       "      <th>TRINITY_DN0_c0_g1</th>\n",
       "      <td>1</td>\n",
       "      <td>1</td>\n",
       "      <td>1</td>\n",
       "      <td>1</td>\n",
       "      <td>4.0</td>\n",
       "    </tr>\n",
       "    <tr>\n",
       "      <th>TRINITY_DN0_c1_g1</th>\n",
       "      <td>1</td>\n",
       "      <td>1</td>\n",
       "      <td>1</td>\n",
       "      <td>1</td>\n",
       "      <td>4.0</td>\n",
       "    </tr>\n",
       "    <tr>\n",
       "      <th>TRINITY_DN0_c1_g2</th>\n",
       "      <td>1</td>\n",
       "      <td>1</td>\n",
       "      <td>1</td>\n",
       "      <td>1</td>\n",
       "      <td>4.0</td>\n",
       "    </tr>\n",
       "    <tr>\n",
       "      <th>TRINITY_DN100002_c0_g1</th>\n",
       "      <td>1</td>\n",
       "      <td>0</td>\n",
       "      <td>0</td>\n",
       "      <td>0</td>\n",
       "      <td>1.0</td>\n",
       "    </tr>\n",
       "    <tr>\n",
       "      <th>TRINITY_DN100007_c0_g1</th>\n",
       "      <td>0</td>\n",
       "      <td>1</td>\n",
       "      <td>1</td>\n",
       "      <td>0</td>\n",
       "      <td>2.0</td>\n",
       "    </tr>\n",
       "    <tr>\n",
       "      <th>TRINITY_DN100009_c0_g1</th>\n",
       "      <td>0</td>\n",
       "      <td>0</td>\n",
       "      <td>0</td>\n",
       "      <td>1</td>\n",
       "      <td>1.0</td>\n",
       "    </tr>\n",
       "    <tr>\n",
       "      <th>TRINITY_DN10000_c0_g1</th>\n",
       "      <td>1</td>\n",
       "      <td>1</td>\n",
       "      <td>1</td>\n",
       "      <td>1</td>\n",
       "      <td>4.0</td>\n",
       "    </tr>\n",
       "    <tr>\n",
       "      <th>TRINITY_DN100014_c0_g1</th>\n",
       "      <td>1</td>\n",
       "      <td>1</td>\n",
       "      <td>1</td>\n",
       "      <td>1</td>\n",
       "      <td>4.0</td>\n",
       "    </tr>\n",
       "    <tr>\n",
       "      <th>TRINITY_DN100015_c0_g1</th>\n",
       "      <td>0</td>\n",
       "      <td>1</td>\n",
       "      <td>0</td>\n",
       "      <td>0</td>\n",
       "      <td>1.0</td>\n",
       "    </tr>\n",
       "    <tr>\n",
       "      <th>TRINITY_DN100018_c0_g1</th>\n",
       "      <td>0</td>\n",
       "      <td>0</td>\n",
       "      <td>0</td>\n",
       "      <td>1</td>\n",
       "      <td>1.0</td>\n",
       "    </tr>\n",
       "    <tr>\n",
       "      <th>TRINITY_DN10001_c0_g1</th>\n",
       "      <td>1</td>\n",
       "      <td>1</td>\n",
       "      <td>1</td>\n",
       "      <td>1</td>\n",
       "      <td>4.0</td>\n",
       "    </tr>\n",
       "    <tr>\n",
       "      <th>TRINITY_DN10001_c1_g1</th>\n",
       "      <td>1</td>\n",
       "      <td>0</td>\n",
       "      <td>1</td>\n",
       "      <td>1</td>\n",
       "      <td>3.0</td>\n",
       "    </tr>\n",
       "    <tr>\n",
       "      <th>TRINITY_DN10001_c1_g2</th>\n",
       "      <td>1</td>\n",
       "      <td>0</td>\n",
       "      <td>0</td>\n",
       "      <td>0</td>\n",
       "      <td>1.0</td>\n",
       "    </tr>\n",
       "    <tr>\n",
       "      <th>TRINITY_DN10001_c1_g3</th>\n",
       "      <td>0</td>\n",
       "      <td>0</td>\n",
       "      <td>1</td>\n",
       "      <td>1</td>\n",
       "      <td>2.0</td>\n",
       "    </tr>\n",
       "  </tbody>\n",
       "</table>\n",
       "</div>"
      ],
      "text/plain": [
       "                        Subject1  Subject2  Subject3  Subject4  true\n",
       "transcript                                                          \n",
       "TRINITY_DN0_c0_g1              1         1         1         1   4.0\n",
       "TRINITY_DN0_c1_g1              1         1         1         1   4.0\n",
       "TRINITY_DN0_c1_g2              1         1         1         1   4.0\n",
       "TRINITY_DN100002_c0_g1         1         0         0         0   1.0\n",
       "TRINITY_DN100007_c0_g1         0         1         1         0   2.0\n",
       "TRINITY_DN100009_c0_g1         0         0         0         1   1.0\n",
       "TRINITY_DN10000_c0_g1          1         1         1         1   4.0\n",
       "TRINITY_DN100014_c0_g1         1         1         1         1   4.0\n",
       "TRINITY_DN100015_c0_g1         0         1         0         0   1.0\n",
       "TRINITY_DN100018_c0_g1         0         0         0         1   1.0\n",
       "TRINITY_DN10001_c0_g1          1         1         1         1   4.0\n",
       "TRINITY_DN10001_c1_g1          1         0         1         1   3.0\n",
       "TRINITY_DN10001_c1_g2          1         0         0         0   1.0\n",
       "TRINITY_DN10001_c1_g3          0         0         1         1   2.0"
      ]
     },
     "metadata": {},
     "output_type": "display_data"
    },
    {
     "name": "stdout",
     "output_type": "stream",
     "text": [
      "(array([ 0,  1,  2,  4,  6,  7, 10, 11, 13], dtype=int64),)\n"
     ]
    }
   ],
   "source": [
    "df_nonzero[\"true\"] = df_nonzero.sum(axis = 1)\n",
    "display(df_nonzero)\n",
    "a = np.where(df_nonzero.true > 1)\n",
    "print(a)"
   ]
  },
  {
   "cell_type": "code",
   "execution_count": 30,
   "metadata": {},
   "outputs": [
    {
     "data": {
      "text/html": [
       "<div>\n",
       "<style scoped>\n",
       "    .dataframe tbody tr th:only-of-type {\n",
       "        vertical-align: middle;\n",
       "    }\n",
       "\n",
       "    .dataframe tbody tr th {\n",
       "        vertical-align: top;\n",
       "    }\n",
       "\n",
       "    .dataframe thead th {\n",
       "        text-align: right;\n",
       "    }\n",
       "</style>\n",
       "<table border=\"1\" class=\"dataframe\">\n",
       "  <thead>\n",
       "    <tr style=\"text-align: right;\">\n",
       "      <th></th>\n",
       "      <th>index</th>\n",
       "      <th>transcript</th>\n",
       "      <th>Subject1</th>\n",
       "      <th>Subject2</th>\n",
       "      <th>Subject3</th>\n",
       "      <th>Subject4</th>\n",
       "      <th>true</th>\n",
       "    </tr>\n",
       "  </thead>\n",
       "  <tbody>\n",
       "  </tbody>\n",
       "</table>\n",
       "</div>"
      ],
      "text/plain": [
       "Empty DataFrame\n",
       "Columns: [index, transcript, Subject1, Subject2, Subject3, Subject4, true]\n",
       "Index: []"
      ]
     },
     "metadata": {},
     "output_type": "display_data"
    }
   ],
   "source": [
    "df_nonzero = df_nonzero.reset_index()\n",
    "display(df_nonzero)"
   ]
  },
  {
   "cell_type": "markdown",
   "metadata": {},
   "source": [
    "## Experiment 6:setting expression threshold"
   ]
  },
  {
   "cell_type": "markdown",
   "metadata": {},
   "source": [
    "So far we only remove transcripts which was exactly zero, however very small non-zero values of expression can also be due noise alone. Let’s apply the non-zero expression threshold to filter our transcripts which has three or more subjects below 0.3. How many transcript do you have now?"
   ]
  },
  {
   "cell_type": "code",
   "execution_count": 8,
   "metadata": {},
   "outputs": [
    {
     "name": "stderr",
     "output_type": "stream",
     "text": [
      "C:\\ProgramData\\Anaconda3\\lib\\site-packages\\pandas\\core\\generic.py:5494: SettingWithCopyWarning: \n",
      "A value is trying to be set on a copy of a slice from a DataFrame.\n",
      "Try using .loc[row_indexer,col_indexer] = value instead\n",
      "\n",
      "See the caveats in the documentation: https://pandas.pydata.org/pandas-docs/stable/user_guide/indexing.html#returning-a-view-versus-a-copy\n",
      "  self[name] = value\n"
     ]
    },
    {
     "data": {
      "text/html": [
       "<div>\n",
       "<style scoped>\n",
       "    .dataframe tbody tr th:only-of-type {\n",
       "        vertical-align: middle;\n",
       "    }\n",
       "\n",
       "    .dataframe tbody tr th {\n",
       "        vertical-align: top;\n",
       "    }\n",
       "\n",
       "    .dataframe thead th {\n",
       "        text-align: right;\n",
       "    }\n",
       "</style>\n",
       "<table border=\"1\" class=\"dataframe\">\n",
       "  <thead>\n",
       "    <tr style=\"text-align: right;\">\n",
       "      <th></th>\n",
       "      <th>Subject1</th>\n",
       "      <th>Subject2</th>\n",
       "      <th>Subject3</th>\n",
       "      <th>Subject4</th>\n",
       "    </tr>\n",
       "    <tr>\n",
       "      <th>transcript</th>\n",
       "      <th></th>\n",
       "      <th></th>\n",
       "      <th></th>\n",
       "      <th></th>\n",
       "    </tr>\n",
       "  </thead>\n",
       "  <tbody>\n",
       "    <tr>\n",
       "      <th>TRINITY_DN0_c0_g1</th>\n",
       "      <td>1.0</td>\n",
       "      <td>1</td>\n",
       "      <td>1</td>\n",
       "      <td>1</td>\n",
       "    </tr>\n",
       "    <tr>\n",
       "      <th>TRINITY_DN0_c1_g1</th>\n",
       "      <td>1.0</td>\n",
       "      <td>1</td>\n",
       "      <td>1</td>\n",
       "      <td>1</td>\n",
       "    </tr>\n",
       "    <tr>\n",
       "      <th>TRINITY_DN0_c1_g2</th>\n",
       "      <td>1.0</td>\n",
       "      <td>1</td>\n",
       "      <td>1</td>\n",
       "      <td>1</td>\n",
       "    </tr>\n",
       "    <tr>\n",
       "      <th>TRINITY_DN100002_c0_g1</th>\n",
       "      <td>1.0</td>\n",
       "      <td>0</td>\n",
       "      <td>0</td>\n",
       "      <td>0</td>\n",
       "    </tr>\n",
       "    <tr>\n",
       "      <th>TRINITY_DN100007_c0_g1</th>\n",
       "      <td>NaN</td>\n",
       "      <td>1</td>\n",
       "      <td>1</td>\n",
       "      <td>0</td>\n",
       "    </tr>\n",
       "    <tr>\n",
       "      <th>TRINITY_DN100009_c0_g1</th>\n",
       "      <td>NaN</td>\n",
       "      <td>0</td>\n",
       "      <td>0</td>\n",
       "      <td>1</td>\n",
       "    </tr>\n",
       "    <tr>\n",
       "      <th>TRINITY_DN10000_c0_g1</th>\n",
       "      <td>1.0</td>\n",
       "      <td>1</td>\n",
       "      <td>1</td>\n",
       "      <td>1</td>\n",
       "    </tr>\n",
       "    <tr>\n",
       "      <th>TRINITY_DN100014_c0_g1</th>\n",
       "      <td>1.0</td>\n",
       "      <td>1</td>\n",
       "      <td>1</td>\n",
       "      <td>1</td>\n",
       "    </tr>\n",
       "    <tr>\n",
       "      <th>TRINITY_DN100015_c0_g1</th>\n",
       "      <td>NaN</td>\n",
       "      <td>1</td>\n",
       "      <td>0</td>\n",
       "      <td>0</td>\n",
       "    </tr>\n",
       "    <tr>\n",
       "      <th>TRINITY_DN100018_c0_g1</th>\n",
       "      <td>NaN</td>\n",
       "      <td>0</td>\n",
       "      <td>0</td>\n",
       "      <td>1</td>\n",
       "    </tr>\n",
       "    <tr>\n",
       "      <th>TRINITY_DN10001_c0_g1</th>\n",
       "      <td>1.0</td>\n",
       "      <td>1</td>\n",
       "      <td>1</td>\n",
       "      <td>1</td>\n",
       "    </tr>\n",
       "    <tr>\n",
       "      <th>TRINITY_DN10001_c1_g1</th>\n",
       "      <td>1.0</td>\n",
       "      <td>0</td>\n",
       "      <td>1</td>\n",
       "      <td>1</td>\n",
       "    </tr>\n",
       "    <tr>\n",
       "      <th>TRINITY_DN10001_c1_g2</th>\n",
       "      <td>1.0</td>\n",
       "      <td>0</td>\n",
       "      <td>0</td>\n",
       "      <td>0</td>\n",
       "    </tr>\n",
       "    <tr>\n",
       "      <th>TRINITY_DN10001_c1_g3</th>\n",
       "      <td>NaN</td>\n",
       "      <td>0</td>\n",
       "      <td>1</td>\n",
       "      <td>1</td>\n",
       "    </tr>\n",
       "  </tbody>\n",
       "</table>\n",
       "</div>"
      ],
      "text/plain": [
       "                        Subject1  Subject2  Subject3  Subject4\n",
       "transcript                                                    \n",
       "TRINITY_DN0_c0_g1            1.0         1         1         1\n",
       "TRINITY_DN0_c1_g1            1.0         1         1         1\n",
       "TRINITY_DN0_c1_g2            1.0         1         1         1\n",
       "TRINITY_DN100002_c0_g1       1.0         0         0         0\n",
       "TRINITY_DN100007_c0_g1       NaN         1         1         0\n",
       "TRINITY_DN100009_c0_g1       NaN         0         0         1\n",
       "TRINITY_DN10000_c0_g1        1.0         1         1         1\n",
       "TRINITY_DN100014_c0_g1       1.0         1         1         1\n",
       "TRINITY_DN100015_c0_g1       NaN         1         0         0\n",
       "TRINITY_DN100018_c0_g1       NaN         0         0         1\n",
       "TRINITY_DN10001_c0_g1        1.0         1         1         1\n",
       "TRINITY_DN10001_c1_g1        1.0         0         1         1\n",
       "TRINITY_DN10001_c1_g2        1.0         0         0         0\n",
       "TRINITY_DN10001_c1_g3        NaN         0         1         1"
      ]
     },
     "execution_count": 8,
     "metadata": {},
     "output_type": "execute_result"
    }
   ],
   "source": [
    "df_nonzero.Subject1 = df_nonzero.Subject1[df_nonzero.Subject1 >= 0.3]\n",
    "df_nonzero"
   ]
  },
  {
   "cell_type": "markdown",
   "metadata": {},
   "source": [
    "## Experiment 7: writing transcripts in a file"
   ]
  },
  {
   "cell_type": "markdown",
   "metadata": {},
   "source": [
    "Extract names of filtered transcripts from Experiment 6 and save them in a .csv file. The file should contain subjec names in a firsts row."
   ]
  },
  {
   "cell_type": "code",
   "execution_count": 37,
   "metadata": {},
   "outputs": [
    {
     "ename": "NameError",
     "evalue": "name 'df_nonzero2' is not defined",
     "output_type": "error",
     "traceback": [
      "\u001b[1;31m---------------------------------------------------------------------------\u001b[0m",
      "\u001b[1;31mNameError\u001b[0m                                 Traceback (most recent call last)",
      "\u001b[1;32m<ipython-input-37-fff437cc5171>\u001b[0m in \u001b[0;36m<module>\u001b[1;34m\u001b[0m\n\u001b[1;32m----> 1\u001b[1;33m \u001b[0mdf_nonzero2\u001b[0m\u001b[1;33m.\u001b[0m\u001b[0mto_csv\u001b[0m\u001b[1;33m(\u001b[0m\u001b[1;33m)\u001b[0m\u001b[1;33m\u001b[0m\u001b[1;33m\u001b[0m\u001b[0m\n\u001b[0m",
      "\u001b[1;31mNameError\u001b[0m: name 'df_nonzero2' is not defined"
     ]
    }
   ],
   "source": [
    "df_nonzero2.to_csv()"
   ]
  },
  {
   "cell_type": "markdown",
   "metadata": {},
   "source": [
    "## Experiment 8: names of experimental subjects"
   ]
  },
  {
   "cell_type": "markdown",
   "metadata": {},
   "source": [
    "Use appropriate commands to extract names of experimental subjects. Save them in .csv file."
   ]
  },
  {
   "cell_type": "code",
   "execution_count": 74,
   "metadata": {},
   "outputs": [
    {
     "data": {
      "text/plain": [
       "',0\\r\\n0,Subject1\\r\\n1,Subject2\\r\\n2,Subject3\\r\\n3,Subject4\\r\\n'"
      ]
     },
     "execution_count": 74,
     "metadata": {},
     "output_type": "execute_result"
    }
   ],
   "source": [
    "col_list = []\n",
    "for col in df_nonzero2:\n",
    "    col_list.append(col)\n",
    "df1 = pd.DataFrame(col_list)\n",
    "df1.to_csv()    "
   ]
  },
  {
   "cell_type": "code",
   "execution_count": null,
   "metadata": {},
   "outputs": [],
   "source": []
  },
  {
   "cell_type": "code",
   "execution_count": null,
   "metadata": {},
   "outputs": [],
   "source": []
  },
  {
   "cell_type": "code",
   "execution_count": null,
   "metadata": {},
   "outputs": [],
   "source": []
  },
  {
   "cell_type": "code",
   "execution_count": null,
   "metadata": {},
   "outputs": [],
   "source": []
  },
  {
   "cell_type": "code",
   "execution_count": null,
   "metadata": {},
   "outputs": [],
   "source": []
  },
  {
   "cell_type": "code",
   "execution_count": null,
   "metadata": {},
   "outputs": [],
   "source": []
  },
  {
   "cell_type": "code",
   "execution_count": null,
   "metadata": {},
   "outputs": [],
   "source": []
  },
  {
   "cell_type": "code",
   "execution_count": null,
   "metadata": {},
   "outputs": [],
   "source": []
  },
  {
   "cell_type": "code",
   "execution_count": null,
   "metadata": {},
   "outputs": [],
   "source": []
  },
  {
   "cell_type": "code",
   "execution_count": null,
   "metadata": {},
   "outputs": [],
   "source": []
  },
  {
   "cell_type": "code",
   "execution_count": null,
   "metadata": {},
   "outputs": [],
   "source": []
  },
  {
   "cell_type": "code",
   "execution_count": null,
   "metadata": {},
   "outputs": [],
   "source": []
  },
  {
   "cell_type": "code",
   "execution_count": null,
   "metadata": {},
   "outputs": [],
   "source": []
  },
  {
   "cell_type": "code",
   "execution_count": null,
   "metadata": {},
   "outputs": [],
   "source": []
  },
  {
   "cell_type": "code",
   "execution_count": null,
   "metadata": {},
   "outputs": [],
   "source": []
  },
  {
   "cell_type": "code",
   "execution_count": null,
   "metadata": {},
   "outputs": [],
   "source": []
  },
  {
   "cell_type": "code",
   "execution_count": null,
   "metadata": {},
   "outputs": [],
   "source": []
  },
  {
   "cell_type": "code",
   "execution_count": null,
   "metadata": {},
   "outputs": [],
   "source": []
  },
  {
   "cell_type": "code",
   "execution_count": null,
   "metadata": {},
   "outputs": [],
   "source": []
  },
  {
   "cell_type": "code",
   "execution_count": null,
   "metadata": {},
   "outputs": [],
   "source": []
  },
  {
   "cell_type": "code",
   "execution_count": null,
   "metadata": {},
   "outputs": [],
   "source": []
  },
  {
   "cell_type": "code",
   "execution_count": null,
   "metadata": {},
   "outputs": [],
   "source": []
  },
  {
   "cell_type": "code",
   "execution_count": null,
   "metadata": {},
   "outputs": [],
   "source": []
  },
  {
   "cell_type": "code",
   "execution_count": null,
   "metadata": {},
   "outputs": [],
   "source": []
  },
  {
   "cell_type": "code",
   "execution_count": null,
   "metadata": {},
   "outputs": [],
   "source": []
  },
  {
   "cell_type": "code",
   "execution_count": null,
   "metadata": {},
   "outputs": [],
   "source": []
  },
  {
   "cell_type": "code",
   "execution_count": null,
   "metadata": {},
   "outputs": [],
   "source": []
  },
  {
   "cell_type": "code",
   "execution_count": null,
   "metadata": {},
   "outputs": [],
   "source": []
  }
 ],
 "metadata": {
  "kernelspec": {
   "display_name": "Python 3",
   "language": "python",
   "name": "python3"
  },
  "language_info": {
   "codemirror_mode": {
    "name": "ipython",
    "version": 3
   },
   "file_extension": ".py",
   "mimetype": "text/x-python",
   "name": "python",
   "nbconvert_exporter": "python",
   "pygments_lexer": "ipython3",
   "version": "3.8.8"
  }
 },
 "nbformat": 4,
 "nbformat_minor": 2
}
