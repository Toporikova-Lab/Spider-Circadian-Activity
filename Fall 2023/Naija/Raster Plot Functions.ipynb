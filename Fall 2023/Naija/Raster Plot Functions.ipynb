{
 "cells": [
  {
   "cell_type": "markdown",
   "id": "8b28221e",
   "metadata": {},
   "source": [
    "# Raster Plot Functions"
   ]
  },
  {
   "cell_type": "code",
   "execution_count": 3,
   "id": "92503e4a",
   "metadata": {},
   "outputs": [],
   "source": [
    "#Import relevant packages\n",
    "import pandas as pd\n",
    "import numpy as np\n",
    "import matplotlib.pyplot as plt\n",
    "from datetime import datetime\n",
    "from datetime import timedelta"
   ]
  },
  {
   "cell_type": "code",
   "execution_count": 4,
   "id": "465e5d95",
   "metadata": {},
   "outputs": [],
   "source": [
    "#Download data\n",
    "df1 = pd.read_csv(\"Practice 3_data1.csv\")"
   ]
  },
  {
   "cell_type": "markdown",
   "id": "2eb7b3cf",
   "metadata": {},
   "source": [
    "### Clean and transform data frame to useable format"
   ]
  },
  {
   "cell_type": "markdown",
   "id": "79a0105b",
   "metadata": {},
   "source": [
    "Overall Goal: raster figure with day-to-day plots containing activity (no. of crossings) on the y-axis and time (hour) on the x-axis.\n",
    "\n",
    "Necessary components: \n",
    "    - Readable and callable time and date information\n",
    "    - Time elapsed in hours\n",
    "    - Days elapsed or day labels"
   ]
  },
  {
   "cell_type": "code",
   "execution_count": 5,
   "id": "c2278373",
   "metadata": {},
   "outputs": [],
   "source": [
    "#Combine Date and Time to one, new column\n",
    "df1[\"date_time\"] = df1[\"Date\"] + \" \" + df1[\"Time\"]\n",
    "df1[\"date_time\"] = pd.to_datetime(df1[\"date_time\"])"
   ]
  },
  {
   "cell_type": "code",
   "execution_count": 6,
   "id": "7e7a6901",
   "metadata": {},
   "outputs": [],
   "source": [
    "#Add new time elapsed column\n",
    "x = pd.to_datetime(df1[\"date_time\"])- pd.to_datetime(df1.at[0, \"date_time\"])\n",
    "df1[\"timedelta\"] = x\n",
    "#Convert time elapsed into hours\n",
    "df1[\"time_hour\"] = df1[\"timedelta\"].dt.total_seconds().div(3600)"
   ]
  },
  {
   "cell_type": "code",
   "execution_count": 7,
   "id": "0f6022b1",
   "metadata": {},
   "outputs": [
    {
     "data": {
      "text/html": [
       "<div>\n",
       "<style scoped>\n",
       "    .dataframe tbody tr th:only-of-type {\n",
       "        vertical-align: middle;\n",
       "    }\n",
       "\n",
       "    .dataframe tbody tr th {\n",
       "        vertical-align: top;\n",
       "    }\n",
       "\n",
       "    .dataframe thead th {\n",
       "        text-align: right;\n",
       "    }\n",
       "</style>\n",
       "<table border=\"1\" class=\"dataframe\">\n",
       "  <thead>\n",
       "    <tr style=\"text-align: right;\">\n",
       "      <th></th>\n",
       "      <th>Date</th>\n",
       "      <th>Time</th>\n",
       "      <th>lights</th>\n",
       "      <th>s2</th>\n",
       "      <th>date_time</th>\n",
       "      <th>timedelta</th>\n",
       "      <th>time_hour</th>\n",
       "      <th>days_since</th>\n",
       "    </tr>\n",
       "  </thead>\n",
       "  <tbody>\n",
       "    <tr>\n",
       "      <th>0</th>\n",
       "      <td>10-Jun-17</td>\n",
       "      <td>12:25:00</td>\n",
       "      <td>1</td>\n",
       "      <td>3</td>\n",
       "      <td>2017-06-10 12:25:00</td>\n",
       "      <td>0 days 00:00:00</td>\n",
       "      <td>0.000000</td>\n",
       "      <td>0</td>\n",
       "    </tr>\n",
       "    <tr>\n",
       "      <th>1</th>\n",
       "      <td>10-Jun-17</td>\n",
       "      <td>12:26:00</td>\n",
       "      <td>1</td>\n",
       "      <td>3</td>\n",
       "      <td>2017-06-10 12:26:00</td>\n",
       "      <td>0 days 00:01:00</td>\n",
       "      <td>0.016667</td>\n",
       "      <td>0</td>\n",
       "    </tr>\n",
       "    <tr>\n",
       "      <th>2</th>\n",
       "      <td>10-Jun-17</td>\n",
       "      <td>12:27:00</td>\n",
       "      <td>1</td>\n",
       "      <td>1</td>\n",
       "      <td>2017-06-10 12:27:00</td>\n",
       "      <td>0 days 00:02:00</td>\n",
       "      <td>0.033333</td>\n",
       "      <td>0</td>\n",
       "    </tr>\n",
       "    <tr>\n",
       "      <th>3</th>\n",
       "      <td>10-Jun-17</td>\n",
       "      <td>12:28:00</td>\n",
       "      <td>1</td>\n",
       "      <td>5</td>\n",
       "      <td>2017-06-10 12:28:00</td>\n",
       "      <td>0 days 00:03:00</td>\n",
       "      <td>0.050000</td>\n",
       "      <td>0</td>\n",
       "    </tr>\n",
       "    <tr>\n",
       "      <th>4</th>\n",
       "      <td>10-Jun-17</td>\n",
       "      <td>12:29:00</td>\n",
       "      <td>1</td>\n",
       "      <td>0</td>\n",
       "      <td>2017-06-10 12:29:00</td>\n",
       "      <td>0 days 00:04:00</td>\n",
       "      <td>0.066667</td>\n",
       "      <td>0</td>\n",
       "    </tr>\n",
       "    <tr>\n",
       "      <th>...</th>\n",
       "      <td>...</td>\n",
       "      <td>...</td>\n",
       "      <td>...</td>\n",
       "      <td>...</td>\n",
       "      <td>...</td>\n",
       "      <td>...</td>\n",
       "      <td>...</td>\n",
       "      <td>...</td>\n",
       "    </tr>\n",
       "    <tr>\n",
       "      <th>25999</th>\n",
       "      <td>28-Jun-17</td>\n",
       "      <td>13:44:00</td>\n",
       "      <td>0</td>\n",
       "      <td>0</td>\n",
       "      <td>2017-06-28 13:44:00</td>\n",
       "      <td>18 days 01:19:00</td>\n",
       "      <td>433.316667</td>\n",
       "      <td>18</td>\n",
       "    </tr>\n",
       "    <tr>\n",
       "      <th>26000</th>\n",
       "      <td>28-Jun-17</td>\n",
       "      <td>13:45:00</td>\n",
       "      <td>0</td>\n",
       "      <td>0</td>\n",
       "      <td>2017-06-28 13:45:00</td>\n",
       "      <td>18 days 01:20:00</td>\n",
       "      <td>433.333333</td>\n",
       "      <td>18</td>\n",
       "    </tr>\n",
       "    <tr>\n",
       "      <th>26001</th>\n",
       "      <td>28-Jun-17</td>\n",
       "      <td>13:46:00</td>\n",
       "      <td>0</td>\n",
       "      <td>0</td>\n",
       "      <td>2017-06-28 13:46:00</td>\n",
       "      <td>18 days 01:21:00</td>\n",
       "      <td>433.350000</td>\n",
       "      <td>18</td>\n",
       "    </tr>\n",
       "    <tr>\n",
       "      <th>26002</th>\n",
       "      <td>28-Jun-17</td>\n",
       "      <td>13:47:00</td>\n",
       "      <td>0</td>\n",
       "      <td>0</td>\n",
       "      <td>2017-06-28 13:47:00</td>\n",
       "      <td>18 days 01:22:00</td>\n",
       "      <td>433.366667</td>\n",
       "      <td>18</td>\n",
       "    </tr>\n",
       "    <tr>\n",
       "      <th>26003</th>\n",
       "      <td>28-Jun-17</td>\n",
       "      <td>13:48:00</td>\n",
       "      <td>0</td>\n",
       "      <td>0</td>\n",
       "      <td>2017-06-28 13:48:00</td>\n",
       "      <td>18 days 01:23:00</td>\n",
       "      <td>433.383333</td>\n",
       "      <td>18</td>\n",
       "    </tr>\n",
       "  </tbody>\n",
       "</table>\n",
       "<p>26004 rows × 8 columns</p>\n",
       "</div>"
      ],
      "text/plain": [
       "            Date      Time  lights  s2           date_time        timedelta  \\\n",
       "0      10-Jun-17  12:25:00       1   3 2017-06-10 12:25:00  0 days 00:00:00   \n",
       "1      10-Jun-17  12:26:00       1   3 2017-06-10 12:26:00  0 days 00:01:00   \n",
       "2      10-Jun-17  12:27:00       1   1 2017-06-10 12:27:00  0 days 00:02:00   \n",
       "3      10-Jun-17  12:28:00       1   5 2017-06-10 12:28:00  0 days 00:03:00   \n",
       "4      10-Jun-17  12:29:00       1   0 2017-06-10 12:29:00  0 days 00:04:00   \n",
       "...          ...       ...     ...  ..                 ...              ...   \n",
       "25999  28-Jun-17  13:44:00       0   0 2017-06-28 13:44:00 18 days 01:19:00   \n",
       "26000  28-Jun-17  13:45:00       0   0 2017-06-28 13:45:00 18 days 01:20:00   \n",
       "26001  28-Jun-17  13:46:00       0   0 2017-06-28 13:46:00 18 days 01:21:00   \n",
       "26002  28-Jun-17  13:47:00       0   0 2017-06-28 13:47:00 18 days 01:22:00   \n",
       "26003  28-Jun-17  13:48:00       0   0 2017-06-28 13:48:00 18 days 01:23:00   \n",
       "\n",
       "        time_hour  days_since  \n",
       "0        0.000000           0  \n",
       "1        0.016667           0  \n",
       "2        0.033333           0  \n",
       "3        0.050000           0  \n",
       "4        0.066667           0  \n",
       "...           ...         ...  \n",
       "25999  433.316667          18  \n",
       "26000  433.333333          18  \n",
       "26001  433.350000          18  \n",
       "26002  433.366667          18  \n",
       "26003  433.383333          18  \n",
       "\n",
       "[26004 rows x 8 columns]"
      ]
     },
     "execution_count": 7,
     "metadata": {},
     "output_type": "execute_result"
    }
   ],
   "source": [
    "#Add days elasped column\n",
    "days = pd.to_datetime(df1[\"date_time\"])- pd.to_datetime(df1.at[0, \"date_time\"])\n",
    "df1[\"days_since\"] = days\n",
    "df1[\"days_since\"] = df1[\"days_since\"].dt.days\n",
    "df1"
   ]
  },
  {
   "cell_type": "markdown",
   "id": "9ffc6567",
   "metadata": {},
   "source": [
    "## Function that filters data frame"
   ]
  },
  {
   "cell_type": "code",
   "execution_count": 8,
   "id": "ebd0f95e",
   "metadata": {},
   "outputs": [],
   "source": [
    "def period_data(frame, data, timedata, timeperiod1, timeperiod2):\n",
    "    y = frame[data].loc[(frame[timedata]>=timeperiod1) & (frame[timedata]<=timeperiod2)]\n",
    "    x = frame[timedata].loc[(frame[timedata]>=timeperiod1) & (frame[timedata]<=timeperiod2)]\n",
    "    return x, y"
   ]
  },
  {
   "cell_type": "code",
   "execution_count": 9,
   "id": "212df7b3",
   "metadata": {},
   "outputs": [
    {
     "data": {
      "text/plain": [
       "(0        0.000000\n",
       " 1        0.016667\n",
       " 2        0.033333\n",
       " 3        0.050000\n",
       " 4        0.066667\n",
       "           ...    \n",
       " 1436    23.933333\n",
       " 1437    23.950000\n",
       " 1438    23.966667\n",
       " 1439    23.983333\n",
       " 1440    24.000000\n",
       " Name: time_hour, Length: 1441, dtype: float64,\n",
       " 0       3\n",
       " 1       3\n",
       " 2       1\n",
       " 3       5\n",
       " 4       0\n",
       "        ..\n",
       " 1436    0\n",
       " 1437    0\n",
       " 1438    0\n",
       " 1439    0\n",
       " 1440    0\n",
       " Name: s2, Length: 1441, dtype: int64)"
      ]
     },
     "execution_count": 9,
     "metadata": {},
     "output_type": "execute_result"
    }
   ],
   "source": [
    "period_data(df1, \"s2\", \"time_hour\", 0, 24)"
   ]
  },
  {
   "cell_type": "markdown",
   "id": "4e10cc43",
   "metadata": {},
   "source": [
    "## Function that plots data into Raster plot"
   ]
  },
  {
   "cell_type": "code",
   "execution_count": 10,
   "id": "da43d3f2",
   "metadata": {},
   "outputs": [],
   "source": [
    "def one_raster(frame, activitydata, timedata, timeperiod1, timeperiod2, xlabel, ylabel):\n",
    "    time, activity = period_data(frame, activitydata, timedata, timeperiod1, timeperiod2)\n",
    "    plt.figure(figsize=(7,1))\n",
    "    plot = plt.plot(time, activity, color='black')\n",
    "    plt.xlabel(xlabel)\n",
    "    plt.ylabel(ylabel)\n",
    "    return plot"
   ]
  },
  {
   "cell_type": "code",
   "execution_count": 11,
   "id": "39f9f05d",
   "metadata": {
    "scrolled": true
   },
   "outputs": [
    {
     "data": {
      "text/plain": [
       "[<matplotlib.lines.Line2D at 0x2065808f3d0>]"
      ]
     },
     "execution_count": 11,
     "metadata": {},
     "output_type": "execute_result"
    },
    {
     "data": {
      "image/png": "[encoded data removed]",
      "text/plain": [
       "<Figure size 700x100 with 1 Axes>"
      ]
     },
     "metadata": {},
     "output_type": "display_data"
    }
   ],
   "source": [
    "one_raster(df1, \"s2\", \"time_hour\", 0, 24, \"time (hours)\", \"activity\")"
   ]
  },
  {
   "cell_type": "code",
   "execution_count": 12,
   "id": "36ecd791",
   "metadata": {},
   "outputs": [
    {
     "data": {
      "text/plain": [
       "[<matplotlib.lines.Line2D at 0x206581c96c0>]"
      ]
     },
     "execution_count": 12,
     "metadata": {},
     "output_type": "execute_result"
    },
    {
     "data": {
      "image/png": "[encoded data removed]",
      "text/plain": [
       "<Figure size 700x100 with 1 Axes>"
      ]
     },
     "metadata": {},
     "output_type": "display_data"
    }
   ],
   "source": [
    "one_raster(df1, \"s2\", \"time_hour\", 24, 48, \"time(hours)\", \"activity\")"
   ]
  },
  {
   "cell_type": "markdown",
   "id": "4aebb1a7",
   "metadata": {},
   "source": [
    "## Multiday Raster Plot"
   ]
  },
  {
   "cell_type": "code",
   "execution_count": 13,
   "id": "21a95d88",
   "metadata": {},
   "outputs": [
    {
     "data": {
      "text/html": [
       "<div>\n",
       "<style scoped>\n",
       "    .dataframe tbody tr th:only-of-type {\n",
       "        vertical-align: middle;\n",
       "    }\n",
       "\n",
       "    .dataframe tbody tr th {\n",
       "        vertical-align: top;\n",
       "    }\n",
       "\n",
       "    .dataframe thead th {\n",
       "        text-align: right;\n",
       "    }\n",
       "</style>\n",
       "<table border=\"1\" class=\"dataframe\">\n",
       "  <thead>\n",
       "    <tr style=\"text-align: right;\">\n",
       "      <th></th>\n",
       "      <th>lights</th>\n",
       "      <th>s2</th>\n",
       "    </tr>\n",
       "    <tr>\n",
       "      <th>date_time</th>\n",
       "      <th></th>\n",
       "      <th></th>\n",
       "    </tr>\n",
       "  </thead>\n",
       "  <tbody>\n",
       "    <tr>\n",
       "      <th>2017-06-10 12:25:00</th>\n",
       "      <td>1</td>\n",
       "      <td>3</td>\n",
       "    </tr>\n",
       "    <tr>\n",
       "      <th>2017-06-10 12:26:00</th>\n",
       "      <td>1</td>\n",
       "      <td>3</td>\n",
       "    </tr>\n",
       "    <tr>\n",
       "      <th>2017-06-10 12:27:00</th>\n",
       "      <td>1</td>\n",
       "      <td>1</td>\n",
       "    </tr>\n",
       "    <tr>\n",
       "      <th>2017-06-10 12:28:00</th>\n",
       "      <td>1</td>\n",
       "      <td>5</td>\n",
       "    </tr>\n",
       "    <tr>\n",
       "      <th>2017-06-10 12:29:00</th>\n",
       "      <td>1</td>\n",
       "      <td>0</td>\n",
       "    </tr>\n",
       "    <tr>\n",
       "      <th>...</th>\n",
       "      <td>...</td>\n",
       "      <td>...</td>\n",
       "    </tr>\n",
       "    <tr>\n",
       "      <th>2017-06-28 13:44:00</th>\n",
       "      <td>0</td>\n",
       "      <td>0</td>\n",
       "    </tr>\n",
       "    <tr>\n",
       "      <th>2017-06-28 13:45:00</th>\n",
       "      <td>0</td>\n",
       "      <td>0</td>\n",
       "    </tr>\n",
       "    <tr>\n",
       "      <th>2017-06-28 13:46:00</th>\n",
       "      <td>0</td>\n",
       "      <td>0</td>\n",
       "    </tr>\n",
       "    <tr>\n",
       "      <th>2017-06-28 13:47:00</th>\n",
       "      <td>0</td>\n",
       "      <td>0</td>\n",
       "    </tr>\n",
       "    <tr>\n",
       "      <th>2017-06-28 13:48:00</th>\n",
       "      <td>0</td>\n",
       "      <td>0</td>\n",
       "    </tr>\n",
       "  </tbody>\n",
       "</table>\n",
       "<p>26004 rows × 2 columns</p>\n",
       "</div>"
      ],
      "text/plain": [
       "                     lights  s2\n",
       "date_time                      \n",
       "2017-06-10 12:25:00       1   3\n",
       "2017-06-10 12:26:00       1   3\n",
       "2017-06-10 12:27:00       1   1\n",
       "2017-06-10 12:28:00       1   5\n",
       "2017-06-10 12:29:00       1   0\n",
       "...                     ...  ..\n",
       "2017-06-28 13:44:00       0   0\n",
       "2017-06-28 13:45:00       0   0\n",
       "2017-06-28 13:46:00       0   0\n",
       "2017-06-28 13:47:00       0   0\n",
       "2017-06-28 13:48:00       0   0\n",
       "\n",
       "[26004 rows x 2 columns]"
      ]
     },
     "execution_count": 13,
     "metadata": {},
     "output_type": "execute_result"
    }
   ],
   "source": [
    "df2 = pd.read_csv(\"Practice 3_data1.csv\")\n",
    "#Combine date and time columns and put in datetime format\n",
    "df2[\"date_time\"] = df2[\"Date\"] + \" \" + df1[\"Time\"]\n",
    "df2[\"date_time\"] = pd.to_datetime(df1[\"date_time\"])\n",
    "#Set datetime index & cleanup df\n",
    "df2 = df2.set_index(pd.DatetimeIndex(df2[\"date_time\"]))\n",
    "df2 = df2.drop([\"Date\", \"Time\", \"date_time\"], axis = 1)\n",
    "df2"
   ]
  },
  {
   "cell_type": "code",
   "execution_count": 47,
   "id": "23e41a5d",
   "metadata": {},
   "outputs": [
    {
     "ename": "IndexError",
     "evalue": "index 20 is out of bounds for axis 0 with size 20",
     "output_type": "error",
     "traceback": [
      "\u001b[1;31m---------------------------------------------------------------------------\u001b[0m",
      "\u001b[1;31mIndexError\u001b[0m                                Traceback (most recent call last)",
      "Cell \u001b[1;32mIn[47], line 14\u001b[0m\n\u001b[0;32m     12\u001b[0m \u001b[38;5;28;01mfor\u001b[39;00m day \u001b[38;5;129;01min\u001b[39;00m days:\n\u001b[0;32m     13\u001b[0m     slic \u001b[38;5;241m=\u001b[39m df2[df2\u001b[38;5;241m.\u001b[39mday \u001b[38;5;241m==\u001b[39m day]\n\u001b[1;32m---> 14\u001b[0m     slic[s2]\u001b[38;5;241m.\u001b[39mplot(x \u001b[38;5;241m=\u001b[39m df2\u001b[38;5;241m.\u001b[39mtime, y\u001b[38;5;241m=\u001b[39mdf2[s2], ax\u001b[38;5;241m=\u001b[39m\u001b[43maxes\u001b[49m\u001b[43m[\u001b[49m\u001b[43mrow\u001b[49m\u001b[43m]\u001b[49m)\n\u001b[0;32m     15\u001b[0m     plt\u001b[38;5;241m.\u001b[39msubplots_adjust(hspace \u001b[38;5;241m=\u001b[39m \u001b[38;5;241m0.5\u001b[39m)\n\u001b[0;32m     16\u001b[0m     row\u001b[38;5;241m+\u001b[39m\u001b[38;5;241m=\u001b[39m\u001b[38;5;241m1\u001b[39m\n",
      "\u001b[1;31mIndexError\u001b[0m: index 20 is out of bounds for axis 0 with size 20"
     ]
    },
    {
     "data": {
      "image/png": "[encoded data removed]",
      "text/plain": [
       "<Figure size 800x1000 with 20 Axes>"
      ]
     },
     "metadata": {},
     "output_type": "display_data"
    }
   ],
   "source": [
    "#Isolate days and time\n",
    "df2[\"day\"]=df2.index.day\n",
    "df2['time']=df2.index.strftime('%H:%M')\n",
    "#Count the number of days present in the dataset\n",
    "days2 = df2['day'].unique()\n",
    "n = len(days2)+1\n",
    "row=0\n",
    "#Create a figure with same number of subplots as days \n",
    "fig, axes = plt.subplots(n, figsize=(8, 10))\n",
    "s2=df2.columns[1]\n",
    "#Loop through days to plot\n",
    "for day in days:\n",
    "    slic = df2[df2.day == day]\n",
    "    slic[s2].plot(x = df2.time, y=df2[s2], ax=axes[row])\n",
    "    plt.subplots_adjust(hspace = 0.5)\n",
    "    row+=1"
   ]
  },
  {
   "cell_type": "code",
   "execution_count": 15,
   "id": "2535c154",
   "metadata": {},
   "outputs": [
    {
     "data": {
      "text/html": [
       "<div>\n",
       "<style scoped>\n",
       "    .dataframe tbody tr th:only-of-type {\n",
       "        vertical-align: middle;\n",
       "    }\n",
       "\n",
       "    .dataframe tbody tr th {\n",
       "        vertical-align: top;\n",
       "    }\n",
       "\n",
       "    .dataframe thead th {\n",
       "        text-align: right;\n",
       "    }\n",
       "</style>\n",
       "<table border=\"1\" class=\"dataframe\">\n",
       "  <thead>\n",
       "    <tr style=\"text-align: right;\">\n",
       "      <th></th>\n",
       "      <th>lights</th>\n",
       "      <th>s2</th>\n",
       "      <th>day</th>\n",
       "      <th>time</th>\n",
       "    </tr>\n",
       "    <tr>\n",
       "      <th>date_time</th>\n",
       "      <th></th>\n",
       "      <th></th>\n",
       "      <th></th>\n",
       "      <th></th>\n",
       "    </tr>\n",
       "  </thead>\n",
       "  <tbody>\n",
       "    <tr>\n",
       "      <th>2017-06-10 12:25:00</th>\n",
       "      <td>1</td>\n",
       "      <td>3</td>\n",
       "      <td>1</td>\n",
       "      <td>12:25</td>\n",
       "    </tr>\n",
       "    <tr>\n",
       "      <th>2017-06-10 12:26:00</th>\n",
       "      <td>1</td>\n",
       "      <td>3</td>\n",
       "      <td>1</td>\n",
       "      <td>12:26</td>\n",
       "    </tr>\n",
       "    <tr>\n",
       "      <th>2017-06-10 12:27:00</th>\n",
       "      <td>1</td>\n",
       "      <td>1</td>\n",
       "      <td>1</td>\n",
       "      <td>12:27</td>\n",
       "    </tr>\n",
       "    <tr>\n",
       "      <th>2017-06-10 12:28:00</th>\n",
       "      <td>1</td>\n",
       "      <td>5</td>\n",
       "      <td>1</td>\n",
       "      <td>12:28</td>\n",
       "    </tr>\n",
       "    <tr>\n",
       "      <th>2017-06-10 12:29:00</th>\n",
       "      <td>1</td>\n",
       "      <td>0</td>\n",
       "      <td>1</td>\n",
       "      <td>12:29</td>\n",
       "    </tr>\n",
       "    <tr>\n",
       "      <th>...</th>\n",
       "      <td>...</td>\n",
       "      <td>...</td>\n",
       "      <td>...</td>\n",
       "      <td>...</td>\n",
       "    </tr>\n",
       "    <tr>\n",
       "      <th>2017-06-10 23:55:00</th>\n",
       "      <td>0</td>\n",
       "      <td>2</td>\n",
       "      <td>1</td>\n",
       "      <td>23:55</td>\n",
       "    </tr>\n",
       "    <tr>\n",
       "      <th>2017-06-10 23:56:00</th>\n",
       "      <td>0</td>\n",
       "      <td>4</td>\n",
       "      <td>1</td>\n",
       "      <td>23:56</td>\n",
       "    </tr>\n",
       "    <tr>\n",
       "      <th>2017-06-10 23:57:00</th>\n",
       "      <td>0</td>\n",
       "      <td>3</td>\n",
       "      <td>1</td>\n",
       "      <td>23:57</td>\n",
       "    </tr>\n",
       "    <tr>\n",
       "      <th>2017-06-10 23:58:00</th>\n",
       "      <td>0</td>\n",
       "      <td>7</td>\n",
       "      <td>1</td>\n",
       "      <td>23:58</td>\n",
       "    </tr>\n",
       "    <tr>\n",
       "      <th>2017-06-10 23:59:00</th>\n",
       "      <td>0</td>\n",
       "      <td>1</td>\n",
       "      <td>1</td>\n",
       "      <td>23:59</td>\n",
       "    </tr>\n",
       "  </tbody>\n",
       "</table>\n",
       "<p>695 rows × 4 columns</p>\n",
       "</div>"
      ],
      "text/plain": [
       "                     lights  s2  day   time\n",
       "date_time                                  \n",
       "2017-06-10 12:25:00       1   3    1  12:25\n",
       "2017-06-10 12:26:00       1   3    1  12:26\n",
       "2017-06-10 12:27:00       1   1    1  12:27\n",
       "2017-06-10 12:28:00       1   5    1  12:28\n",
       "2017-06-10 12:29:00       1   0    1  12:29\n",
       "...                     ...  ..  ...    ...\n",
       "2017-06-10 23:55:00       0   2    1  23:55\n",
       "2017-06-10 23:56:00       0   4    1  23:56\n",
       "2017-06-10 23:57:00       0   3    1  23:57\n",
       "2017-06-10 23:58:00       0   7    1  23:58\n",
       "2017-06-10 23:59:00       0   1    1  23:59\n",
       "\n",
       "[695 rows x 4 columns]"
      ]
     },
     "execution_count": 15,
     "metadata": {},
     "output_type": "execute_result"
    }
   ],
   "source": [
    "slic"
   ]
  }
 ],
 "metadata": {
  "kernelspec": {
   "display_name": "Python 3 (ipykernel)",
   "language": "python",
   "name": "python3"
  },
  "language_info": {
   "codemirror_mode": {
    "name": "ipython",
    "version": 3
   },
   "file_extension": ".py",
   "mimetype": "text/x-python",
   "name": "python",
   "nbconvert_exporter": "python",
   "pygments_lexer": "ipython3",
   "version": "3.10.9"
  }
 },
 "nbformat": 4,
 "nbformat_minor": 5
}
