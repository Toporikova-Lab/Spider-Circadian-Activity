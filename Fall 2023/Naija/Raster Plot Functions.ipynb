{
 "cells": [
  {
   "cell_type": "markdown",
   "id": "8b28221e",
   "metadata": {},
   "source": [
    "# Raster Plot Functions"
   ]
  },
  {
   "cell_type": "code",
   "execution_count": 98,
   "id": "92503e4a",
   "metadata": {},
   "outputs": [],
   "source": [
    "#Import relevant packages\n",
    "import pandas as pd\n",
    "import numpy as np\n",
    "import matplotlib.pyplot as plt\n",
    "from datetime import datetime\n",
    "from datetime import timedelta"
   ]
  },
  {
   "cell_type": "code",
   "execution_count": 99,
   "id": "465e5d95",
   "metadata": {},
   "outputs": [],
   "source": [
    "#Download data\n",
    "df1 = pd.read_csv(\"Practice 3_data1.csv\")"
   ]
  },
  {
   "cell_type": "markdown",
   "id": "2eb7b3cf",
   "metadata": {},
   "source": [
    "### Clean and transform data frame to useable format"
   ]
  },
  {
   "cell_type": "markdown",
   "id": "79a0105b",
   "metadata": {},
   "source": [
    "Overall Goal: raster figure with day-to-day plots containing activity (no. of crossings) on the y-axis and time (hour) on the x-axis.\n",
    "\n",
    "Necessary components: \n",
    "    - Readable and callable time and date information\n",
    "    - Time elapsed in hours\n",
    "    - Days elapsed or day labels"
   ]
  },
  {
   "cell_type": "code",
   "execution_count": 100,
   "id": "c2278373",
   "metadata": {},
   "outputs": [],
   "source": [
    "#Combine Date and Time to one, new column\n",
    "df1[\"date_time\"] = df1[\"Date\"] + \" \" + df1[\"Time\"]\n",
    "df1[\"date_time\"] = pd.to_datetime(df1[\"date_time\"])"
   ]
  },
  {
   "cell_type": "code",
   "execution_count": 101,
   "id": "7e7a6901",
   "metadata": {},
   "outputs": [],
   "source": [
    "#Add new time elapsed column\n",
    "x = pd.to_datetime(df1[\"date_time\"])- pd.to_datetime(df1.at[0, \"date_time\"])\n",
    "df1[\"timedelta\"] = x\n",
    "#Convert time elapsed into hours\n",
    "df1[\"time_hour\"] = df1[\"timedelta\"].dt.total_seconds().div(3600)"
   ]
  },
  {
   "cell_type": "code",
   "execution_count": 102,
   "id": "0f6022b1",
   "metadata": {},
   "outputs": [],
   "source": [
    "#Add days elasped column\n",
    "days = pd.to_datetime(df1[\"date_time\"])- pd.to_datetime(df1.at[0, \"date_time\"])\n",
    "df1[\"days_since\"] = days\n",
    "df1[\"days_since\"] = df1[\"days_since\"].dt.days"
   ]
  },
  {
   "cell_type": "markdown",
   "id": "9ffc6567",
   "metadata": {},
   "source": [
    "## Function that filters data frame"
   ]
  },
  {
   "cell_type": "code",
   "execution_count": 103,
   "id": "ebd0f95e",
   "metadata": {},
   "outputs": [],
   "source": [
    "def period_data(frame, data, timedata, timeperiod1, timeperiod2):\n",
    "    y = frame[data].loc[(frame[timedata]>=timeperiod1) & (frame[timedata]<=timeperiod2)]\n",
    "    x = frame[timedata].loc[(frame[timedata]>=timeperiod1) & (frame[timedata]<=timeperiod2)]\n",
    "    return x, y"
   ]
  },
  {
   "cell_type": "code",
   "execution_count": 104,
   "id": "212df7b3",
   "metadata": {},
   "outputs": [
    {
     "data": {
      "text/plain": [
       "(0        0.000000\n",
       " 1        0.016667\n",
       " 2        0.033333\n",
       " 3        0.050000\n",
       " 4        0.066667\n",
       "           ...    \n",
       " 1436    23.933333\n",
       " 1437    23.950000\n",
       " 1438    23.966667\n",
       " 1439    23.983333\n",
       " 1440    24.000000\n",
       " Name: time_hour, Length: 1441, dtype: float64,\n",
       " 0       3\n",
       " 1       3\n",
       " 2       1\n",
       " 3       5\n",
       " 4       0\n",
       "        ..\n",
       " 1436    0\n",
       " 1437    0\n",
       " 1438    0\n",
       " 1439    0\n",
       " 1440    0\n",
       " Name: s2, Length: 1441, dtype: int64)"
      ]
     },
     "execution_count": 104,
     "metadata": {},
     "output_type": "execute_result"
    }
   ],
   "source": [
    "period_data(df1, \"s2\", \"time_hour\", 0, 24)"
   ]
  },
  {
   "cell_type": "markdown",
   "id": "4e10cc43",
   "metadata": {},
   "source": [
    "## Function that plots data into Raster plot"
   ]
  },
  {
   "cell_type": "code",
   "execution_count": 105,
   "id": "da43d3f2",
   "metadata": {},
   "outputs": [],
   "source": [
    "def one_raster(frame, activitydata, timedata, timeperiod1, timeperiod2, xlabel, ylabel):\n",
    "    time, activity = period_data(frame, activitydata, timedata, timeperiod1, timeperiod2)\n",
    "    plt.figure(figsize=(7,1))\n",
    "    plot = plt.plot(time, activity, color='black')\n",
    "    plt.xlabel(xlabel)\n",
    "    plt.ylabel(ylabel)\n",
    "    return plot"
   ]
  },
  {
   "cell_type": "code",
   "execution_count": 106,
   "id": "39f9f05d",
   "metadata": {
    "scrolled": true
   },
   "outputs": [
    {
     "data": {
      "text/plain": [
       "[<matplotlib.lines.Line2D at 0x1631c859d50>]"
      ]
     },
     "execution_count": 106,
     "metadata": {},
     "output_type": "execute_result"
    },
    {
     "data": {
      "image/png": "[encoded data removed]",
      "text/plain": [
       "<Figure size 700x100 with 1 Axes>"
      ]
     },
     "metadata": {},
     "output_type": "display_data"
    }
   ],
   "source": [
    "one_raster(df1, \"s2\", \"time_hour\", 0, 24, \"time (hours)\", \"activity\")"
   ]
  },
  {
   "cell_type": "code",
   "execution_count": 107,
   "id": "36ecd791",
   "metadata": {},
   "outputs": [
    {
     "data": {
      "text/plain": [
       "[<matplotlib.lines.Line2D at 0x1631c583b20>]"
      ]
     },
     "execution_count": 107,
     "metadata": {},
     "output_type": "execute_result"
    },
    {
     "data": {
      "image/png": "[encoded data removed]",
      "text/plain": [
       "<Figure size 700x100 with 1 Axes>"
      ]
     },
     "metadata": {},
     "output_type": "display_data"
    }
   ],
   "source": [
    "one_raster(df1, \"s2\", \"time_hour\", 24, 48, \"time(hours)\", \"activity\")"
   ]
  },
  {
   "cell_type": "code",
   "execution_count": null,
   "id": "019a2a1d",
   "metadata": {},
   "outputs": [],
   "source": []
  }
 ],
 "metadata": {
  "kernelspec": {
   "display_name": "Python 3 (ipykernel)",
   "language": "python",
   "name": "python3"
  },
  "language_info": {
   "codemirror_mode": {
    "name": "ipython",
    "version": 3
   },
   "file_extension": ".py",
   "mimetype": "text/x-python",
   "name": "python",
   "nbconvert_exporter": "python",
   "pygments_lexer": "ipython3",
   "version": "3.10.9"
  }
 },
 "nbformat": 4,
 "nbformat_minor": 5
}
