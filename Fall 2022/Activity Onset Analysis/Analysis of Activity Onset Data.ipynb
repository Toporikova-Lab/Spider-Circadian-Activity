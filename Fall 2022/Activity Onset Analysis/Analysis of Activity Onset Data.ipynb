{
 "cells": [
  {
   "cell_type": "code",
   "execution_count": 20,
   "metadata": {},
   "outputs": [],
   "source": [
    "#Import Libraries\n",
    "import pandas as pd\n",
    "import numpy as np\n",
    "import matplotlib.pyplot as plt\n",
    "import matplotlib.dates as matdates\n",
    "from datetime import timedelta\n",
    "import seaborn as sb\n",
    "import os"
   ]
  },
  {
   "cell_type": "code",
   "execution_count": 15,
   "metadata": {},
   "outputs": [],
   "source": [
    "#import summary files\n",
    "current_path = \"/Users/willcatalano/Library/CloudStorage/Box-Box/Spider Data Zoo/Zoo by specie/\"\n",
    "spider_name = \"Cyclosa turbinata\"\n",
    "\n",
    "\n",
    "#define function\n",
    "def get_summary_file(spider_name):\n",
    "    \n",
    "    #change directory to spider of interest\n",
    "    os.chdir(current_path + spider_name)\n",
    "    \n",
    "    #read summary file\n",
    "    current_summary = pd.read_csv(spider_name + \" summary updated.csv\")\n",
    "    \n",
    "    return current_summary"
   ]
  },
  {
   "cell_type": "code",
   "execution_count": 12,
   "metadata": {
    "scrolled": true
   },
   "outputs": [],
   "source": [
    "metazygia = get_summary_file(spider_name)"
   ]
  },
  {
   "cell_type": "code",
   "execution_count": 14,
   "metadata": {},
   "outputs": [],
   "source": [
    "micrathena = get_summary_file(spider_name)"
   ]
  },
  {
   "cell_type": "code",
   "execution_count": 16,
   "metadata": {},
   "outputs": [],
   "source": [
    "cyclosa = get_summary_file(spider_name)"
   ]
  },
  {
   "cell_type": "code",
   "execution_count": 44,
   "metadata": {},
   "outputs": [],
   "source": [
    "big_df = pd.concat([metazygia, micrathena, cyclosa])"
   ]
  },
  {
   "cell_type": "code",
   "execution_count": 45,
   "metadata": {},
   "outputs": [
    {
     "data": {
      "text/html": [
       "<div>\n",
       "<style scoped>\n",
       "    .dataframe tbody tr th:only-of-type {\n",
       "        vertical-align: middle;\n",
       "    }\n",
       "\n",
       "    .dataframe tbody tr th {\n",
       "        vertical-align: top;\n",
       "    }\n",
       "\n",
       "    .dataframe thead th {\n",
       "        text-align: right;\n",
       "    }\n",
       "</style>\n",
       "<table border=\"1\" class=\"dataframe\">\n",
       "  <thead>\n",
       "    <tr style=\"text-align: right;\">\n",
       "      <th></th>\n",
       "      <th>Unnamed: 0</th>\n",
       "      <th>Specie Name</th>\n",
       "      <th>Spider ID</th>\n",
       "      <th>Conditions</th>\n",
       "      <th>Is stationary</th>\n",
       "      <th>LombSc period</th>\n",
       "      <th>LombSc amplitude</th>\n",
       "      <th>LombSc p value</th>\n",
       "      <th>Masking</th>\n",
       "      <th>DiNoc ratio</th>\n",
       "      <th>Activity/Rest Ratio</th>\n",
       "      <th>Mean vector lengh</th>\n",
       "      <th>Mean vector angle</th>\n",
       "      <th>Median activity onset</th>\n",
       "      <th>Activity onset SEM</th>\n",
       "      <th>Activity Rest ratio</th>\n",
       "    </tr>\n",
       "  </thead>\n",
       "  <tbody>\n",
       "    <tr>\n",
       "      <th>0</th>\n",
       "      <td>0</td>\n",
       "      <td>Metazygia wittfeldae</td>\n",
       "      <td>Monitor 1 Spider 1</td>\n",
       "      <td>LD</td>\n",
       "      <td>1</td>\n",
       "      <td>23.858661</td>\n",
       "      <td>3463.947923</td>\n",
       "      <td>0.000000e+00</td>\n",
       "      <td>NaN</td>\n",
       "      <td>-1.948302</td>\n",
       "      <td>0.174551</td>\n",
       "      <td>0.699400</td>\n",
       "      <td>-25.467062</td>\n",
       "      <td>30.0</td>\n",
       "      <td>7.569676</td>\n",
       "      <td>NaN</td>\n",
       "    </tr>\n",
       "    <tr>\n",
       "      <th>1</th>\n",
       "      <td>1</td>\n",
       "      <td>Metazygia wittfeldae</td>\n",
       "      <td>Monitor 1 Spider 2</td>\n",
       "      <td>LD</td>\n",
       "      <td>1</td>\n",
       "      <td>24.244339</td>\n",
       "      <td>17960.212410</td>\n",
       "      <td>0.000000e+00</td>\n",
       "      <td>NaN</td>\n",
       "      <td>-1.968857</td>\n",
       "      <td>0.219099</td>\n",
       "      <td>0.788889</td>\n",
       "      <td>-26.193667</td>\n",
       "      <td>36.0</td>\n",
       "      <td>15.820872</td>\n",
       "      <td>NaN</td>\n",
       "    </tr>\n",
       "    <tr>\n",
       "      <th>2</th>\n",
       "      <td>2</td>\n",
       "      <td>Metazygia wittfeldae</td>\n",
       "      <td>Monitor 1 Spider 3</td>\n",
       "      <td>LD</td>\n",
       "      <td>1</td>\n",
       "      <td>23.670387</td>\n",
       "      <td>11781.425790</td>\n",
       "      <td>0.000000e+00</td>\n",
       "      <td>NaN</td>\n",
       "      <td>-1.955786</td>\n",
       "      <td>0.322800</td>\n",
       "      <td>0.722130</td>\n",
       "      <td>-14.157219</td>\n",
       "      <td>34.0</td>\n",
       "      <td>6.188699</td>\n",
       "      <td>NaN</td>\n",
       "    </tr>\n",
       "    <tr>\n",
       "      <th>3</th>\n",
       "      <td>3</td>\n",
       "      <td>Metazygia wittfeldae</td>\n",
       "      <td>Monitor 1 Spider 4</td>\n",
       "      <td>LD</td>\n",
       "      <td>1</td>\n",
       "      <td>24.342715</td>\n",
       "      <td>10419.362980</td>\n",
       "      <td>0.000000e+00</td>\n",
       "      <td>NaN</td>\n",
       "      <td>-1.966046</td>\n",
       "      <td>0.356699</td>\n",
       "      <td>0.635362</td>\n",
       "      <td>9.598347</td>\n",
       "      <td>59.0</td>\n",
       "      <td>12.649111</td>\n",
       "      <td>NaN</td>\n",
       "    </tr>\n",
       "    <tr>\n",
       "      <th>4</th>\n",
       "      <td>4</td>\n",
       "      <td>Metazygia wittfeldae</td>\n",
       "      <td>Monitor 1 Spider 5</td>\n",
       "      <td>LD</td>\n",
       "      <td>1</td>\n",
       "      <td>22.771896</td>\n",
       "      <td>3480.132789</td>\n",
       "      <td>0.000000e+00</td>\n",
       "      <td>NaN</td>\n",
       "      <td>-1.945309</td>\n",
       "      <td>0.154031</td>\n",
       "      <td>0.671291</td>\n",
       "      <td>-15.133155</td>\n",
       "      <td>36.0</td>\n",
       "      <td>2.949576</td>\n",
       "      <td>NaN</td>\n",
       "    </tr>\n",
       "    <tr>\n",
       "      <th>...</th>\n",
       "      <td>...</td>\n",
       "      <td>...</td>\n",
       "      <td>...</td>\n",
       "      <td>...</td>\n",
       "      <td>...</td>\n",
       "      <td>...</td>\n",
       "      <td>...</td>\n",
       "      <td>...</td>\n",
       "      <td>...</td>\n",
       "      <td>...</td>\n",
       "      <td>...</td>\n",
       "      <td>...</td>\n",
       "      <td>...</td>\n",
       "      <td>...</td>\n",
       "      <td>...</td>\n",
       "      <td>...</td>\n",
       "    </tr>\n",
       "    <tr>\n",
       "      <th>99</th>\n",
       "      <td>99</td>\n",
       "      <td>Cyclosa turbinata</td>\n",
       "      <td>Monitor 13 Spider 21</td>\n",
       "      <td>DD</td>\n",
       "      <td>1</td>\n",
       "      <td>15.936520</td>\n",
       "      <td>9.980406</td>\n",
       "      <td>9.605774e-01</td>\n",
       "      <td>NaN</td>\n",
       "      <td>NaN</td>\n",
       "      <td>0.529023</td>\n",
       "      <td>0.245264</td>\n",
       "      <td>65.047036</td>\n",
       "      <td>NaN</td>\n",
       "      <td>NaN</td>\n",
       "      <td>NaN</td>\n",
       "    </tr>\n",
       "    <tr>\n",
       "      <th>100</th>\n",
       "      <td>100</td>\n",
       "      <td>Cyclosa turbinata</td>\n",
       "      <td>Monitor 13 Spider 22</td>\n",
       "      <td>DD</td>\n",
       "      <td>1</td>\n",
       "      <td>14.640505</td>\n",
       "      <td>111.444234</td>\n",
       "      <td>1.390000e-43</td>\n",
       "      <td>NaN</td>\n",
       "      <td>NaN</td>\n",
       "      <td>0.082074</td>\n",
       "      <td>0.154737</td>\n",
       "      <td>-31.410784</td>\n",
       "      <td>NaN</td>\n",
       "      <td>NaN</td>\n",
       "      <td>NaN</td>\n",
       "    </tr>\n",
       "    <tr>\n",
       "      <th>101</th>\n",
       "      <td>101</td>\n",
       "      <td>Cyclosa turbinata</td>\n",
       "      <td>Monitor 13 Spider 24</td>\n",
       "      <td>DD</td>\n",
       "      <td>1</td>\n",
       "      <td>18.503683</td>\n",
       "      <td>129.670971</td>\n",
       "      <td>1.830000e-51</td>\n",
       "      <td>NaN</td>\n",
       "      <td>NaN</td>\n",
       "      <td>0.099703</td>\n",
       "      <td>0.400041</td>\n",
       "      <td>170.760826</td>\n",
       "      <td>NaN</td>\n",
       "      <td>NaN</td>\n",
       "      <td>NaN</td>\n",
       "    </tr>\n",
       "    <tr>\n",
       "      <th>102</th>\n",
       "      <td>102</td>\n",
       "      <td>Cyclosa turbinata</td>\n",
       "      <td>Monitor 13 Spider 25</td>\n",
       "      <td>DD</td>\n",
       "      <td>1</td>\n",
       "      <td>18.908344</td>\n",
       "      <td>1.713777</td>\n",
       "      <td>1.000000e+00</td>\n",
       "      <td>NaN</td>\n",
       "      <td>NaN</td>\n",
       "      <td>0.527942</td>\n",
       "      <td>0.097072</td>\n",
       "      <td>-8.299620</td>\n",
       "      <td>NaN</td>\n",
       "      <td>NaN</td>\n",
       "      <td>NaN</td>\n",
       "    </tr>\n",
       "    <tr>\n",
       "      <th>103</th>\n",
       "      <td>103</td>\n",
       "      <td>Cyclosa turbinata</td>\n",
       "      <td>Monitor 13 Spider 30</td>\n",
       "      <td>DD</td>\n",
       "      <td>1</td>\n",
       "      <td>16.522023</td>\n",
       "      <td>59.359704</td>\n",
       "      <td>4.240000e-21</td>\n",
       "      <td>NaN</td>\n",
       "      <td>NaN</td>\n",
       "      <td>0.069042</td>\n",
       "      <td>0.045979</td>\n",
       "      <td>-63.980402</td>\n",
       "      <td>NaN</td>\n",
       "      <td>NaN</td>\n",
       "      <td>NaN</td>\n",
       "    </tr>\n",
       "  </tbody>\n",
       "</table>\n",
       "<p>204 rows × 16 columns</p>\n",
       "</div>"
      ],
      "text/plain": [
       "     Unnamed: 0           Specie Name             Spider ID Conditions  \\\n",
       "0             0  Metazygia wittfeldae    Monitor 1 Spider 1         LD   \n",
       "1             1  Metazygia wittfeldae    Monitor 1 Spider 2         LD   \n",
       "2             2  Metazygia wittfeldae    Monitor 1 Spider 3         LD   \n",
       "3             3  Metazygia wittfeldae    Monitor 1 Spider 4         LD   \n",
       "4             4  Metazygia wittfeldae    Monitor 1 Spider 5         LD   \n",
       "..          ...                   ...                   ...        ...   \n",
       "99           99     Cyclosa turbinata  Monitor 13 Spider 21         DD   \n",
       "100         100     Cyclosa turbinata  Monitor 13 Spider 22         DD   \n",
       "101         101     Cyclosa turbinata  Monitor 13 Spider 24         DD   \n",
       "102         102     Cyclosa turbinata  Monitor 13 Spider 25         DD   \n",
       "103         103     Cyclosa turbinata  Monitor 13 Spider 30         DD   \n",
       "\n",
       "     Is stationary  LombSc period  LombSc amplitude  LombSc p value  Masking  \\\n",
       "0                1      23.858661       3463.947923    0.000000e+00      NaN   \n",
       "1                1      24.244339      17960.212410    0.000000e+00      NaN   \n",
       "2                1      23.670387      11781.425790    0.000000e+00      NaN   \n",
       "3                1      24.342715      10419.362980    0.000000e+00      NaN   \n",
       "4                1      22.771896       3480.132789    0.000000e+00      NaN   \n",
       "..             ...            ...               ...             ...      ...   \n",
       "99               1      15.936520          9.980406    9.605774e-01      NaN   \n",
       "100              1      14.640505        111.444234    1.390000e-43      NaN   \n",
       "101              1      18.503683        129.670971    1.830000e-51      NaN   \n",
       "102              1      18.908344          1.713777    1.000000e+00      NaN   \n",
       "103              1      16.522023         59.359704    4.240000e-21      NaN   \n",
       "\n",
       "     DiNoc ratio  Activity/Rest Ratio  Mean vector lengh  Mean vector angle  \\\n",
       "0      -1.948302             0.174551           0.699400         -25.467062   \n",
       "1      -1.968857             0.219099           0.788889         -26.193667   \n",
       "2      -1.955786             0.322800           0.722130         -14.157219   \n",
       "3      -1.966046             0.356699           0.635362           9.598347   \n",
       "4      -1.945309             0.154031           0.671291         -15.133155   \n",
       "..           ...                  ...                ...                ...   \n",
       "99           NaN             0.529023           0.245264          65.047036   \n",
       "100          NaN             0.082074           0.154737         -31.410784   \n",
       "101          NaN             0.099703           0.400041         170.760826   \n",
       "102          NaN             0.527942           0.097072          -8.299620   \n",
       "103          NaN             0.069042           0.045979         -63.980402   \n",
       "\n",
       "     Median activity onset  Activity onset SEM  Activity Rest ratio  \n",
       "0                     30.0            7.569676                  NaN  \n",
       "1                     36.0           15.820872                  NaN  \n",
       "2                     34.0            6.188699                  NaN  \n",
       "3                     59.0           12.649111                  NaN  \n",
       "4                     36.0            2.949576                  NaN  \n",
       "..                     ...                 ...                  ...  \n",
       "99                     NaN                 NaN                  NaN  \n",
       "100                    NaN                 NaN                  NaN  \n",
       "101                    NaN                 NaN                  NaN  \n",
       "102                    NaN                 NaN                  NaN  \n",
       "103                    NaN                 NaN                  NaN  \n",
       "\n",
       "[204 rows x 16 columns]"
      ]
     },
     "execution_count": 45,
     "metadata": {},
     "output_type": "execute_result"
    }
   ],
   "source": [
    "big_df"
   ]
  },
  {
   "cell_type": "code",
   "execution_count": 58,
   "metadata": {},
   "outputs": [],
   "source": [
    "plot_df = big_df.loc[big_df[\"Conditions\"] == \"LD\"]"
   ]
  },
  {
   "cell_type": "code",
   "execution_count": 53,
   "metadata": {},
   "outputs": [
    {
     "data": {
      "text/plain": [
       "<AxesSubplot:xlabel='Median activity onset'>"
      ]
     },
     "execution_count": 53,
     "metadata": {},
     "output_type": "execute_result"
    },
    {
     "data": {
      "image/png": "[encoded data removed]",
      "text/plain": [
       "<Figure size 432x288 with 1 Axes>"
      ]
     },
     "metadata": {
      "needs_background": "light"
     },
     "output_type": "display_data"
    }
   ],
   "source": [
    "sb.swarmplot(x = metazygia[\"Median activity onset\"])"
   ]
  },
  {
   "cell_type": "code",
   "execution_count": 54,
   "metadata": {
    "scrolled": true
   },
   "outputs": [
    {
     "data": {
      "text/plain": [
       "<AxesSubplot:xlabel='Median activity onset'>"
      ]
     },
     "execution_count": 54,
     "metadata": {},
     "output_type": "execute_result"
    },
    {
     "data": {
      "image/png": "[encoded data removed]",
      "text/plain": [
       "<Figure size 432x288 with 1 Axes>"
      ]
     },
     "metadata": {
      "needs_background": "light"
     },
     "output_type": "display_data"
    }
   ],
   "source": [
    "sb.swarmplot(x = cyclosa[\"Median activity onset\"])"
   ]
  },
  {
   "cell_type": "code",
   "execution_count": 55,
   "metadata": {
    "scrolled": true
   },
   "outputs": [
    {
     "data": {
      "text/plain": [
       "<AxesSubplot:xlabel='Median activity onset'>"
      ]
     },
     "execution_count": 55,
     "metadata": {},
     "output_type": "execute_result"
    },
    {
     "data": {
      "image/png": "[encoded data removed]",
      "text/plain": [
       "<Figure size 432x288 with 1 Axes>"
      ]
     },
     "metadata": {
      "needs_background": "light"
     },
     "output_type": "display_data"
    }
   ],
   "source": [
    "sb.swarmplot(x = micrathena[\"Median activity onset\"])"
   ]
  },
  {
   "cell_type": "code",
   "execution_count": null,
   "metadata": {},
   "outputs": [],
   "source": []
  },
  {
   "cell_type": "code",
   "execution_count": 64,
   "metadata": {},
   "outputs": [
    {
     "data": {
      "text/plain": [
       "<AxesSubplot:xlabel='Median activity onset', ylabel='Specie Name'>"
      ]
     },
     "execution_count": 64,
     "metadata": {},
     "output_type": "execute_result"
    },
    {
     "data": {
      "image/png": "[encoded data removed]",
      "text/plain": [
       "<Figure size 432x288 with 1 Axes>"
      ]
     },
     "metadata": {
      "needs_background": "light"
     },
     "output_type": "display_data"
    }
   ],
   "source": [
    "sb.swarmplot(data = big_df, x = \"Median activity onset\", y = \"Specie Name\")"
   ]
  }
 ],
 "metadata": {
  "kernelspec": {
   "display_name": "Python 3",
   "language": "python",
   "name": "python3"
  },
  "language_info": {
   "codemirror_mode": {
    "name": "ipython",
    "version": 3
   },
   "file_extension": ".py",
   "mimetype": "text/x-python",
   "name": "python",
   "nbconvert_exporter": "python",
   "pygments_lexer": "ipython3",
   "version": "3.8.5"
  }
 },
 "nbformat": 4,
 "nbformat_minor": 4
}
